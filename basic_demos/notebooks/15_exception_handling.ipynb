{
 "cells": [
  {
   "cell_type": "markdown",
   "metadata": {},
   "source": [
    "## How do we handle Program Error?\n",
    "\n",
    "#### What are the common causes of errors at runtime?\n",
    "\n",
    "* invalid inputs\n",
    "    * invalid data/data types\n",
    "    * invalid execution mode\n",
    "* invalid context\n",
    "    * internet not connected.\n",
    "    * file not found\n",
    "    * printer/device not ready\n",
    "    * permission denied.\n",
    "\n",
    "\n",
    "#### What to do when such errors occur?\n",
    "\n",
    "* There are two possible course of actions broadly.\n",
    "    1. Fix the situation and Retry (Ideal but not frequent)\n",
    "        * ask user to re-enter their password.\n",
    "        * try to withdraw lesser amount from ATM\n",
    "\n",
    "    2. More common scenario (Make a graceful exit)\n",
    "        * avoid crash\n",
    "        * save the unsaved data\n",
    "        * log the problem\n",
    "        * inform the user about the problem\n",
    "        * exit the program\n",
    "\n",
    "#### Who (programming element) are all involved in the process?\n",
    "\n",
    "1. **Error** Situation\n",
    "    * we need to define what is the error.\n",
    "    * we also need to define any additional information\n",
    "\n",
    "2. **Source** of the problem\n",
    "    * It is a point in the code (function) where the error occured.\n",
    "    * Generally we don't resolve the problem exactly where it occurs.\n",
    "        * if we do, that is not an error handling.\n",
    "\n",
    "    * Generally, the error occurs in the business layer (may be on server) and error should be presented to the user in the client layer.\n",
    "        * when we try to withdraw funds from an ATM\n",
    "            * authentication can be done only on the server.\n",
    "            * if authentication fails, we need to inform the user.\n",
    "                * server can't handle (display error) \n",
    "                    * no point is displaying it on the server\n",
    "                * it has to inform to the user (ATM)\n",
    "                    * ATM must handle the problem by \n",
    "                        * displaying message\n",
    "                        * ejecting or seizing the credit card.\n",
    "\n",
    "\n",
    "    \n",
    "3. **Error Handler**\n",
    "    * Another function that handles the error\n",
    "    * It may\n",
    "        * display error message\n",
    "        * take corrective action\n",
    "            * eject/seize the card.\n",
    "     \n",
    "    * Generally separate from the source.\n",
    "\n",
    "\n",
    "\n",
    "#### How the entire mechanism works.\n",
    "\n",
    "1. source realises that some problem has occured.\n",
    "    * Generally we use **if** to check for this problem situation\n",
    "    \n",
    "2. the source must inform the handler that error has occurred.\n",
    "\n",
    "3. the handler must check if the error occured and take corrective measure.\n",
    "\n",
    "\n",
    "#### Traditional Error Handling mechanism (You already know it. You have used it.)\n",
    "\n",
    "1. source checks for the error using if statement\n",
    "    * if triangle sides are \n",
    "\n",
    "2. source returns the error \n",
    "    * in most language error value should match return type of function.\n",
    "        * in python this may not be necessary as there is no fixed return type.\n",
    "    * common values to act as error\n",
    "        * False (validate)\n",
    "        * 0 or -1 if function returns int.\n",
    "        * NaN if function returns double.\n",
    "        * None if function returns object (perimeter()/area())\n",
    "       \n",
    "\n",
    "n. The target checks for the value\n",
    "    * if value is error signal:\n",
    "        * take corrective action\n",
    "    * else:\n",
    "        * take normal action\n",
    "\n",
    "\n",
    "#### Why have we used step \"n\" and not step 3?\n",
    "\n",
    "* the handler of error may not be the caller of the source directly.\n",
    "* there may be multiple intermediataries (function) between source and handler\n",
    "\n",
    "#### Case Study\n",
    "\n",
    "---\n",
    "```python\n",
    "# server\n",
    "class BankAccount:\n",
    "    def authenticate(self, password):\n",
    "        pass\n",
    "    def withdraw(self, amount,password):\n",
    "        pass\n",
    "    def deposit(self, amount):\n",
    "        pass\n",
    "\n",
    "class Bank:\n",
    "    def transfer(self, source, amount,password,target):\n",
    "        pass\n",
    "        # get bank accounts source and target\n",
    "        # withdraw from source\n",
    "        #deposit to target\n",
    "\n",
    "\n",
    "#client\n",
    "class ATM:\n",
    "    def start(self):\n",
    "        show_login_menu()\n",
    "\n",
    "    def show_login_menu():        \n",
    "        show_transaction_menu()\n",
    "\n",
    "    def show_transfer_menu():\n",
    "        bank.transfer(...)\n",
    "\n",
    "```\n",
    "---\n",
    "\n",
    "* Here is the entire workflow of how user will initiate a tranfer action with wrong password\n",
    "    * ATM.start()\n",
    "        * ATM.show_login_menu()\n",
    "            * ATM.show_transaction_menu() <--- **ERROR HANDLER**\n",
    "                * ATM.show_transfer_menu()\n",
    "                    * bank.transfer(...)\n",
    "                        * bank.get_account(source)\n",
    "                        * bank.get_account(target)\n",
    "                        * source_account.withdraw(amount,password)\n",
    "                            *bankaccount.authenticate(password) <--- **ERROR SOURCE**\n",
    "    \n",
    "\n",
    "* All functions between source and handler can be considered intermediataries\n",
    "    * they are not the cause of failure.\n",
    "    * they can't handle the failure.\n",
    "\n",
    "* Consider the authentication failure\n",
    "    1. source of error --> BankAccount.authenticate()\n",
    "        * it generates an error value (false)\n",
    "\n",
    "    2. it reaches BankAccount.withdraw()\n",
    "        * it checks for the error message (although it is not the actual handler)\n",
    "            * it returns the error value to its caller\n",
    "\n",
    "    3. it reaches Bank.transfer()\n",
    "        * it checks for the error message (although it is not the actual handler)\n",
    "            * it returns the error value **False** to its caller\n",
    "\n",
    "    4. it reaches ATM.show_transfer_menu()\n",
    "        * it checks for the error message (although it is not the actual handler)\n",
    "            * it returns the error value **False** to its caller\n",
    "\n",
    "    5. it reaches ATM.show_transaction_menu()\n",
    "        * it checks for the error message \n",
    "            * being the real handler, it displays the error message.     \n",
    "\n",
    "* In this example step 1 is source, and handler is step 5\n",
    "* step 2-4 is redundant code where each function checks for same error and return back to the caller.\n",
    "    * it is a hand-me-down approach with lots of extra and redundant code.\n",
    "\n",
    "\n",
    "#### Problem with the traditional approach\n",
    "\n",
    "1. No specific object to represent error. (0,-1,-2, None, False, NaN)\n",
    "    * no tandard\n",
    "\n",
    "2. No error details.\n",
    "    * when bank.transfer() fails it returns False\n",
    "        * we know it failed.\n",
    "        * we don't know why it failed?\n",
    "            * invalid source account?\n",
    "            * invalid target account?\n",
    "            * authentication failure?\n",
    "            * insufficient funds?\n",
    "    * triange is_valid \n",
    "        * fails if\n",
    "            * triangle sides are wrong\n",
    "            * object is not of type triangle\n",
    "        * in both cases it returns False\n",
    "            * we don't know what made it fail.\n",
    "\n",
    "3. same statement is used for returning valid information and error\n",
    "    * additional checks at each place.\n",
    "\n",
    "4. error is hand-me-down. intermediataries are given jobs that they don't need increasing the code.\n",
    "\n",
    "\n",
    "\n",
    "# Object Oriented Exception Handling\n",
    "\n",
    "### 1. What is exception?\n",
    "\n",
    "* It is a special object.\n",
    "    * In python, an exception is a subclass of exception\n",
    "\n",
    "* being an object it can contain properties indicating exception details.\n",
    "\n",
    "* If not handled, crashes and terminates the application.\n",
    "\n",
    "#### In python there are many different exceptions defined\n"
   ]
  },
  {
   "cell_type": "code",
   "execution_count": 1,
   "metadata": {},
   "outputs": [
    {
     "ename": "NameError",
     "evalue": "name 'call_a_function_that_doesnt_exist' is not defined",
     "output_type": "error",
     "traceback": [
      "\u001b[1;31m---------------------------------------------------------------------------\u001b[0m",
      "\u001b[1;31mNameError\u001b[0m                                 Traceback (most recent call last)",
      "Cell \u001b[1;32mIn[1], line 1\u001b[0m\n\u001b[1;32m----> 1\u001b[0m \u001b[43mcall_a_function_that_doesnt_exist\u001b[49m()\n",
      "\u001b[1;31mNameError\u001b[0m: name 'call_a_function_that_doesnt_exist' is not defined"
     ]
    }
   ],
   "source": [
    "call_a_function_that_doesnt_exist()"
   ]
  },
  {
   "cell_type": "code",
   "execution_count": 2,
   "metadata": {},
   "outputs": [
    {
     "ename": "IndexError",
     "evalue": "list index out of range",
     "output_type": "error",
     "traceback": [
      "\u001b[1;31m---------------------------------------------------------------------------\u001b[0m",
      "\u001b[1;31mIndexError\u001b[0m                                Traceback (most recent call last)",
      "Cell \u001b[1;32mIn[2], line 2\u001b[0m\n\u001b[0;32m      1\u001b[0m numbers\u001b[38;5;241m=\u001b[39m[\u001b[38;5;241m2\u001b[39m,\u001b[38;5;241m3\u001b[39m,\u001b[38;5;241m9\u001b[39m,\u001b[38;5;241m2\u001b[39m,\u001b[38;5;241m6\u001b[39m]\n\u001b[1;32m----> 2\u001b[0m \u001b[38;5;28mprint\u001b[39m(\u001b[43mnumbers\u001b[49m\u001b[43m[\u001b[49m\u001b[38;5;241;43m10\u001b[39;49m\u001b[43m]\u001b[49m)\n",
      "\u001b[1;31mIndexError\u001b[0m: list index out of range"
     ]
    }
   ],
   "source": [
    "numbers=[2,3,9,2,6]\n",
    "print(numbers[10])"
   ]
  },
  {
   "cell_type": "code",
   "execution_count": 3,
   "metadata": {},
   "outputs": [
    {
     "ename": "TypeError",
     "evalue": "list indices must be integers or slices, not str",
     "output_type": "error",
     "traceback": [
      "\u001b[1;31m---------------------------------------------------------------------------\u001b[0m",
      "\u001b[1;31mTypeError\u001b[0m                                 Traceback (most recent call last)",
      "Cell \u001b[1;32mIn[3], line 1\u001b[0m\n\u001b[1;32m----> 1\u001b[0m \u001b[43mnumbers\u001b[49m\u001b[43m[\u001b[49m\u001b[38;5;124;43m\"\u001b[39;49m\u001b[38;5;124;43mhi\u001b[39;49m\u001b[38;5;124;43m\"\u001b[39;49m\u001b[43m]\u001b[49m\n",
      "\u001b[1;31mTypeError\u001b[0m: list indices must be integers or slices, not str"
     ]
    }
   ],
   "source": [
    "numbers[\"hi\"]"
   ]
  },
  {
   "cell_type": "markdown",
   "metadata": {},
   "source": [
    "##### Note:\n",
    "\n",
    "* code works fine as long as there is no problem\n",
    "* once a problem occurs, it crashes and terminates the application\n",
    "* in below case there is no 'JP' will be printed because it will fail for 'PK'"
   ]
  },
  {
   "cell_type": "code",
   "execution_count": 5,
   "metadata": {},
   "outputs": [
    {
     "name": "stdout",
     "output_type": "stream",
     "text": [
      "IN India\n",
      "FR France\n"
     ]
    },
    {
     "ename": "KeyError",
     "evalue": "'PK'",
     "output_type": "error",
     "traceback": [
      "\u001b[1;31m---------------------------------------------------------------------------\u001b[0m",
      "\u001b[1;31mKeyError\u001b[0m                                  Traceback (most recent call last)",
      "Cell \u001b[1;32mIn[5], line 5\u001b[0m\n\u001b[0;32m      2\u001b[0m lookups\u001b[38;5;241m=\u001b[39m[\u001b[38;5;124m'\u001b[39m\u001b[38;5;124mIN\u001b[39m\u001b[38;5;124m'\u001b[39m,\u001b[38;5;124m'\u001b[39m\u001b[38;5;124mFR\u001b[39m\u001b[38;5;124m'\u001b[39m,\u001b[38;5;124m'\u001b[39m\u001b[38;5;124mPK\u001b[39m\u001b[38;5;124m'\u001b[39m,\u001b[38;5;124m'\u001b[39m\u001b[38;5;124mJP\u001b[39m\u001b[38;5;124m'\u001b[39m]\n\u001b[0;32m      4\u001b[0m \u001b[38;5;28;01mfor\u001b[39;00m lookup \u001b[38;5;129;01min\u001b[39;00m lookups:\n\u001b[1;32m----> 5\u001b[0m     \u001b[38;5;28mprint\u001b[39m(lookup, \u001b[43mcountry_info\u001b[49m\u001b[43m[\u001b[49m\u001b[43mlookup\u001b[49m\u001b[43m]\u001b[49m)\n",
      "\u001b[1;31mKeyError\u001b[0m: 'PK'"
     ]
    }
   ],
   "source": [
    "country_info=dict(IN=\"India\", JP=\"Japan\", FR=\"France\")\n",
    "lookups=['IN','FR','PK','JP']\n",
    "\n",
    "for lookup in lookups:\n",
    "    print(lookup, country_info[lookup])\n",
    "\n"
   ]
  },
  {
   "cell_type": "code",
   "execution_count": 7,
   "metadata": {},
   "outputs": [
    {
     "name": "stdout",
     "output_type": "stream",
     "text": [
      "30\n"
     ]
    },
    {
     "ename": "TypeError",
     "evalue": "sum() takes 2 positional arguments but 3 were given",
     "output_type": "error",
     "traceback": [
      "\u001b[1;31m---------------------------------------------------------------------------\u001b[0m",
      "\u001b[1;31mTypeError\u001b[0m                                 Traceback (most recent call last)",
      "Cell \u001b[1;32mIn[7], line 4\u001b[0m\n\u001b[0;32m      1\u001b[0m \u001b[38;5;28;01mdef\u001b[39;00m \u001b[38;5;21msum\u001b[39m(a,b): \u001b[38;5;28;01mreturn\u001b[39;00m a\u001b[38;5;241m+\u001b[39mb\n\u001b[0;32m      3\u001b[0m \u001b[38;5;28mprint\u001b[39m(\u001b[38;5;28msum\u001b[39m(\u001b[38;5;241m10\u001b[39m,\u001b[38;5;241m20\u001b[39m))\n\u001b[1;32m----> 4\u001b[0m \u001b[38;5;28mprint\u001b[39m(\u001b[38;5;28;43msum\u001b[39;49m\u001b[43m(\u001b[49m\u001b[38;5;241;43m10\u001b[39;49m\u001b[43m,\u001b[49m\u001b[38;5;241;43m20\u001b[39;49m\u001b[43m,\u001b[49m\u001b[38;5;241;43m30\u001b[39;49m\u001b[43m)\u001b[49m) \u001b[38;5;66;03m#causes error here\u001b[39;00m\n\u001b[0;32m      5\u001b[0m \u001b[38;5;28mprint\u001b[39m(\u001b[38;5;28msum\u001b[39m(\u001b[38;5;241m1\u001b[39m)) \u001b[38;5;66;03m#never reaches here to give this second error.\u001b[39;00m\n",
      "\u001b[1;31mTypeError\u001b[0m: sum() takes 2 positional arguments but 3 were given"
     ]
    }
   ],
   "source": [
    "def sum(a,b): return a+b\n",
    "\n",
    "print(sum(10,20))\n",
    "print(sum(10,20,30)) #causes error here\n",
    "print(sum(1)) #never reaches here to give this second error."
   ]
  },
  {
   "cell_type": "markdown",
   "metadata": {},
   "source": [
    "#### Let us write a simple program that may have errors.\n",
    "\n",
    "* A fortune teller application"
   ]
  },
  {
   "cell_type": "code",
   "execution_count": 18,
   "metadata": {},
   "outputs": [],
   "source": [
    "\n",
    "def get_luck(number):\n",
    "    messages=[None, \"You have a great day Ahead\",\"Fortune favours you\",\"Be careful today\",\"You are born to succeed\"]\n",
    "\n",
    "    if number<0:\n",
    "        negativity_around_you() # we don't have this function \n",
    "    elif number==0:\n",
    "        return 1/0\n",
    "    else:\n",
    "        return messages[number]\n",
    "\n",
    "\n",
    "def lucky_number_finder(lucky_number): #intermediatry layer\n",
    "    lucky_number= int(lucky_number)\n",
    "    message = get_luck(lucky_number) #represents data layer   \n",
    "    return message  \n",
    "\n",
    "def fortune_teller(input_lucky_number):\n",
    "    \n",
    "    message = lucky_number_finder(input_lucky_number) # represents business layer.\n",
    "    print(f\"Prediction: {message}\")\n",
    "    "
   ]
  },
  {
   "cell_type": "markdown",
   "metadata": {},
   "source": [
    "#### This code may give your messages without crashing for nice inputs.\n",
    "\n",
    "* it may work as if there is no problem"
   ]
  },
  {
   "cell_type": "code",
   "execution_count": 19,
   "metadata": {},
   "outputs": [
    {
     "name": "stdout",
     "output_type": "stream",
     "text": [
      "Prediction: Fortune favours you\n",
      "Prediction: Be careful today\n",
      "Prediction: You have a great day Ahead\n"
     ]
    }
   ],
   "source": [
    "fortune_teller(2)\n",
    "fortune_teller(3)\n",
    "fortune_teller(1)"
   ]
  },
  {
   "cell_type": "markdown",
   "metadata": {},
   "source": [
    "#### But it can also fail for so many different reasons."
   ]
  },
  {
   "cell_type": "code",
   "execution_count": 20,
   "metadata": {},
   "outputs": [
    {
     "ename": "NameError",
     "evalue": "name 'negativity_around_you' is not defined",
     "output_type": "error",
     "traceback": [
      "\u001b[1;31m---------------------------------------------------------------------------\u001b[0m",
      "\u001b[1;31mNameError\u001b[0m                                 Traceback (most recent call last)",
      "Cell \u001b[1;32mIn[20], line 1\u001b[0m\n\u001b[1;32m----> 1\u001b[0m \u001b[43mfortune_teller\u001b[49m\u001b[43m(\u001b[49m\u001b[38;5;241;43m-\u001b[39;49m\u001b[38;5;241;43m1\u001b[39;49m\u001b[43m)\u001b[49m\n",
      "Cell \u001b[1;32mIn[18], line 19\u001b[0m, in \u001b[0;36mfortune_teller\u001b[1;34m(input_lucky_number)\u001b[0m\n\u001b[0;32m     17\u001b[0m \u001b[38;5;28;01mdef\u001b[39;00m \u001b[38;5;21mfortune_teller\u001b[39m(input_lucky_number):\n\u001b[1;32m---> 19\u001b[0m     message \u001b[38;5;241m=\u001b[39m \u001b[43mlucky_number_finder\u001b[49m\u001b[43m(\u001b[49m\u001b[43minput_lucky_number\u001b[49m\u001b[43m)\u001b[49m \u001b[38;5;66;03m# represents business layer.\u001b[39;00m\n\u001b[0;32m     20\u001b[0m     \u001b[38;5;28mprint\u001b[39m(\u001b[38;5;124mf\u001b[39m\u001b[38;5;124m\"\u001b[39m\u001b[38;5;124mPrediction: \u001b[39m\u001b[38;5;132;01m{\u001b[39;00mmessage\u001b[38;5;132;01m}\u001b[39;00m\u001b[38;5;124m\"\u001b[39m)\n",
      "Cell \u001b[1;32mIn[18], line 14\u001b[0m, in \u001b[0;36mlucky_number_finder\u001b[1;34m(lucky_number)\u001b[0m\n\u001b[0;32m     12\u001b[0m \u001b[38;5;28;01mdef\u001b[39;00m \u001b[38;5;21mlucky_number_finder\u001b[39m(lucky_number): \u001b[38;5;66;03m#intermediatry layer\u001b[39;00m\n\u001b[0;32m     13\u001b[0m     lucky_number\u001b[38;5;241m=\u001b[39m \u001b[38;5;28mint\u001b[39m(lucky_number)\n\u001b[1;32m---> 14\u001b[0m     message \u001b[38;5;241m=\u001b[39m \u001b[43mget_luck\u001b[49m\u001b[43m(\u001b[49m\u001b[43mlucky_number\u001b[49m\u001b[43m)\u001b[49m \u001b[38;5;66;03m#represents data layer   \u001b[39;00m\n\u001b[0;32m     15\u001b[0m     \u001b[38;5;28;01mreturn\u001b[39;00m message\n",
      "Cell \u001b[1;32mIn[18], line 5\u001b[0m, in \u001b[0;36mget_luck\u001b[1;34m(number)\u001b[0m\n\u001b[0;32m      2\u001b[0m messages\u001b[38;5;241m=\u001b[39m[\u001b[38;5;28;01mNone\u001b[39;00m, \u001b[38;5;124m\"\u001b[39m\u001b[38;5;124mYou have a great day Ahead\u001b[39m\u001b[38;5;124m\"\u001b[39m,\u001b[38;5;124m\"\u001b[39m\u001b[38;5;124mFortune favours you\u001b[39m\u001b[38;5;124m\"\u001b[39m,\u001b[38;5;124m\"\u001b[39m\u001b[38;5;124mBe careful today\u001b[39m\u001b[38;5;124m\"\u001b[39m,\u001b[38;5;124m\"\u001b[39m\u001b[38;5;124mYou are born to succeed\u001b[39m\u001b[38;5;124m\"\u001b[39m]\n\u001b[0;32m      4\u001b[0m \u001b[38;5;28;01mif\u001b[39;00m number\u001b[38;5;241m<\u001b[39m\u001b[38;5;241m0\u001b[39m:\n\u001b[1;32m----> 5\u001b[0m     \u001b[43mnegativity_around_you\u001b[49m() \u001b[38;5;66;03m# we don't have this function \u001b[39;00m\n\u001b[0;32m      6\u001b[0m \u001b[38;5;28;01melif\u001b[39;00m number\u001b[38;5;241m==\u001b[39m\u001b[38;5;241m0\u001b[39m:\n\u001b[0;32m      7\u001b[0m     \u001b[38;5;28;01mreturn\u001b[39;00m \u001b[38;5;241m1\u001b[39m\u001b[38;5;241m/\u001b[39m\u001b[38;5;241m0\u001b[39m\n",
      "\u001b[1;31mNameError\u001b[0m: name 'negativity_around_you' is not defined"
     ]
    }
   ],
   "source": [
    "fortune_teller(-1)"
   ]
  },
  {
   "cell_type": "code",
   "execution_count": 22,
   "metadata": {},
   "outputs": [
    {
     "ename": "ZeroDivisionError",
     "evalue": "division by zero",
     "output_type": "error",
     "traceback": [
      "\u001b[1;31m---------------------------------------------------------------------------\u001b[0m",
      "\u001b[1;31mZeroDivisionError\u001b[0m                         Traceback (most recent call last)",
      "Cell \u001b[1;32mIn[22], line 1\u001b[0m\n\u001b[1;32m----> 1\u001b[0m \u001b[43mfortune_teller\u001b[49m\u001b[43m(\u001b[49m\u001b[38;5;241;43m0\u001b[39;49m\u001b[43m)\u001b[49m\n",
      "Cell \u001b[1;32mIn[18], line 19\u001b[0m, in \u001b[0;36mfortune_teller\u001b[1;34m(input_lucky_number)\u001b[0m\n\u001b[0;32m     17\u001b[0m \u001b[38;5;28;01mdef\u001b[39;00m \u001b[38;5;21mfortune_teller\u001b[39m(input_lucky_number):\n\u001b[1;32m---> 19\u001b[0m     message \u001b[38;5;241m=\u001b[39m \u001b[43mlucky_number_finder\u001b[49m\u001b[43m(\u001b[49m\u001b[43minput_lucky_number\u001b[49m\u001b[43m)\u001b[49m \u001b[38;5;66;03m# represents business layer.\u001b[39;00m\n\u001b[0;32m     20\u001b[0m     \u001b[38;5;28mprint\u001b[39m(\u001b[38;5;124mf\u001b[39m\u001b[38;5;124m\"\u001b[39m\u001b[38;5;124mPrediction: \u001b[39m\u001b[38;5;132;01m{\u001b[39;00mmessage\u001b[38;5;132;01m}\u001b[39;00m\u001b[38;5;124m\"\u001b[39m)\n",
      "Cell \u001b[1;32mIn[18], line 14\u001b[0m, in \u001b[0;36mlucky_number_finder\u001b[1;34m(lucky_number)\u001b[0m\n\u001b[0;32m     12\u001b[0m \u001b[38;5;28;01mdef\u001b[39;00m \u001b[38;5;21mlucky_number_finder\u001b[39m(lucky_number): \u001b[38;5;66;03m#intermediatry layer\u001b[39;00m\n\u001b[0;32m     13\u001b[0m     lucky_number\u001b[38;5;241m=\u001b[39m \u001b[38;5;28mint\u001b[39m(lucky_number)\n\u001b[1;32m---> 14\u001b[0m     message \u001b[38;5;241m=\u001b[39m \u001b[43mget_luck\u001b[49m\u001b[43m(\u001b[49m\u001b[43mlucky_number\u001b[49m\u001b[43m)\u001b[49m \u001b[38;5;66;03m#represents data layer   \u001b[39;00m\n\u001b[0;32m     15\u001b[0m     \u001b[38;5;28;01mreturn\u001b[39;00m message\n",
      "Cell \u001b[1;32mIn[18], line 7\u001b[0m, in \u001b[0;36mget_luck\u001b[1;34m(number)\u001b[0m\n\u001b[0;32m      5\u001b[0m     negativity_around_you() \u001b[38;5;66;03m# we don't have this function \u001b[39;00m\n\u001b[0;32m      6\u001b[0m \u001b[38;5;28;01melif\u001b[39;00m number\u001b[38;5;241m==\u001b[39m\u001b[38;5;241m0\u001b[39m:\n\u001b[1;32m----> 7\u001b[0m     \u001b[38;5;28;01mreturn\u001b[39;00m \u001b[38;5;241;43m1\u001b[39;49m\u001b[38;5;241;43m/\u001b[39;49m\u001b[38;5;241;43m0\u001b[39;49m\n\u001b[0;32m      8\u001b[0m \u001b[38;5;28;01melse\u001b[39;00m:\n\u001b[0;32m      9\u001b[0m     \u001b[38;5;28;01mreturn\u001b[39;00m messages[number]\n",
      "\u001b[1;31mZeroDivisionError\u001b[0m: division by zero"
     ]
    }
   ],
   "source": [
    "fortune_teller(0)"
   ]
  },
  {
   "cell_type": "code",
   "execution_count": 23,
   "metadata": {},
   "outputs": [
    {
     "ename": "IndexError",
     "evalue": "list index out of range",
     "output_type": "error",
     "traceback": [
      "\u001b[1;31m---------------------------------------------------------------------------\u001b[0m",
      "\u001b[1;31mIndexError\u001b[0m                                Traceback (most recent call last)",
      "Cell \u001b[1;32mIn[23], line 1\u001b[0m\n\u001b[1;32m----> 1\u001b[0m \u001b[43mfortune_teller\u001b[49m\u001b[43m(\u001b[49m\u001b[38;5;241;43m100\u001b[39;49m\u001b[43m)\u001b[49m\n",
      "Cell \u001b[1;32mIn[18], line 19\u001b[0m, in \u001b[0;36mfortune_teller\u001b[1;34m(input_lucky_number)\u001b[0m\n\u001b[0;32m     17\u001b[0m \u001b[38;5;28;01mdef\u001b[39;00m \u001b[38;5;21mfortune_teller\u001b[39m(input_lucky_number):\n\u001b[1;32m---> 19\u001b[0m     message \u001b[38;5;241m=\u001b[39m \u001b[43mlucky_number_finder\u001b[49m\u001b[43m(\u001b[49m\u001b[43minput_lucky_number\u001b[49m\u001b[43m)\u001b[49m \u001b[38;5;66;03m# represents business layer.\u001b[39;00m\n\u001b[0;32m     20\u001b[0m     \u001b[38;5;28mprint\u001b[39m(\u001b[38;5;124mf\u001b[39m\u001b[38;5;124m\"\u001b[39m\u001b[38;5;124mPrediction: \u001b[39m\u001b[38;5;132;01m{\u001b[39;00mmessage\u001b[38;5;132;01m}\u001b[39;00m\u001b[38;5;124m\"\u001b[39m)\n",
      "Cell \u001b[1;32mIn[18], line 14\u001b[0m, in \u001b[0;36mlucky_number_finder\u001b[1;34m(lucky_number)\u001b[0m\n\u001b[0;32m     12\u001b[0m \u001b[38;5;28;01mdef\u001b[39;00m \u001b[38;5;21mlucky_number_finder\u001b[39m(lucky_number): \u001b[38;5;66;03m#intermediatry layer\u001b[39;00m\n\u001b[0;32m     13\u001b[0m     lucky_number\u001b[38;5;241m=\u001b[39m \u001b[38;5;28mint\u001b[39m(lucky_number)\n\u001b[1;32m---> 14\u001b[0m     message \u001b[38;5;241m=\u001b[39m \u001b[43mget_luck\u001b[49m\u001b[43m(\u001b[49m\u001b[43mlucky_number\u001b[49m\u001b[43m)\u001b[49m \u001b[38;5;66;03m#represents data layer   \u001b[39;00m\n\u001b[0;32m     15\u001b[0m     \u001b[38;5;28;01mreturn\u001b[39;00m message\n",
      "Cell \u001b[1;32mIn[18], line 9\u001b[0m, in \u001b[0;36mget_luck\u001b[1;34m(number)\u001b[0m\n\u001b[0;32m      7\u001b[0m     \u001b[38;5;28;01mreturn\u001b[39;00m \u001b[38;5;241m1\u001b[39m\u001b[38;5;241m/\u001b[39m\u001b[38;5;241m0\u001b[39m\n\u001b[0;32m      8\u001b[0m \u001b[38;5;28;01melse\u001b[39;00m:\n\u001b[1;32m----> 9\u001b[0m     \u001b[38;5;28;01mreturn\u001b[39;00m \u001b[43mmessages\u001b[49m\u001b[43m[\u001b[49m\u001b[43mnumber\u001b[49m\u001b[43m]\u001b[49m\n",
      "\u001b[1;31mIndexError\u001b[0m: list index out of range"
     ]
    }
   ],
   "source": [
    "fortune_teller(100)"
   ]
  },
  {
   "cell_type": "code",
   "execution_count": 24,
   "metadata": {},
   "outputs": [
    {
     "ename": "ValueError",
     "evalue": "invalid literal for int() with base 10: 'Hi'",
     "output_type": "error",
     "traceback": [
      "\u001b[1;31m---------------------------------------------------------------------------\u001b[0m",
      "\u001b[1;31mValueError\u001b[0m                                Traceback (most recent call last)",
      "Cell \u001b[1;32mIn[24], line 1\u001b[0m\n\u001b[1;32m----> 1\u001b[0m \u001b[43mfortune_teller\u001b[49m\u001b[43m(\u001b[49m\u001b[38;5;124;43m\"\u001b[39;49m\u001b[38;5;124;43mHi\u001b[39;49m\u001b[38;5;124;43m\"\u001b[39;49m\u001b[43m)\u001b[49m\n",
      "Cell \u001b[1;32mIn[18], line 19\u001b[0m, in \u001b[0;36mfortune_teller\u001b[1;34m(input_lucky_number)\u001b[0m\n\u001b[0;32m     17\u001b[0m \u001b[38;5;28;01mdef\u001b[39;00m \u001b[38;5;21mfortune_teller\u001b[39m(input_lucky_number):\n\u001b[1;32m---> 19\u001b[0m     message \u001b[38;5;241m=\u001b[39m \u001b[43mlucky_number_finder\u001b[49m\u001b[43m(\u001b[49m\u001b[43minput_lucky_number\u001b[49m\u001b[43m)\u001b[49m \u001b[38;5;66;03m# represents business layer.\u001b[39;00m\n\u001b[0;32m     20\u001b[0m     \u001b[38;5;28mprint\u001b[39m(\u001b[38;5;124mf\u001b[39m\u001b[38;5;124m\"\u001b[39m\u001b[38;5;124mPrediction: \u001b[39m\u001b[38;5;132;01m{\u001b[39;00mmessage\u001b[38;5;132;01m}\u001b[39;00m\u001b[38;5;124m\"\u001b[39m)\n",
      "Cell \u001b[1;32mIn[18], line 13\u001b[0m, in \u001b[0;36mlucky_number_finder\u001b[1;34m(lucky_number)\u001b[0m\n\u001b[0;32m     12\u001b[0m \u001b[38;5;28;01mdef\u001b[39;00m \u001b[38;5;21mlucky_number_finder\u001b[39m(lucky_number): \u001b[38;5;66;03m#intermediatry layer\u001b[39;00m\n\u001b[1;32m---> 13\u001b[0m     lucky_number\u001b[38;5;241m=\u001b[39m \u001b[38;5;28;43mint\u001b[39;49m\u001b[43m(\u001b[49m\u001b[43mlucky_number\u001b[49m\u001b[43m)\u001b[49m\n\u001b[0;32m     14\u001b[0m     message \u001b[38;5;241m=\u001b[39m get_luck(lucky_number) \u001b[38;5;66;03m#represents data layer   \u001b[39;00m\n\u001b[0;32m     15\u001b[0m     \u001b[38;5;28;01mreturn\u001b[39;00m message\n",
      "\u001b[1;31mValueError\u001b[0m: invalid literal for int() with base 10: 'Hi'"
     ]
    }
   ],
   "source": [
    "fortune_teller(\"Hi\")"
   ]
  },
  {
   "cell_type": "markdown",
   "metadata": {},
   "source": [
    "#### 2. Handling the error\n",
    "\n",
    "* We don't want our application to crash\n",
    "    * solve it\n",
    "    * shove it.\n",
    "\n",
    "\n",
    "### handling the error requires two keywords ---> try-except (and optional finally)\n",
    "\n",
    "* most other languages uses the term try-catch.\n",
    "* try is a block of code that may get into trouble (get exception)\n",
    "* except is a block of code where we handle the exception.\n",
    "* both these blocks are connected.\n",
    "    * except must follow a try\n",
    "        * you can't use it indepenetly.\n",
    "    * try should be followed by at least one except of finally   \n",
    "\n",
    "* we generally write try-except block at the handler level\n",
    "    * function that would handle the error\n",
    "        * and not the function that would be the source \n",
    "            \n",
    "\n",
    "---\n",
    "```python\n",
    "try:\n",
    "    #any of the below functions may cause error\n",
    "    # they can be considered error sources\n",
    "    fn1()\n",
    "    fn2()\n",
    "    fn3()\n",
    "except:\n",
    "    # here we can write the error handling logic.\n",
    "```\n",
    "---\n",
    "\n"
   ]
  },
  {
   "cell_type": "code",
   "execution_count": 31,
   "metadata": {},
   "outputs": [],
   "source": [
    "def fortune_teller(input_lucky_number):\n",
    "    try:\n",
    "        message = lucky_number_finder(input_lucky_number) # represents business layer.\n",
    "        print(f\"Prediction: {message}\")\n",
    "    except:\n",
    "        print(f'Prediction: Your fortune looks foggy!')\n",
    "    "
   ]
  },
  {
   "cell_type": "markdown",
   "metadata": {},
   "source": [
    "#### The except block will be ignored if no problem occurs."
   ]
  },
  {
   "cell_type": "code",
   "execution_count": 32,
   "metadata": {},
   "outputs": [
    {
     "name": "stdout",
     "output_type": "stream",
     "text": [
      "Prediction: Fortune favours you\n",
      "Prediction: You have a great day Ahead\n",
      "Prediction: Be careful today\n"
     ]
    }
   ],
   "source": [
    "fortune_teller(2)\n",
    "fortune_teller(1)\n",
    "fortune_teller(3)"
   ]
  },
  {
   "cell_type": "markdown",
   "metadata": {},
   "source": [
    "#### But the code will not crash even if there is a problem.\n",
    "* once we enter except, it is assumed that error is handled\n",
    "    * even if we do nothing\n",
    "\n",
    "* except has no built-in course correction\n",
    "    * it simply prevents application crash\n",
    "\n",
    "* you may like to\n",
    "    * print some message\n",
    "    * log the error\n",
    "    * seize the credit card\n",
    "    * rebuke the user for their stupidity."
   ]
  },
  {
   "cell_type": "code",
   "execution_count": 33,
   "metadata": {},
   "outputs": [
    {
     "name": "stdout",
     "output_type": "stream",
     "text": [
      "Prediction: Your fortune looks foggy!\n",
      "Prediction: Your fortune looks foggy!\n",
      "Prediction: Your fortune looks foggy!\n",
      "Prediction: Your fortune looks foggy!\n"
     ]
    }
   ],
   "source": [
    "fortune_teller(-1)\n",
    "fortune_teller(11)\n",
    "fortune_teller(0)\n",
    "fortune_teller('Hi')"
   ]
  },
  {
   "cell_type": "markdown",
   "metadata": {},
   "source": [
    "### What if we want to know the error details (message)\n",
    "\n",
    "* we can assign an reference in except to access the exception object"
   ]
  },
  {
   "cell_type": "code",
   "execution_count": 41,
   "metadata": {},
   "outputs": [],
   "source": [
    "def fortune_teller(input_lucky_number):\n",
    "    try:\n",
    "        message = lucky_number_finder(input_lucky_number) # represents business layer.\n",
    "        print(f\"Prediction: {message}\")\n",
    "    except Exception as ex:\n",
    "        print(f'Prediction Error: {ex}')\n",
    "    "
   ]
  },
  {
   "cell_type": "code",
   "execution_count": 42,
   "metadata": {},
   "outputs": [],
   "source": [
    "def test_fortunes():\n",
    "    fortune_teller(-1)\n",
    "    fortune_teller(11)\n",
    "    fortune_teller(2)\n",
    "    fortune_teller(0)\n",
    "    fortune_teller(1)\n",
    "    fortune_teller('Hi')"
   ]
  },
  {
   "cell_type": "code",
   "execution_count": 43,
   "metadata": {},
   "outputs": [
    {
     "name": "stdout",
     "output_type": "stream",
     "text": [
      "Prediction Error: name 'negativity_around_you' is not defined\n",
      "Prediction Error: list index out of range\n",
      "Prediction: Fortune favours you\n",
      "Prediction Error: division by zero\n",
      "Prediction: You have a great day Ahead\n",
      "Prediction Error: invalid literal for int() with base 10: 'Hi'\n"
     ]
    }
   ],
   "source": [
    "test_fortunes()"
   ]
  },
  {
   "cell_type": "markdown",
   "metadata": {},
   "source": [
    "#### These message are not meaningful.\n",
    "\n",
    "### We may want to give different treatments to different exceptions.\n",
    "\n",
    "* each try block may be followed by multiple except blocks each handling a different exception."
   ]
  },
  {
   "cell_type": "code",
   "execution_count": 44,
   "metadata": {},
   "outputs": [],
   "source": [
    "def fortune_teller(input_lucky_number):\n",
    "    try:\n",
    "        message = lucky_number_finder(input_lucky_number) # represents business layer.\n",
    "        print(f\"Prediction: {message}\")\n",
    "    except NameError as ex:\n",
    "        print(f'PredictionX : There is too much of negativity around you. ')\n",
    "    except ZeroDivisionError as ex:\n",
    "        print(f'PredictionX : You have no luck today')\n",
    "    except IndexError as ex:\n",
    "        print(f'PredictionX : You are over ambitious')\n",
    "    except ValueError as ex:\n",
    "        print(f'PredictionX : You should learn Maths')\n",
    "    "
   ]
  },
  {
   "cell_type": "code",
   "execution_count": 45,
   "metadata": {},
   "outputs": [
    {
     "name": "stdout",
     "output_type": "stream",
     "text": [
      "PredictionX : There is too much of negativity around you. \n",
      "PredictionX : You are over ambitious\n",
      "Prediction: Fortune favours you\n",
      "PredictionX : You have no luck today\n",
      "Prediction: You have a great day Ahead\n",
      "PredictionX : You should learn Maths\n"
     ]
    }
   ],
   "source": [
    "test_fortunes()"
   ]
  },
  {
   "cell_type": "markdown",
   "metadata": {},
   "source": [
    "### 3. Raising the error/exception\n",
    "\n",
    "* so far we have cause the program failure by writing a code that fails.\n",
    "    * called a function that doesn't exit\n",
    "    * intentionally caused division by zero error\n",
    "\n",
    "* that is not the right way to create the failure situation.\n",
    "\n",
    "* To indicate the problem you should **raise** the error.\n",
    "\n",
    "#### What is raise?\n",
    "\n",
    "* raise is a keyword like return. \n",
    "    * it ends the current function call.\n",
    "    * In most other langauges the keyword used in this case is **throw**\n",
    "\n",
    "* return is (should be) used for valid value\n",
    "\n",
    "* raise is used for errors.\n",
    "\n",
    "* return returns to the immediate caller function.\n",
    "    * if that function is intermediatary, we have to write second return till it reaches handler\n",
    "\n",
    "* raise is like throwing an exception\n",
    "    * it automatically propagates till it finds a matching except\n",
    "    * if there no matching except, it causes program crash\n",
    "\n",
    "* Note we haven't written any logic for error management in our intermediatary function.\n",
    "\n",
    "\n",
    "### Raising an Exception.\n",
    "\n",
    "\n",
    "* currently we have **misused** exsiting exceptions to represent our failures\n",
    "    * most of the exceptions were not related to my problem.\n",
    "* It is a good idea to define your own exceptions\n",
    "\n",
    "```python\n",
    "raise SomeError('error message if any')\n",
    "```"
   ]
  },
  {
   "cell_type": "code",
   "execution_count": 46,
   "metadata": {},
   "outputs": [],
   "source": [
    "def get_luck(number):\n",
    "    messages=[None, \"You have a great day Ahead\",\"Fortune favours you\",\"Be careful today\",\"You are born to succeed\"]\n",
    "\n",
    "    if number<0:\n",
    "        raise Exception(\"Too much of Negativity\")\n",
    "    elif number==0:\n",
    "        #return 1/0\n",
    "        raise Exception(\"You luck ran out. Now its 0\")\n",
    "    else:\n",
    "        return messages[number]\n",
    "\n",
    "\n",
    "def lucky_number_finder(lucky_number): #intermediatry layer\n",
    "    lucky_number= int(lucky_number)\n",
    "    message = get_luck(lucky_number) #represents data layer   \n",
    "    return message  \n",
    "\n",
    "\n",
    "def fortune_teller(input_lucky_number):\n",
    "    try:\n",
    "        message = lucky_number_finder(input_lucky_number) # represents business layer.\n",
    "        print(f\"Prediction: {message}\")\n",
    "    except IndexError: \n",
    "        print(f'PrefictinX: You fly too high')\n",
    "    except ValueError: \n",
    "        print(f'PredictionX: You must learn Mathematics')\n",
    "    except Exception as ex:\n",
    "        print(f'PredictionX: {ex}')\n",
    "\n"
   ]
  },
  {
   "cell_type": "code",
   "execution_count": 47,
   "metadata": {},
   "outputs": [
    {
     "name": "stdout",
     "output_type": "stream",
     "text": [
      "PredictionX: Too much of Negativity\n",
      "PrefictinX: You fly too high\n",
      "Prediction: Fortune favours you\n",
      "PredictionX: You luck ran out. Now its 0\n",
      "Prediction: You have a great day Ahead\n",
      "PredictionX: You must learn Mathematics\n"
     ]
    }
   ],
   "source": [
    "test_fortunes()"
   ]
  },
  {
   "cell_type": "markdown",
   "metadata": {},
   "source": [
    "### 4. User defined Exceptions.\n",
    "\n",
    "* While python provides multiple exception, we may need exception to meet my business requirement.\n",
    "* We can create custom exception to handle our use cases\n",
    "* our exceptions can have additional information that can help in\n",
    "    * better logging\n",
    "    * better management of exception\n",
    "\n",
    "* they can also have behaviors.\n",
    "\n",
    "\n",
    "#### How to create custom exceptions\n",
    "\n",
    "* our exception should be a class inheriting from Exception base class or any of the subclass\n",
    "* we can also create our exception hierarchy."
   ]
  },
  {
   "cell_type": "code",
   "execution_count": 51,
   "metadata": {},
   "outputs": [],
   "source": [
    "class FortuneError(Exception):\n",
    "    def __init__(self, lucky_number, message=\"Fortune Error\"):\n",
    "        super().__init__(message)\n",
    "        self.lucky_number = lucky_number\n",
    "\n",
    "\n",
    "class NegativeFortuneError(FortuneError):\n",
    "    pass\n",
    "\n",
    "class AmbitionError(FortuneError):\n",
    "    pass\n",
    "\n",
    "class IgnoranceError(FortuneError):\n",
    "    pass\n",
    "\n",
    "class NoFortuneError(FortuneError):\n",
    "    pass\n"
   ]
  },
  {
   "cell_type": "markdown",
   "metadata": {},
   "source": [
    "\n",
    "#### Now we can use these exception in our application\n",
    "\n",
    "* Also note, this time we are using two try-except in our code\n",
    "* one at handler\n",
    "* other at intermediatary.\n",
    "\n"
   ]
  },
  {
   "cell_type": "code",
   "execution_count": 54,
   "metadata": {},
   "outputs": [],
   "source": [
    "def get_luck(number):\n",
    "    messages=[None, \"You have a great day Ahead\",\"Fortune favours you\",\"Be careful today\",\"You are born to succeed\"]\n",
    "\n",
    "    if number<0:\n",
    "        raise NegativeFortuneError(number,\"Too much of Negativity\")\n",
    "    elif number==0:\n",
    "        #return 1/0\n",
    "        raise NoFortuneError(number,\"You luck ran out. Now its 0\")\n",
    "    elif number>=len(messages):\n",
    "        raise AmbitionError(number,\"You are over ambitious\")\n",
    "    else:\n",
    "        return messages[number]\n",
    "\n",
    "\n",
    "def lucky_number_finder(lucky_number): #intermediatry layer\n",
    "    try:\n",
    "        lucky_number= int(lucky_number)\n",
    "        message = get_luck(lucky_number) #represents data layer   \n",
    "        return message\n",
    "    except ValueError: \n",
    "        raise IgnoranceError(lucky_number, \"You must learn Mathemetics\")  \n",
    "\n",
    "\n",
    "def fortune_teller(input_lucky_number):\n",
    "    try:\n",
    "        message = lucky_number_finder(input_lucky_number) # represents business layer.\n",
    "        print(f\"Prediction: {message}\")\n",
    "    \n",
    "    except FortuneError as ex:\n",
    "        print(f'Special rediction for {ex.lucky_number}: {ex}')\n",
    "\n"
   ]
  },
  {
   "cell_type": "code",
   "execution_count": 55,
   "metadata": {},
   "outputs": [
    {
     "name": "stdout",
     "output_type": "stream",
     "text": [
      "Special rediction for -1: Too much of Negativity\n",
      "Special rediction for 11: You are over ambitious\n",
      "Prediction: Fortune favours you\n",
      "Special rediction for 0: You luck ran out. Now its 0\n",
      "Prediction: You have a great day Ahead\n",
      "Special rediction for Hi: You must learn Mathemetics\n"
     ]
    }
   ],
   "source": [
    "test_fortunes()"
   ]
  },
  {
   "cell_type": "markdown",
   "metadata": {},
   "source": [
    "#### Important Notes.\n",
    "\n",
    "1. Here we have raised Exceptions (Line 5,8,10) of different types: NegativeFortune, NoFortune etc at source\n",
    "   * But we handled only the super class FortuneError 29-30.\n",
    "        * all sub class exceptions can be hadled in an except block with super class.\n",
    "\n",
    "   * It is not compulsary but a choice.\n",
    "        * we can handle them separately also.\n",
    "\n",
    "    * **IMPORTANT**\n",
    "        * if you want to except a super class exception (generic) and subclass exception (specific) you must first except subclass exception (specific) and then the superclass exception (generic)\n",
    "            * otherwise, the superclass except block will catch the subclass exception also\n",
    "            \n",
    "        * if you want to handle FortuneException and NegativeFrotuneException, you should reight the except block of NegativeFrotuneException first, followed by FrotuneException.\n",
    "\n",
    "\n",
    "2. In our code we have two try blocks\n",
    "\n",
    "    * when exception occurs on line 5 Negative fortune exception\n",
    "        1. It searches for a try block in same function get_luck()\n",
    "            * since there is no-try catch, it reaches the parent funciton: lucky_number_finder()\n",
    "\n",
    "        2. lucky_nubmer_finder() has a try block but it doesn't have matching except block  for NegativeFrotuneException or it super classes (FortuneException, Exception)\n",
    "            * it reaches the parent function\n",
    "            * no special code needed to do this.\n",
    "\n",
    "        3. we reach fortune_teller() \n",
    "            * it doesn't have an specific except for NegativeFrotuneException\n",
    "            * but it has an except for the sueper class FortuneException.\n",
    "                * exception is handled.\n",
    "\n",
    "\n",
    "3. Translating the exception.\n",
    "\n",
    "* consider line number 17 **lucky_number= int(lucky_number)**\n",
    "    * it may fail with ValueError\n",
    "\n",
    "* but we are inerested in IgnoranceError\n",
    "    * we wrote a try-except to intercept the ValueError\n",
    "    * we raised IgnoranceError.\n",
    "\n",
    "\n",
    "## 5. Finally\n",
    "\n",
    "* finally is a block of code that is executed no matter what.\n",
    "\n",
    "* It is used to release external resources.\n",
    "\n",
    "* It is also used to execute clean-up code.\n",
    "\n",
    "* In exception scenario there is guaranty that\n",
    "    * whole try block will execute\n",
    "        * code may have exception\n",
    "    * any except will execute\n",
    "        * there may not be an error\n",
    "        * there may be an error but not matching our except\n",
    "    * code after try-except will execute\n",
    "        * they will execute if\n",
    "            * there is no error\n",
    "            * there is an error but it is handled by except\n",
    "        * they will not execute\n",
    "            * if here is an error with except.\n",
    "\n",
    "\n",
    "* what if we want to execute one code that always works. No matter what.\n",
    "\n",
    "* finally block.\n",
    "\n",
    "\n",
    "##### finally\n",
    "\n",
    "* it is a block like except\n",
    "* it must follow try\n",
    "* unlike except there can be only one finally with a try\n",
    "* a try must be followed by \n",
    "    * 0 or more except\n",
    "    * 0 or 1 finally\n",
    "    * at least one block, either try or finally\n",
    "\n",
    "* valid cases\n",
    "    * try--->except--->finally\n",
    "    * try--->except\n",
    "    * try--->finally\n",
    "    * try--->except--->except--->except--->finally\n",
    "\n",
    "* invalid cases\n",
    "    * try (no except or finally)\n",
    "    * except\n",
    "    * finally\n",
    "    * try--->finally-->except\n",
    "        * finally must be the last block.\n",
    "\n",
    "\n",
    "##### finally executes in these scenarios.\n",
    "* let us consider a code\n"
   ]
  },
  {
   "cell_type": "code",
   "execution_count": 58,
   "metadata": {},
   "outputs": [],
   "source": [
    "class ExA(Exception):pass\n",
    "class ExB(Exception):pass\n",
    "class ExC(Exception):pass\n",
    "\n",
    "def action(i):\n",
    "\n",
    "    if i==1:\n",
    "        raise ExA()\n",
    "    elif i==2:\n",
    "        raise ExB()\n",
    "    elif i==3:\n",
    "        raise ExC()\n",
    "    else:\n",
    "        return \"T\"\n",
    "\n",
    "def fn(x):\n",
    "    try:\n",
    "        result = action(x)# may raise ExA, ExB, ExC\n",
    "        print(result, end=\"\")\n",
    "    except ExA:\n",
    "        print(\"A\", end=\"\")\n",
    "    except ExB:\n",
    "        print(\"B\", end=\"\")\n",
    "    finally:\n",
    "        print(\"F\", end=\"\")\n",
    "\n",
    "    print(\"X\")"
   ]
  },
  {
   "cell_type": "code",
   "execution_count": 59,
   "metadata": {},
   "outputs": [
    {
     "name": "stdout",
     "output_type": "stream",
     "text": [
      "TFX\n"
     ]
    }
   ],
   "source": [
    "# case 1: no error\n",
    "# flow: try->finally-->normal end\n",
    "\n",
    "fn(5)"
   ]
  },
  {
   "cell_type": "code",
   "execution_count": 61,
   "metadata": {},
   "outputs": [
    {
     "name": "stdout",
     "output_type": "stream",
     "text": [
      "BFX\n"
     ]
    }
   ],
   "source": [
    "# case 2: error occurs but it is handled.\n",
    "#flow: except->finally-->normal end\n",
    "\n",
    "fn(2)"
   ]
  },
  {
   "cell_type": "code",
   "execution_count": 62,
   "metadata": {},
   "outputs": [
    {
     "name": "stdout",
     "output_type": "stream",
     "text": [
      "F"
     ]
    },
    {
     "ename": "ExC",
     "evalue": "",
     "output_type": "error",
     "traceback": [
      "\u001b[1;31m---------------------------------------------------------------------------\u001b[0m",
      "\u001b[1;31mExC\u001b[0m                                       Traceback (most recent call last)",
      "Cell \u001b[1;32mIn[62], line 4\u001b[0m\n\u001b[0;32m      1\u001b[0m \u001b[38;5;66;03m# case 3 : error occurs but it is NOT handled\u001b[39;00m\n\u001b[0;32m      2\u001b[0m \u001b[38;5;66;03m# flow: finally ---> exit without normal end.\u001b[39;00m\n\u001b[1;32m----> 4\u001b[0m \u001b[43mfn\u001b[49m\u001b[43m(\u001b[49m\u001b[38;5;241;43m3\u001b[39;49m\u001b[43m)\u001b[49m\n",
      "Cell \u001b[1;32mIn[58], line 18\u001b[0m, in \u001b[0;36mfn\u001b[1;34m(x)\u001b[0m\n\u001b[0;32m     16\u001b[0m \u001b[38;5;28;01mdef\u001b[39;00m \u001b[38;5;21mfn\u001b[39m(x):\n\u001b[0;32m     17\u001b[0m     \u001b[38;5;28;01mtry\u001b[39;00m:\n\u001b[1;32m---> 18\u001b[0m         result \u001b[38;5;241m=\u001b[39m \u001b[43maction\u001b[49m\u001b[43m(\u001b[49m\u001b[43mx\u001b[49m\u001b[43m)\u001b[49m\u001b[38;5;66;03m# may raise ExA, ExB, ExC\u001b[39;00m\n\u001b[0;32m     19\u001b[0m         \u001b[38;5;28mprint\u001b[39m(result, end\u001b[38;5;241m=\u001b[39m\u001b[38;5;124m\"\u001b[39m\u001b[38;5;124m\"\u001b[39m)\n\u001b[0;32m     20\u001b[0m     \u001b[38;5;28;01mexcept\u001b[39;00m ExA:\n",
      "Cell \u001b[1;32mIn[58], line 12\u001b[0m, in \u001b[0;36maction\u001b[1;34m(i)\u001b[0m\n\u001b[0;32m     10\u001b[0m     \u001b[38;5;28;01mraise\u001b[39;00m ExB()\n\u001b[0;32m     11\u001b[0m \u001b[38;5;28;01melif\u001b[39;00m i\u001b[38;5;241m==\u001b[39m\u001b[38;5;241m3\u001b[39m:\n\u001b[1;32m---> 12\u001b[0m     \u001b[38;5;28;01mraise\u001b[39;00m ExC()\n\u001b[0;32m     13\u001b[0m \u001b[38;5;28;01melse\u001b[39;00m:\n\u001b[0;32m     14\u001b[0m     \u001b[38;5;28;01mreturn\u001b[39;00m \u001b[38;5;124m\"\u001b[39m\u001b[38;5;124mT\u001b[39m\u001b[38;5;124m\"\u001b[39m\n",
      "\u001b[1;31mExC\u001b[0m: "
     ]
    }
   ],
   "source": [
    "# case 3 : error occurs but it is NOT handled\n",
    "# flow: finally ---> exit without normal end.\n",
    "\n",
    "fn(3)\n"
   ]
  },
  {
   "cell_type": "code",
   "execution_count": null,
   "metadata": {},
   "outputs": [],
   "source": []
  }
 ],
 "metadata": {
  "kernelspec": {
   "display_name": "Python 3",
   "language": "python",
   "name": "python3"
  },
  "language_info": {
   "codemirror_mode": {
    "name": "ipython",
    "version": 3
   },
   "file_extension": ".py",
   "mimetype": "text/x-python",
   "name": "python",
   "nbconvert_exporter": "python",
   "pygments_lexer": "ipython3",
   "version": "3.12.1"
  }
 },
 "nbformat": 4,
 "nbformat_minor": 2
}
