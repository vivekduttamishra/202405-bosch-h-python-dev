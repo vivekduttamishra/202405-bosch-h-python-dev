{
 "cells": [
  {
   "cell_type": "markdown",
   "metadata": {},
   "source": [
    "# Inheritance a.k.a sub classfication.\n",
    "\n",
    "* In real world we have object belonging to hierarchy that can be used as classficiation and sub classfication.\n",
    "* Examples\n",
    "    * Example: Animals Hierarchy\n",
    "        * Animal\n",
    "            * Mammal\n",
    "                * Cat\n",
    "                    * Tiger\n",
    "                    * Leopard\n",
    "                * Dog\n",
    "                * Horse\n",
    "                * Cow\n",
    "            * Reptile\n",
    "                * Crocodile\n",
    "                * Snake\n",
    "            * Bird\n",
    "                * Parrot\n",
    "                * Eagle\n",
    "\n",
    "    * Example 2: Employee hierarchy\n",
    "        * Employee\n",
    "            * Manager\n",
    "            * Engineer\n",
    "            * Accountant\n",
    "\n",
    "* In Animal Example:\n",
    "    * We can **Animal** as a super class for all classes under it.\n",
    "    * A **Mammal** can be considered as\n",
    "        * a subclass of Animal\n",
    "        * a super class of Cat, Dog, Horse\n",
    "\n",
    "    * A Tiger is a direct subclass of Cat\n",
    "        * But it is also a subclass of\n",
    "            * Mammal (is super class of Cat)\n",
    "                * Animal (is super class Mammal)\n",
    "\n",
    "* A subclass object can also be considered as an object of the super class\n",
    "    * A tiger \n",
    "        * is a Tiger\n",
    "        * is a Cat \n",
    "        * is a Mammal\n",
    "        * is an Animal \n",
    "\n",
    "### How do we describe the hierarchy in python\n",
    "\n",
    "1. A super class has no special feature.\n",
    "    * Any class can become super class.\n",
    "    * It is a relative relationship\n",
    "2. If no one inherits a class it can't be called a super class\n",
    "    * it becomes super class if someone inherits"
   ]
  },
  {
   "cell_type": "code",
   "execution_count": 1,
   "metadata": {},
   "outputs": [],
   "source": [
    "class Animal:\n",
    "    pass"
   ]
  },
  {
   "cell_type": "markdown",
   "metadata": {},
   "source": [
    "### Let us define a few subclasses as we discussed earlier.\n",
    "\n",
    "* To create a subclass, we need to define which class it inherits.\n",
    "* We do that by passing the superclass as parameter to subclass definition"
   ]
  },
  {
   "cell_type": "code",
   "execution_count": 2,
   "metadata": {},
   "outputs": [],
   "source": [
    "class Mammal (Animal): #Mammal inherits Animal. Now Mammal is subclass, Animal is superclass of Mammal\n",
    "    pass\n",
    "\n",
    "class Cat (Mammal):\n",
    "    pass\n",
    "\n",
    "class Tiger(Cat):\n",
    "    pass\n",
    "\n",
    "class Leopard(Cat):\n",
    "    pass\n",
    "\n",
    "class Dog(Mammal):\n",
    "    pass\n",
    "\n",
    "class Horse(Mammal):\n",
    "    pass\n",
    "\n",
    "class Reptile(Animal):\n",
    "    pass\n",
    "\n",
    "class Crocodile(Reptile):\n",
    "    pass\n",
    "\n",
    "class Snake(Reptile):\n",
    "    pass\n",
    "\n",
    "class Bird(Animal):\n",
    "    pass\n",
    "\n",
    "class Parrot(Bird):\n",
    "    pass\n",
    "\n",
    "class Eagle(Bird):\n",
    "    pass\n"
   ]
  },
  {
   "cell_type": "markdown",
   "metadata": {},
   "source": [
    "### How does this hierarchy help?\n",
    "\n",
    "##### 1. can check the subclass and super class relationship"
   ]
  },
  {
   "cell_type": "code",
   "execution_count": 3,
   "metadata": {},
   "outputs": [],
   "source": [
    "def print_relationship(cls1,cls2):\n",
    "    if issubclass(cls1,cls2):\n",
    "        print(f'{cls1.__name__} is a subclass of {cls2.__name__}')\n",
    "    elif issubclass(cls2,cls1):\n",
    "        print(f'{cls2.__name__} is a subclass of {cls1.__name__}')\n",
    "    else:\n",
    "        print(f'{cls1.__name__} has no direct relation with {cls2.__name__}')"
   ]
  },
  {
   "cell_type": "code",
   "execution_count": 5,
   "metadata": {},
   "outputs": [
    {
     "name": "stdout",
     "output_type": "stream",
     "text": [
      "Tiger is a subclass of Mammal\n",
      "Tiger is a subclass of Cat\n",
      "Cat has no direct relation with Dog\n",
      "Eagle has no direct relation with Parrot\n",
      "Tiger is a subclass of Animal\n"
     ]
    }
   ],
   "source": [
    "print_relationship(Tiger, Mammal)\n",
    "print_relationship(Cat, Tiger)\n",
    "print_relationship(Cat,Dog)\n",
    "print_relationship(Eagle,Parrot)\n",
    "print_relationship(Animal,Tiger)"
   ]
  },
  {
   "cell_type": "markdown",
   "metadata": {},
   "source": [
    "#### 2. A tiger object is also an instanceof its super classes"
   ]
  },
  {
   "cell_type": "code",
   "execution_count": 10,
   "metadata": {},
   "outputs": [],
   "source": [
    "def print_object_relationship(obj, cls):\n",
    "    if isinstance(obj,cls):\n",
    "        print(f'{type(obj).__name__.lower()} is an instance of {cls.__name__}')\n",
    "    else:\n",
    "        print(f'{type(obj).__name__.lower()} is not an instance of {cls.__name__}')"
   ]
  },
  {
   "cell_type": "code",
   "execution_count": 11,
   "metadata": {},
   "outputs": [
    {
     "name": "stdout",
     "output_type": "stream",
     "text": [
      "tiger is an instance of Tiger\n",
      "tiger is an instance of Mammal\n",
      "tiger is an instance of Animal\n",
      "tiger is not an instance of Dog\n",
      "tiger is not an instance of Reptile\n"
     ]
    }
   ],
   "source": [
    "t=Tiger()\n",
    "s=Snake()\n",
    "\n",
    "print_object_relationship(t,Tiger)\n",
    "print_object_relationship(t,Mammal)\n",
    "print_object_relationship(t,Animal)\n",
    "print_object_relationship(t,Dog)\n",
    "print_object_relationship(t,Reptile)"
   ]
  },
  {
   "cell_type": "markdown",
   "metadata": {},
   "source": [
    "#### difference between type() and isinstanace()\n",
    "\n",
    "* A type always checks the exact type.\n",
    "    * type(tiger) will always be Tiger\n",
    "\n",
    "* isinstance() checks for class hierarchy\n",
    "    * tiger isinstance of \n",
    "        * Tiger\n",
    "        * Mammal\n",
    "        * Animal"
   ]
  },
  {
   "cell_type": "code",
   "execution_count": 15,
   "metadata": {},
   "outputs": [
    {
     "name": "stdout",
     "output_type": "stream",
     "text": [
      "True\n",
      "False\n",
      "True\n",
      "True\n"
     ]
    }
   ],
   "source": [
    "t=Tiger()\n",
    "\n",
    "print(type(t)==Tiger) #True\n",
    "print(type(t)==Mammal) #False\n",
    "\n",
    "print(isinstance(t,Tiger)) #True\n",
    "print(isinstance(t,Mammal)) #False"
   ]
  },
  {
   "cell_type": "markdown",
   "metadata": {},
   "source": [
    "### 3. Inheriting classes behaviors.\n",
    "\n",
    "* when we inherit a class, we also inherit its behaviors.\n",
    "* a behavior defined at superclass also becomes behavior of the subclass\n",
    "* an object of the subclass can use those functionalities."
   ]
  },
  {
   "cell_type": "markdown",
   "metadata": {},
   "source": [
    "#### Employee Hierarchy"
   ]
  },
  {
   "cell_type": "code",
   "execution_count": 30,
   "metadata": {},
   "outputs": [],
   "source": [
    "class Employee:\n",
    "    def __init__(self,id,name,salary):\n",
    "        self.id=id\n",
    "        self.name=name\n",
    "        self.salary=salary\n",
    "\n",
    "    def work(self):\n",
    "        print(f'{self.name} is working for {self.salary}')\n",
    "\n",
    "    def info(self):\n",
    "        return f\"Employee Id={self.id}\\tName={self.name}\\tsalary={self.salary}\"\n",
    "    "
   ]
  },
  {
   "cell_type": "markdown",
   "metadata": {},
   "source": [
    "#### These methods naturally work for employee objects"
   ]
  },
  {
   "cell_type": "code",
   "execution_count": 13,
   "metadata": {},
   "outputs": [
    {
     "name": "stdout",
     "output_type": "stream",
     "text": [
      "Sanjay is working for 20000\n",
      "Employee Id=1\tName=Sanjay\tsalary=20000\n"
     ]
    }
   ],
   "source": [
    "e=Employee(1,'Sanjay',20000)\n",
    "\n",
    "e.work()\n",
    "\n",
    "print(e.info())"
   ]
  },
  {
   "cell_type": "markdown",
   "metadata": {},
   "source": [
    "### Let us create a subclass of Employee"
   ]
  },
  {
   "cell_type": "code",
   "execution_count": 14,
   "metadata": {},
   "outputs": [],
   "source": [
    "class Manager(Employee):\n",
    "    pass"
   ]
  },
  {
   "cell_type": "markdown",
   "metadata": {},
   "source": [
    "#### Now Manager has all features of Employee\n",
    "\n",
    "* including\n",
    "    * \\_\\_init\\_\\_\n",
    "    * work()\n",
    "    * info()\n",
    "\n",
    "* since we have \\_\\_init\\_\\_() we must pass value even if we didn't define Manager class \\_\\_init\\_\\_"
   ]
  },
  {
   "cell_type": "code",
   "execution_count": 16,
   "metadata": {},
   "outputs": [
    {
     "ename": "TypeError",
     "evalue": "Employee.__init__() missing 3 required positional arguments: 'id', 'name', and 'salary'",
     "output_type": "error",
     "traceback": [
      "\u001b[1;31m---------------------------------------------------------------------------\u001b[0m",
      "\u001b[1;31mTypeError\u001b[0m                                 Traceback (most recent call last)",
      "Cell \u001b[1;32mIn[16], line 1\u001b[0m\n\u001b[1;32m----> 1\u001b[0m m\u001b[38;5;241m=\u001b[39m \u001b[43mManager\u001b[49m\u001b[43m(\u001b[49m\u001b[43m)\u001b[49m\n",
      "\u001b[1;31mTypeError\u001b[0m: Employee.__init__() missing 3 required positional arguments: 'id', 'name', and 'salary'"
     ]
    }
   ],
   "source": [
    "m= Manager()\n"
   ]
  },
  {
   "cell_type": "code",
   "execution_count": 17,
   "metadata": {},
   "outputs": [
    {
     "name": "stdout",
     "output_type": "stream",
     "text": [
      "Prabhat is working for 50000\n",
      "Employee Id=2\tName=Prabhat\tsalary=50000\n"
     ]
    }
   ],
   "source": [
    "m= Manager(2,'Prabhat',50000)\n",
    "m.work()\n",
    "\n",
    "print(m.info())"
   ]
  },
  {
   "cell_type": "markdown",
   "metadata": {},
   "source": [
    "### But we don't want a class just as great as the existing one.\n",
    "\n",
    "* When we sub class\n",
    "    * we may want to add additional property/behavior\n",
    "    * modify exising behavior.\n",
    "\n",
    "\n",
    "#### 4. Adding a new additional behavior to subclass.\n",
    "\n",
    "* We want Manager to have behavior \"add_to_team()\" so that manager can add someone to their team.\n",
    "\n",
    "* we can simply add this behavior to the Manager class.\n",
    "    * we still get the other behaviors."
   ]
  },
  {
   "cell_type": "code",
   "execution_count": 18,
   "metadata": {},
   "outputs": [],
   "source": [
    "class Manager(Employee):\n",
    "    def add_to_team(self,name):\n",
    "        print(f'Adding {name} to team')"
   ]
  },
  {
   "cell_type": "code",
   "execution_count": 19,
   "metadata": {},
   "outputs": [
    {
     "name": "stdout",
     "output_type": "stream",
     "text": [
      "Prabaht is working for 50000\n",
      "Adding Vivek to team\n"
     ]
    }
   ],
   "source": [
    "m= Manager(2,'Prabaht',50000)\n",
    "m.work() # existing behavior\n",
    "m.add_to_team('Vivek') # new behavior"
   ]
  },
  {
   "cell_type": "markdown",
   "metadata": {},
   "source": [
    "#### Modifying existing behavior\n",
    "\n",
    "* sometimes a behavior defined for super class doesn't work the same way for a subclass.\n",
    "* Example\n",
    "    * Most Animal walk but\n",
    "        * birds fly()\n",
    "\n",
    "    * Manager may work differently than other Employee \n",
    "\n",
    "    * Tiger and Deer don't eat same food.\n",
    "\n",
    "\n",
    "##### Out use case: when we check Manager.info() it still shows Employee\n",
    "\n",
    "* we want it to show Manager."
   ]
  },
  {
   "cell_type": "code",
   "execution_count": 20,
   "metadata": {},
   "outputs": [
    {
     "name": "stdout",
     "output_type": "stream",
     "text": [
      "Employee Id=2\tName=Prabaht\tsalary=50000\n"
     ]
    }
   ],
   "source": [
    "print(m.info())"
   ]
  },
  {
   "cell_type": "markdown",
   "metadata": {},
   "source": [
    "#### How to modify an existing behavior.\n",
    "\n",
    "* modifying an existing behavior is similar to adding a new behavior\n",
    "* just write the new function in subclass and it will overwrite the inherited behavior."
   ]
  },
  {
   "cell_type": "code",
   "execution_count": 21,
   "metadata": {},
   "outputs": [],
   "source": [
    "def manager_info(manager):\n",
    "    return \"Manager\"\n",
    "\n",
    "Manager.info = manager_info #replaces inherited behavior."
   ]
  },
  {
   "cell_type": "code",
   "execution_count": 22,
   "metadata": {},
   "outputs": [
    {
     "name": "stdout",
     "output_type": "stream",
     "text": [
      "Manager\n"
     ]
    }
   ],
   "source": [
    "print(m.info())"
   ]
  },
  {
   "cell_type": "markdown",
   "metadata": {},
   "source": [
    "### Partial override or modification\n",
    "\n",
    "* generally when modifying (or overrideing) an existing behavior we don't want to completely replace it\n",
    "* we may want to reuse certain portion of that behavior\n",
    "* Example\n",
    "    * in Manager.info, I still want to show id,name salary\n",
    "    * I just want to replace Employee word to Manager.\n",
    "    * I don't want to rewrite the entire code\n",
    "\n",
    "* Challenge\n",
    "    * if we write a new method with the same name, old method will be removed from subclass\n",
    "        * and since it is removed, it can't be reused.\n"
   ]
  },
  {
   "cell_type": "code",
   "execution_count": 23,
   "metadata": {},
   "outputs": [],
   "source": [
    "class Manager(Employee):\n",
    "    def info(self):\n",
    "        s= self.info() #it is recursive. calling itself not the inherited method\n",
    "        return s.replace('Employee','Manager')"
   ]
  },
  {
   "cell_type": "code",
   "execution_count": 24,
   "metadata": {},
   "outputs": [
    {
     "ename": "RecursionError",
     "evalue": "maximum recursion depth exceeded",
     "output_type": "error",
     "traceback": [
      "\u001b[1;31m---------------------------------------------------------------------------\u001b[0m",
      "\u001b[1;31mRecursionError\u001b[0m                            Traceback (most recent call last)",
      "Cell \u001b[1;32mIn[24], line 2\u001b[0m\n\u001b[0;32m      1\u001b[0m m\u001b[38;5;241m=\u001b[39mManager(\u001b[38;5;241m2\u001b[39m,\u001b[38;5;124m\"\u001b[39m\u001b[38;5;124mPrabhat\u001b[39m\u001b[38;5;124m\"\u001b[39m,\u001b[38;5;241m50000\u001b[39m)\n\u001b[1;32m----> 2\u001b[0m \u001b[38;5;28mprint\u001b[39m(\u001b[43mm\u001b[49m\u001b[38;5;241;43m.\u001b[39;49m\u001b[43minfo\u001b[49m\u001b[43m(\u001b[49m\u001b[43m)\u001b[49m) \u001b[38;5;66;03m#endless recursion\u001b[39;00m\n",
      "Cell \u001b[1;32mIn[23], line 3\u001b[0m, in \u001b[0;36mManager.info\u001b[1;34m(self)\u001b[0m\n\u001b[0;32m      2\u001b[0m \u001b[38;5;28;01mdef\u001b[39;00m \u001b[38;5;21minfo\u001b[39m(\u001b[38;5;28mself\u001b[39m):\n\u001b[1;32m----> 3\u001b[0m     s\u001b[38;5;241m=\u001b[39m \u001b[38;5;28;43mself\u001b[39;49m\u001b[38;5;241;43m.\u001b[39;49m\u001b[43minfo\u001b[49m\u001b[43m(\u001b[49m\u001b[43m)\u001b[49m \u001b[38;5;66;03m#it is recursive. calling itself not the inherited method\u001b[39;00m\n\u001b[0;32m      4\u001b[0m     \u001b[38;5;28;01mreturn\u001b[39;00m s\u001b[38;5;241m.\u001b[39mreplace(\u001b[38;5;124m'\u001b[39m\u001b[38;5;124mEmployee\u001b[39m\u001b[38;5;124m'\u001b[39m,\u001b[38;5;124m'\u001b[39m\u001b[38;5;124mManager\u001b[39m\u001b[38;5;124m'\u001b[39m)\n",
      "Cell \u001b[1;32mIn[23], line 3\u001b[0m, in \u001b[0;36mManager.info\u001b[1;34m(self)\u001b[0m\n\u001b[0;32m      2\u001b[0m \u001b[38;5;28;01mdef\u001b[39;00m \u001b[38;5;21minfo\u001b[39m(\u001b[38;5;28mself\u001b[39m):\n\u001b[1;32m----> 3\u001b[0m     s\u001b[38;5;241m=\u001b[39m \u001b[38;5;28;43mself\u001b[39;49m\u001b[38;5;241;43m.\u001b[39;49m\u001b[43minfo\u001b[49m\u001b[43m(\u001b[49m\u001b[43m)\u001b[49m \u001b[38;5;66;03m#it is recursive. calling itself not the inherited method\u001b[39;00m\n\u001b[0;32m      4\u001b[0m     \u001b[38;5;28;01mreturn\u001b[39;00m s\u001b[38;5;241m.\u001b[39mreplace(\u001b[38;5;124m'\u001b[39m\u001b[38;5;124mEmployee\u001b[39m\u001b[38;5;124m'\u001b[39m,\u001b[38;5;124m'\u001b[39m\u001b[38;5;124mManager\u001b[39m\u001b[38;5;124m'\u001b[39m)\n",
      "    \u001b[1;31m[... skipping similar frames: Manager.info at line 3 (2974 times)]\u001b[0m\n",
      "Cell \u001b[1;32mIn[23], line 3\u001b[0m, in \u001b[0;36mManager.info\u001b[1;34m(self)\u001b[0m\n\u001b[0;32m      2\u001b[0m \u001b[38;5;28;01mdef\u001b[39;00m \u001b[38;5;21minfo\u001b[39m(\u001b[38;5;28mself\u001b[39m):\n\u001b[1;32m----> 3\u001b[0m     s\u001b[38;5;241m=\u001b[39m \u001b[38;5;28;43mself\u001b[39;49m\u001b[38;5;241;43m.\u001b[39;49m\u001b[43minfo\u001b[49m\u001b[43m(\u001b[49m\u001b[43m)\u001b[49m \u001b[38;5;66;03m#it is recursive. calling itself not the inherited method\u001b[39;00m\n\u001b[0;32m      4\u001b[0m     \u001b[38;5;28;01mreturn\u001b[39;00m s\u001b[38;5;241m.\u001b[39mreplace(\u001b[38;5;124m'\u001b[39m\u001b[38;5;124mEmployee\u001b[39m\u001b[38;5;124m'\u001b[39m,\u001b[38;5;124m'\u001b[39m\u001b[38;5;124mManager\u001b[39m\u001b[38;5;124m'\u001b[39m)\n",
      "\u001b[1;31mRecursionError\u001b[0m: maximum recursion depth exceeded"
     ]
    }
   ],
   "source": [
    "m=Manager(2,\"Prabhat\",50000)\n",
    "print(m.info()) #endless recursion"
   ]
  },
  {
   "cell_type": "markdown",
   "metadata": {},
   "source": [
    "##### Solution: It may be removed from subclass, it is still present in superclass.\n",
    "\n",
    "* we can call info() using old style ClassName.method() format."
   ]
  },
  {
   "cell_type": "code",
   "execution_count": 25,
   "metadata": {},
   "outputs": [],
   "source": [
    "class Manager(Employee):\n",
    "    def info(self):\n",
    "        s = Employee.info(self) #call Employee class info()\n",
    "        return s.replace('Employee','Manager')"
   ]
  },
  {
   "cell_type": "code",
   "execution_count": 26,
   "metadata": {},
   "outputs": [
    {
     "name": "stdout",
     "output_type": "stream",
     "text": [
      "Manager Id=2\tName=Prabhat\tsalary=50000\n"
     ]
    }
   ],
   "source": [
    "m=Manager(2,\"Prabhat\",50000)\n",
    "print(m.info())"
   ]
  },
  {
   "cell_type": "markdown",
   "metadata": {},
   "source": [
    "### Alternative syntax using **super()** function.\n",
    "\n",
    "* the above code can be written using an alternative **super()** function call.\n",
    "\n",
    "* instead of writing\n",
    "```python\n",
    "\n",
    "class Employee(Manager):\n",
    "    def info(self):\n",
    "        s= Employee.info(self)\n",
    "        return s.replace('Employee','Manager')\n",
    "```\n",
    "\n",
    "* we can write\n",
    "\n",
    "\n"
   ]
  },
  {
   "cell_type": "code",
   "execution_count": 31,
   "metadata": {},
   "outputs": [],
   "source": [
    "class Manager(Employee):\n",
    "    def info(self):\n",
    "        s = super().info() # same as Employee.info(self)\n",
    "        return s.replace('Employee','Manager')"
   ]
  },
  {
   "cell_type": "code",
   "execution_count": 32,
   "metadata": {},
   "outputs": [
    {
     "name": "stdout",
     "output_type": "stream",
     "text": [
      "Manager Id=2\tName=Prabhat\tsalary=50000\n"
     ]
    }
   ],
   "source": [
    "m= Manager(2, \"Prabhat\",50000)\n",
    "print(m.info())"
   ]
  },
  {
   "cell_type": "markdown",
   "metadata": {},
   "source": [
    "#### What we learnt so far\n",
    "\n",
    "1. we can inherit a class by passing it as parameter to the class definition\n",
    "2. What we inherit, we call super class\n",
    "3. One who inherits is sub class\n",
    "4. The super and subclass hierarchy is multi level\n",
    "5. When we inherit, we inherit all behaviors of super class.\n",
    "5. We can add new behaviors simply by adding it in sublcass\n",
    "6. We can also repalce/modify existing behaviors by adding a new behavior with same name in subclass\n",
    "7. We can call the overwritten behavior of superclass in subclass using one of these syntax\n",
    "    * SuperClass.method()\n",
    "    * super().method()\n",
    "\n",
    "\n",
    "### Adding new Properties in subclass\n",
    "\n",
    "* A subclass may need to include additional properties.\n",
    "* Example:\n",
    "    * A Manager may have additional\n",
    "        * team\n",
    "        * department/project\n",
    "\n",
    "* Remember, a class doesn't define  properties, it only defines behaviors.\n",
    "    * properties are generally added using \\_\\_init\\_\\_ function\n",
    "\n",
    "* To add a new property, we need a new \\_\\_init\\_\\_ method\n",
    "\n"
   ]
  },
  {
   "cell_type": "markdown",
   "metadata": {},
   "source": [
    " "
   ]
  },
  {
   "cell_type": "code",
   "execution_count": 35,
   "metadata": {},
   "outputs": [],
   "source": [
    "class Manager(Employee):\n",
    "    def __init__(self, id,name, salary, department):\n",
    "        self.department = department\n",
    "        self.team=[]"
   ]
  },
  {
   "cell_type": "markdown",
   "metadata": {},
   "source": [
    "#### new \\_\\_init\\_\\_ will replace inherited \\_\\_init\\_\\_\n",
    "\n",
    "* the new \\_\\_init\\_\\_ doesn't add name,id,salary to the self.\n"
   ]
  },
  {
   "cell_type": "code",
   "execution_count": 36,
   "metadata": {},
   "outputs": [],
   "source": [
    "m=Manager(2, 'Prabhat', 50000,\"R&D\")"
   ]
  },
  {
   "cell_type": "code",
   "execution_count": 37,
   "metadata": {},
   "outputs": [
    {
     "ename": "AttributeError",
     "evalue": "'Manager' object has no attribute 'name'",
     "output_type": "error",
     "traceback": [
      "\u001b[1;31m---------------------------------------------------------------------------\u001b[0m",
      "\u001b[1;31mAttributeError\u001b[0m                            Traceback (most recent call last)",
      "Cell \u001b[1;32mIn[37], line 1\u001b[0m\n\u001b[1;32m----> 1\u001b[0m \u001b[43mm\u001b[49m\u001b[38;5;241;43m.\u001b[39;49m\u001b[43mwork\u001b[49m\u001b[43m(\u001b[49m\u001b[43m)\u001b[49m\n",
      "Cell \u001b[1;32mIn[30], line 8\u001b[0m, in \u001b[0;36mEmployee.work\u001b[1;34m(self)\u001b[0m\n\u001b[0;32m      7\u001b[0m \u001b[38;5;28;01mdef\u001b[39;00m \u001b[38;5;21mwork\u001b[39m(\u001b[38;5;28mself\u001b[39m):\n\u001b[1;32m----> 8\u001b[0m     \u001b[38;5;28mprint\u001b[39m(\u001b[38;5;124mf\u001b[39m\u001b[38;5;124m'\u001b[39m\u001b[38;5;132;01m{\u001b[39;00m\u001b[38;5;28;43mself\u001b[39;49m\u001b[38;5;241;43m.\u001b[39;49m\u001b[43mname\u001b[49m\u001b[38;5;132;01m}\u001b[39;00m\u001b[38;5;124m is working for \u001b[39m\u001b[38;5;132;01m{\u001b[39;00m\u001b[38;5;28mself\u001b[39m\u001b[38;5;241m.\u001b[39msalary\u001b[38;5;132;01m}\u001b[39;00m\u001b[38;5;124m'\u001b[39m)\n",
      "\u001b[1;31mAttributeError\u001b[0m: 'Manager' object has no attribute 'name'"
     ]
    }
   ],
   "source": [
    "m.work()"
   ]
  },
  {
   "cell_type": "markdown",
   "metadata": {},
   "source": [
    "### How did it work earlier?\n",
    "\n",
    "* inheritance never inherits proeprties.\n",
    "* earlier we had inherited \\_\\_init\\_\\_\n",
    "    * it had added the required proeprties\n",
    "\n",
    "* now we have new \\_\\_init\\_\\_\n",
    "    * it is not adding all the properties.\n",
    "\n",
    "\n",
    "\n",
    "#### A good solution"
   ]
  },
  {
   "cell_type": "code",
   "execution_count": 41,
   "metadata": {},
   "outputs": [],
   "source": [
    "class Manager(Employee):\n",
    "    def __init__(self, id,name, salary, department):\n",
    "        super().__init__(id,name, salary)\n",
    "        self.department = department\n",
    "        self.team=[]"
   ]
  },
  {
   "cell_type": "code",
   "execution_count": 42,
   "metadata": {},
   "outputs": [
    {
     "name": "stdout",
     "output_type": "stream",
     "text": [
      "Prabaht is working for 50000\n"
     ]
    }
   ],
   "source": [
    "m=Manager(2,\"Prabaht\",50000,\"R&D\")\n",
    "m.work()"
   ]
  },
  {
   "cell_type": "markdown",
   "metadata": {},
   "source": [
    "### A complete code."
   ]
  },
  {
   "cell_type": "code",
   "execution_count": 48,
   "metadata": {},
   "outputs": [],
   "source": [
    "class Employee:\n",
    "    def __init__(self,id,name,salary):\n",
    "        self.id=id\n",
    "        self.name=name\n",
    "        self.salary=salary\n",
    "\n",
    "    def work(self):\n",
    "        print(f'{self.name} is working for {self.salary}')\n",
    "\n",
    "    def info(self):\n",
    "        return f\"{type(self).__name__} Id={self.id}\\tName={self.name}\\tsalary={self.salary}\"\n",
    "    \n",
    "\n",
    "class Manager(Employee):\n",
    "    def __init__(self, id,name, salary, department):\n",
    "        super().__init__(id,name, salary)\n",
    "        self.department = department\n",
    "        self.team=[]\n",
    "\n",
    "    def add_to_team(self,employee):\n",
    "        if isinstance(employee,Employee):\n",
    "            self.team.append(employee)\n",
    "\n",
    "    def work(self):\n",
    "        super().work()\n",
    "        print('-'*50)\n",
    "        for employee in self.team:\n",
    "            employee.work()\n",
    "        print('-'*50)\n",
    "\n",
    "\n",
    "class Accountant(Employee):\n",
    "    pass\n",
    "\n",
    "class Receptionist(Employee):\n",
    "    pass\n",
    "\n",
    "class Engineer(Employee):\n",
    "    pass\n"
   ]
  },
  {
   "cell_type": "code",
   "execution_count": 49,
   "metadata": {},
   "outputs": [
    {
     "name": "stdout",
     "output_type": "stream",
     "text": [
      "Manager Id=1\tName=Sanjay\tsalary=50000\n",
      "Sanjay is working for 50000\n",
      "--------------------------------------------------\n",
      "Santosh is working for 20000\n",
      "Reena is working for 40000\n",
      "Shailesh is working for 30000\n",
      "--------------------------------------------------\n"
     ]
    }
   ],
   "source": [
    "m1=Manager(1, 'Sanjay', 50000, \"R&D\")\n",
    "\n",
    "e1 = Engineer(2, 'Santosh', 20000)\n",
    "e2 = Engineer(3, 'Reena', 40000)\n",
    "a1= Accountant(4,\"Shailesh\",30000)\n",
    "\n",
    "m1.add_to_team(e1)\n",
    "m1.add_to_team(e2)\n",
    "m1.add_to_team(a1)\n",
    "\n",
    "print(m1.info())\n",
    "m1.work()\n"
   ]
  },
  {
   "cell_type": "code",
   "execution_count": 51,
   "metadata": {},
   "outputs": [],
   "source": [
    "m2= Manager(5,\"Prabhat\", 50000, \"AI\")\n",
    "m2.add_to_team(Engineer(6,\"Saket\",40000))\n",
    "m2.add_to_team(Receptionist(7,\"Anand\", 20000))"
   ]
  },
  {
   "cell_type": "code",
   "execution_count": 53,
   "metadata": {},
   "outputs": [
    {
     "name": "stdout",
     "output_type": "stream",
     "text": [
      "Prashant is working for 150000\n",
      "--------------------------------------------------\n",
      "Sanjay is working for 50000\n",
      "--------------------------------------------------\n",
      "Santosh is working for 20000\n",
      "Reena is working for 40000\n",
      "Shailesh is working for 30000\n",
      "--------------------------------------------------\n",
      "Prabhat is working for 50000\n",
      "--------------------------------------------------\n",
      "Saket is working for 40000\n",
      "Anand is working for 20000\n",
      "--------------------------------------------------\n",
      "--------------------------------------------------\n"
     ]
    }
   ],
   "source": [
    "m3 = Manager(8,\"Prashant\",150000, \"Production\")\n",
    "m3.add_to_team(m1)\n",
    "m3.add_to_team(m2)\n",
    "\n",
    "m3.work()"
   ]
  },
  {
   "cell_type": "markdown",
   "metadata": {},
   "source": [
    "### Multiple Inheritance\n",
    "\n",
    "* Generally NOT recommended.\n",
    "* Multiple Inheritance allows a class to inherit from more than one super class.\n",
    "* It often leads to complex design and problem and should be avoid as much as possible.\n"
   ]
  },
  {
   "cell_type": "code",
   "execution_count": 55,
   "metadata": {},
   "outputs": [],
   "source": [
    "class TechnicalPerson:\n",
    "    def __init__(self, name, qualification, specialization=None):\n",
    "        self.name = name\n",
    "        self.qualification = qualification\n",
    "        self.specialization = specialization\n",
    "\n",
    "    def info(self):\n",
    "        return f'Technical Person: {self.name}\\t{self.qualification}\\t{self.specialization}'\n",
    "\n"
   ]
  },
  {
   "cell_type": "markdown",
   "metadata": {},
   "source": [
    "##### An Engineer is a TechnicalPerson and an Employee"
   ]
  },
  {
   "cell_type": "code",
   "execution_count": 58,
   "metadata": {},
   "outputs": [],
   "source": [
    "class Engineer(TechnicalPerson, Employee):\n",
    "    # I need to pass information to both super class\n",
    "    # prefer using class Name\n",
    "    def __init__(self, id, name, salary, qualification,  specialization=None, project=None):\n",
    "        TechnicalPerson.__init__(self,name,qualification,specialization)\n",
    "        Employee.__init__(self,id,name,salary)\n",
    "        self.project=project\n",
    "\n",
    "    def info(self):\n",
    "        eInfo = Employee.info(self)\n",
    "        tInfo = TechnicalPerson.info(self).replace('Technical Person: ','').replace(self.name,'')\n",
    "        return f'{eInfo}\\tproject={self.project}\\t{tInfo}'\n",
    "\n",
    "        \n",
    "        \n"
   ]
  },
  {
   "cell_type": "code",
   "execution_count": 59,
   "metadata": {},
   "outputs": [
    {
     "name": "stdout",
     "output_type": "stream",
     "text": [
      "Engineer Id=1\tName=Anand\tsalary=40000\tproject=AI\t\tBE\tML\n"
     ]
    }
   ],
   "source": [
    "eng1= Engineer(1,\"Anand\",40000,\"BE\",\"ML\",\"AI\")\n",
    "print(eng1.info())"
   ]
  },
  {
   "cell_type": "code",
   "execution_count": null,
   "metadata": {},
   "outputs": [],
   "source": []
  }
 ],
 "metadata": {
  "kernelspec": {
   "display_name": "Python 3",
   "language": "python",
   "name": "python3"
  },
  "language_info": {
   "codemirror_mode": {
    "name": "ipython",
    "version": 3
   },
   "file_extension": ".py",
   "mimetype": "text/x-python",
   "name": "python",
   "nbconvert_exporter": "python",
   "pygments_lexer": "ipython3",
   "version": "3.12.1"
  }
 },
 "nbformat": 4,
 "nbformat_minor": 2
}
