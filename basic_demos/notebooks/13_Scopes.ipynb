{
 "cells": [
  {
   "cell_type": "markdown",
   "metadata": {},
   "source": [
    "## Scopes\n",
    "\n",
    "* Several OO language (including C++ style) have concept of scopes inside class\n",
    "* common scopes include\n",
    "    * private... accessible only inside class methods\n",
    "    * public .... accessible anywhere with object reference\n",
    "    * protected ... accessible by class and subclass method but not outside\n",
    "    * internal/package ... accessible by methods within same module.\n",
    "\n",
    "\n",
    "## Python doesn't have scope rule.\n",
    "\n",
    "* Python doesn't support any scope\n",
    "* All members of a class/module are by default and always **public**\n",
    "* you can access/modify them from anywhere as long as you have the object available.\n",
    "\n",
    "\n",
    "## Conventional Scope\n",
    "\n",
    "* because python doesn't support scope, pyhton community has come up with conventional scopes.\n",
    "* there are two approaches\n",
    "\n",
    "\n",
    "### private like members\n",
    "\n",
    "* if you want a memeber not be accessible from outside the class you should add an underscore prefix to the name\n",
    "* Remember, it doesn't make it private.\n",
    "    * it tells user to treat it as private.\n"
   ]
  },
  {
   "cell_type": "code",
   "execution_count": 1,
   "metadata": {},
   "outputs": [],
   "source": [
    "class Employee:\n",
    "    def __init__(self,name, id, password):\n",
    "        self.name = name # its ok to access from outside\n",
    "        self.id = id # its ok to access from outside\n",
    "        self._password = password # please don't access from outside directly\n",
    "        \n",
    "    def authenticate(self, challenge):\n",
    "        return self._password==challenge\n",
    "    "
   ]
  },
  {
   "cell_type": "code",
   "execution_count": 2,
   "metadata": {},
   "outputs": [
    {
     "name": "stdout",
     "output_type": "stream",
     "text": [
      "Vivek\n",
      "1\n",
      "p@ss\n"
     ]
    }
   ],
   "source": [
    "e=Employee('Vivek',1,'p@ss')\n",
    "\n",
    "print(e.name) # ok\n",
    "print(e.id) # ok\n",
    "\n",
    "print(e._password) # shouldn't access directly. But it works"
   ]
  },
  {
   "cell_type": "markdown",
   "metadata": {},
   "source": [
    "### A More secured variable\n",
    "\n",
    "* python also supports another convention that makes it slightly less easy to access members outside\n",
    "* we can do that by prefixing memeber with double underscore."
   ]
  },
  {
   "cell_type": "code",
   "execution_count": 3,
   "metadata": {},
   "outputs": [],
   "source": [
    "class Employee:\n",
    "    def __init__(self,name, id, password):\n",
    "        self.name = name # its ok to access from outside\n",
    "        self.id = id # its ok to access from outside\n",
    "        self.__password = password # please don't access from outside directly\n",
    "        \n",
    "    def authenticate(self, challenge):\n",
    "        return self.__password==challenge\n",
    "    "
   ]
  },
  {
   "cell_type": "markdown",
   "metadata": {},
   "source": [
    "### Lets try to access it"
   ]
  },
  {
   "cell_type": "code",
   "execution_count": 4,
   "metadata": {},
   "outputs": [
    {
     "data": {
      "text/plain": [
       "False"
      ]
     },
     "execution_count": 4,
     "metadata": {},
     "output_type": "execute_result"
    }
   ],
   "source": [
    "e=Employee('Vivek',1,'p@ss')\n",
    "\n",
    "e.authenticate('wrong-password')"
   ]
  },
  {
   "cell_type": "code",
   "execution_count": 5,
   "metadata": {},
   "outputs": [
    {
     "name": "stdout",
     "output_type": "stream",
     "text": [
      "new password\n"
     ]
    }
   ],
   "source": [
    "e.__password=\"new password\"\n",
    "print(e.__password)"
   ]
  },
  {
   "cell_type": "markdown",
   "metadata": {},
   "source": [
    "### Looks like it changed easily. Let us try to authenicate using new password"
   ]
  },
  {
   "cell_type": "code",
   "execution_count": 6,
   "metadata": {},
   "outputs": [
    {
     "data": {
      "text/plain": [
       "False"
      ]
     },
     "execution_count": 6,
     "metadata": {},
     "output_type": "execute_result"
    }
   ],
   "source": [
    "e.authenticate(\"new password\")"
   ]
  },
  {
   "cell_type": "code",
   "execution_count": 7,
   "metadata": {},
   "outputs": [
    {
     "data": {
      "text/plain": [
       "True"
      ]
     },
     "execution_count": 7,
     "metadata": {},
     "output_type": "execute_result"
    }
   ],
   "source": [
    "e.authenticate(\"p@ss\")"
   ]
  },
  {
   "cell_type": "markdown",
   "metadata": {},
   "source": [
    "### when we changed it how is it not accepting the change?\n",
    "\n",
    "### How double underscore works\n",
    "\n",
    "* python changes double underscore value inside the code internally\n",
    "* it prefixes a **_ClassName** before it."
   ]
  },
  {
   "cell_type": "code",
   "execution_count": 8,
   "metadata": {},
   "outputs": [],
   "source": [
    "class Employee:\n",
    "    def __init__(self,name, id, password):\n",
    "        self.name = name # stored as self.name = name\n",
    "        self._id = id # stored as self._id=id\n",
    "        self.__password = password # stored as self._Employee__password=password\n",
    "        \n",
    "    def authenticate(self, challenge):\n",
    "        return self.__password==challenge #changed to self._Employee__password==challenge"
   ]
  },
  {
   "cell_type": "code",
   "execution_count": 9,
   "metadata": {},
   "outputs": [],
   "source": [
    "def user_dir(obj):\n",
    "    return [property for property in dir(obj) if not property.endswith(\"__\")]\n"
   ]
  },
  {
   "cell_type": "code",
   "execution_count": 10,
   "metadata": {},
   "outputs": [
    {
     "data": {
      "text/plain": [
       "['_Employee__password', '_id', 'authenticate', 'name']"
      ]
     },
     "execution_count": 10,
     "metadata": {},
     "output_type": "execute_result"
    }
   ],
   "source": [
    "e=Employee('Vivek',1,'p@ass')\n",
    "user_dir(e)"
   ]
  },
  {
   "cell_type": "markdown",
   "metadata": {},
   "source": [
    "### When we change from outside, it creates a new property\n",
    "\n"
   ]
  },
  {
   "cell_type": "code",
   "execution_count": 11,
   "metadata": {},
   "outputs": [
    {
     "data": {
      "text/plain": [
       "['_Employee__password', '__password', '_id', 'authenticate', 'name']"
      ]
     },
     "execution_count": 11,
     "metadata": {},
     "output_type": "execute_result"
    }
   ],
   "source": [
    "e.__password=\"new password\"\n",
    "\n",
    "user_dir(e)"
   ]
  },
  {
   "cell_type": "markdown",
   "metadata": {},
   "source": [
    "#### This value is not used anywhere in our code"
   ]
  },
  {
   "cell_type": "code",
   "execution_count": null,
   "metadata": {},
   "outputs": [],
   "source": []
  }
 ],
 "metadata": {
  "kernelspec": {
   "display_name": "Python 3",
   "language": "python",
   "name": "python3"
  },
  "language_info": {
   "codemirror_mode": {
    "name": "ipython",
    "version": 3
   },
   "file_extension": ".py",
   "mimetype": "text/x-python",
   "name": "python",
   "nbconvert_exporter": "python",
   "pygments_lexer": "ipython3",
   "version": "3.12.1"
  }
 },
 "nbformat": 4,
 "nbformat_minor": 2
}
