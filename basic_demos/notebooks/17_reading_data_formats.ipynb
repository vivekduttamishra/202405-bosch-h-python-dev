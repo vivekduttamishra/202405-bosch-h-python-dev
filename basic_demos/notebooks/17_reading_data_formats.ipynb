{
 "cells": [
  {
   "cell_type": "markdown",
   "metadata": {},
   "source": [
    "## Different Data Formats\n",
    "\n",
    "* we store data in different file formats and data formats like\n",
    "    * CSV (comma separated values)\n",
    "    * JSON \n",
    "    * XML\n",
    "    * ...\n",
    "\n",
    "* while we can read these files directly and using open and read it may be tiresome.\n",
    "\n",
    "* we have dedicated modules to access and modify data in these formats\n",
    "\n",
    "* for most of them we need to import a module and work accordingly.\n",
    "\n",
    "\n",
    "### CSV file.\n",
    "\n",
    "* CSV file typically have records where fields are separated by commas\n",
    "* first row represent field names\n",
    "* each row is one record\n",
    "* fields of each recrod is separated by commas\n",
    "\n",
    "\n",
    "#### We can read it directly using open and read\n",
    "* it is just a normal file"
   ]
  },
  {
   "cell_type": "code",
   "execution_count": 1,
   "metadata": {},
   "outputs": [],
   "source": [
    "def read_file(filename):\n",
    "    with open(filename, 'r') as f:\n",
    "        return f.read()"
   ]
  },
  {
   "cell_type": "code",
   "execution_count": 4,
   "metadata": {},
   "outputs": [
    {
     "data": {
      "text/plain": [
       "'Title, Author, Price, Rating\\nThe Accursed God, Vivek Dutta Mishra, 399, 4.5\\nKane and Abel, Jeffrey Archer, 499, 4.7\\nBrethren, John Grisham, 300, 4.1\\nManas, Vivek Dutta Mishra, 299,4.7'"
      ]
     },
     "execution_count": 4,
     "metadata": {},
     "output_type": "execute_result"
    }
   ],
   "source": [
    "data = read_file('book.csv')\n",
    "data"
   ]
  },
  {
   "cell_type": "markdown",
   "metadata": {},
   "source": [
    "### We would prefer to get each record and field separately"
   ]
  },
  {
   "cell_type": "code",
   "execution_count": 5,
   "metadata": {},
   "outputs": [],
   "source": [
    "def read_csv(file):\n",
    "    header=None\n",
    "    records=[]\n",
    "    with open(file, 'r') as f:\n",
    "        line = f.readline() #read header line\n",
    "        header = line.strip().split(',')\n",
    "        while True:\n",
    "            line=f.readline() \n",
    "            if not line:\n",
    "                break\n",
    "            else:\n",
    "                record = line.strip().split(',')\n",
    "                records.append(record)\n",
    "\n",
    "    return records,header"
   ]
  },
  {
   "cell_type": "code",
   "execution_count": 7,
   "metadata": {},
   "outputs": [
    {
     "name": "stdout",
     "output_type": "stream",
     "text": [
      "['Title', ' Author', ' Price', ' Rating']\n",
      "['The Accursed God', ' Vivek Dutta Mishra', ' 399', ' 4.5']\n",
      "['Kane and Abel', ' Jeffrey Archer', ' 499', ' 4.7']\n",
      "['Brethren', ' John Grisham', ' 300', ' 4.1']\n",
      "['Manas', ' Vivek Dutta Mishra', ' 299', '4.7']\n"
     ]
    }
   ],
   "source": [
    "records,header= read_csv('book.csv')\n",
    "\n",
    "print(header)\n",
    "for record in records:\n",
    "    print(record)"
   ]
  },
  {
   "cell_type": "markdown",
   "metadata": {},
   "source": [
    "### read record as dictionary"
   ]
  },
  {
   "cell_type": "code",
   "execution_count": 11,
   "metadata": {},
   "outputs": [],
   "source": [
    "def read_csv_dict(filename):\n",
    "    with open(filename) as f:\n",
    "        columns=[ c.strip() for c in  f.readline().strip().split(',')]\n",
    "        records=[]\n",
    "        while True:\n",
    "            data = f.readline()\n",
    "            if not data:\n",
    "                break\n",
    "            fields= data.strip().split(',')\n",
    "            record={}\n",
    "            for i in range(len(columns)):\n",
    "                record[columns[i]]=fields[i]\n",
    "            records.append(record)\n",
    "\n",
    "    return records"
   ]
  },
  {
   "cell_type": "code",
   "execution_count": 12,
   "metadata": {},
   "outputs": [
    {
     "name": "stdout",
     "output_type": "stream",
     "text": [
      "Title=The Accursed God\n",
      "Author= Vivek Dutta Mishra\n",
      "Price= 399\n",
      "Rating= 4.5\n",
      "\n",
      "Title=Kane and Abel\n",
      "Author= Jeffrey Archer\n",
      "Price= 499\n",
      "Rating= 4.7\n",
      "\n",
      "Title=Brethren\n",
      "Author= John Grisham\n",
      "Price= 300\n",
      "Rating= 4.1\n",
      "\n",
      "Title=Manas\n",
      "Author= Vivek Dutta Mishra\n",
      "Price= 299\n",
      "Rating=4.7\n",
      "\n"
     ]
    }
   ],
   "source": [
    "books= read_csv_dict('book.csv')\n",
    "\n",
    "for book in books:\n",
    "    for field,value in book.items():\n",
    "        print(f'{field}={value}')\n",
    "    print()"
   ]
  },
  {
   "cell_type": "markdown",
   "metadata": {},
   "source": [
    "### we can make it easier by using a module"
   ]
  },
  {
   "cell_type": "code",
   "execution_count": 13,
   "metadata": {},
   "outputs": [],
   "source": [
    "import csv"
   ]
  },
  {
   "cell_type": "code",
   "execution_count": 17,
   "metadata": {},
   "outputs": [],
   "source": [
    "def read_csv2(file):\n",
    "    records=[]\n",
    "    header=None\n",
    "    with open('book.csv') as f:\n",
    "        reader=csv.reader(f)\n",
    "        for row in reader:\n",
    "            if header==None:\n",
    "                header=row\n",
    "            else:\n",
    "                records.append(row)\n",
    "\n",
    "    return records,header"
   ]
  },
  {
   "cell_type": "code",
   "execution_count": 18,
   "metadata": {},
   "outputs": [
    {
     "name": "stdout",
     "output_type": "stream",
     "text": [
      "['Title', ' Author', ' Price', ' Rating']\n",
      "['The Accursed God', ' Vivek Dutta Mishra', ' 399', ' 4.5']\n",
      "['Kane and Abel', ' Jeffrey Archer', ' 499', ' 4.7']\n",
      "['Brethren', ' John Grisham', ' 300', ' 4.1']\n",
      "['Manas', ' Vivek Dutta Mishra', ' 299', '4.7']\n"
     ]
    }
   ],
   "source": [
    "records,header=read_csv2('books.csv')\n",
    "\n",
    "print(header)\n",
    "\n",
    "for record in records:\n",
    "    print(record)"
   ]
  },
  {
   "cell_type": "code",
   "execution_count": 19,
   "metadata": {},
   "outputs": [],
   "source": [
    "def read_csv_dict2(file):\n",
    "    with open(file) as f:\n",
    "        header=[c.strip() for c in f.readline().split(',')]\n",
    "\n",
    "        reader=csv.DictReader(f, header)\n",
    "        records=[]\n",
    "        for row in reader:\n",
    "            records.append(row)\n",
    "\n",
    "    return records\n",
    "\n"
   ]
  },
  {
   "cell_type": "code",
   "execution_count": 21,
   "metadata": {},
   "outputs": [
    {
     "name": "stdout",
     "output_type": "stream",
     "text": [
      "{'Title': 'The Accursed God', 'Author': ' Vivek Dutta Mishra', 'Price': ' 399', 'Rating': ' 4.5'}\n",
      "{'Title': 'Kane and Abel', 'Author': ' Jeffrey Archer', 'Price': ' 499', 'Rating': ' 4.7'}\n",
      "{'Title': 'Brethren', 'Author': ' John Grisham', 'Price': ' 300', 'Rating': ' 4.1'}\n",
      "{'Title': 'Manas', 'Author': ' Vivek Dutta Mishra', 'Price': ' 299', 'Rating': '4.7'}\n"
     ]
    }
   ],
   "source": [
    "books = read_csv_dict2('book.csv')\n",
    "\n",
    "for book in books:\n",
    "    print(book)"
   ]
  },
  {
   "cell_type": "markdown",
   "metadata": {},
   "source": [
    "## JSON data format\n",
    "\n",
    "* one of the most popular data formats \n",
    "* extensively used for \n",
    "    * transfering data in services\n",
    "\n",
    "* used with JS and it is native to JavaScript\n",
    "\n",
    "* AS format very similar pythion codes.\n",
    "\n",
    "\n",
    "### JSON format\n",
    "\n",
    "\n",
    "1. we represent an object (record) as a key value pair just like python dictionary\n",
    "\n",
    "\n",
    "```json\n",
    "{\n",
    "\"title\":\"The Accursed God\",\n",
    "\"author\":\"Vivek Dutta Mishra\",\n",
    "\"price\": 299\n",
    "}\n",
    "```\n",
    "\n",
    "2. we represent a list using []\n",
    "\n",
    "```json\n",
    "[ \n",
    "    {\n",
    "        \"title\":\"The Accursed God\",\n",
    "        \"author\":\"Vivek Dutta Mishra\",\n",
    "        \"price\": 299\n",
    "    },\n",
    "    {\n",
    "        \"title\":\"Manas\",\n",
    "        \"author\":\"Vivek Dutta Mishra\",\n",
    "        \"price\": 199\n",
    "    }\n",
    "]\n",
    "```\n",
    "\n",
    "#### To work with json we use json module\n",
    "    "
   ]
  },
  {
   "cell_type": "code",
   "execution_count": 22,
   "metadata": {},
   "outputs": [],
   "source": [
    "import json"
   ]
  },
  {
   "cell_type": "markdown",
   "metadata": {},
   "source": [
    "### Important JSON functions\n",
    "\n",
    "* we need functionalities to convert\n",
    "    * python data to json\n",
    "    * json data to python\n",
    "\n",
    "\n",
    "#### 1. convert json to python:  load or loads\n",
    "\n",
    "* load can load a json file and convert it to python objects\n",
    "    * list\n",
    "    * dict.\n",
    "\n",
    "* loads is similar to load except it works with json string that you already have.\n",
    "\n",
    "#### 2 convert python objects to json:  dump and dumps\n",
    "\n",
    "* dump will save python data (dict and list combo) into a file\n",
    "* dumps will create a json string from python data."
   ]
  },
  {
   "cell_type": "code",
   "execution_count": 24,
   "metadata": {},
   "outputs": [],
   "source": [
    "#dir(json)"
   ]
  },
  {
   "cell_type": "markdown",
   "metadata": {},
   "source": [
    "### Converting Python Objects to json\n",
    "\n",
    "* by default it supports similar sequences like\n",
    "    * dict to represent object\n",
    "    * list/tuple to represent collection"
   ]
  },
  {
   "cell_type": "markdown",
   "metadata": {},
   "source": [
    "#### Here we have a list of dict representing books\n",
    "\n",
    "* this is a python object"
   ]
  },
  {
   "cell_type": "code",
   "execution_count": 44,
   "metadata": {},
   "outputs": [],
   "source": [
    "def print_books(books):\n",
    "    for field in books[0].keys():\n",
    "        print(field.ljust(20),end=\"\")\n",
    "    print()\n",
    "    print('-'*80)\n",
    "    for book in books:\n",
    "        for value in book.values():\n",
    "            print(str(value).ljust(20),end=\"\")\n",
    "        print()\n",
    "\n",
    "\n",
    "\n"
   ]
  },
  {
   "cell_type": "code",
   "execution_count": 45,
   "metadata": {},
   "outputs": [
    {
     "name": "stdout",
     "output_type": "stream",
     "text": [
      "Title               Author              Price               Rating              \n",
      "--------------------------------------------------------------------------------\n",
      "The Accursed God     Vivek Dutta Mishra  399                 4.5                \n",
      "Kane and Abel        Jeffrey Archer      499                 4.7                \n",
      "Brethren             John Grisham        300                 4.1                \n",
      "Manas                Vivek Dutta Mishra  299                4.7                 \n"
     ]
    }
   ],
   "source": [
    "books= read_csv_dict('book.csv')\n",
    "print_books(books)"
   ]
  },
  {
   "cell_type": "markdown",
   "metadata": {},
   "source": [
    "#### we can convert it to json string"
   ]
  },
  {
   "cell_type": "code",
   "execution_count": 36,
   "metadata": {},
   "outputs": [],
   "source": [
    "books_json = json.dumps(books)"
   ]
  },
  {
   "cell_type": "code",
   "execution_count": 40,
   "metadata": {},
   "outputs": [
    {
     "name": "stdout",
     "output_type": "stream",
     "text": [
      "[{\"Title\": \"The Accursed God\", \"Author\": \" Vivek Dutta Mishra\", \"Price\": \" 399\", \"Rating\": \" 4.5\"}, {\"Title\": \"Kane and Abel\", \"Author\": \" Jeffrey Archer\", \"Price\": \" 499\", \"Rating\": \" 4.7\"}, {\"Title\": \"Brethren\", \"Author\": \" John Grisham\", \"Price\": \" 300\", \"Rating\": \" 4.1\"}, {\"Title\": \"Manas\", \"Author\": \" Vivek Dutta Mishra\", \"Price\": \" 299\", \"Rating\": \"4.7\"}]\n",
      "<class 'str'>\n"
     ]
    }
   ],
   "source": [
    "print(books_json)\n",
    "print(type(books_json))"
   ]
  },
  {
   "cell_type": "markdown",
   "metadata": {},
   "source": [
    "### we can also save it to a file using json.dump\n",
    "\n",
    "* note json.dump is for python object (list,dict) and not for string\n",
    "* you can save string json direction using open/write\n",
    "\n"
   ]
  },
  {
   "cell_type": "code",
   "execution_count": 42,
   "metadata": {},
   "outputs": [],
   "source": [
    "with open('books.json', 'w') as f:\n",
    "    json.dump(books,f)"
   ]
  },
  {
   "cell_type": "markdown",
   "metadata": {},
   "source": [
    "#### we can save the data in proper indented format using both dump and dumps\n"
   ]
  },
  {
   "cell_type": "code",
   "execution_count": 43,
   "metadata": {},
   "outputs": [],
   "source": [
    "with open('books.json',\"w\") as f:\n",
    "    json.dump(books,f,indent=4)"
   ]
  },
  {
   "cell_type": "markdown",
   "metadata": {},
   "source": [
    "### We can also read the data from a json file as python objects"
   ]
  },
  {
   "cell_type": "code",
   "execution_count": 46,
   "metadata": {},
   "outputs": [
    {
     "name": "stdout",
     "output_type": "stream",
     "text": [
      "Title               Author              Price               Rating              \n",
      "--------------------------------------------------------------------------------\n",
      "The Accursed God     Vivek Dutta Mishra  399                 4.5                \n",
      "Kane and Abel        Jeffrey Archer      499                 4.7                \n",
      "Brethren             John Grisham        300                 4.1                \n",
      "Manas                Vivek Dutta Mishra  299                4.7                 \n"
     ]
    }
   ],
   "source": [
    "with open('books.json') as f:\n",
    "    new_books=json.load(f)\n",
    "\n",
    "\n",
    "print_books(new_books)\n"
   ]
  },
  {
   "cell_type": "markdown",
   "metadata": {},
   "source": [
    "### json module doesn't support standard objects from user defined classes\n",
    "\n",
    "* we need to define encoders."
   ]
  },
  {
   "cell_type": "code",
   "execution_count": 53,
   "metadata": {},
   "outputs": [],
   "source": [
    "class Book:\n",
    "    def __init__(self,title,author,price,rating):\n",
    "        self.title=title\n",
    "        self.author=author\n",
    "        self.price=price\n",
    "        self.rating=rating\n",
    "\n",
    "def print_books_list(books):\n",
    "    columns=[\"Title\",\"Author\",\"Price\",\"Rating\"]\n",
    "    for column in columns:\n",
    "        print(column.ljust(25),end=\"|\")\n",
    "    print()\n",
    "    print('-'*104)\n",
    "\n",
    "    for book in books:\n",
    "        print(f'{book.title.ljust(25)}|{book.author.ljust(25)}|{str(book.price).rjust(25)}|{str(book.rating).ljust(25)}|')\n",
    "    \n",
    "    print('-'*105)"
   ]
  },
  {
   "cell_type": "code",
   "execution_count": 54,
   "metadata": {},
   "outputs": [],
   "source": [
    "books=[\n",
    "    Book(\"The Accursed God\",\"Vivek Dutta Mishra\",299,4.6),\n",
    "    Book(\"Manas\",\"Vivek Dutta Mishra\",199,4.7),\n",
    "    Book(\"Rashmirathi\",\"Ramdhari Singh Dinkar\",99,4.7),\n",
    "]"
   ]
  },
  {
   "cell_type": "code",
   "execution_count": 55,
   "metadata": {},
   "outputs": [
    {
     "name": "stdout",
     "output_type": "stream",
     "text": [
      "Title                    |Author                   |Price                    |Rating                   |\n",
      "--------------------------------------------------------------------------------------------------------\n",
      "The Accursed God         |Vivek Dutta Mishra       |                      299|4.6                      |\n",
      "Manas                    |Vivek Dutta Mishra       |                      199|4.7                      |\n",
      "Rashmirathi              |Ramdhari Singh Dinkar    |                       99|4.7                      |\n",
      "---------------------------------------------------------------------------------------------------------\n"
     ]
    }
   ],
   "source": [
    "print_books_list(books)"
   ]
  },
  {
   "cell_type": "markdown",
   "metadata": {},
   "source": [
    "### We can save this record using json.dump/json.dumps"
   ]
  },
  {
   "cell_type": "code",
   "execution_count": 56,
   "metadata": {},
   "outputs": [
    {
     "ename": "TypeError",
     "evalue": "Object of type Book is not JSON serializable",
     "output_type": "error",
     "traceback": [
      "\u001b[1;31m---------------------------------------------------------------------------\u001b[0m",
      "\u001b[1;31mTypeError\u001b[0m                                 Traceback (most recent call last)",
      "Cell \u001b[1;32mIn[56], line 1\u001b[0m\n\u001b[1;32m----> 1\u001b[0m \u001b[43mjson\u001b[49m\u001b[38;5;241;43m.\u001b[39;49m\u001b[43mdumps\u001b[49m\u001b[43m(\u001b[49m\u001b[43mbooks\u001b[49m\u001b[43m)\u001b[49m\n",
      "File \u001b[1;32mc:\\Python\\Python312\\Lib\\json\\__init__.py:231\u001b[0m, in \u001b[0;36mdumps\u001b[1;34m(obj, skipkeys, ensure_ascii, check_circular, allow_nan, cls, indent, separators, default, sort_keys, **kw)\u001b[0m\n\u001b[0;32m    226\u001b[0m \u001b[38;5;66;03m# cached encoder\u001b[39;00m\n\u001b[0;32m    227\u001b[0m \u001b[38;5;28;01mif\u001b[39;00m (\u001b[38;5;129;01mnot\u001b[39;00m skipkeys \u001b[38;5;129;01mand\u001b[39;00m ensure_ascii \u001b[38;5;129;01mand\u001b[39;00m\n\u001b[0;32m    228\u001b[0m     check_circular \u001b[38;5;129;01mand\u001b[39;00m allow_nan \u001b[38;5;129;01mand\u001b[39;00m\n\u001b[0;32m    229\u001b[0m     \u001b[38;5;28mcls\u001b[39m \u001b[38;5;129;01mis\u001b[39;00m \u001b[38;5;28;01mNone\u001b[39;00m \u001b[38;5;129;01mand\u001b[39;00m indent \u001b[38;5;129;01mis\u001b[39;00m \u001b[38;5;28;01mNone\u001b[39;00m \u001b[38;5;129;01mand\u001b[39;00m separators \u001b[38;5;129;01mis\u001b[39;00m \u001b[38;5;28;01mNone\u001b[39;00m \u001b[38;5;129;01mand\u001b[39;00m\n\u001b[0;32m    230\u001b[0m     default \u001b[38;5;129;01mis\u001b[39;00m \u001b[38;5;28;01mNone\u001b[39;00m \u001b[38;5;129;01mand\u001b[39;00m \u001b[38;5;129;01mnot\u001b[39;00m sort_keys \u001b[38;5;129;01mand\u001b[39;00m \u001b[38;5;129;01mnot\u001b[39;00m kw):\n\u001b[1;32m--> 231\u001b[0m     \u001b[38;5;28;01mreturn\u001b[39;00m \u001b[43m_default_encoder\u001b[49m\u001b[38;5;241;43m.\u001b[39;49m\u001b[43mencode\u001b[49m\u001b[43m(\u001b[49m\u001b[43mobj\u001b[49m\u001b[43m)\u001b[49m\n\u001b[0;32m    232\u001b[0m \u001b[38;5;28;01mif\u001b[39;00m \u001b[38;5;28mcls\u001b[39m \u001b[38;5;129;01mis\u001b[39;00m \u001b[38;5;28;01mNone\u001b[39;00m:\n\u001b[0;32m    233\u001b[0m     \u001b[38;5;28mcls\u001b[39m \u001b[38;5;241m=\u001b[39m JSONEncoder\n",
      "File \u001b[1;32mc:\\Python\\Python312\\Lib\\json\\encoder.py:200\u001b[0m, in \u001b[0;36mJSONEncoder.encode\u001b[1;34m(self, o)\u001b[0m\n\u001b[0;32m    196\u001b[0m         \u001b[38;5;28;01mreturn\u001b[39;00m encode_basestring(o)\n\u001b[0;32m    197\u001b[0m \u001b[38;5;66;03m# This doesn't pass the iterator directly to ''.join() because the\u001b[39;00m\n\u001b[0;32m    198\u001b[0m \u001b[38;5;66;03m# exceptions aren't as detailed.  The list call should be roughly\u001b[39;00m\n\u001b[0;32m    199\u001b[0m \u001b[38;5;66;03m# equivalent to the PySequence_Fast that ''.join() would do.\u001b[39;00m\n\u001b[1;32m--> 200\u001b[0m chunks \u001b[38;5;241m=\u001b[39m \u001b[38;5;28;43mself\u001b[39;49m\u001b[38;5;241;43m.\u001b[39;49m\u001b[43miterencode\u001b[49m\u001b[43m(\u001b[49m\u001b[43mo\u001b[49m\u001b[43m,\u001b[49m\u001b[43m \u001b[49m\u001b[43m_one_shot\u001b[49m\u001b[38;5;241;43m=\u001b[39;49m\u001b[38;5;28;43;01mTrue\u001b[39;49;00m\u001b[43m)\u001b[49m\n\u001b[0;32m    201\u001b[0m \u001b[38;5;28;01mif\u001b[39;00m \u001b[38;5;129;01mnot\u001b[39;00m \u001b[38;5;28misinstance\u001b[39m(chunks, (\u001b[38;5;28mlist\u001b[39m, \u001b[38;5;28mtuple\u001b[39m)):\n\u001b[0;32m    202\u001b[0m     chunks \u001b[38;5;241m=\u001b[39m \u001b[38;5;28mlist\u001b[39m(chunks)\n",
      "File \u001b[1;32mc:\\Python\\Python312\\Lib\\json\\encoder.py:258\u001b[0m, in \u001b[0;36mJSONEncoder.iterencode\u001b[1;34m(self, o, _one_shot)\u001b[0m\n\u001b[0;32m    253\u001b[0m \u001b[38;5;28;01melse\u001b[39;00m:\n\u001b[0;32m    254\u001b[0m     _iterencode \u001b[38;5;241m=\u001b[39m _make_iterencode(\n\u001b[0;32m    255\u001b[0m         markers, \u001b[38;5;28mself\u001b[39m\u001b[38;5;241m.\u001b[39mdefault, _encoder, \u001b[38;5;28mself\u001b[39m\u001b[38;5;241m.\u001b[39mindent, floatstr,\n\u001b[0;32m    256\u001b[0m         \u001b[38;5;28mself\u001b[39m\u001b[38;5;241m.\u001b[39mkey_separator, \u001b[38;5;28mself\u001b[39m\u001b[38;5;241m.\u001b[39mitem_separator, \u001b[38;5;28mself\u001b[39m\u001b[38;5;241m.\u001b[39msort_keys,\n\u001b[0;32m    257\u001b[0m         \u001b[38;5;28mself\u001b[39m\u001b[38;5;241m.\u001b[39mskipkeys, _one_shot)\n\u001b[1;32m--> 258\u001b[0m \u001b[38;5;28;01mreturn\u001b[39;00m \u001b[43m_iterencode\u001b[49m\u001b[43m(\u001b[49m\u001b[43mo\u001b[49m\u001b[43m,\u001b[49m\u001b[43m \u001b[49m\u001b[38;5;241;43m0\u001b[39;49m\u001b[43m)\u001b[49m\n",
      "File \u001b[1;32mc:\\Python\\Python312\\Lib\\json\\encoder.py:180\u001b[0m, in \u001b[0;36mJSONEncoder.default\u001b[1;34m(self, o)\u001b[0m\n\u001b[0;32m    161\u001b[0m \u001b[38;5;28;01mdef\u001b[39;00m \u001b[38;5;21mdefault\u001b[39m(\u001b[38;5;28mself\u001b[39m, o):\n\u001b[0;32m    162\u001b[0m \u001b[38;5;250m    \u001b[39m\u001b[38;5;124;03m\"\"\"Implement this method in a subclass such that it returns\u001b[39;00m\n\u001b[0;32m    163\u001b[0m \u001b[38;5;124;03m    a serializable object for ``o``, or calls the base implementation\u001b[39;00m\n\u001b[0;32m    164\u001b[0m \u001b[38;5;124;03m    (to raise a ``TypeError``).\u001b[39;00m\n\u001b[1;32m   (...)\u001b[0m\n\u001b[0;32m    178\u001b[0m \n\u001b[0;32m    179\u001b[0m \u001b[38;5;124;03m    \"\"\"\u001b[39;00m\n\u001b[1;32m--> 180\u001b[0m     \u001b[38;5;28;01mraise\u001b[39;00m \u001b[38;5;167;01mTypeError\u001b[39;00m(\u001b[38;5;124mf\u001b[39m\u001b[38;5;124m'\u001b[39m\u001b[38;5;124mObject of type \u001b[39m\u001b[38;5;132;01m{\u001b[39;00mo\u001b[38;5;241m.\u001b[39m\u001b[38;5;18m__class__\u001b[39m\u001b[38;5;241m.\u001b[39m\u001b[38;5;18m__name__\u001b[39m\u001b[38;5;132;01m}\u001b[39;00m\u001b[38;5;124m \u001b[39m\u001b[38;5;124m'\u001b[39m\n\u001b[0;32m    181\u001b[0m                     \u001b[38;5;124mf\u001b[39m\u001b[38;5;124m'\u001b[39m\u001b[38;5;124mis not JSON serializable\u001b[39m\u001b[38;5;124m'\u001b[39m)\n",
      "\u001b[1;31mTypeError\u001b[0m: Object of type Book is not JSON serializable"
     ]
    }
   ],
   "source": [
    "json.dumps(books)"
   ]
  },
  {
   "cell_type": "markdown",
   "metadata": {},
   "source": [
    "#### Every Pyhon Object has a buildint dictionary\n",
    "\n",
    "* we can use it to convert python object to json\n",
    "\n",
    "* we can use it to convert json to python object\n",
    "class BookEncoder(json.JSONEncoder):\n",
    "    def default(self,obj):"
   ]
  },
  {
   "cell_type": "code",
   "execution_count": 57,
   "metadata": {},
   "outputs": [
    {
     "name": "stdout",
     "output_type": "stream",
     "text": [
      "[\n",
      "   {\n",
      "      \"title\": \"The Accursed God\",\n",
      "      \"author\": \"Vivek Dutta Mishra\",\n",
      "      \"price\": 299,\n",
      "      \"rating\": 4.6\n",
      "   },\n",
      "   {\n",
      "      \"title\": \"Manas\",\n",
      "      \"author\": \"Vivek Dutta Mishra\",\n",
      "      \"price\": 199,\n",
      "      \"rating\": 4.7\n",
      "   },\n",
      "   {\n",
      "      \"title\": \"Rashmirathi\",\n",
      "      \"author\": \"Ramdhari Singh Dinkar\",\n",
      "      \"price\": 99,\n",
      "      \"rating\": 4.7\n",
      "   }\n",
      "]\n"
     ]
    }
   ],
   "source": [
    "books_dict = [book.__dict__ for book in books]\n",
    "\n",
    "books_json= json.dumps(books_dict, indent=3)\n",
    "\n",
    "print(books_json)"
   ]
  },
  {
   "cell_type": "code",
   "execution_count": null,
   "metadata": {},
   "outputs": [],
   "source": []
  }
 ],
 "metadata": {
  "kernelspec": {
   "display_name": "Python 3",
   "language": "python",
   "name": "python3"
  },
  "language_info": {
   "codemirror_mode": {
    "name": "ipython",
    "version": 3
   },
   "file_extension": ".py",
   "mimetype": "text/x-python",
   "name": "python",
   "nbconvert_exporter": "python",
   "pygments_lexer": "ipython3",
   "version": "3.12.1"
  }
 },
 "nbformat": 4,
 "nbformat_minor": 2
}
