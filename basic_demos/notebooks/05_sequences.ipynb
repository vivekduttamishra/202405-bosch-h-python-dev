{
 "cells": [
  {
   "cell_type": "markdown",
   "metadata": {},
   "source": [
    "# Mutable and Immutable Types\n",
    "\n",
    "* A python object may be\n",
    "    * mutable ---> can be modified after creation\n",
    "    * immutable a.k.a readonly --> can't be modified after it's creation\n",
    "\n",
    "\n",
    "* There are many common data types that are surprisingly immutable (they are often immutable in C style languages)\n",
    "    * int\n",
    "    * float\n",
    "    * str\n",
    "\n",
    "* You can't modify an immutable value\n",
    "\n",
    "### Does that mean I can't modify an int?"
   ]
  },
  {
   "cell_type": "code",
   "execution_count": 1,
   "metadata": {},
   "outputs": [
    {
     "name": "stdout",
     "output_type": "stream",
     "text": [
      "20\n",
      "21\n"
     ]
    }
   ],
   "source": [
    "x=20\n",
    "print(x)\n",
    "x+=1\n",
    "print(x)"
   ]
  },
  {
   "cell_type": "markdown",
   "metadata": {},
   "source": [
    "### Have we not modified x from 20 to 21?\n",
    "\n",
    "* NO\n",
    "* we didn't modify 20 to 21. \n",
    "    * 20 always remains 20\n",
    "* x was earlier refering to object 20\n",
    "    * x now refers to another  object 21\n",
    "    * object 20 never changes itself.\n",
    "\n",
    "\n",
    "#### How do we known int is not modified?\n",
    "\n",
    "### id()\n",
    "* python provides and **id()** \n",
    "* it can tell us the id of any given object\n",
    "* A reference doesn't have an id\n",
    "    * it reflects the id of the object it refers"
   ]
  },
  {
   "cell_type": "code",
   "execution_count": 2,
   "metadata": {},
   "outputs": [
    {
     "name": "stdout",
     "output_type": "stream",
     "text": [
      "140737345567768 140737345567768\n"
     ]
    }
   ],
   "source": [
    "x=20\n",
    "print(id(20), id(x))"
   ]
  },
  {
   "cell_type": "code",
   "execution_count": 3,
   "metadata": {},
   "outputs": [
    {
     "name": "stdout",
     "output_type": "stream",
     "text": [
      "140737345567768 140737345567800 140737345567800\n"
     ]
    }
   ],
   "source": [
    "x+=1\n",
    "\n",
    "print(id(20), id(21), id(x))"
   ]
  },
  {
   "cell_type": "markdown",
   "metadata": {},
   "source": [
    "#### If the object is immutable it may be modified in it's original place and id will not change"
   ]
  },
  {
   "cell_type": "markdown",
   "metadata": {},
   "source": [
    "\n",
    "\n",
    "# Python Sequences\n",
    "* A sequence in simplest term is a series of data that can be accessed one by one \n",
    "* They can either be\n",
    "    *  stored \n",
    "        * also known as collection\n",
    "    * computed\n",
    "        * eg: \n",
    "            * fiboncii series,\n",
    "            * random number series\n",
    "            * range()\n",
    "\n",
    "* Python defines several important sequences like:\n",
    "    * stored\n",
    "        * list\n",
    "        * tuple\n",
    "        * set\n",
    "        * dict\n",
    "        * str (yes! string is also a sequence of characters)\n",
    "    * computed\n",
    "        * range\n",
    "\n",
    "#### common operations in seqeunces\n",
    "\n",
    "A sequence generally support few common operations\n",
    "\n",
    "* for loop access\n",
    "* len() ... returns len of sequece\n",
    "* in ... checks if a value exists in a sequence\n",
    "\n",
    "\n",
    "* Different sequences may have different set of available options.\n",
    "\n",
    "\n",
    "## Some common Sequences\n",
    "\n",
    "* list --->  a dynamic, linear, indexed , mutable sequence\n",
    "* tuple -->  a immutable, linear, indexed sequence\n",
    "* set ---->  a dynamic, mutable, non-linear (non-indexe) sequence of unique values\n",
    "* dict --->  a dynamic mutable, non-linear sequence of key-value pair indexed with unique key\n",
    "\n",
    "\n",
    "\n",
    "### Let us write a test_sequence function to test common feaures of a sequence\n",
    "\n",
    "\n"
   ]
  },
  {
   "cell_type": "code",
   "execution_count": 8,
   "metadata": {},
   "outputs": [],
   "source": [
    "def test_sequence(seq, prompt=''):\n",
    "\n",
    "    print(f'{prompt}\\n{type(seq).__name__} [id={id(seq)}] [Length={len(seq)}] :',end=\" \")\n",
    "    for value in seq:\n",
    "        print(value, end=\" \")\n",
    "    print()\n"
   ]
  },
  {
   "cell_type": "markdown",
   "metadata": {},
   "source": [
    "## 1. list\n",
    "\n",
    "* list is a\n",
    "    * mutable (that can be modified.)\n",
    "    * linear\n",
    "    * indexed\n",
    "        * can be accessed/modified using indexer []\n",
    "    * supports\n",
    "        * in\n",
    "        * for\n",
    "        * len\n",
    "        * indexer\n",
    "            * read\n",
    "            * write\n",
    "            * negative\n",
    "            * range\n",
    "\n",
    "    * also supports\n",
    "        * append new item\n",
    "        * remove existing item\n",
    "\n",
    "* It can be comapared to an array of other languages\n",
    "    * unlike array of c-style langauges list is dynamic and expandable.\n",
    "\n",
    "\n",
    "### How to create a list?\n",
    "     \n",
    "* A list can be created by wrapping a set of values in square bracket"
   ]
  },
  {
   "cell_type": "code",
   "execution_count": 9,
   "metadata": {},
   "outputs": [],
   "source": [
    "numbers=[2,3,9,2,6] # list"
   ]
  },
  {
   "cell_type": "code",
   "execution_count": 10,
   "metadata": {},
   "outputs": [
    {
     "name": "stdout",
     "output_type": "stream",
     "text": [
      "\n",
      "list [id=2831864227008] [Length=5] : 2 3 9 2 6 \n"
     ]
    }
   ],
   "source": [
    "test_sequence(numbers)"
   ]
  },
  {
   "cell_type": "markdown",
   "metadata": {},
   "source": [
    "#### A list is immutable\n",
    "* It can be modified by\n",
    "1. appending new items\n",
    "2. modifying existing items\n",
    "3. removing exisiting items"
   ]
  },
  {
   "cell_type": "code",
   "execution_count": 11,
   "metadata": {},
   "outputs": [
    {
     "name": "stdout",
     "output_type": "stream",
     "text": [
      "\n",
      "list [id=2831864227008] [Length=7] : 2 3 9 2 6 10 4 \n"
     ]
    }
   ],
   "source": [
    "# append enw values\n",
    "numbers.append(10)\n",
    "numbers.append(4)\n",
    "test_sequence(numbers)"
   ]
  },
  {
   "cell_type": "code",
   "execution_count": 12,
   "metadata": {},
   "outputs": [
    {
     "name": "stdout",
     "output_type": "stream",
     "text": [
      "\n",
      "list [id=2831864227008] [Length=6] : 2 3 2 6 10 4 \n"
     ]
    }
   ],
   "source": [
    "#### remove items\n",
    "numbers.remove(9) #removes number 9\n",
    "test_sequence(numbers)"
   ]
  },
  {
   "cell_type": "code",
   "execution_count": 13,
   "metadata": {},
   "outputs": [
    {
     "name": "stdout",
     "output_type": "stream",
     "text": [
      "\n",
      "list [id=2831864227008] [Length=5] : 2 3 2 10 4 \n"
     ]
    }
   ],
   "source": [
    "### removing by position\n",
    "del numbers[3] #remove value from index 3 --->6\n",
    "test_sequence(numbers)"
   ]
  },
  {
   "cell_type": "code",
   "execution_count": 14,
   "metadata": {},
   "outputs": [
    {
     "name": "stdout",
     "output_type": "stream",
     "text": [
      "\n",
      "list [id=2831864227008] [Length=5] : 100 3 2 10 4 \n"
     ]
    }
   ],
   "source": [
    "### modify a list using indexer\n",
    "\n",
    "numbers[0]=100\n",
    "test_sequence(numbers)"
   ]
  },
  {
   "cell_type": "markdown",
   "metadata": {},
   "source": [
    "#### list also supports negative indexer\n",
    "\n",
    "* -1 ---> last item\n",
    "* -2  ---> second last item"
   ]
  },
  {
   "cell_type": "code",
   "execution_count": 15,
   "metadata": {},
   "outputs": [
    {
     "name": "stdout",
     "output_type": "stream",
     "text": [
      "6\n",
      "2\n"
     ]
    }
   ],
   "source": [
    "numbers=[2,3,9,2,6]\n",
    "\n",
    "print(numbers[-1]) #6\n",
    "print(numbers[-2]) #2"
   ]
  },
  {
   "cell_type": "markdown",
   "metadata": {},
   "source": [
    "### list throws error for invalid index\n"
   ]
  },
  {
   "cell_type": "code",
   "execution_count": 16,
   "metadata": {},
   "outputs": [
    {
     "ename": "IndexError",
     "evalue": "list index out of range",
     "output_type": "error",
     "traceback": [
      "\u001b[1;31m---------------------------------------------------------------------------\u001b[0m",
      "\u001b[1;31mIndexError\u001b[0m                                Traceback (most recent call last)",
      "Cell \u001b[1;32mIn[16], line 1\u001b[0m\n\u001b[1;32m----> 1\u001b[0m \u001b[43mnumbers\u001b[49m\u001b[43m[\u001b[49m\u001b[38;5;241;43m100\u001b[39;49m\u001b[43m]\u001b[49m\n",
      "\u001b[1;31mIndexError\u001b[0m: list index out of range"
     ]
    }
   ],
   "source": [
    "numbers[100]"
   ]
  },
  {
   "cell_type": "markdown",
   "metadata": {},
   "source": [
    "#### Slicer\n",
    "\n",
    "* A slicer is a syntax that helps us extract a portion of some sequence as a new sequence\n",
    "* It can have three part\n",
    "    * start\n",
    "    * end (exclusive)\n",
    "    * gap\n",
    "\n",
    "* these parts are wrapped in square bracket separated by colon"
   ]
  },
  {
   "cell_type": "code",
   "execution_count": 17,
   "metadata": {},
   "outputs": [],
   "source": [
    "numbers=[0,10,20,30,40,50,60,70,80,90,100,110,120,130,140,150,160,170,180,190,200]"
   ]
  },
  {
   "cell_type": "code",
   "execution_count": 18,
   "metadata": {},
   "outputs": [
    {
     "data": {
      "text/plain": [
       "[40, 60, 80, 100, 120, 140, 160]"
      ]
     },
     "execution_count": 18,
     "metadata": {},
     "output_type": "execute_result"
    }
   ],
   "source": [
    "numbers[4:17:2] #starting index 4 take every second item till (excluding) index 17"
   ]
  },
  {
   "cell_type": "code",
   "execution_count": 20,
   "metadata": {},
   "outputs": [
    {
     "name": "stdout",
     "output_type": "stream",
     "text": [
      "\n",
      "list [id=2831869976768] [Length=21] : 0 10 20 30 40 50 60 70 80 90 100 110 120 130 140 150 160 170 180 190 200 \n",
      "\n",
      "list [id=2831870292864] [Length=9] : 20 30 40 50 60 70 80 90 100 \n"
     ]
    }
   ],
   "source": [
    "test_sequence(numbers) #original sequence\n",
    "test_sequence( numbers[2:11]) #take all items from index 2 to index 10 (excluding index 11)"
   ]
  },
  {
   "cell_type": "code",
   "execution_count": 21,
   "metadata": {},
   "outputs": [
    {
     "name": "stdout",
     "output_type": "stream",
     "text": [
      "\n",
      "list [id=2831870280768] [Length=19] : 20 30 40 50 60 70 80 90 100 110 120 130 140 150 160 170 180 190 200 \n"
     ]
    }
   ],
   "source": [
    "test_sequence( numbers[2::]) # tak all items starting 2 till the last item (inclusive) length-1"
   ]
  },
  {
   "cell_type": "code",
   "execution_count": 22,
   "metadata": {},
   "outputs": [
    {
     "name": "stdout",
     "output_type": "stream",
     "text": [
      "\n",
      "list [id=2831870280768] [Length=7] : 0 10 20 30 40 50 60 \n"
     ]
    }
   ],
   "source": [
    "test_sequence(numbers[:7:]) # take all items starting from 0 uptil exlcuding 7"
   ]
  },
  {
   "cell_type": "code",
   "execution_count": 23,
   "metadata": {},
   "outputs": [
    {
     "name": "stdout",
     "output_type": "stream",
     "text": [
      "\n",
      "list [id=2831870289472] [Length=21] : 0 10 20 30 40 50 60 70 80 90 100 110 120 130 140 150 160 170 180 190 200 \n"
     ]
    }
   ],
   "source": [
    "test_sequence(numbers[::]) # take all items. duplicate"
   ]
  },
  {
   "cell_type": "code",
   "execution_count": 24,
   "metadata": {},
   "outputs": [
    {
     "name": "stdout",
     "output_type": "stream",
     "text": [
      "\n",
      "list [id=2831870270272] [Length=21] : 200 190 180 170 160 150 140 130 120 110 100 90 80 70 60 50 40 30 20 10 0 \n"
     ]
    }
   ],
   "source": [
    "test_sequence(numbers[::-1]) #reverse the list"
   ]
  },
  {
   "cell_type": "markdown",
   "metadata": {},
   "source": [
    "### Predict the output\n",
    "\n",
    "\n",
    "* how many items will be there is lis2 after append call"
   ]
  },
  {
   "cell_type": "code",
   "execution_count": 25,
   "metadata": {},
   "outputs": [
    {
     "name": "stdout",
     "output_type": "stream",
     "text": [
      "6\n"
     ]
    }
   ],
   "source": [
    "list1 = [1,2,3,4,5]\n",
    "list2 = [6,7,8,9,10]\n",
    "\n",
    "list1.append(list2)\n",
    "\n",
    "print(len(list1))"
   ]
  },
  {
   "cell_type": "markdown",
   "metadata": {},
   "source": [
    "#### What happended?\n",
    "\n",
    "* In python, everything is an object\n",
    "    * even list\n",
    "\n",
    "* there is nothing like \"list of int\" or \"list of string\"\n",
    "    * we have list of object\n",
    "    * we can add any object to a list\n",
    "        * including another list"
   ]
  },
  {
   "cell_type": "code",
   "execution_count": 26,
   "metadata": {},
   "outputs": [
    {
     "name": "stdout",
     "output_type": "stream",
     "text": [
      "\n",
      "list [id=2831870018816] [Length=6] : 1 2 3 4 5 [6, 7, 8, 9, 10] \n"
     ]
    }
   ],
   "source": [
    "test_sequence(list1)"
   ]
  },
  {
   "cell_type": "code",
   "execution_count": 27,
   "metadata": {},
   "outputs": [
    {
     "data": {
      "text/plain": [
       "[6, 7, 8, 9, 10]"
      ]
     },
     "execution_count": 27,
     "metadata": {},
     "output_type": "execute_result"
    }
   ],
   "source": [
    "list1[5]"
   ]
  },
  {
   "cell_type": "markdown",
   "metadata": {},
   "source": [
    "#### How to access number 9?"
   ]
  },
  {
   "cell_type": "code",
   "execution_count": 29,
   "metadata": {},
   "outputs": [
    {
     "data": {
      "text/plain": [
       "9"
      ]
     },
     "execution_count": 29,
     "metadata": {},
     "output_type": "execute_result"
    }
   ],
   "source": [
    "list1[5][3]"
   ]
  },
  {
   "cell_type": "markdown",
   "metadata": {},
   "source": [
    "#### What if I want to add the items from one list (sequence) to another list\n",
    "\n",
    "* list has another functionc all **extend**"
   ]
  },
  {
   "cell_type": "code",
   "execution_count": 30,
   "metadata": {},
   "outputs": [
    {
     "name": "stdout",
     "output_type": "stream",
     "text": [
      "\n",
      "list [id=2831870272896] [Length=10] : 1 2 3 4 5 6 7 8 9 10 \n"
     ]
    }
   ],
   "source": [
    "list1=[1,2,3,4,5]\n",
    "list2=[6,7,8,9,10]\n",
    "\n",
    "list1.extend(list2)\n",
    "\n",
    "test_sequence(list1)"
   ]
  },
  {
   "cell_type": "markdown",
   "metadata": {},
   "source": [
    "#### more sequence functions "
   ]
  },
  {
   "cell_type": "code",
   "execution_count": 43,
   "metadata": {},
   "outputs": [],
   "source": [
    "numbers=[2,3,9,2,6]\n"
   ]
  },
  {
   "cell_type": "markdown",
   "metadata": {},
   "source": [
    "#### in function"
   ]
  },
  {
   "cell_type": "code",
   "execution_count": 44,
   "metadata": {},
   "outputs": [
    {
     "name": "stdout",
     "output_type": "stream",
     "text": [
      "True\n",
      "False\n"
     ]
    }
   ],
   "source": [
    "print( 2 in numbers) #True\n",
    "print( 8 in numbers) #False"
   ]
  },
  {
   "cell_type": "markdown",
   "metadata": {},
   "source": [
    "##### count()\n",
    "* counts the occurance of a value in a sequence"
   ]
  },
  {
   "cell_type": "code",
   "execution_count": 45,
   "metadata": {},
   "outputs": [
    {
     "name": "stdout",
     "output_type": "stream",
     "text": [
      "2\n",
      "0\n",
      "1\n"
     ]
    }
   ],
   "source": [
    "numbers=[2,3,9,2,6]\n",
    "print(numbers.count(2)) #2\n",
    "\n",
    "print(numbers.count(8)) #0\n",
    "\n",
    "print(numbers.count(9)) #1"
   ]
  },
  {
   "cell_type": "markdown",
   "metadata": {},
   "source": [
    "### 2. tuple\n",
    "\n",
    "* is like a readonly immutable list\n",
    "* it supports indexer\n",
    "    * to get item\n",
    "    * negative indexer\n",
    "    * slicer\n",
    "    * in\n",
    "    * count\n",
    "    * for\n",
    "\n",
    "* it doesn't support\n",
    "    * indexer to modify value\n",
    "    * appent/del/remove\n",
    "\n",
    "#### How to create a tuple?\n",
    "\n",
    "##### Option #1\n",
    "* we wrap comma separated values in parentheses"
   ]
  },
  {
   "cell_type": "code",
   "execution_count": 31,
   "metadata": {},
   "outputs": [
    {
     "name": "stdout",
     "output_type": "stream",
     "text": [
      "\n",
      "tuple [id=2831870164112] [Length=5] : 1 2 3 4 5 \n"
     ]
    }
   ],
   "source": [
    "t = (1,2,3,4,5)\n",
    "\n",
    "test_sequence(t)"
   ]
  },
  {
   "cell_type": "code",
   "execution_count": 32,
   "metadata": {},
   "outputs": [
    {
     "data": {
      "text/plain": [
       "3"
      ]
     },
     "execution_count": 32,
     "metadata": {},
     "output_type": "execute_result"
    }
   ],
   "source": [
    "t[2]"
   ]
  },
  {
   "cell_type": "code",
   "execution_count": 33,
   "metadata": {},
   "outputs": [
    {
     "data": {
      "text/plain": [
       "5"
      ]
     },
     "execution_count": 33,
     "metadata": {},
     "output_type": "execute_result"
    }
   ],
   "source": [
    "t[-1]"
   ]
  },
  {
   "cell_type": "code",
   "execution_count": 34,
   "metadata": {},
   "outputs": [
    {
     "data": {
      "text/plain": [
       "(3, 4)"
      ]
     },
     "execution_count": 34,
     "metadata": {},
     "output_type": "execute_result"
    }
   ],
   "source": [
    "t[2:4]"
   ]
  },
  {
   "cell_type": "code",
   "execution_count": 35,
   "metadata": {},
   "outputs": [
    {
     "data": {
      "text/plain": [
       "(5, 4, 3, 2, 1)"
      ]
     },
     "execution_count": 35,
     "metadata": {},
     "output_type": "execute_result"
    }
   ],
   "source": [
    "t[::-1]"
   ]
  },
  {
   "cell_type": "code",
   "execution_count": 36,
   "metadata": {},
   "outputs": [
    {
     "ename": "TypeError",
     "evalue": "'tuple' object does not support item assignment",
     "output_type": "error",
     "traceback": [
      "\u001b[1;31m---------------------------------------------------------------------------\u001b[0m",
      "\u001b[1;31mTypeError\u001b[0m                                 Traceback (most recent call last)",
      "Cell \u001b[1;32mIn[36], line 1\u001b[0m\n\u001b[1;32m----> 1\u001b[0m \u001b[43mt\u001b[49m\u001b[43m[\u001b[49m\u001b[38;5;241;43m0\u001b[39;49m\u001b[43m]\u001b[49m\u001b[38;5;241m=\u001b[39m\u001b[38;5;241m100\u001b[39m\n",
      "\u001b[1;31mTypeError\u001b[0m: 'tuple' object does not support item assignment"
     ]
    }
   ],
   "source": [
    "t[0]=100"
   ]
  },
  {
   "cell_type": "code",
   "execution_count": 37,
   "metadata": {},
   "outputs": [
    {
     "ename": "AttributeError",
     "evalue": "'tuple' object has no attribute 'append'",
     "output_type": "error",
     "traceback": [
      "\u001b[1;31m---------------------------------------------------------------------------\u001b[0m",
      "\u001b[1;31mAttributeError\u001b[0m                            Traceback (most recent call last)",
      "Cell \u001b[1;32mIn[37], line 1\u001b[0m\n\u001b[1;32m----> 1\u001b[0m \u001b[43mt\u001b[49m\u001b[38;5;241;43m.\u001b[39;49m\u001b[43mappend\u001b[49m(\u001b[38;5;241m10\u001b[39m)\n",
      "\u001b[1;31mAttributeError\u001b[0m: 'tuple' object has no attribute 'append'"
     ]
    }
   ],
   "source": [
    "t.append(10)"
   ]
  },
  {
   "cell_type": "code",
   "execution_count": 38,
   "metadata": {},
   "outputs": [
    {
     "ename": "TypeError",
     "evalue": "'tuple' object doesn't support item deletion",
     "output_type": "error",
     "traceback": [
      "\u001b[1;31m---------------------------------------------------------------------------\u001b[0m",
      "\u001b[1;31mTypeError\u001b[0m                                 Traceback (most recent call last)",
      "Cell \u001b[1;32mIn[38], line 1\u001b[0m\n\u001b[1;32m----> 1\u001b[0m \u001b[38;5;28;01mdel\u001b[39;00m \u001b[43mt\u001b[49m\u001b[43m[\u001b[49m\u001b[38;5;241;43m2\u001b[39;49m\u001b[43m]\u001b[49m\n",
      "\u001b[1;31mTypeError\u001b[0m: 'tuple' object doesn't support item deletion"
     ]
    }
   ],
   "source": [
    "del t[2]"
   ]
  },
  {
   "cell_type": "markdown",
   "metadata": {},
   "source": [
    "#### Why do we use tuple?\n",
    "\n",
    "* generally we may not use much of our own tuple in the code\n",
    "* it is used for optimizing the storage of constants that will not change\n",
    "* python uses it at several places internally\n",
    "\n",
    "\n",
    "#### How to create a tuple of 1 Item?\n",
    "\n",
    "* we can create a tuple of 1 item by wrapping it in parenthes\n",
    "    * this sytnax is used for arithmetic expression"
   ]
  },
  {
   "cell_type": "code",
   "execution_count": 39,
   "metadata": {},
   "outputs": [
    {
     "name": "stdout",
     "output_type": "stream",
     "text": [
      "<class 'int'>\n"
     ]
    }
   ],
   "source": [
    "t1=(20) # not a tuple. Why?\n",
    "\n",
    "print(type(t1))"
   ]
  },
  {
   "cell_type": "markdown",
   "metadata": {},
   "source": [
    "##### to create a tuple of 1 item we must provide leading comma"
   ]
  },
  {
   "cell_type": "code",
   "execution_count": 40,
   "metadata": {},
   "outputs": [
    {
     "name": "stdout",
     "output_type": "stream",
     "text": [
      "<class 'int'> <class 'tuple'>\n"
     ]
    }
   ],
   "source": [
    "t1=(20)\n",
    "t2=(20,) # tuple\n",
    "print(type(t1),type(t2))"
   ]
  },
  {
   "cell_type": "markdown",
   "metadata": {},
   "source": [
    "#### How to create a tuple of 0 item\n",
    "\n",
    "* we call tuple() function"
   ]
  },
  {
   "cell_type": "code",
   "execution_count": 42,
   "metadata": {},
   "outputs": [
    {
     "name": "stdout",
     "output_type": "stream",
     "text": [
      "\n",
      "tuple [id=140737345640120] [Length=0] : \n"
     ]
    }
   ],
   "source": [
    "t3=tuple()\n",
    "\n",
    "test_sequence(t3)"
   ]
  },
  {
   "cell_type": "markdown",
   "metadata": {},
   "source": [
    "### 3. set\n",
    "\n",
    "* set is a \n",
    "    * mutable\n",
    "    * non-linear, non-indexable\n",
    "    * sequence of unique values\n",
    "\n",
    "* it supports\n",
    "    * in\n",
    "    * for\n",
    "    * len\n",
    "\n",
    "* doesn't support\n",
    "    * any indexer\n",
    "\n",
    "\n",
    "* also supports\n",
    "    * add\n",
    "    * remove\n",
    "\n",
    "* set theory operations\n",
    "    * union ---> get all unqiue values from 2 sets\n",
    "    * intersection ---> get all vaues which are present in both sets\n",
    "    * difference ---> get values from set1 that is not present in set2\n",
    "    * issubset ----> check if all value of set1 is part of set2\n",
    "    * isdisjoint ---> check if there is no common value between the sets\n",
    "\n",
    "\n",
    "* set doesn't gurantee the order in storage.\n",
    "\n",
    "\n",
    "\n",
    "#### How do we create a set?\n",
    "\n",
    "* we wrap a comma seaprated values in braces {}\n",
    "\n",
    "    "
   ]
  },
  {
   "cell_type": "markdown",
   "metadata": {},
   "source": [
    "#"
   ]
  },
  {
   "cell_type": "code",
   "execution_count": 46,
   "metadata": {},
   "outputs": [
    {
     "name": "stdout",
     "output_type": "stream",
     "text": [
      "\n",
      "set [id=2831864425920] [Length=4] : 9 2 3 6 \n"
     ]
    }
   ],
   "source": [
    "s1={2,3,9,2,6}\n",
    "\n",
    "#how many items are present in this set?\n",
    "\n",
    "\n",
    "test_sequence(s1)"
   ]
  },
  {
   "cell_type": "code",
   "execution_count": 47,
   "metadata": {},
   "outputs": [
    {
     "ename": "TypeError",
     "evalue": "'set' object does not support item assignment",
     "output_type": "error",
     "traceback": [
      "\u001b[1;31m---------------------------------------------------------------------------\u001b[0m",
      "\u001b[1;31mTypeError\u001b[0m                                 Traceback (most recent call last)",
      "Cell \u001b[1;32mIn[47], line 1\u001b[0m\n\u001b[1;32m----> 1\u001b[0m \u001b[43ms1\u001b[49m\u001b[43m[\u001b[49m\u001b[38;5;241;43m0\u001b[39;49m\u001b[43m]\u001b[49m\u001b[38;5;241m=\u001b[39m\u001b[38;5;241m10\u001b[39m\n",
      "\u001b[1;31mTypeError\u001b[0m: 'set' object does not support item assignment"
     ]
    }
   ],
   "source": [
    "s1[0]=10"
   ]
  },
  {
   "cell_type": "code",
   "execution_count": 48,
   "metadata": {},
   "outputs": [
    {
     "ename": "TypeError",
     "evalue": "'set' object is not subscriptable",
     "output_type": "error",
     "traceback": [
      "\u001b[1;31m---------------------------------------------------------------------------\u001b[0m",
      "\u001b[1;31mTypeError\u001b[0m                                 Traceback (most recent call last)",
      "Cell \u001b[1;32mIn[48], line 1\u001b[0m\n\u001b[1;32m----> 1\u001b[0m \u001b[38;5;28mprint\u001b[39m(\u001b[43ms1\u001b[49m\u001b[43m[\u001b[49m\u001b[38;5;241;43m1\u001b[39;49m\u001b[43m]\u001b[49m)\n",
      "\u001b[1;31mTypeError\u001b[0m: 'set' object is not subscriptable"
     ]
    }
   ],
   "source": [
    "print(s1[1])"
   ]
  },
  {
   "cell_type": "code",
   "execution_count": 49,
   "metadata": {},
   "outputs": [
    {
     "name": "stdout",
     "output_type": "stream",
     "text": [
      "\n",
      "set [id=2831864425920] [Length=6] : 2 3 5 6 9 10 \n"
     ]
    }
   ],
   "source": [
    "s1.add(10)\n",
    "s1.add(5)\n",
    "s1.add(9) #duplicate ignored\n",
    "\n",
    "test_sequence(s1)"
   ]
  },
  {
   "cell_type": "code",
   "execution_count": 50,
   "metadata": {},
   "outputs": [
    {
     "name": "stdout",
     "output_type": "stream",
     "text": [
      "True\n",
      "False\n"
     ]
    }
   ],
   "source": [
    "print(5 in s1) #True\n",
    "print(7 in s1) #False"
   ]
  },
  {
   "cell_type": "code",
   "execution_count": 51,
   "metadata": {},
   "outputs": [
    {
     "ename": "AttributeError",
     "evalue": "'set' object has no attribute 'count'",
     "output_type": "error",
     "traceback": [
      "\u001b[1;31m---------------------------------------------------------------------------\u001b[0m",
      "\u001b[1;31mAttributeError\u001b[0m                            Traceback (most recent call last)",
      "Cell \u001b[1;32mIn[51], line 1\u001b[0m\n\u001b[1;32m----> 1\u001b[0m \u001b[43ms1\u001b[49m\u001b[38;5;241;43m.\u001b[39;49m\u001b[43mcount\u001b[49m(\u001b[38;5;241m9\u001b[39m)\n",
      "\u001b[1;31mAttributeError\u001b[0m: 'set' object has no attribute 'count'"
     ]
    }
   ],
   "source": [
    "s1.count(9)"
   ]
  },
  {
   "cell_type": "markdown",
   "metadata": {},
   "source": [
    "#### set theory operations"
   ]
  },
  {
   "cell_type": "code",
   "execution_count": 53,
   "metadata": {},
   "outputs": [],
   "source": [
    "U = {1,2,3,4,5,6,7,8,9,10}\n",
    "evens = {0,2,4,6,8,10}\n",
    "odds={1,3,5,7,9}\n",
    "f5={5,10}"
   ]
  },
  {
   "cell_type": "code",
   "execution_count": 55,
   "metadata": {},
   "outputs": [
    {
     "data": {
      "text/plain": [
       "{0, 1, 2, 3, 4, 5, 6, 7, 8, 9, 10}"
      ]
     },
     "execution_count": 55,
     "metadata": {},
     "output_type": "execute_result"
    }
   ],
   "source": [
    "evens.union(odds) # take all values from both evens and odds"
   ]
  },
  {
   "cell_type": "code",
   "execution_count": 56,
   "metadata": {},
   "outputs": [
    {
     "data": {
      "text/plain": [
       "set()"
      ]
     },
     "execution_count": 56,
     "metadata": {},
     "output_type": "execute_result"
    }
   ],
   "source": [
    "evens.intersection(odds) #values common in both: Nothing"
   ]
  },
  {
   "cell_type": "code",
   "execution_count": 57,
   "metadata": {},
   "outputs": [
    {
     "data": {
      "text/plain": [
       "{10}"
      ]
     },
     "execution_count": 57,
     "metadata": {},
     "output_type": "execute_result"
    }
   ],
   "source": [
    "evens.intersection(f5) # {10}"
   ]
  },
  {
   "cell_type": "code",
   "execution_count": 58,
   "metadata": {},
   "outputs": [
    {
     "data": {
      "text/plain": [
       "False"
      ]
     },
     "execution_count": 58,
     "metadata": {},
     "output_type": "execute_result"
    }
   ],
   "source": [
    "evens.issubset(U) # False. evens has a 0 not present in U"
   ]
  },
  {
   "cell_type": "code",
   "execution_count": 59,
   "metadata": {},
   "outputs": [
    {
     "data": {
      "text/plain": [
       "True"
      ]
     },
     "execution_count": 59,
     "metadata": {},
     "output_type": "execute_result"
    }
   ],
   "source": [
    "odds.issubset(U) #True. all items of odds is present in U"
   ]
  },
  {
   "cell_type": "code",
   "execution_count": 60,
   "metadata": {},
   "outputs": [
    {
     "data": {
      "text/plain": [
       "True"
      ]
     },
     "execution_count": 60,
     "metadata": {},
     "output_type": "execute_result"
    }
   ],
   "source": [
    "evens.isdisjoint(odds) #True. no common items"
   ]
  },
  {
   "cell_type": "code",
   "execution_count": 62,
   "metadata": {},
   "outputs": [
    {
     "data": {
      "text/plain": [
       "False"
      ]
     },
     "execution_count": 62,
     "metadata": {},
     "output_type": "execute_result"
    }
   ],
   "source": [
    "evens.isdisjoint(f5) #False. 10 is common"
   ]
  },
  {
   "cell_type": "code",
   "execution_count": 63,
   "metadata": {},
   "outputs": [
    {
     "data": {
      "text/plain": [
       "{10}"
      ]
     },
     "execution_count": 63,
     "metadata": {},
     "output_type": "execute_result"
    }
   ],
   "source": [
    "f5.difference(odds) # {10}  items present in f5 but missing in odds"
   ]
  },
  {
   "cell_type": "code",
   "execution_count": null,
   "metadata": {},
   "outputs": [],
   "source": []
  }
 ],
 "metadata": {
  "kernelspec": {
   "display_name": "Python 3",
   "language": "python",
   "name": "python3"
  },
  "language_info": {
   "codemirror_mode": {
    "name": "ipython",
    "version": 3
   },
   "file_extension": ".py",
   "mimetype": "text/x-python",
   "name": "python",
   "nbconvert_exporter": "python",
   "pygments_lexer": "ipython3",
   "version": "3.12.1"
  }
 },
 "nbformat": 4,
 "nbformat_minor": 2
}
