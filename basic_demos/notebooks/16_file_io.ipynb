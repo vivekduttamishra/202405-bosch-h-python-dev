{
 "cells": [
  {
   "cell_type": "markdown",
   "metadata": {},
   "source": [
    "### I/O\n",
    "\n",
    "* It is one of the most important and common task for any programming.\n",
    "* we need to\n",
    "    * read the content of a file\n",
    "    * write or update the information.\n",
    "\n",
    "* it is such an important task that the core functionality of read and write is partof \\_\\_builtins\\_\\_\n",
    "\n",
    "* for advanced read-write operations we need separate modules\n",
    "    * some may be present\n",
    "    * other can be downloaded from PIP.\n",
    "\n",
    "\n",
    "\n",
    "### 1. opening a file.\n",
    "\n",
    "* to use a file we need to open it first\n",
    "* we have a function to open the file\n",
    "* by default it opens the file for reading.\n",
    "* we have other modes.\n",
    "\n",
    "\n",
    "#### 1.1 open a file and read its content"
   ]
  },
  {
   "cell_type": "code",
   "execution_count": 3,
   "metadata": {},
   "outputs": [
    {
     "name": "stdout",
     "output_type": "stream",
     "text": [
      "Mohandas Karamchand Gandhi  was an Indian lawyer, anti-colonial nationalist and political ethicist who employed nonviolent resistance to lead the successful campaign for India's independence from British rule. He inspired movements for civil rights and freedom across the world. The honorific Mahatma (from Sanskrit 'great-souled, venerable'), first applied to him in South Africa in 1914, is now used throughout the world.\n",
      "\n",
      "Born and raised in a Hindu family in coastal Gujarat, Gandhi trained in the law at the Inner Temple in London and was called to the bar in June 1891, at the age of 22. After two uncertain years in India, where he was unable to start a successful law practice, Gandhi moved to South Africa in 1893 to represent an Indian merchant in a lawsuit. He went on to live in South Africa for 21 years. There, Gandhi raised a family and first employed nonviolent resistance in a campaign for civil rights. In 1915, aged 45, he returned to India and soon set about organising peasants, farmers, and urban labourers to protest against discrimination and excessive land-tax.\n",
      "\n",
      "Assuming leadership of the Indian National Congress in 1921, Gandhi led nationwide campaigns for easing poverty, expanding women's rights, building religious and ethnic amity, ending untouchability, and, above all, achieving swaraj or self-rule. Gandhi adopted the short dhoti woven with hand-spun yarn as a mark of identification with India's rural poor. He began to live in a self-sufficient residential community, to eat simple food, and undertake long fasts as a means of both introspection and political protest. Bringing anti-colonial nationalism to the common Indians, Gandhi led them in challenging the British-imposed salt tax with the 400 km (250 mi) Dandi Salt March in 1930 and in calling for the British to quit India in 1942. He was imprisoned many times and for many years in both South Africa and India.\n"
     ]
    }
   ],
   "source": [
    "s = open('sample.txt')\n",
    "\n",
    "content= s.read() #reads entire file.\n",
    "\n",
    "s.close() # we must close the file before exit\n",
    "\n",
    "print(content)"
   ]
  },
  {
   "cell_type": "markdown",
   "metadata": {},
   "source": [
    "#### It is important that we close the file after its use\n",
    "\n",
    "* sometimes the file would get locked by os and can't be accessed till be close."
   ]
  },
  {
   "cell_type": "markdown",
   "metadata": {},
   "source": [
    "#### Currently we read the entire file in one go.\n",
    "\n",
    "* it is alright for small content\n",
    "* But if we have large data such reading may be memory intensive\n",
    "* we may choose read\n",
    "    * a chunk of data\n",
    "    * read line by line."
   ]
  },
  {
   "cell_type": "code",
   "execution_count": 9,
   "metadata": {},
   "outputs": [
    {
     "name": "stdout",
     "output_type": "stream",
     "text": [
      "read: 6488666 bytes\n",
      "Read 6336.587890625 kb in 792 reads\n"
     ]
    }
   ],
   "source": [
    "import time\n",
    "s = open('big.txt')\n",
    "size=0\n",
    "count=0\n",
    "\n",
    "while True:\n",
    "    chunk = s.read(8196)\n",
    "    if not chunk:\n",
    "        break\n",
    "    size+=len(chunk)\n",
    "    count+=1\n",
    "    print(f\"read: {size} bytes\",end=\"\\r\")\n",
    "    time.sleep(0.01) #just to show the delay.\n",
    "\n",
    "s.close()\n",
    "print(f'\\nRead {size/1024} kb in {count} reads')"
   ]
  },
  {
   "cell_type": "markdown",
   "metadata": {},
   "source": [
    "### What if we have a crash in the code after opening file\n",
    "\n",
    "* the file may not get closed.\n",
    "* we need to make sure that we close the file any how.\n",
    "\n",
    "\n",
    "### Option 1 try-finally"
   ]
  },
  {
   "cell_type": "code",
   "execution_count": 15,
   "metadata": {},
   "outputs": [],
   "source": [
    "def read_file(filename, permission=\"r\"):\n",
    "    f=None\n",
    "    try:\n",
    "        f = open(filename,permission)\n",
    "        content = f.read()\n",
    "        return content\n",
    "    except Exception as e:\n",
    "        print(f\"Error:{e}\")\n",
    "    finally:\n",
    "        print(f'Attempting to close')\n",
    "        if(f):\n",
    "            print('closing file')\n",
    "            f.close()"
   ]
  },
  {
   "cell_type": "code",
   "execution_count": 16,
   "metadata": {},
   "outputs": [
    {
     "name": "stdout",
     "output_type": "stream",
     "text": [
      "Attempting to close\n",
      "closing file\n",
      "1906\n"
     ]
    }
   ],
   "source": [
    "x = read_file(\"sample.txt\")\n",
    "print(len(x))"
   ]
  },
  {
   "cell_type": "code",
   "execution_count": 17,
   "metadata": {},
   "outputs": [
    {
     "name": "stdout",
     "output_type": "stream",
     "text": [
      "Error:[Errno 2] No such file or directory: 'not-found.txt'\n",
      "Attempting to close\n"
     ]
    }
   ],
   "source": [
    "x=read_file('not-found.txt')"
   ]
  },
  {
   "cell_type": "code",
   "execution_count": 18,
   "metadata": {},
   "outputs": [
    {
     "name": "stdout",
     "output_type": "stream",
     "text": [
      "Error:not readable\n",
      "Attempting to close\n",
      "closing file\n"
     ]
    }
   ],
   "source": [
    "x=read_file('sample.txt','w') # we are opening file with \"w\" permission to read"
   ]
  },
  {
   "cell_type": "markdown",
   "metadata": {},
   "source": [
    "### Option 2 with keword\n",
    "\n",
    "* python provides a **with** keyword to release the resources when not in need\n",
    "* it has a built-in try-finally-close\n",
    "* The below code is same as the above but we may not see file getting closed."
   ]
  },
  {
   "cell_type": "code",
   "execution_count": 19,
   "metadata": {},
   "outputs": [],
   "source": [
    "def read_file(filename, permission=\"r\"):\n",
    "    with open(filename,permission) as f:\n",
    "        try:\n",
    "            f = open(filename,permission)\n",
    "            content = f.read()\n",
    "            return content\n",
    "        except Exception as e:\n",
    "            print(f\"Error:{e}\")\n",
    "    "
   ]
  },
  {
   "cell_type": "code",
   "execution_count": 20,
   "metadata": {},
   "outputs": [],
   "source": [
    "x= read_file('sample.txt')"
   ]
  },
  {
   "cell_type": "code",
   "execution_count": 21,
   "metadata": {},
   "outputs": [
    {
     "name": "stdout",
     "output_type": "stream",
     "text": [
      "Error:not readable\n"
     ]
    }
   ],
   "source": [
    "x=read_file('sample.txt','w') "
   ]
  },
  {
   "cell_type": "markdown",
   "metadata": {},
   "source": [
    "### Note: with automatically closes file. it doesn't handle exception\n",
    "\n",
    "* if you want to handle exception you will need your own try-except\n",
    "\n",
    "### File permissions\n",
    "\n",
    "* access\n",
    "    * r---> read\n",
    "    * w---> write\n",
    "\n",
    "* data type\n",
    "    * t---> text\n",
    "    * b---> binary\n",
    "\n",
    "* for more details check help for open\n",
    "\n"
   ]
  },
  {
   "cell_type": "code",
   "execution_count": 23,
   "metadata": {},
   "outputs": [],
   "source": [
    "#help(open)"
   ]
  },
  {
   "cell_type": "markdown",
   "metadata": {},
   "source": [
    "### A general file copy function"
   ]
  },
  {
   "cell_type": "code",
   "execution_count": 24,
   "metadata": {},
   "outputs": [],
   "source": [
    "def copy(source, destination):\n",
    "    with open(source,'rb') as s:\n",
    "        with open(destination,'wb') as d:\n",
    "            while True:\n",
    "                chunk=s.read(8196)\n",
    "                if chunk:\n",
    "                    d.write(chunk)\n",
    "                else:\n",
    "                    break"
   ]
  },
  {
   "cell_type": "code",
   "execution_count": 26,
   "metadata": {},
   "outputs": [],
   "source": [
    "copy('sample.txt','sample2.txt')"
   ]
  },
  {
   "cell_type": "code",
   "execution_count": 27,
   "metadata": {},
   "outputs": [],
   "source": [
    "copy('big.txt','big2.txt')"
   ]
  },
  {
   "cell_type": "code",
   "execution_count": null,
   "metadata": {},
   "outputs": [],
   "source": []
  }
 ],
 "metadata": {
  "kernelspec": {
   "display_name": "Python 3",
   "language": "python",
   "name": "python3"
  },
  "language_info": {
   "codemirror_mode": {
    "name": "ipython",
    "version": 3
   },
   "file_extension": ".py",
   "mimetype": "text/x-python",
   "name": "python",
   "nbconvert_exporter": "python",
   "pygments_lexer": "ipython3",
   "version": "3.12.1"
  }
 },
 "nbformat": 4,
 "nbformat_minor": 2
}
