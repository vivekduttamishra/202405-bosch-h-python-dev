{
 "cells": [
  {
   "cell_type": "markdown",
   "metadata": {},
   "source": [
    "### Why dow we need modules? What Problem Module solves?\n",
    "\n",
    "* Module solves two key problems\n",
    "\n",
    "#### 1. Global problem.\n",
    "\n",
    "* we already know, global names causes problems\n",
    "    * they can be overwritten\n",
    "    * once overwritten the original functionality may be lost\n",
    "\n",
    "* the larger the application gets more difficult it becomes to manage global names\n",
    "\n",
    "#### 2. Reusability and Maintainaiblity problem\n",
    "\n",
    "* currently all the functionality we need in our application must be written in a single .py file. \n",
    "    * we can't access codes across the files.\n",
    "\n",
    "    * for a larger application this could be a serious problem\n",
    "\n",
    "\n",
    "* we may have functions that can be used in different projects\n",
    "    * current approach needs us to copy and past the code each time we need.\n",
    "\n",
    "\n",
    "\n",
    "## What is a module and how it solves the problem\n",
    "\n",
    "### What is a module.\n",
    "\n",
    "1. A module is an object\n",
    "2. It represents all the codes written in a single .py file\n",
    "3. Each .py file can be considered as a **module** source.\n",
    "        * people often call it **module**\n",
    "4. We can import one module into another .py file.\n",
    "5. When we import a module\n",
    "    * we get an object that will internally contain all functions written inside the .py file.\n",
    "\n",
    "\n",
    "### How Module Helps?\n",
    "\n",
    "#### 1. Module helps in better organization and reuse\n",
    "\n",
    "* We can use one module (.py file) into another\n",
    "\n",
    "* this allows us to break of large application into multiple .py files\n",
    "    * this makes our code better organised\n",
    "* It allows us to reuse functionalities written in one .py file into another.\n",
    "    * promotes reusability\n",
    "\n",
    "#### 2. Module helps reduce global problem\n",
    "\n",
    "* With module concept we do not have global code\n",
    "* All global codes written in one .py file becomes part of the module object\n",
    "* they are not accessible directly but using module object\n",
    "\n",
    "\n",
    "### How to work with Modules\n",
    "\n",
    "\n",
    "* There are two aspects\n",
    "    1. Create a Module\n",
    "    2. Use the module\n",
    "    \n",
    "\n",
    "#### 1. Creating a Module (source)\n",
    "\n",
    "* A module is represented using a .py file\n",
    "* A code written in shell (including jupyter) can't be used a module\n",
    "* We will need a read .py file\n",
    "* Any .py file is a potential module (source)\n",
    "* While we are calling this creating a module, it is actually creating a module source.\n",
    "* Actual module object will be created in the next phase\n",
    "\n",
    "\n",
    "#### 2. Using a Module (object)\n",
    "\n",
    "* to use a module, we need to use **import** statement\n",
    "\n",
    "* import statement generally create a module object that contains all functionality defined in the imported module source.\n",
    "\n",
    "* while module source must be a .py file, it can be imported anywhere\n",
    "    * in another module\n",
    "    * in another .py file\n",
    "    * in shell/repl\n",
    "    * in jupyter.\n",
    "\n",
    "\n",
    "\n",
    "#### For details check the \"module_demo\" project and one one."
   ]
  },
  {
   "cell_type": "markdown",
   "metadata": {},
   "source": [
    "## Common Python Modules\n",
    "\n",
    "* python comes with a lot of builtin standard modules\n",
    "* we can also download new modules form python repository using **pip** command\n",
    "\n",
    "### common standard modules\n",
    " \n",
    "* sys (system)\n",
    "    * includes functions related to python runtime\n",
    "* os\n",
    "    * includes functions related to operating system\n",
    "\n",
    "* json\n",
    "    * includes functions related to json data management\n",
    " \n",
    "* sqlite\n",
    "    * includes functions related to sqlite database\n",
    "\n",
    "* math\n",
    "    * includes functions related to mathematical operations\n",
    "\n",
    "* random \n",
    "    * includes functions related to random number generation\n",
    "\n",
    "\n",
    "\n",
    "### sys module\n"
   ]
  },
  {
   "cell_type": "code",
   "execution_count": 1,
   "metadata": {},
   "outputs": [],
   "source": [
    "import sys"
   ]
  },
  {
   "cell_type": "code",
   "execution_count": 2,
   "metadata": {},
   "outputs": [
    {
     "data": {
      "text/plain": [
       "['__breakpointhook__',\n",
       " '__displayhook__',\n",
       " '__doc__',\n",
       " '__excepthook__',\n",
       " '__interactivehook__',\n",
       " '__loader__',\n",
       " '__name__',\n",
       " '__package__',\n",
       " '__spec__',\n",
       " '__stderr__',\n",
       " '__stdin__',\n",
       " '__stdout__',\n",
       " '__unraisablehook__',\n",
       " '_base_executable',\n",
       " '_clear_type_cache',\n",
       " '_current_exceptions',\n",
       " '_current_frames',\n",
       " '_debugmallocstats',\n",
       " '_enablelegacywindowsfsencoding',\n",
       " '_framework',\n",
       " '_getframe',\n",
       " '_getframemodulename',\n",
       " '_git',\n",
       " '_home',\n",
       " '_setprofileallthreads',\n",
       " '_settraceallthreads',\n",
       " '_stdlib_dir',\n",
       " '_vpath',\n",
       " '_xoptions',\n",
       " 'activate_stack_trampoline',\n",
       " 'addaudithook',\n",
       " 'api_version',\n",
       " 'argv',\n",
       " 'audit',\n",
       " 'base_exec_prefix',\n",
       " 'base_prefix',\n",
       " 'breakpointhook',\n",
       " 'builtin_module_names',\n",
       " 'byteorder',\n",
       " 'call_tracing',\n",
       " 'copyright',\n",
       " 'deactivate_stack_trampoline',\n",
       " 'displayhook',\n",
       " 'dllhandle',\n",
       " 'dont_write_bytecode',\n",
       " 'exc_info',\n",
       " 'excepthook',\n",
       " 'exception',\n",
       " 'exec_prefix',\n",
       " 'executable',\n",
       " 'exit',\n",
       " 'flags',\n",
       " 'float_info',\n",
       " 'float_repr_style',\n",
       " 'get_asyncgen_hooks',\n",
       " 'get_coroutine_origin_tracking_depth',\n",
       " 'get_int_max_str_digits',\n",
       " 'getallocatedblocks',\n",
       " 'getdefaultencoding',\n",
       " 'getfilesystemencodeerrors',\n",
       " 'getfilesystemencoding',\n",
       " 'getprofile',\n",
       " 'getrecursionlimit',\n",
       " 'getrefcount',\n",
       " 'getsizeof',\n",
       " 'getswitchinterval',\n",
       " 'gettrace',\n",
       " 'getunicodeinternedsize',\n",
       " 'getwindowsversion',\n",
       " 'hash_info',\n",
       " 'hexversion',\n",
       " 'implementation',\n",
       " 'int_info',\n",
       " 'intern',\n",
       " 'is_finalizing',\n",
       " 'is_stack_trampoline_active',\n",
       " 'maxsize',\n",
       " 'maxunicode',\n",
       " 'meta_path',\n",
       " 'modules',\n",
       " 'monitoring',\n",
       " 'orig_argv',\n",
       " 'path',\n",
       " 'path_hooks',\n",
       " 'path_importer_cache',\n",
       " 'platform',\n",
       " 'platlibdir',\n",
       " 'prefix',\n",
       " 'ps1',\n",
       " 'ps2',\n",
       " 'ps3',\n",
       " 'pycache_prefix',\n",
       " 'set_asyncgen_hooks',\n",
       " 'set_coroutine_origin_tracking_depth',\n",
       " 'set_int_max_str_digits',\n",
       " 'setprofile',\n",
       " 'setrecursionlimit',\n",
       " 'setswitchinterval',\n",
       " 'settrace',\n",
       " 'stderr',\n",
       " 'stdin',\n",
       " 'stdlib_module_names',\n",
       " 'stdout',\n",
       " 'thread_info',\n",
       " 'unraisablehook',\n",
       " 'version',\n",
       " 'version_info',\n",
       " 'warnoptions',\n",
       " 'winver']"
      ]
     },
     "execution_count": 2,
     "metadata": {},
     "output_type": "execute_result"
    }
   ],
   "source": [
    "dir(sys)"
   ]
  },
  {
   "cell_type": "code",
   "execution_count": 3,
   "metadata": {},
   "outputs": [
    {
     "data": {
      "text/plain": [
       "'3.12.1 (tags/v3.12.1:2305ca5, Dec  7 2023, 22:03:25) [MSC v.1937 64 bit (AMD64)]'"
      ]
     },
     "execution_count": 3,
     "metadata": {},
     "output_type": "execute_result"
    }
   ],
   "source": [
    "sys.version"
   ]
  },
  {
   "cell_type": "code",
   "execution_count": 4,
   "metadata": {},
   "outputs": [
    {
     "data": {
      "text/plain": [
       "sys.version_info(major=3, minor=12, micro=1, releaselevel='final', serial=0)"
      ]
     },
     "execution_count": 4,
     "metadata": {},
     "output_type": "execute_result"
    }
   ],
   "source": [
    "sys.version_info"
   ]
  },
  {
   "cell_type": "code",
   "execution_count": 5,
   "metadata": {},
   "outputs": [
    {
     "data": {
      "text/plain": [
       "3"
      ]
     },
     "execution_count": 5,
     "metadata": {},
     "output_type": "execute_result"
    }
   ],
   "source": [
    "sys.version_info.major"
   ]
  },
  {
   "attachments": {
    "image.png": {
     "image/png": "[encoded data removed]"
    }
   },
   "cell_type": "markdown",
   "metadata": {},
   "source": [
    "#### More important functionalties\n",
    "\n",
    "* sys.argv\n",
    "    * returns a list of command line arguments passed to the program\n",
    "    * sys.argv[0] is the name of the program\n",
    "    * sys.argv[1] is the first command line argument\n",
    "    * sys.argv[2] is the second command line argument\n",
    "\n",
    "\n",
    "![image.png](attachment:image.png)"
   ]
  },
  {
   "cell_type": "markdown",
   "metadata": {},
   "source": [
    "### sys.path\n",
    "\n",
    "* It is a list of path where python searches for the module\n",
    "* this path includes\n",
    "    * python standard library paths\n",
    "    * current directory\n",
    "    * all directories mentioned in PYTHONPATH\n",
    "\n"
   ]
  },
  {
   "cell_type": "code",
   "execution_count": 6,
   "metadata": {},
   "outputs": [
    {
     "data": {
      "text/plain": [
       "['D:\\\\PortableApp\\\\python',\n",
       " 'd:\\\\works\\\\corporate\\\\202405-bosch-python-for-dev\\\\basic_demos\\\\notebooks',\n",
       " 'c:\\\\Python\\\\Python312\\\\python312.zip',\n",
       " 'c:\\\\Python\\\\Python312\\\\DLLs',\n",
       " 'c:\\\\Python\\\\Python312\\\\Lib',\n",
       " 'c:\\\\Python\\\\Python312',\n",
       " '',\n",
       " 'C:\\\\Users\\\\vivek\\\\AppData\\\\Roaming\\\\Python\\\\Python312\\\\site-packages',\n",
       " 'C:\\\\Users\\\\vivek\\\\AppData\\\\Roaming\\\\Python\\\\Python312\\\\site-packages\\\\win32',\n",
       " 'C:\\\\Users\\\\vivek\\\\AppData\\\\Roaming\\\\Python\\\\Python312\\\\site-packages\\\\win32\\\\lib',\n",
       " 'C:\\\\Users\\\\vivek\\\\AppData\\\\Roaming\\\\Python\\\\Python312\\\\site-packages\\\\Pythonwin',\n",
       " 'c:\\\\Python\\\\Python312\\\\Lib\\\\site-packages']"
      ]
     },
     "execution_count": 6,
     "metadata": {},
     "output_type": "execute_result"
    }
   ],
   "source": [
    "sys.path"
   ]
  },
  {
   "cell_type": "markdown",
   "metadata": {},
   "source": [
    "### currently this path doesn't include our common_mdoules_home path\n",
    "\n",
    "* if we try to import antying from our common modules home it will fail"
   ]
  },
  {
   "cell_type": "code",
   "execution_count": 7,
   "metadata": {},
   "outputs": [
    {
     "ename": "ModuleNotFoundError",
     "evalue": "No module named 'utils'",
     "output_type": "error",
     "traceback": [
      "\u001b[1;31m---------------------------------------------------------------------------\u001b[0m",
      "\u001b[1;31mModuleNotFoundError\u001b[0m                       Traceback (most recent call last)",
      "Cell \u001b[1;32mIn[7], line 1\u001b[0m\n\u001b[1;32m----> 1\u001b[0m \u001b[38;5;28;01mfrom\u001b[39;00m \u001b[38;5;21;01mutils\u001b[39;00m\u001b[38;5;21;01m.\u001b[39;00m\u001b[38;5;21;01mdates\u001b[39;00m \u001b[38;5;28;01mimport\u001b[39;00m print_calendar\n",
      "\u001b[1;31mModuleNotFoundError\u001b[0m: No module named 'utils'"
     ]
    }
   ],
   "source": [
    "from utils.dates import print_calendar"
   ]
  },
  {
   "cell_type": "markdown",
   "metadata": {},
   "source": [
    "#### Good New: sys.path  is a list\n",
    "* A list is mutable\n",
    "* we can add our own entries"
   ]
  },
  {
   "cell_type": "code",
   "execution_count": 8,
   "metadata": {},
   "outputs": [],
   "source": [
    "sys.path.append('../../common_modules_home/')"
   ]
  },
  {
   "cell_type": "markdown",
   "metadata": {},
   "source": [
    "#### Now next import call will try to access this folder"
   ]
  },
  {
   "cell_type": "code",
   "execution_count": 9,
   "metadata": {},
   "outputs": [],
   "source": [
    "from utils.dates import print_calendar\n"
   ]
  },
  {
   "cell_type": "code",
   "execution_count": 10,
   "metadata": {},
   "outputs": [
    {
     "name": "stdout",
     "output_type": "stream",
     "text": [
      "                     May 2024                    \n",
      "  Mon    Tue    Wed    Thu    Fri    Sat    Sun  \n",
      "-------------------------------------------------\n",
      "                 1      2      3      4      5   \n",
      "   6      7      8      9      10     11     12  \n",
      "   13     14     15     16     17     18     19  \n",
      "   20     21     22     23     24     25     26  \n",
      "   27     28     29     30     31  \n",
      "-------------------------------------------------\n"
     ]
    }
   ],
   "source": [
    "print_calendar(2024,5)"
   ]
  },
  {
   "cell_type": "markdown",
   "metadata": {},
   "source": [
    "## \\_\\_builtins\\_\\_ The Most Important Python Module\n",
    "\n",
    "* It is the most important Python module\n",
    "    * it is so important that it is implicitly imported in all python app and modules\n",
    "\n",
    "```python\n",
    "import __builtins__\n",
    "from __builtins__ import *\n",
    "```\n",
    "\n",
    "* This module contains all the standard features we use in day to day life\n",
    "    * functions like\n",
    "        * print\n",
    "        * input\n",
    "        * min\n",
    "        * max\n",
    "\n",
    "    * types like\n",
    "        * list\n",
    "        * tuple\n",
    "        * int\n",
    "        * str\n",
    "\n",
    "    * Values like\n",
    "        * True\n",
    "        * False\n",
    "        * None\n",
    "\n",
    "\n"
   ]
  },
  {
   "cell_type": "markdown",
   "metadata": {},
   "source": [
    "#### What if I stupidly overwrite **print**"
   ]
  },
  {
   "cell_type": "code",
   "execution_count": 11,
   "metadata": {},
   "outputs": [
    {
     "ename": "TypeError",
     "evalue": "'str' object is not callable",
     "output_type": "error",
     "traceback": [
      "\u001b[1;31m---------------------------------------------------------------------------\u001b[0m",
      "\u001b[1;31mTypeError\u001b[0m                                 Traceback (most recent call last)",
      "Cell \u001b[1;32mIn[11], line 3\u001b[0m\n\u001b[0;32m      1\u001b[0m \u001b[38;5;28mprint\u001b[39m\u001b[38;5;241m=\u001b[39m\u001b[38;5;124m\"\u001b[39m\u001b[38;5;124mHi\u001b[39m\u001b[38;5;124m\"\u001b[39m\n\u001b[1;32m----> 3\u001b[0m \u001b[38;5;28;43mprint\u001b[39;49m\u001b[43m(\u001b[49m\u001b[38;5;124;43m'\u001b[39;49m\u001b[38;5;124;43mHello\u001b[39;49m\u001b[38;5;124;43m'\u001b[39;49m\u001b[43m)\u001b[49m\n",
      "\u001b[1;31mTypeError\u001b[0m: 'str' object is not callable"
     ]
    }
   ],
   "source": [
    "print=\"Hi\"\n",
    "\n",
    "print('Hello')"
   ]
  },
  {
   "cell_type": "markdown",
   "metadata": {},
   "source": [
    "### Now print is gone. But not really\n",
    "\n",
    "* Remember, we originally got it from \\_\\_builtins\\_\\_\n",
    "* it is still there"
   ]
  },
  {
   "cell_type": "code",
   "execution_count": 12,
   "metadata": {},
   "outputs": [
    {
     "name": "stdout",
     "output_type": "stream",
     "text": [
      "Hello\n"
     ]
    }
   ],
   "source": [
    "print = __builtins__.print\n",
    "\n",
    "print('Hello')"
   ]
  },
  {
   "cell_type": "markdown",
   "metadata": {},
   "source": []
  }
 ],
 "metadata": {
  "kernelspec": {
   "display_name": "Python 3",
   "language": "python",
   "name": "python3"
  },
  "language_info": {
   "codemirror_mode": {
    "name": "ipython",
    "version": 3
   },
   "file_extension": ".py",
   "mimetype": "text/x-python",
   "name": "python",
   "nbconvert_exporter": "python",
   "pygments_lexer": "ipython3",
   "version": "3.12.1"
  }
 },
 "nbformat": 4,
 "nbformat_minor": 2
}
