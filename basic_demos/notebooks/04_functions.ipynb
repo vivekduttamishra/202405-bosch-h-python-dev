{
 "cells": [
  {
   "cell_type": "markdown",
   "metadata": {},
   "source": [
    "# Function\n",
    "\n",
    "* It is the basic building block for any application.\n",
    "* It is the smallest unit of code reuse.\n",
    "* typical design of a function is\n",
    "\n",
    "```python\n",
    "def function_name(p1,p2 ):\n",
    "    statement1\n",
    "    statement2\n",
    "    statement3\n",
    "    return result\n",
    "```\n",
    "\n",
    "* Here everything other than **def function_name** is optional\n",
    "    * function may take 0 or more arguments\n",
    "    * It may have zero or more statements\n",
    "    * It may or many not return a result\n",
    "\n",
    "### The samllest (and perhaps a meningless function would be )\n",
    "\n",
    "* Note for anystatement that requires a child block, we may use \"pass\" to indicate empty block"
   ]
  },
  {
   "cell_type": "code",
   "execution_count": 2,
   "metadata": {},
   "outputs": [],
   "source": [
    "def do_nothing():\n",
    "    pass"
   ]
  },
  {
   "cell_type": "code",
   "execution_count": 3,
   "metadata": {},
   "outputs": [
    {
     "data": {
      "text/plain": [
       "function"
      ]
     },
     "execution_count": 3,
     "metadata": {},
     "output_type": "execute_result"
    }
   ],
   "source": [
    "type(do_nothing)"
   ]
  },
  {
   "cell_type": "code",
   "execution_count": 4,
   "metadata": {},
   "outputs": [],
   "source": [
    "do_nothing()"
   ]
  },
  {
   "cell_type": "markdown",
   "metadata": {},
   "source": [
    "### Our function may take argument and return a result"
   ]
  },
  {
   "cell_type": "code",
   "execution_count": 5,
   "metadata": {},
   "outputs": [],
   "source": [
    "def greet(name):\n",
    "    return f\"Hello {name}, Welcome to Python\""
   ]
  },
  {
   "cell_type": "code",
   "execution_count": 6,
   "metadata": {},
   "outputs": [
    {
     "data": {
      "text/plain": [
       "'Hello Bosch, Welcome to Python'"
      ]
     },
     "execution_count": 6,
     "metadata": {},
     "output_type": "execute_result"
    }
   ],
   "source": [
    "greet(\"Bosch\")"
   ]
  },
  {
   "cell_type": "code",
   "execution_count": 7,
   "metadata": {},
   "outputs": [],
   "source": [
    "def plus(x,y):\n",
    "    return x+y"
   ]
  },
  {
   "cell_type": "code",
   "execution_count": 8,
   "metadata": {},
   "outputs": [
    {
     "data": {
      "text/plain": [
       "5"
      ]
     },
     "execution_count": 8,
     "metadata": {},
     "output_type": "execute_result"
    }
   ],
   "source": [
    "plus(2,3)"
   ]
  },
  {
   "cell_type": "code",
   "execution_count": 9,
   "metadata": {},
   "outputs": [
    {
     "data": {
      "text/plain": [
       "18"
      ]
     },
     "execution_count": 9,
     "metadata": {},
     "output_type": "execute_result"
    }
   ],
   "source": [
    "plus(9,9)"
   ]
  },
  {
   "cell_type": "markdown",
   "metadata": {},
   "source": [
    "#### A function that returns nothing returns None"
   ]
  },
  {
   "cell_type": "code",
   "execution_count": 10,
   "metadata": {},
   "outputs": [],
   "source": [
    "def greet(name):\n",
    "    print(f\"Hello {name}, Welcome to Python\")\n"
   ]
  },
  {
   "cell_type": "code",
   "execution_count": 11,
   "metadata": {},
   "outputs": [
    {
     "name": "stdout",
     "output_type": "stream",
     "text": [
      "Hello Bosch, Welcome to Python\n"
     ]
    }
   ],
   "source": [
    "# we can call this function to print value\n",
    "\n",
    "greet(\"Bosch\")"
   ]
  },
  {
   "cell_type": "code",
   "execution_count": 12,
   "metadata": {},
   "outputs": [
    {
     "name": "stdout",
     "output_type": "stream",
     "text": [
      "Hello Bosch, Welcome to Python\n",
      "None\n"
     ]
    }
   ],
   "source": [
    "#But this function doesn't return a result\n",
    "\n",
    "x = greet('Bosch')\n",
    "\n",
    "print(x)"
   ]
  },
  {
   "cell_type": "markdown",
   "metadata": {},
   "source": [
    "### Python doesn't have Function Overloading\n",
    "\n",
    "* C++/Java/C# allows function overloading\n",
    "    * We can have more than one function with same name\n",
    "        * they can differ in \n",
    "            * number of parameters\n",
    "            * or type of parameters.\n",
    "\n",
    "* Python doesn't support this feature\n",
    "    * you can write two functions with same name\n",
    "        * if you do, second will silently overwrite the first.\n",
    "            * unlike C, there would be error message.\n",
    "\n",
    "\n",
    "### Standard Python functions have fixed parameters\n",
    "\n",
    "* When you have a function that takes two parameters, you must supply exactly two arguments\n",
    "* Trying to pass more or less arguments will cause error. "
   ]
  },
  {
   "cell_type": "code",
   "execution_count": 18,
   "metadata": {},
   "outputs": [],
   "source": [
    "def call_me(x,y):\n",
    "    print(x,y)"
   ]
  },
  {
   "cell_type": "code",
   "execution_count": 19,
   "metadata": {},
   "outputs": [
    {
     "name": "stdout",
     "output_type": "stream",
     "text": [
      "1 2\n"
     ]
    }
   ],
   "source": [
    "call_me(1,2)"
   ]
  },
  {
   "cell_type": "code",
   "execution_count": 23,
   "metadata": {},
   "outputs": [
    {
     "ename": "TypeError",
     "evalue": "call_me() missing 1 required positional argument: 'y'",
     "output_type": "error",
     "traceback": [
      "\u001b[1;31m---------------------------------------------------------------------------\u001b[0m",
      "\u001b[1;31mTypeError\u001b[0m                                 Traceback (most recent call last)",
      "Cell \u001b[1;32mIn[23], line 1\u001b[0m\n\u001b[1;32m----> 1\u001b[0m \u001b[43mcall_me\u001b[49m\u001b[43m(\u001b[49m\u001b[38;5;241;43m1\u001b[39;49m\u001b[43m)\u001b[49m\n",
      "\u001b[1;31mTypeError\u001b[0m: call_me() missing 1 required positional argument: 'y'"
     ]
    }
   ],
   "source": [
    "call_me(1)"
   ]
  },
  {
   "cell_type": "code",
   "execution_count": 24,
   "metadata": {},
   "outputs": [
    {
     "ename": "TypeError",
     "evalue": "call_me() takes 2 positional arguments but 3 were given",
     "output_type": "error",
     "traceback": [
      "\u001b[1;31m---------------------------------------------------------------------------\u001b[0m",
      "\u001b[1;31mTypeError\u001b[0m                                 Traceback (most recent call last)",
      "Cell \u001b[1;32mIn[24], line 1\u001b[0m\n\u001b[1;32m----> 1\u001b[0m \u001b[43mcall_me\u001b[49m\u001b[43m(\u001b[49m\u001b[38;5;241;43m1\u001b[39;49m\u001b[43m,\u001b[49m\u001b[38;5;241;43m2\u001b[39;49m\u001b[43m,\u001b[49m\u001b[38;5;241;43m3\u001b[39;49m\u001b[43m)\u001b[49m\n",
      "\u001b[1;31mTypeError\u001b[0m: call_me() takes 2 positional arguments but 3 were given"
     ]
    }
   ],
   "source": [
    "call_me(1,2,3)"
   ]
  },
  {
   "cell_type": "markdown",
   "metadata": {},
   "source": [
    "#### Positional vs Keyword parameters\n",
    "\n",
    "* Most langauges support positional parameter syntax.\n",
    "    * If a functiont take three arguments x,y,z and we pass 3 arguments\n",
    "        * first argument will be assigned to first parameter\n",
    "        * second argument will be assigned to second parameter\n",
    "        * third argument will be assigned to third parameter\n",
    "\n",
    "* Python calls this concept as positional parameter.\n",
    "    * arugments identified by their position.\n",
    "\n",
    "* Python supports an alternative **keyword argument** syntax.\n",
    "    * In this case we supply the argument by explicitly telling for which parameter this value is given\n",
    "    * In such a case we can provide arguments in a different order also\n",
    "        "
   ]
  },
  {
   "cell_type": "code",
   "execution_count": 25,
   "metadata": {},
   "outputs": [],
   "source": [
    "def call_me(x,y,z):\n",
    "    print(f'x={x}\\ty={y}\\tz={z}')"
   ]
  },
  {
   "cell_type": "code",
   "execution_count": 26,
   "metadata": {},
   "outputs": [
    {
     "name": "stdout",
     "output_type": "stream",
     "text": [
      "x=1\ty=2\tz=3\n"
     ]
    }
   ],
   "source": [
    "call_me(1,2,3) # positional syntax. x=1, y=2, z=3"
   ]
  },
  {
   "cell_type": "code",
   "execution_count": 27,
   "metadata": {},
   "outputs": [
    {
     "name": "stdout",
     "output_type": "stream",
     "text": [
      "x=3\ty=1\tz=2\n"
     ]
    }
   ],
   "source": [
    "call_me(y=1, z=2, x=3) # keyword syntax. we can pass in any order we like"
   ]
  },
  {
   "cell_type": "markdown",
   "metadata": {},
   "source": [
    "#### we can also use the hybrid syntax.\n",
    "\n",
    "* few by position\n",
    "* few by keyword\n",
    "\n",
    "##### Important\n",
    "\n",
    "* when using hybrid positional syntax must preceed keyword arguments"
   ]
  },
  {
   "cell_type": "code",
   "execution_count": 28,
   "metadata": {},
   "outputs": [
    {
     "name": "stdout",
     "output_type": "stream",
     "text": [
      "x=1\ty=5\tz=20\n"
     ]
    }
   ],
   "source": [
    "call_me(1, z=20, y=5)  # positional --->x=1 , keywords --> z=5, y=2"
   ]
  },
  {
   "cell_type": "code",
   "execution_count": 29,
   "metadata": {},
   "outputs": [
    {
     "ename": "SyntaxError",
     "evalue": "positional argument follows keyword argument (3158697891.py, line 1)",
     "output_type": "error",
     "traceback": [
      "\u001b[1;36m  Cell \u001b[1;32mIn[29], line 1\u001b[1;36m\u001b[0m\n\u001b[1;33m    call_me(y=1, x=2, 5)\u001b[0m\n\u001b[1;37m                       ^\u001b[0m\n\u001b[1;31mSyntaxError\u001b[0m\u001b[1;31m:\u001b[0m positional argument follows keyword argument\n"
     ]
    }
   ],
   "source": [
    "call_me(y=1, x=2, 5) "
   ]
  },
  {
   "cell_type": "markdown",
   "metadata": {},
   "source": [
    "#### Default Argument for a parameter\n",
    "\n",
    "* Python allows us to provide some default value for a parameter\n",
    "* In that case it is ok to not pass that parameter\n",
    "    * default value will be used, if parameter is not passed"
   ]
  },
  {
   "cell_type": "code",
   "execution_count": 30,
   "metadata": {},
   "outputs": [],
   "source": [
    "def call_me(x, y=10, z=20):\n",
    "    print(f'x={x}\\ty={y}\\tz={z}')"
   ]
  },
  {
   "cell_type": "code",
   "execution_count": 31,
   "metadata": {},
   "outputs": [
    {
     "name": "stdout",
     "output_type": "stream",
     "text": [
      "x=1\ty=2\tz=3\n"
     ]
    }
   ],
   "source": [
    "call_me(1,2,3) # default will be ignored as user supplied values"
   ]
  },
  {
   "cell_type": "code",
   "execution_count": 32,
   "metadata": {},
   "outputs": [
    {
     "name": "stdout",
     "output_type": "stream",
     "text": [
      "x=1\ty=2\tz=20\n"
     ]
    }
   ],
   "source": [
    "call_me(1,2) # y will have user defined value 2, z will use default 20"
   ]
  },
  {
   "cell_type": "code",
   "execution_count": 33,
   "metadata": {},
   "outputs": [
    {
     "name": "stdout",
     "output_type": "stream",
     "text": [
      "x=1\ty=10\tz=100\n"
     ]
    }
   ],
   "source": [
    "call_me(1, z=100) # positional ---> x=1   keyword---> z=100  default --->y=10"
   ]
  },
  {
   "cell_type": "code",
   "execution_count": 34,
   "metadata": {},
   "outputs": [
    {
     "name": "stdout",
     "output_type": "stream",
     "text": [
      "x=1\ty=10\tz=20\n"
     ]
    }
   ],
   "source": [
    "call_me(1) # positional ---> x=1 default ---> y=10, z=20"
   ]
  },
  {
   "cell_type": "code",
   "execution_count": 35,
   "metadata": {},
   "outputs": [
    {
     "ename": "TypeError",
     "evalue": "call_me() missing 1 required positional argument: 'x'",
     "output_type": "error",
     "traceback": [
      "\u001b[1;31m---------------------------------------------------------------------------\u001b[0m",
      "\u001b[1;31mTypeError\u001b[0m                                 Traceback (most recent call last)",
      "Cell \u001b[1;32mIn[35], line 1\u001b[0m\n\u001b[1;32m----> 1\u001b[0m \u001b[43mcall_me\u001b[49m\u001b[43m(\u001b[49m\u001b[43m)\u001b[49m \u001b[38;5;66;03m# x has no default. must be supplied either as positional or keyword\u001b[39;00m\n",
      "\u001b[1;31mTypeError\u001b[0m: call_me() missing 1 required positional argument: 'x'"
     ]
    }
   ],
   "source": [
    "call_me() # x has no default. must be supplied either as positional or keyword"
   ]
  },
  {
   "cell_type": "markdown",
   "metadata": {},
   "source": [
    "### Assignment 1.4\n",
    "\n",
    "1. write a program to find out the week day corresponding to a date\n",
    "    * example: \n",
    "        * week_day(1948,1,30) #Friday\n",
    "        * week_day(2024,5,20) #Monday\n",
    "\n",
    "2. write another function to print the calendar of a given month,year\n",
    "    * print_calendar( 1, 1948)\n",
    "\n",
    "\n",
    "\n",
    "#### IMPORTANT\n",
    "\n",
    "1. You can't use any builtin or third party library or googled (and friends) logic\n",
    "\n",
    "\n",
    "### Logic\n",
    "\n",
    "1. Take a reference date.\n",
    "    * Example: Jan 1st, 2001 was a monday.\n",
    "\n",
    "2. Find the number of days between the reference date and input date\n",
    "\n",
    "\n",
    "3. Mod it with 7\n",
    "\n",
    "4. If result is \n",
    "    * 0 ---> Monday\n",
    "    * 1 ---> Tuesday\n",
    "    * 2 ---> Wednesday\n",
    "\n",
    "\n",
    "\n",
    "#### Note:\n",
    "\n",
    "* to find the gap, you may also have to calculate\n",
    "    * number of days in a month\n",
    "    * if the year is a leap year\n",
    "\n",
    "\n",
    "\n"
   ]
  },
  {
   "cell_type": "markdown",
   "metadata": {},
   "source": [
    "### Best Coding Practices\n",
    "\n",
    "* Avoid global codes.\n",
    "    * prefer to define functions to represent everything.\n",
    "    * functions can be reused.\n",
    "\n",
    "* Avoid taking **print** and **user input** within a function unless the functions core job requires this.\n",
    "    * If a function's name is not explictly print or show, don't print.\n",
    "\n",
    "* Prefer to supply information (input) using function parameter and respond (output) using **return**"
   ]
  },
  {
   "cell_type": "markdown",
   "metadata": {},
   "source": [
    "### Solution to Assignment 1.4\n",
    "\n",
    "#### 1. is leap year\n",
    "\n",
    "* common perception: every 4th year is a leap year.\n",
    "    * year divisible by 4 is a leap year.\n",
    "    * but this is an incomplete information.\n",
    "\n",
    "* full condition\n",
    "    * every 4th year is a leap year\n",
    "        * exception every 100th year is not a leap year\n",
    "            * exception every 400th year is a leap year\n",
    "                * years 1700, 1800, 1900 were not leap years\n",
    "                    * year 2000 was a leap year\n",
    "                        * next century year to be lear year would be 2400"
   ]
  },
  {
   "cell_type": "code",
   "execution_count": 20,
   "metadata": {},
   "outputs": [],
   "source": [
    "def is_leap_year(year):\n",
    "    if year%4==0:\n",
    "        if year%100==0:\n",
    "            if year%400==0:\n",
    "                return True\n",
    "            else:\n",
    "                return False\n",
    "        else:\n",
    "            return True\n",
    "        \n",
    "    else:\n",
    "        return False\n",
    "    "
   ]
  },
  {
   "cell_type": "markdown",
   "metadata": {},
   "source": [
    "### Letus to a quick test"
   ]
  },
  {
   "cell_type": "code",
   "execution_count": 21,
   "metadata": {},
   "outputs": [
    {
     "name": "stdout",
     "output_type": "stream",
     "text": [
      "False\n",
      "True\n",
      "True\n",
      "False\n"
     ]
    }
   ],
   "source": [
    "print(is_leap_year(1900)) #False\n",
    "print(is_leap_year(2000)) #True\n",
    "print(is_leap_year(1980)) #True\n",
    "print(is_leap_year(1990)) #False"
   ]
  },
  {
   "cell_type": "markdown",
   "metadata": {},
   "source": [
    "#### is_leap() version #2"
   ]
  },
  {
   "cell_type": "code",
   "execution_count": 22,
   "metadata": {},
   "outputs": [],
   "source": [
    "def is_leap_year(year):\n",
    "    if  year%400==0 or (year%4==0 and year%100!=0):\n",
    "        return True\n",
    "    else:\n",
    "        return False"
   ]
  },
  {
   "cell_type": "code",
   "execution_count": 16,
   "metadata": {},
   "outputs": [
    {
     "name": "stdout",
     "output_type": "stream",
     "text": [
      "False\n",
      "True\n",
      "True\n",
      "False\n"
     ]
    }
   ],
   "source": [
    "print(is_leap_year(1900)) #False\n",
    "print(is_leap_year(2000)) #True\n",
    "print(is_leap_year(1980)) #True\n",
    "print(is_leap_year(1990)) #False"
   ]
  },
  {
   "cell_type": "markdown",
   "metadata": {},
   "source": [
    "### Find days in a month\n",
    "\n",
    "* for most months, passing month parameter is sufficient\n",
    "* But for Feb, I have to pass both month and year to decide.\n",
    "* For most cases year is not needed.\n",
    "    * we can give it any default value\n",
    "\n",
    "\n"
   ]
  },
  {
   "cell_type": "code",
   "execution_count": 36,
   "metadata": {},
   "outputs": [],
   "source": [
    "def days_in_month(month,year=1987):\n",
    "    \n",
    "    if month==2:\n",
    "        if is_leap_year(year):\n",
    "            return 29\n",
    "        else:\n",
    "            return 28\n",
    "    elif (month<8 and month%2!=0) or (month>=8 and month%2==0):\n",
    "        return 31\n",
    "    else:\n",
    "        return 30"
   ]
  },
  {
   "cell_type": "markdown",
   "metadata": {},
   "source": [
    "### Test if it is working for all cases\n"
   ]
  },
  {
   "cell_type": "code",
   "execution_count": 37,
   "metadata": {},
   "outputs": [
    {
     "name": "stdout",
     "output_type": "stream",
     "text": [
      "month 1 has 31 days\n",
      "month 2 has 28 days\n",
      "month 3 has 31 days\n",
      "month 4 has 30 days\n",
      "month 5 has 31 days\n",
      "month 6 has 30 days\n",
      "month 7 has 31 days\n",
      "month 8 has 31 days\n",
      "month 9 has 30 days\n",
      "month 10 has 31 days\n",
      "month 11 has 30 days\n",
      "month 12 has 31 days\n",
      "Feb 2024 has 29 days\n"
     ]
    }
   ],
   "source": [
    "### for all months in a non leap year\n",
    "\n",
    "for month in range(1,13): #1-12\n",
    "    print(f'month {month} has {days_in_month(month)} days')\n",
    "\n",
    "\n",
    "# check for a leap year feb\n",
    "\n",
    "print(f'Feb 2024 has {days_in_month(2,2024)} days')\n",
    "\n",
    "\n"
   ]
  },
  {
   "cell_type": "markdown",
   "metadata": {},
   "source": [
    "#### find days between dates\n",
    "\n",
    "* Find out how many days exist between two dates"
   ]
  },
  {
   "cell_type": "code",
   "execution_count": 40,
   "metadata": {},
   "outputs": [],
   "source": [
    "def find_gap(y1,m1,d1, y2,m2,d2):\n",
    "    gap=0\n",
    "    while not( y1==y2 and m1==m2 and d1==d2):\n",
    "        gap+=1\n",
    "        d1+=1\n",
    "        if d1>days_in_month(m1,y1):\n",
    "            d1=1\n",
    "            m1+=1\n",
    "            if m1>12:\n",
    "                m1=1\n",
    "                y1+=1\n",
    "\n",
    "    return gap"
   ]
  },
  {
   "cell_type": "markdown",
   "metadata": {},
   "source": [
    "### Let us test it"
   ]
  },
  {
   "cell_type": "code",
   "execution_count": 44,
   "metadata": {},
   "outputs": [
    {
     "name": "stdout",
     "output_type": "stream",
     "text": [
      "366\n",
      "365\n",
      "90\n",
      "90\n",
      "91\n"
     ]
    }
   ],
   "source": [
    "print( find_gap(2000,1,1, 2001,1,1))\n",
    "print( find_gap(2001,1,1, 2002,1,1))\n",
    "print( find_gap(2001,1,1, 2001,4,1))\n",
    "print(find_gap(1900,1,1,1900,4,1))\n",
    "print(find_gap(2000,1,1,2000,4,1))"
   ]
  },
  {
   "cell_type": "markdown",
   "metadata": {},
   "source": [
    "#### find the week day for a given date.\n",
    "\n",
    "* Here we will take on one date and find the gap with our reference data\n",
    "* we will do the mod and find the month."
   ]
  },
  {
   "cell_type": "code",
   "execution_count": 45,
   "metadata": {},
   "outputs": [],
   "source": [
    "def week_day_number(yy,mm,dd):\n",
    "\n",
    "    ref_yy, ref_mm, ref_dd = 2001 , 1 ,1  # 3 values are positionally assigned to three references.\n",
    "\n",
    "    gap = find_gap(ref_yy,ref_mm,ref_dd,yy,mm,dd)\n",
    "\n",
    "    return gap%7 # week_day_number\n",
    "\n",
    "\n",
    "def week_day_name(yy,mm,dd):\n",
    "    w = week_day_number(yy,mm,dd)\n",
    "    if w==0:\n",
    "        return \"Monday\"\n",
    "    elif w==1:\n",
    "        return \"Tuesday\"\n",
    "    elif w==2:\n",
    "        return \"Wednesday\"\n",
    "    elif w==3:\n",
    "        return \"Thursday\"\n",
    "    elif w==4:\n",
    "        return \"Friday\"\n",
    "    elif w==5:\n",
    "        return \"Saturday\"\n",
    "    elif w==6:\n",
    "        return \"Sunday\"\n",
    "\n"
   ]
  },
  {
   "cell_type": "markdown",
   "metadata": {},
   "source": [
    "### Let us test"
   ]
  },
  {
   "cell_type": "code",
   "execution_count": 47,
   "metadata": {},
   "outputs": [
    {
     "name": "stdout",
     "output_type": "stream",
     "text": [
      "Monday\n",
      "Tuesday\n"
     ]
    }
   ],
   "source": [
    "print(week_day_name(2001,1,1))\n",
    "print(week_day_name(2024,5,21))"
   ]
  },
  {
   "cell_type": "markdown",
   "metadata": {},
   "source": [
    "### But will it work for a past date?"
   ]
  },
  {
   "cell_type": "code",
   "execution_count": 48,
   "metadata": {},
   "outputs": [
    {
     "ename": "KeyboardInterrupt",
     "evalue": "",
     "output_type": "error",
     "traceback": [
      "\u001b[1;31m---------------------------------------------------------------------------\u001b[0m",
      "\u001b[1;31mKeyboardInterrupt\u001b[0m                         Traceback (most recent call last)",
      "Cell \u001b[1;32mIn[48], line 1\u001b[0m\n\u001b[1;32m----> 1\u001b[0m \u001b[38;5;28mprint\u001b[39m(\u001b[43mweek_day_name\u001b[49m\u001b[43m(\u001b[49m\u001b[38;5;241;43m1948\u001b[39;49m\u001b[43m,\u001b[49m\u001b[38;5;241;43m1\u001b[39;49m\u001b[43m,\u001b[49m\u001b[38;5;241;43m30\u001b[39;49m\u001b[43m)\u001b[49m) \u001b[38;5;66;03m#Friday\u001b[39;00m\n",
      "Cell \u001b[1;32mIn[45], line 11\u001b[0m, in \u001b[0;36mweek_day_name\u001b[1;34m(yy, mm, dd)\u001b[0m\n\u001b[0;32m     10\u001b[0m \u001b[38;5;28;01mdef\u001b[39;00m \u001b[38;5;21mweek_day_name\u001b[39m(yy,mm,dd):\n\u001b[1;32m---> 11\u001b[0m     w \u001b[38;5;241m=\u001b[39m \u001b[43mweek_day_number\u001b[49m\u001b[43m(\u001b[49m\u001b[43myy\u001b[49m\u001b[43m,\u001b[49m\u001b[43mmm\u001b[49m\u001b[43m,\u001b[49m\u001b[43mdd\u001b[49m\u001b[43m)\u001b[49m\n\u001b[0;32m     12\u001b[0m     \u001b[38;5;28;01mif\u001b[39;00m w\u001b[38;5;241m==\u001b[39m\u001b[38;5;241m0\u001b[39m:\n\u001b[0;32m     13\u001b[0m         \u001b[38;5;28;01mreturn\u001b[39;00m \u001b[38;5;124m\"\u001b[39m\u001b[38;5;124mMonday\u001b[39m\u001b[38;5;124m\"\u001b[39m\n",
      "Cell \u001b[1;32mIn[45], line 5\u001b[0m, in \u001b[0;36mweek_day_number\u001b[1;34m(yy, mm, dd)\u001b[0m\n\u001b[0;32m      1\u001b[0m \u001b[38;5;28;01mdef\u001b[39;00m \u001b[38;5;21mweek_day_number\u001b[39m(yy,mm,dd):\n\u001b[0;32m      3\u001b[0m     ref_yy, ref_mm, ref_dd \u001b[38;5;241m=\u001b[39m \u001b[38;5;241m2001\u001b[39m , \u001b[38;5;241m1\u001b[39m ,\u001b[38;5;241m1\u001b[39m  \u001b[38;5;66;03m# 3 values are positionally assigned to three references.\u001b[39;00m\n\u001b[1;32m----> 5\u001b[0m     gap \u001b[38;5;241m=\u001b[39m \u001b[43mfind_gap\u001b[49m\u001b[43m(\u001b[49m\u001b[43mref_yy\u001b[49m\u001b[43m,\u001b[49m\u001b[43mref_mm\u001b[49m\u001b[43m,\u001b[49m\u001b[43mref_dd\u001b[49m\u001b[43m,\u001b[49m\u001b[43myy\u001b[49m\u001b[43m,\u001b[49m\u001b[43mmm\u001b[49m\u001b[43m,\u001b[49m\u001b[43mdd\u001b[49m\u001b[43m)\u001b[49m\n\u001b[0;32m      7\u001b[0m     \u001b[38;5;28;01mreturn\u001b[39;00m gap\u001b[38;5;241m%\u001b[39m\u001b[38;5;241m7\u001b[39m\n",
      "Cell \u001b[1;32mIn[40], line 6\u001b[0m, in \u001b[0;36mfind_gap\u001b[1;34m(y1, m1, d1, y2, m2, d2)\u001b[0m\n\u001b[0;32m      4\u001b[0m gap\u001b[38;5;241m+\u001b[39m\u001b[38;5;241m=\u001b[39m\u001b[38;5;241m1\u001b[39m\n\u001b[0;32m      5\u001b[0m d1\u001b[38;5;241m+\u001b[39m\u001b[38;5;241m=\u001b[39m\u001b[38;5;241m1\u001b[39m\n\u001b[1;32m----> 6\u001b[0m \u001b[38;5;28;01mif\u001b[39;00m d1\u001b[38;5;241m>\u001b[39m\u001b[43mdays_in_month\u001b[49m\u001b[43m(\u001b[49m\u001b[43mm1\u001b[49m\u001b[43m,\u001b[49m\u001b[43my1\u001b[49m\u001b[43m)\u001b[49m:\n\u001b[0;32m      7\u001b[0m     d1\u001b[38;5;241m=\u001b[39m\u001b[38;5;241m1\u001b[39m\n\u001b[0;32m      8\u001b[0m     m1\u001b[38;5;241m+\u001b[39m\u001b[38;5;241m=\u001b[39m\u001b[38;5;241m1\u001b[39m\n",
      "Cell \u001b[1;32mIn[36], line 1\u001b[0m, in \u001b[0;36mdays_in_month\u001b[1;34m(month, year)\u001b[0m\n\u001b[1;32m----> 1\u001b[0m \u001b[38;5;28;01mdef\u001b[39;00m \u001b[38;5;21mdays_in_month\u001b[39m(month,year\u001b[38;5;241m=\u001b[39m\u001b[38;5;241m1987\u001b[39m):\n\u001b[0;32m      3\u001b[0m     \u001b[38;5;28;01mif\u001b[39;00m month\u001b[38;5;241m==\u001b[39m\u001b[38;5;241m2\u001b[39m:\n\u001b[0;32m      4\u001b[0m         \u001b[38;5;28;01mif\u001b[39;00m is_leap_year(year):\n",
      "\u001b[1;31mKeyboardInterrupt\u001b[0m: "
     ]
    }
   ],
   "source": [
    "print(week_day_name(1948,1,30)) #Friday"
   ]
  },
  {
   "cell_type": "markdown",
   "metadata": {},
   "source": [
    "### Problem\n",
    "\n",
    "* we have started from ref date towards input date\n",
    "* if input date is in past it will become endless date.\n",
    "\n",
    "### Solution\n",
    "\n",
    "#### Option A\n",
    "* check which date is bigger\n",
    "    * check year\n",
    "        * if year same, check month\n",
    "            * if month is same check day\n",
    "\n",
    "* move from smaller to bigger date\n",
    "\n",
    "\n",
    "### Option B\n",
    "\n",
    "* Let us introduce a base date in the extreme past: 1/1/0000\n",
    "\n",
    "* Always find a gap date from this base date.\n",
    "\n",
    "* Follow the following graph\n",
    "\n",
    "<pre>\n",
    "\n",
    "1/1/0000(base date)\n",
    "  |\n",
    "  |                          dy=(31/12/yyyy-1) -->days till 1/1/yyyyy \n",
    "  |-----------------------------dy-------dm------| (dd/mm/yyyy)\n",
    "  |                                \n",
    "  |                                 dm=( xx/mm-1/yyy) --> days till 1/mm/yyyy\n",
    "  |                                * xx is the last day of previous month\n",
    "\n",
    "</pre>\n",
    "\n",
    "* Now the total gap will be  x+y+dd where\n",
    "    * x--> days before the begining of this year\n",
    "    * y--> days before the begining of this month\n",
    "    * dd --> days in this month\n",
    "\n",
    "\n",
    "### date_value\n",
    "* by finding the gap from a base date we are assigning a single number to every date\n",
    "\n",
    "* it is faster as we don't loop for all years rather apply some basic maths\n",
    "\n",
    "* We don't expect dates to fall beyond that point."
   ]
  },
  {
   "cell_type": "code",
   "execution_count": 69,
   "metadata": {},
   "outputs": [],
   "source": [
    "def date_value(yy,mm,dd):\n",
    "    # find how many days passed till begining of current year yy\n",
    "    py=yy-1\n",
    "\n",
    "    dy= py*365 #approximately 365 days per year\n",
    "    dy+= py//4 # every 4th year is a leap year. not // is int division\n",
    "    dy-= py//100 # but every 100th year is not a leap year\n",
    "    dy+= py//400 # but every 400th year is a leap year\n",
    "\n",
    "    dm=0\n",
    "    for m in range(1,mm): #excluding mm\n",
    "        dm+=days_in_month(m,yy)\n",
    "\n",
    "    return dy+dm+dd\n",
    "    \n",
    "\n"
   ]
  },
  {
   "cell_type": "markdown",
   "metadata": {},
   "source": [
    "### Now find the week day number\n",
    "\n",
    "* We will again take ref date (not base date)\n",
    "    * It could be anything 1/1/2006\n",
    "\n",
    "* Now we follow following graph:\n",
    "\n",
    "<pre>\n",
    " |\n",
    " |\n",
    " |-----------------------------------|------------------| future_date (value)\n",
    " |\n",
    " |-----------------|-----------------| ref_date (value)\n",
    " |\n",
    " |\n",
    " |-----------------| past_date (value)\n",
    " |\n",
    "</pre>\n",
    "\n",
    "\n",
    "* since each date has a value, we can easily find the gap by substracting them"
   ]
  },
  {
   "cell_type": "code",
   "execution_count": 70,
   "metadata": {},
   "outputs": [],
   "source": [
    "def week_day_number(yy,mm,dd):\n",
    "    ref_date_value = date_value(2001,1,1)\n",
    "    value=date_value(yy,mm,dd)\n",
    "\n",
    "    return (value-ref_date_value)%7"
   ]
  },
  {
   "cell_type": "code",
   "execution_count": 71,
   "metadata": {},
   "outputs": [
    {
     "name": "stdout",
     "output_type": "stream",
     "text": [
      "Tuesday\n",
      "Friday\n",
      "Monday\n"
     ]
    }
   ],
   "source": [
    "print( week_day_name(2024,5,21))\n",
    "print( week_day_name(1948,1,30))\n",
    "print( week_day_name(2001,1,1))"
   ]
  },
  {
   "cell_type": "markdown",
   "metadata": {},
   "source": []
  }
 ],
 "metadata": {
  "kernelspec": {
   "display_name": "Python 3",
   "language": "python",
   "name": "python3"
  },
  "language_info": {
   "codemirror_mode": {
    "name": "ipython",
    "version": 3
   },
   "file_extension": ".py",
   "mimetype": "text/x-python",
   "name": "python",
   "nbconvert_exporter": "python",
   "pygments_lexer": "ipython3",
   "version": "3.12.1"
  }
 },
 "nbformat": 4,
 "nbformat_minor": 2
}
