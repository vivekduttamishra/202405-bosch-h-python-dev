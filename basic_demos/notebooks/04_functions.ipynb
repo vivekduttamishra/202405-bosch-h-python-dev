{
 "cells": [
  {
   "cell_type": "markdown",
   "metadata": {},
   "source": [
    "# Function\n",
    "\n",
    "* It is the basic building block for any application.\n",
    "* It is the smallest unit of code reuse.\n",
    "* typical design of a function is\n",
    "\n",
    "```python\n",
    "def function_name(p1,p2 ):\n",
    "    statement1\n",
    "    statement2\n",
    "    statement3\n",
    "    return result\n",
    "```\n",
    "\n",
    "* Here everything other than **def function_name** is optional\n",
    "    * function may take 0 or more arguments\n",
    "    * It may have zero or more statements\n",
    "    * It may or many not return a result\n",
    "\n",
    "### The samllest (and perhaps a meningless function would be )\n",
    "\n",
    "* Note for anystatement that requires a child block, we may use \"pass\" to indicate empty block"
   ]
  },
  {
   "cell_type": "code",
   "execution_count": 2,
   "metadata": {},
   "outputs": [],
   "source": [
    "def do_nothing():\n",
    "    pass"
   ]
  },
  {
   "cell_type": "code",
   "execution_count": 3,
   "metadata": {},
   "outputs": [
    {
     "data": {
      "text/plain": [
       "function"
      ]
     },
     "execution_count": 3,
     "metadata": {},
     "output_type": "execute_result"
    }
   ],
   "source": [
    "type(do_nothing)"
   ]
  },
  {
   "cell_type": "code",
   "execution_count": 4,
   "metadata": {},
   "outputs": [],
   "source": [
    "do_nothing()"
   ]
  },
  {
   "cell_type": "markdown",
   "metadata": {},
   "source": [
    "### Our function may take argument and return a result"
   ]
  },
  {
   "cell_type": "code",
   "execution_count": 5,
   "metadata": {},
   "outputs": [],
   "source": [
    "def greet(name):\n",
    "    return f\"Hello {name}, Welcome to Python\""
   ]
  },
  {
   "cell_type": "code",
   "execution_count": 6,
   "metadata": {},
   "outputs": [
    {
     "data": {
      "text/plain": [
       "'Hello Bosch, Welcome to Python'"
      ]
     },
     "execution_count": 6,
     "metadata": {},
     "output_type": "execute_result"
    }
   ],
   "source": [
    "greet(\"Bosch\")"
   ]
  },
  {
   "cell_type": "code",
   "execution_count": 7,
   "metadata": {},
   "outputs": [],
   "source": [
    "def plus(x,y):\n",
    "    return x+y"
   ]
  },
  {
   "cell_type": "code",
   "execution_count": 8,
   "metadata": {},
   "outputs": [
    {
     "data": {
      "text/plain": [
       "5"
      ]
     },
     "execution_count": 8,
     "metadata": {},
     "output_type": "execute_result"
    }
   ],
   "source": [
    "plus(2,3)"
   ]
  },
  {
   "cell_type": "code",
   "execution_count": 9,
   "metadata": {},
   "outputs": [
    {
     "data": {
      "text/plain": [
       "18"
      ]
     },
     "execution_count": 9,
     "metadata": {},
     "output_type": "execute_result"
    }
   ],
   "source": [
    "plus(9,9)"
   ]
  },
  {
   "cell_type": "markdown",
   "metadata": {},
   "source": [
    "#### A function that returns nothing returns None"
   ]
  },
  {
   "cell_type": "code",
   "execution_count": 10,
   "metadata": {},
   "outputs": [],
   "source": [
    "def greet(name):\n",
    "    print(f\"Hello {name}, Welcome to Python\")\n"
   ]
  },
  {
   "cell_type": "code",
   "execution_count": 11,
   "metadata": {},
   "outputs": [
    {
     "name": "stdout",
     "output_type": "stream",
     "text": [
      "Hello Bosch, Welcome to Python\n"
     ]
    }
   ],
   "source": [
    "# we can call this function to print value\n",
    "\n",
    "greet(\"Bosch\")"
   ]
  },
  {
   "cell_type": "code",
   "execution_count": 12,
   "metadata": {},
   "outputs": [
    {
     "name": "stdout",
     "output_type": "stream",
     "text": [
      "Hello Bosch, Welcome to Python\n",
      "None\n"
     ]
    }
   ],
   "source": [
    "#But this function doesn't return a result\n",
    "\n",
    "x = greet('Bosch')\n",
    "\n",
    "print(x)"
   ]
  },
  {
   "cell_type": "markdown",
   "metadata": {},
   "source": [
    "### Assignment 1.4\n",
    "\n",
    "1. write a program to find out the week day corresponding to a date\n",
    "    * example: \n",
    "        * week_day(1948,1,30) #Friday\n",
    "        * week_day(2024,5,20) #Monday\n",
    "\n",
    "2. write another function to print the calendar of a given month,year\n",
    "    * print_calendar( 1, 1948)\n",
    "\n",
    "\n",
    "\n",
    "#### IMPORTANT\n",
    "\n",
    "1. You can't use any builtin or third party library or googled (and friends) logic\n",
    "\n",
    "\n",
    "### Logic\n",
    "\n",
    "1. Take a reference date.\n",
    "    * Example: Jan 1st, 2001 was a monday.\n",
    "\n",
    "2. Find the number of days between the reference date and input date\n",
    "\n",
    "\n",
    "3. Mod it with 7\n",
    "\n",
    "4. If result is \n",
    "    * 0 ---> Monday\n",
    "    * 1 ---> Tuesday\n",
    "    * 2 ---> Wednesday\n",
    "\n",
    "\n",
    "\n",
    "#### Note:\n",
    "\n",
    "* to find the gap, you may also have to calculate\n",
    "    * number of days in a month\n",
    "    * if the year is a leap year\n",
    "\n",
    "\n",
    "\n"
   ]
  },
  {
   "cell_type": "code",
   "execution_count": null,
   "metadata": {},
   "outputs": [],
   "source": []
  }
 ],
 "metadata": {
  "kernelspec": {
   "display_name": "Python 3",
   "language": "python",
   "name": "python3"
  },
  "language_info": {
   "codemirror_mode": {
    "name": "ipython",
    "version": 3
   },
   "file_extension": ".py",
   "mimetype": "text/x-python",
   "name": "python",
   "nbconvert_exporter": "python",
   "pygments_lexer": "ipython3",
   "version": "3.12.1"
  }
 },
 "nbformat": 4,
 "nbformat_minor": 2
}
