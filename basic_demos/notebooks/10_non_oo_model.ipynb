{
 "cells": [
  {
   "cell_type": "markdown",
   "metadata": {},
   "source": [
    "## Challenges with Non OO Code.\n",
    "\n",
    "### Use Case: Calculate the area and perimeter of a Triangle"
   ]
  },
  {
   "cell_type": "code",
   "execution_count": 1,
   "metadata": {},
   "outputs": [],
   "source": [
    "def perimeter(s1,s2,s3):\n",
    "    return s1+s2+s3"
   ]
  },
  {
   "cell_type": "markdown",
   "metadata": {},
   "source": [
    "### Let's test the periemter for the triangle\n",
    "\n",
    "\n",
    "#### It works property with valid values."
   ]
  },
  {
   "cell_type": "code",
   "execution_count": 4,
   "metadata": {},
   "outputs": [
    {
     "data": {
      "text/plain": [
       "12"
      ]
     },
     "execution_count": 4,
     "metadata": {},
     "output_type": "execute_result"
    }
   ],
   "source": [
    "t1s1,t1s2,t1s3 = 3,4,5\n",
    "\n",
    "perimeter(t1s1,t1s2,t1s3)"
   ]
  },
  {
   "cell_type": "markdown",
   "metadata": {},
   "source": [
    "#### But what happens if we have invalid values?"
   ]
  },
  {
   "cell_type": "code",
   "execution_count": 5,
   "metadata": {},
   "outputs": [
    {
     "data": {
      "text/plain": [
       "19"
      ]
     },
     "execution_count": 5,
     "metadata": {},
     "output_type": "execute_result"
    }
   ],
   "source": [
    "t2s1,t2s2,t2s3 = 3,4,12\n",
    "perimeter(t2s1,t2s2,t2s3)"
   ]
  },
  {
   "cell_type": "markdown",
   "metadata": {},
   "source": [
    "### Problem #1\n",
    "\n",
    "* We can't form a valid triangle with sides 3,4,12\n",
    "* Rule: sum of every two sides should be greater than the third.\n",
    "* But this code doesn't fail. \n",
    "    * In not failing, it actually failed.\n",
    "\n",
    "\n",
    "#### Solution: Write the validation logic."
   ]
  },
  {
   "cell_type": "code",
   "execution_count": 6,
   "metadata": {},
   "outputs": [],
   "source": [
    "def validate(s1,s2,s3):\n",
    "    if s1>0 and s2>0 and s3>0 and \\\n",
    "        s1+s2>s3 and s2+s3>s1 and s1+s3>s2:\n",
    "        return True\n",
    "    else:\n",
    "        return False\n",
    "    \n",
    "def perimeter(s1,s2,s3):\n",
    "    if validate(s1,s2,s3):\n",
    "        return s1+s2+s3\n",
    "    else:\n",
    "        return None\n",
    "    "
   ]
  },
  {
   "cell_type": "markdown",
   "metadata": {},
   "source": [
    "### Now It should work with valid values."
   ]
  },
  {
   "cell_type": "code",
   "execution_count": 7,
   "metadata": {},
   "outputs": [
    {
     "data": {
      "text/plain": [
       "12"
      ]
     },
     "execution_count": 7,
     "metadata": {},
     "output_type": "execute_result"
    }
   ],
   "source": [
    "perimeter(t1s1,t1s2,t1s3)"
   ]
  },
  {
   "cell_type": "markdown",
   "metadata": {},
   "source": [
    "### And should work expectedly in error conditions. (not give perimeter)\n",
    "\n",
    "#### Aside: REPL doesn't show None. It shows nothing.\n",
    "\n",
    "* If you want to see None, use print"
   ]
  },
  {
   "cell_type": "code",
   "execution_count": 8,
   "metadata": {},
   "outputs": [],
   "source": [
    "perimeter(t2s1,t2s2,t2s3)"
   ]
  },
  {
   "cell_type": "code",
   "execution_count": 9,
   "metadata": {},
   "outputs": [
    {
     "name": "stdout",
     "output_type": "stream",
     "text": [
      "None\n"
     ]
    }
   ],
   "source": [
    "print(perimeter(t2s1,t2s2,t2s3))"
   ]
  },
  {
   "cell_type": "markdown",
   "metadata": {},
   "source": [
    "#### Challenge 2"
   ]
  },
  {
   "cell_type": "code",
   "execution_count": 12,
   "metadata": {},
   "outputs": [
    {
     "data": {
      "text/plain": [
       "13"
      ]
     },
     "execution_count": 12,
     "metadata": {},
     "output_type": "execute_result"
    }
   ],
   "source": [
    "perimeter(t1s1,t2s2,6)"
   ]
  },
  {
   "cell_type": "code",
   "execution_count": 13,
   "metadata": {},
   "outputs": [
    {
     "data": {
      "text/plain": [
       "208"
      ]
     },
     "execution_count": 13,
     "metadata": {},
     "output_type": "execute_result"
    }
   ],
   "source": [
    "manAge,manHeight,manWeight=60,68,80\n",
    "\n",
    "perimeter(manAge,manHeight,manWeight)"
   ]
  },
  {
   "cell_type": "markdown",
   "metadata": {},
   "source": [
    "### Problem (Objservation)\n",
    "\n",
    "* perimeter function isn't calculating perimeter. \n",
    "    * It is summing three values, that can theoretically form a Triangle.\n",
    "\n",
    "* it can work with any random set of numbers given to it including\n",
    "    * sides of different triangle\n",
    "    * radius of a circle and two sides of arectangle\n",
    "    * height, age, weight of a man\n",
    "\n",
    "## What is the Main Problem?\n",
    "\n",
    "* We don't have a **triangle** \n",
    "\n",
    "* we are trying to calculate the perimeter of a triangle, but never defined, what is a triangle.\n",
    "\n",
    "* since we are passing 3 numbers, we can't control the source of those numbers.\n",
    "    * perimeter is about **one** triangle with three sides\n",
    "        * it's not about ~~three~~ different unrelated things."
   ]
  },
  {
   "cell_type": "markdown",
   "metadata": {},
   "source": []
  }
 ],
 "metadata": {
  "kernelspec": {
   "display_name": "Python 3",
   "language": "python",
   "name": "python3"
  },
  "language_info": {
   "codemirror_mode": {
    "name": "ipython",
    "version": 3
   },
   "file_extension": ".py",
   "mimetype": "text/x-python",
   "name": "python",
   "nbconvert_exporter": "python",
   "pygments_lexer": "ipython3",
   "version": "3.12.1"
  }
 },
 "nbformat": 4,
 "nbformat_minor": 2
}
