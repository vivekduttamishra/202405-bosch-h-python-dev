{
 "cells": [
  {
   "cell_type": "markdown",
   "metadata": {},
   "source": [
    "# What is an Object Oriented Design\n",
    "\n",
    "* The idea is to model the important elements of our domain in programming.\n",
    "    * where domain is the **problem space** \n",
    "\n",
    "### Use Cases\n",
    "\n",
    "* Use Case #1: Employee Management System\n",
    "    * import objects/elements in this design would be\n",
    "        * Employee like\n",
    "            * Developer\n",
    "            * Manager\n",
    "            * Accountant\n",
    "        * Department like\n",
    "            * Accounts\n",
    "            * HR\n",
    "            \n",
    "        * Project like\n",
    "            * AI\n",
    "\n",
    "    * Salary Slip\n",
    "    * Attendance Records\n",
    "\n",
    "* Use Case #2: Wizarding World of Harry Potter\n",
    "\n",
    "    * Magic Wand\n",
    "    * Magic Spell\n",
    "    * Broom\n",
    "    * Quiditch Game\n",
    "\n",
    "* The elements (like SalarySlip or MagicWand) are generally termed as Objects\n",
    "\n",
    "### Object\n",
    "* represent an entity that has\n",
    "    * properties (information)\n",
    "        * example: MagicWand\n",
    "            * length\n",
    "            * material\n",
    "            * core \n",
    "            * owner\n",
    "        * example2: Bank Account\n",
    "            * account number\n",
    "            * balance\n",
    "            * password\n",
    "    * Behavior (action or usage)\n",
    "        * example: MagicWand\n",
    "            * castSpell()\n",
    "        * example 2: Bank Account\n",
    "            * deposit()\n",
    "            * withdraw()\n",
    "    \n",
    "## How do we model (represent) objects\n",
    "\n",
    "### Most Popular Approach (C++/Java/C#) --> class based approach.\n",
    "\n",
    "* To represent an object, we  define a class.\n",
    "* A class contains the definition of\n",
    "    * properties \n",
    "        * represented using data fields (variables)\n",
    "    * behavior\n",
    "        * represented using methods (functions)\n",
    "\n",
    "##### Step 1: Create a class.\n",
    "* we first define a class containing definition\n",
    "---\n",
    "```cpp\n",
    "class Triangle{\n",
    "private:\n",
    "    int s1,s2,s3;\n",
    "public:\n",
    "    Triangle(int x, int y, int z){\n",
    "        s1 = x;\n",
    "        s2 = y;\n",
    "        s3 = z;\n",
    "    }\n",
    "    int perimeter(){\n",
    "        if(validate())\n",
    "            return s1+s2+s3;\n",
    "        else\n",
    "            return -1;\n",
    "    }\n",
    "\n",
    "    bool validate(){\n",
    "        return s1>0 && s2>0 && s3>0 && //rest of logic\n",
    "    }   \n",
    "\n",
    "}\n",
    "```\n",
    "---\n",
    "##### Step #2 create the Object\n",
    "\n",
    "---\n",
    "```cpp\n",
    "int main(){\n",
    "    Triangle t1=Triangle(3,4,5);\n",
    "\n",
    "    int p =t1.perimeter()\n",
    "    \n",
    "    cout<<p<<endl;\n",
    "    return 0;\n",
    "}\n",
    "\n",
    "```\n",
    "---\n",
    "\n",
    "#### IMPORTANT DESIGN ELEMENTS\n",
    "\n",
    "* Everything you object has (properties) or can do (behavior) is defined in the class\n",
    "* An object can't change that\n",
    "* An object can't add additional properties or behaviors.\n",
    "    * it must follow class definition\n",
    "        * can't add anything\n",
    "        * can't modify anything\n",
    "        * can't delete anything\n",
    "\n",
    "* class is a static entity\n",
    "    * to change it we have to change the source (reprogram)\n",
    "\n",
    "* object is created at runtime\n",
    "    * but it depends on class\n",
    "    * so essentially, object also becomes static\n",
    "    * any change in object requires change in class.\n"
   ]
  },
  {
   "cell_type": "markdown",
   "metadata": {},
   "source": [
    "### Why is a class called a class?\n",
    "\n",
    "* class ---> classificiation\n",
    "* basis of classification ---> properties and behaviors\n",
    "* mostly used for\n",
    "    * identifying object type\n",
    "    * definining all properties and behaviors\n",
    "\n",
    "\n",
    "##### Problem\n",
    "* classfication doesn't really mean identity\n",
    "* not all properties/behaviors are needed for classficiation\n"
   ]
  },
  {
   "cell_type": "markdown",
   "metadata": {},
   "source": [
    "## Python OO Model is Different.\n",
    "\n",
    "* Althoug it also starts with a class.\n",
    "* In python the **core goal** of a class is to **define an object type.**\n",
    "* **Optional features**\n",
    "    * define properties and behaviors\n",
    "\n",
    "### 1. The simplest python class."
   ]
  },
  {
   "cell_type": "code",
   "execution_count": 1,
   "metadata": {},
   "outputs": [],
   "source": [
    "class Triangle:\n",
    "    pass"
   ]
  },
  {
   "cell_type": "markdown",
   "metadata": {},
   "source": [
    "#### What good can an empty class do?\n",
    "\n",
    "1. It helps us create an object.\n",
    "2. It defines the type of the object that can be programmetically checked.\n",
    "    * This is important because now we have something to represent our Triangle."
   ]
  },
  {
   "cell_type": "code",
   "execution_count": 7,
   "metadata": {},
   "outputs": [],
   "source": [
    "#step 1. create an object\n",
    "\n",
    "t=Triangle()"
   ]
  },
  {
   "cell_type": "code",
   "execution_count": 8,
   "metadata": {},
   "outputs": [
    {
     "name": "stdout",
     "output_type": "stream",
     "text": [
      "<class '__main__.Triangle'>\n"
     ]
    }
   ],
   "source": [
    "# step 2. we can identify 't' as Triangle\n",
    "\n",
    "print(type(t))"
   ]
  },
  {
   "cell_type": "code",
   "execution_count": 9,
   "metadata": {},
   "outputs": [
    {
     "name": "stdout",
     "output_type": "stream",
     "text": [
      "True\n",
      "False\n"
     ]
    }
   ],
   "source": [
    "# step 3. we can check it using another function isinstance\n",
    "\n",
    "print(isinstance(t,Triangle)) #True\n",
    "print(isinstance(t,list)) #False"
   ]
  },
  {
   "cell_type": "markdown",
   "metadata": {},
   "source": [
    "#### When an object is created, it has some information pre-attached to it\n",
    "\n",
    "* these predefined properties have their own meaning\n",
    "* generally they have double underscore prefix and suffix.\n"
   ]
  },
  {
   "cell_type": "code",
   "execution_count": 10,
   "metadata": {},
   "outputs": [
    {
     "name": "stdout",
     "output_type": "stream",
     "text": [
      "['__class__', '__delattr__', '__dict__', '__dir__', '__doc__', '__eq__', '__format__', '__ge__', '__getattribute__', '__getstate__', '__gt__', '__hash__', '__init__', '__init_subclass__', '__le__', '__lt__', '__module__', '__ne__', '__new__', '__reduce__', '__reduce_ex__', '__repr__', '__setattr__', '__sizeof__', '__str__', '__subclasshook__', '__weakref__']\n"
     ]
    }
   ],
   "source": [
    "print(dir(t))"
   ]
  },
  {
   "cell_type": "markdown",
   "metadata": {},
   "source": [
    "### Let us create user_dir() our own function to return user defined properties only"
   ]
  },
  {
   "cell_type": "code",
   "execution_count": 25,
   "metadata": {},
   "outputs": [],
   "source": [
    "def user_dir(obj):\n",
    "    return [property for property in dir(obj) if not property.endswith(\"__\")]\n"
   ]
  },
  {
   "cell_type": "code",
   "execution_count": 26,
   "metadata": {},
   "outputs": [
    {
     "data": {
      "text/plain": [
       "['s1', 's2', 's3']"
      ]
     },
     "execution_count": 26,
     "metadata": {},
     "output_type": "execute_result"
    }
   ],
   "source": [
    "user_dir(t)"
   ]
  },
  {
   "cell_type": "markdown",
   "metadata": {},
   "source": [
    "### An object can have properties (information)\n",
    "\n",
    "* we can attach different properties with an object once we create it\n",
    "\n",
    "#### IMPORTANT NOTE: Difference with other Languages\n",
    "\n",
    "* in c++ style languages, \n",
    "    * the class defines what properties we can have\n",
    "        * object doesn't have a choice.\n",
    "    * object is created with those properties.\n",
    "\n",
    "* in python\n",
    "    * class **does not** define object's properties.\n",
    "    * they are added to the object, once it is created."
   ]
  },
  {
   "cell_type": "code",
   "execution_count": 30,
   "metadata": {},
   "outputs": [
    {
     "name": "stdout",
     "output_type": "stream",
     "text": [
      "[]\n"
     ]
    }
   ],
   "source": [
    "#step 1. create triangle\n",
    "t=Triangle()\n",
    "\n",
    "#at this point, triangle has no sides or information\n",
    "print(user_dir(t))\n"
   ]
  },
  {
   "cell_type": "code",
   "execution_count": 31,
   "metadata": {},
   "outputs": [
    {
     "name": "stdout",
     "output_type": "stream",
     "text": [
      "['s1', 's2', 's3']\n",
      "3 4 5\n"
     ]
    }
   ],
   "source": [
    "# step 2. add properties to \"t\"\n",
    "\n",
    "t.s1=3\n",
    "t.s2=4\n",
    "t.s3=5\n",
    "\n",
    "print(user_dir(t))\n",
    "print(t.s1,t.s2,t.s3)"
   ]
  },
  {
   "cell_type": "markdown",
   "metadata": {},
   "source": [
    "### Which is a better option: Property defined by class or Object?\n",
    "\n",
    "* what is more realistic?\n",
    "    * in real-world object evolves over a period\n",
    "    * it gets new behavior and properties.\n",
    "    * class based approach doesn't allow an object to grow\n",
    "\n",
    "* Example\n",
    "    * what if we want triangle to have color tomorrow?\n",
    "    * in c++ if triangle class doesn't define color, your object can't have color.\n",
    "    * in python, color can be added as an after thought"
   ]
  },
  {
   "cell_type": "code",
   "execution_count": 33,
   "metadata": {},
   "outputs": [
    {
     "name": "stdout",
     "output_type": "stream",
     "text": [
      "['color', 's1', 's2', 's3']\n",
      "blue\n"
     ]
    }
   ],
   "source": [
    "t.color=\"blue\"\n",
    "\n",
    "print(user_dir(t))\n",
    "print(t.color)"
   ]
  },
  {
   "cell_type": "markdown",
   "metadata": {},
   "source": [
    "### How does this idea help with perimeter()?\n",
    "\n",
    "* now perimeter will not take three sides, but **one** triangle having three sides.\n",
    "    * we will not be able to pass\n",
    "        * sides of different triangle\n",
    "        * details related to a human."
   ]
  },
  {
   "cell_type": "code",
   "execution_count": 35,
   "metadata": {},
   "outputs": [],
   "source": [
    "def validate(t):\n",
    "    return t.s1>0 and t.s2>0 and t.s3>0 and \\\n",
    "            t.s1+t.s2>t.s3 and t.s2+t.s3>t.s1 and t.s1+t.s3>t.s2\n",
    "\n",
    "def perimeter(t):\n",
    "    if validate(t):\n",
    "        return t.s1+t.s2+t.s3\n",
    "    else:\n",
    "        return None\n",
    "    \n",
    "def area(t):\n",
    "    if validate(t):\n",
    "        s=(t.s1+t.s2+t.s3)/2\n",
    "        return (s*(s-t.s1)*(s-t.s2)*(s-t.s3))**0.5\n",
    "    else:\n",
    "        return None\n",
    "    \n",
    "def draw(t):\n",
    "    if validate(t):\n",
    "        print(f'Triangle<{t.s1},{t.s2},{t.s3}>')\n",
    "    else:\n",
    "        print(\"Invalid Triangle\")\n",
    "\n",
    "\n",
    "def create_triangle(s1,s2,s3):\n",
    "    t=Triangle()\n",
    "    t.s1=s1\n",
    "    t.s2=s2\n",
    "    t.s3=s3\n",
    "    return t"
   ]
  },
  {
   "cell_type": "code",
   "execution_count": 36,
   "metadata": {},
   "outputs": [],
   "source": [
    "def test_triangle(t):\n",
    "    draw(t)\n",
    "    print(f'Perimeter: {perimeter(t)}')\n",
    "    print(f'Area: {area(t)}')\n",
    "    print('-'*50,end=\"\\n\\n\")"
   ]
  },
  {
   "cell_type": "markdown",
   "metadata": {},
   "source": [
    "#### Let us test few triangle\n",
    "\n"
   ]
  },
  {
   "cell_type": "code",
   "execution_count": 37,
   "metadata": {},
   "outputs": [
    {
     "name": "stdout",
     "output_type": "stream",
     "text": [
      "Triangle<3,4,5>\n",
      "Perimeter: 12\n",
      "Area: 6.0\n",
      "--------------------------------------------------\n",
      "\n",
      "Invalid Triangle\n",
      "Perimeter: None\n",
      "Area: None\n",
      "--------------------------------------------------\n",
      "\n"
     ]
    }
   ],
   "source": [
    "t1=create_triangle(3,4,5) # valid triangle\n",
    "test_triangle(t1)\n",
    "\n",
    "t2=create_triangle(0,4,5) # invalid triangle\n",
    "test_triangle(t2)"
   ]
  },
  {
   "cell_type": "markdown",
   "metadata": {},
   "source": [
    "### Advantage\n",
    "\n",
    "* since we can pass a single object, we can't pass unrelated information.\n",
    "\n",
    "\n",
    "#### Problem: what if we pass a Quadilateral with sides s1,s2,s3,s4?"
   ]
  },
  {
   "cell_type": "code",
   "execution_count": 38,
   "metadata": {},
   "outputs": [
    {
     "name": "stdout",
     "output_type": "stream",
     "text": [
      "Triangle<3,4,5>\n",
      "Perimeter: 12\n",
      "Area: 6.0\n",
      "--------------------------------------------------\n",
      "\n"
     ]
    }
   ],
   "source": [
    "class Quadilateral:\n",
    "    pass\n",
    "\n",
    "q=Quadilateral()\n",
    "\n",
    "q.s1=3\n",
    "q.s2=4\n",
    "q.s3=5\n",
    "q.s4=6\n",
    "\n",
    "test_triangle(q)"
   ]
  },
  {
   "cell_type": "markdown",
   "metadata": {},
   "source": [
    "### But we can fix it"
   ]
  },
  {
   "cell_type": "code",
   "execution_count": 39,
   "metadata": {},
   "outputs": [],
   "source": [
    "def validate(t):\n",
    "    return isinstance(t,Triangle) and\\\n",
    "            t.s1>0 and t.s2>0 and t.s3>0 and \\\n",
    "            t.s1+t.s2>t.s3 and t.s2+t.s3>t.s1 and t.s1+t.s3>t.s2 "
   ]
  },
  {
   "cell_type": "code",
   "execution_count": 40,
   "metadata": {},
   "outputs": [
    {
     "name": "stdout",
     "output_type": "stream",
     "text": [
      "Triangle<3,4,5>\n",
      "Perimeter: 12\n",
      "Area: 6.0\n",
      "--------------------------------------------------\n",
      "\n",
      "Invalid Triangle\n",
      "Perimeter: None\n",
      "Area: None\n",
      "--------------------------------------------------\n",
      "\n",
      "Invalid Triangle\n",
      "Perimeter: None\n",
      "Area: None\n",
      "--------------------------------------------------\n",
      "\n"
     ]
    }
   ],
   "source": [
    "test_triangle(t1) #works\n",
    "\n",
    "test_triangle(t2) #fails for invalid sides\n",
    "\n",
    "test_triangle(q) #fails for invalid triangle."
   ]
  },
  {
   "cell_type": "markdown",
   "metadata": {},
   "source": [
    "### Let us define functionalties for Circle"
   ]
  },
  {
   "cell_type": "code",
   "execution_count": 41,
   "metadata": {},
   "outputs": [],
   "source": [
    "import math\n",
    "\n",
    "class Circle:\n",
    "    pass\n",
    "\n",
    "def validate(c):\n",
    "    return isinstance(c,Circle) and c.r>0\n",
    "\n",
    "def perimeter(c):\n",
    "    if validate(c):\n",
    "        return 2*math.pi*c.r\n",
    "    else:\n",
    "        return None\n",
    "    \n",
    "def area(c):\n",
    "    if validate(c):\n",
    "        return math.pi*c.r**2\n",
    "    else:\n",
    "        return None\n",
    "    \n",
    "def create_circle(radius):\n",
    "    c=Circle()\n",
    "    c.r=radius\n",
    "    return c\n",
    "\n",
    "def draw(c):\n",
    "    if validate(c):\n",
    "        print(f'Circle({c.r})')\n",
    "    else:\n",
    "        print(\"Invalid Circle\")\n",
    "\n",
    "\n"
   ]
  },
  {
   "cell_type": "code",
   "execution_count": 42,
   "metadata": {},
   "outputs": [],
   "source": [
    "def test_circle(c):\n",
    "    draw(c)\n",
    "    print(f'Perimeter: {perimeter(c)}')\n",
    "    print(f'Area: {area(c)}')\n",
    "    print('-'*50,end=\"\\n\\n\")"
   ]
  },
  {
   "cell_type": "markdown",
   "metadata": {},
   "source": [
    "#### Let's check the Circle "
   ]
  },
  {
   "cell_type": "code",
   "execution_count": 44,
   "metadata": {},
   "outputs": [
    {
     "name": "stdout",
     "output_type": "stream",
     "text": [
      "Circle(7)\n",
      "Perimeter: 43.982297150257104\n",
      "Area: 153.93804002589985\n",
      "--------------------------------------------------\n",
      "\n",
      "Invalid Circle\n",
      "Perimeter: None\n",
      "Area: None\n",
      "--------------------------------------------------\n",
      "\n"
     ]
    }
   ],
   "source": [
    "c1= create_circle(7) # valid\n",
    "test_circle(c1)\n",
    "\n",
    "c2= create_circle(0) # invalid\n",
    "test_circle(c2)"
   ]
  },
  {
   "cell_type": "markdown",
   "metadata": {},
   "source": [
    "### Let us try to test Triangle again."
   ]
  },
  {
   "cell_type": "code",
   "execution_count": 46,
   "metadata": {},
   "outputs": [
    {
     "name": "stdout",
     "output_type": "stream",
     "text": [
      "<class '__main__.Triangle'>\n",
      "5 12 13\n",
      "Invalid Circle\n",
      "Perimeter: None\n",
      "Area: None\n",
      "--------------------------------------------------\n",
      "\n"
     ]
    }
   ],
   "source": [
    "t3=create_triangle(5,12,13) # valid triangle\n",
    "print(type(t3))\n",
    "print(t3.s1,t3.s2,t3.s3)\n",
    "test_triangle(t3)"
   ]
  },
  {
   "cell_type": "markdown",
   "metadata": {},
   "source": [
    "### The Problem\n",
    "\n",
    "* when we created area(circle), perimeter(circle), draw(circle), \n",
    "    * they overwrote area(triangle), perimeter(triangle), draw(triangle)\n",
    "    * because they had same name.\n",
    "    * now we don't have these functions for triangle anymore\n",
    "\n",
    "\n",
    "* we don't have the same problem with create_triangle() and draw_triangle()\n",
    "    * names are unqiuely different.\n",
    "\n",
    "\n",
    "## Solution\n",
    "\n",
    "* there can be multiple solutions\n",
    "\n",
    "### Solution 1 [AVOID]  use unique names\n",
    "\n",
    "* area_circle()\n",
    "* perimeter_circle()\n",
    "* draw_circle()\n",
    "* create_triangle()\n",
    "* draw_triangle()\n",
    "\n",
    "* this is not object oriented model\n",
    "\n",
    "\n",
    "### Solution 2 Use Modules to make the functions non-global\n",
    "\n",
    "* have separate modules circle and triangle \n",
    "* each module can contain respective codes\n",
    "* import them to use."
   ]
  },
  {
   "cell_type": "code",
   "execution_count": null,
   "metadata": {},
   "outputs": [],
   "source": []
  }
 ],
 "metadata": {
  "kernelspec": {
   "display_name": "Python 3",
   "language": "python",
   "name": "python3"
  },
  "language_info": {
   "codemirror_mode": {
    "name": "ipython",
    "version": 3
   },
   "file_extension": ".py",
   "mimetype": "text/x-python",
   "name": "python",
   "nbconvert_exporter": "python",
   "pygments_lexer": "ipython3",
   "version": "3.12.1"
  }
 },
 "nbformat": 4,
 "nbformat_minor": 2
}
