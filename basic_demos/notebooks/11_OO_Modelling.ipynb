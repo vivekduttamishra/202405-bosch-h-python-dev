{
 "cells": [
  {
   "cell_type": "markdown",
   "metadata": {},
   "source": [
    "# What is an Object Oriented Design\n",
    "\n",
    "* The idea is to model the important elements of our domain in programming.\n",
    "    * where domain is the **problem space** \n",
    "\n",
    "### Use Cases\n",
    "\n",
    "* Use Case #1: Employee Management System\n",
    "    * import objects/elements in this design would be\n",
    "        * Employee like\n",
    "            * Developer\n",
    "            * Manager\n",
    "            * Accountant\n",
    "        * Department like\n",
    "            * Accounts\n",
    "            * HR\n",
    "            \n",
    "        * Project like\n",
    "            * AI\n",
    "\n",
    "    * Salary Slip\n",
    "    * Attendance Records\n",
    "\n",
    "* Use Case #2: Wizarding World of Harry Potter\n",
    "\n",
    "    * Magic Wand\n",
    "    * Magic Spell\n",
    "    * Broom\n",
    "    * Quiditch Game\n",
    "\n",
    "* The elements (like SalarySlip or MagicWand) are generally termed as Objects\n",
    "\n",
    "### Object\n",
    "* represent an entity that has\n",
    "    * properties (information)\n",
    "        * example: MagicWand\n",
    "            * length\n",
    "            * material\n",
    "            * core \n",
    "            * owner\n",
    "        * example2: Bank Account\n",
    "            * account number\n",
    "            * balance\n",
    "            * password\n",
    "    * Behavior (action or usage)\n",
    "        * example: MagicWand\n",
    "            * castSpell()\n",
    "        * example 2: Bank Account\n",
    "            * deposit()\n",
    "            * withdraw()\n",
    "    \n",
    "## How do we model (represent) objects\n",
    "\n",
    "### Most Popular Approach (C++/Java/C#) --> class based approach.\n",
    "\n",
    "* To represent an object, we  define a class.\n",
    "* A class contains the definition of\n",
    "    * properties \n",
    "        * represented using data fields (variables)\n",
    "    * behavior\n",
    "        * represented using methods (functions)\n",
    "\n",
    "##### Step 1: Create a class.\n",
    "* we first define a class containing definition\n",
    "---\n",
    "```cpp\n",
    "class Triangle{\n",
    "private:\n",
    "    int s1,s2,s3;\n",
    "public:\n",
    "    Triangle(int x, int y, int z){\n",
    "        s1 = x;\n",
    "        s2 = y;\n",
    "        s3 = z;\n",
    "    }\n",
    "    int perimeter(){\n",
    "        if(validate())\n",
    "            return s1+s2+s3;\n",
    "        else\n",
    "            return -1;\n",
    "    }\n",
    "\n",
    "    bool validate(){\n",
    "        return s1>0 && s2>0 && s3>0 && //rest of logic\n",
    "    }   \n",
    "\n",
    "}\n",
    "```\n",
    "---\n",
    "##### Step #2 create the Object\n",
    "\n",
    "---\n",
    "```cpp\n",
    "int main(){\n",
    "    Triangle t1=Triangle(3,4,5);\n",
    "\n",
    "    int p =t1.perimeter()\n",
    "    \n",
    "    cout<<p<<endl;\n",
    "    return 0;\n",
    "}\n",
    "\n",
    "```\n",
    "---\n",
    "\n",
    "#### IMPORTANT DESIGN ELEMENTS\n",
    "\n",
    "* Everything you object has (properties) or can do (behavior) is defined in the class\n",
    "* An object can't change that\n",
    "* An object can't add additional properties or behaviors.\n",
    "    * it must follow class definition\n",
    "        * can't add anything\n",
    "        * can't modify anything\n",
    "        * can't delete anything\n",
    "\n",
    "* class is a static entity\n",
    "    * to change it we have to change the source (reprogram)\n",
    "\n",
    "* object is created at runtime\n",
    "    * but it depends on class\n",
    "    * so essentially, object also becomes static\n",
    "    * any change in object requires change in class.\n"
   ]
  },
  {
   "cell_type": "markdown",
   "metadata": {},
   "source": [
    "### Why is a class called a class?\n",
    "\n",
    "* class ---> classificiation\n",
    "* basis of classification ---> properties and behaviors\n",
    "* mostly used for\n",
    "    * identifying object type\n",
    "    * definining all properties and behaviors\n",
    "\n",
    "\n",
    "##### Problem\n",
    "* classfication doesn't really mean identity\n",
    "* not all properties/behaviors are needed for classficiation\n"
   ]
  },
  {
   "cell_type": "markdown",
   "metadata": {},
   "source": [
    "## Python OO Model is Different.\n",
    "\n",
    "* Althoug it also starts with a class.\n",
    "* In python the **core goal** of a class is to **define an object type.**\n",
    "* **Optional features**\n",
    "    * define properties and behaviors\n",
    "\n",
    "### 1. The simplest python class."
   ]
  },
  {
   "cell_type": "code",
   "execution_count": 1,
   "metadata": {},
   "outputs": [],
   "source": [
    "class Triangle:\n",
    "    pass"
   ]
  },
  {
   "cell_type": "markdown",
   "metadata": {},
   "source": [
    "#### What good can an empty class do?\n",
    "\n",
    "1. It helps us create an object.\n",
    "2. It defines the type of the object that can be programmetically checked.\n",
    "    * This is important because now we have something to represent our Triangle."
   ]
  },
  {
   "cell_type": "code",
   "execution_count": 7,
   "metadata": {},
   "outputs": [],
   "source": [
    "#step 1. create an object\n",
    "\n",
    "t=Triangle()"
   ]
  },
  {
   "cell_type": "code",
   "execution_count": 8,
   "metadata": {},
   "outputs": [
    {
     "name": "stdout",
     "output_type": "stream",
     "text": [
      "<class '__main__.Triangle'>\n"
     ]
    }
   ],
   "source": [
    "# step 2. we can identify 't' as Triangle\n",
    "\n",
    "print(type(t))"
   ]
  },
  {
   "cell_type": "code",
   "execution_count": 9,
   "metadata": {},
   "outputs": [
    {
     "name": "stdout",
     "output_type": "stream",
     "text": [
      "True\n",
      "False\n"
     ]
    }
   ],
   "source": [
    "# step 3. we can check it using another function isinstance\n",
    "\n",
    "print(isinstance(t,Triangle)) #True\n",
    "print(isinstance(t,list)) #False"
   ]
  },
  {
   "cell_type": "markdown",
   "metadata": {},
   "source": [
    "#### When an object is created, it has some information pre-attached to it\n",
    "\n",
    "* these predefined properties have their own meaning\n",
    "* generally they have double underscore prefix and suffix.\n"
   ]
  },
  {
   "cell_type": "code",
   "execution_count": 10,
   "metadata": {},
   "outputs": [
    {
     "name": "stdout",
     "output_type": "stream",
     "text": [
      "['__class__', '__delattr__', '__dict__', '__dir__', '__doc__', '__eq__', '__format__', '__ge__', '__getattribute__', '__getstate__', '__gt__', '__hash__', '__init__', '__init_subclass__', '__le__', '__lt__', '__module__', '__ne__', '__new__', '__reduce__', '__reduce_ex__', '__repr__', '__setattr__', '__sizeof__', '__str__', '__subclasshook__', '__weakref__']\n"
     ]
    }
   ],
   "source": [
    "print(dir(t))"
   ]
  },
  {
   "cell_type": "markdown",
   "metadata": {},
   "source": [
    "### Let us create user_dir() our own function to return user defined properties only"
   ]
  },
  {
   "cell_type": "code",
   "execution_count": 25,
   "metadata": {},
   "outputs": [],
   "source": [
    "def user_dir(obj):\n",
    "    return [property for property in dir(obj) if not property.endswith(\"__\")]\n"
   ]
  },
  {
   "cell_type": "code",
   "execution_count": 26,
   "metadata": {},
   "outputs": [
    {
     "data": {
      "text/plain": [
       "['s1', 's2', 's3']"
      ]
     },
     "execution_count": 26,
     "metadata": {},
     "output_type": "execute_result"
    }
   ],
   "source": [
    "user_dir(t)"
   ]
  },
  {
   "cell_type": "markdown",
   "metadata": {},
   "source": [
    "### An object can have properties (information)\n",
    "\n",
    "* we can attach different properties with an object once we create it\n",
    "\n",
    "#### IMPORTANT NOTE: Difference with other Languages\n",
    "\n",
    "* in c++ style languages, \n",
    "    * the class defines what properties we can have\n",
    "        * object doesn't have a choice.\n",
    "    * object is created with those properties.\n",
    "\n",
    "* in python\n",
    "    * class **does not** define object's properties.\n",
    "    * they are added to the object, once it is created."
   ]
  },
  {
   "cell_type": "code",
   "execution_count": 30,
   "metadata": {},
   "outputs": [
    {
     "name": "stdout",
     "output_type": "stream",
     "text": [
      "[]\n"
     ]
    }
   ],
   "source": [
    "#step 1. create triangle\n",
    "t=Triangle()\n",
    "\n",
    "#at this point, triangle has no sides or information\n",
    "print(user_dir(t))\n"
   ]
  },
  {
   "cell_type": "code",
   "execution_count": 31,
   "metadata": {},
   "outputs": [
    {
     "name": "stdout",
     "output_type": "stream",
     "text": [
      "['s1', 's2', 's3']\n",
      "3 4 5\n"
     ]
    }
   ],
   "source": [
    "# step 2. add properties to \"t\"\n",
    "\n",
    "t.s1=3\n",
    "t.s2=4\n",
    "t.s3=5\n",
    "\n",
    "print(user_dir(t))\n",
    "print(t.s1,t.s2,t.s3)"
   ]
  },
  {
   "cell_type": "markdown",
   "metadata": {},
   "source": [
    "### Which is a better option: Property defined by class or Object?\n",
    "\n",
    "* what is more realistic?\n",
    "    * in real-world object evolves over a period\n",
    "    * it gets new behavior and properties.\n",
    "    * class based approach doesn't allow an object to grow\n",
    "\n",
    "* Example\n",
    "    * what if we want triangle to have color tomorrow?\n",
    "    * in c++ if triangle class doesn't define color, your object can't have color.\n",
    "    * in python, color can be added as an after thought"
   ]
  },
  {
   "cell_type": "code",
   "execution_count": 33,
   "metadata": {},
   "outputs": [
    {
     "name": "stdout",
     "output_type": "stream",
     "text": [
      "['color', 's1', 's2', 's3']\n",
      "blue\n"
     ]
    }
   ],
   "source": [
    "t.color=\"blue\"\n",
    "\n",
    "print(user_dir(t))\n",
    "print(t.color)"
   ]
  },
  {
   "cell_type": "markdown",
   "metadata": {},
   "source": [
    "### How does this idea help with perimeter()?\n",
    "\n",
    "* now perimeter will not take three sides, but **one** triangle having three sides.\n",
    "    * we will not be able to pass\n",
    "        * sides of different triangle\n",
    "        * details related to a human."
   ]
  },
  {
   "cell_type": "code",
   "execution_count": 35,
   "metadata": {},
   "outputs": [],
   "source": [
    "def validate(t):\n",
    "    return t.s1>0 and t.s2>0 and t.s3>0 and \\\n",
    "            t.s1+t.s2>t.s3 and t.s2+t.s3>t.s1 and t.s1+t.s3>t.s2\n",
    "\n",
    "def perimeter(t):\n",
    "    if validate(t):\n",
    "        return t.s1+t.s2+t.s3\n",
    "    else:\n",
    "        return None\n",
    "    \n",
    "def area(t):\n",
    "    if validate(t):\n",
    "        s=(t.s1+t.s2+t.s3)/2\n",
    "        return (s*(s-t.s1)*(s-t.s2)*(s-t.s3))**0.5\n",
    "    else:\n",
    "        return None\n",
    "    \n",
    "def draw(t):\n",
    "    if validate(t):\n",
    "        print(f'Triangle<{t.s1},{t.s2},{t.s3}>')\n",
    "    else:\n",
    "        print(\"Invalid Triangle\")\n",
    "\n",
    "\n",
    "def create_triangle(s1,s2,s3):\n",
    "    t=Triangle()\n",
    "    t.s1=s1\n",
    "    t.s2=s2\n",
    "    t.s3=s3\n",
    "    return t"
   ]
  },
  {
   "cell_type": "code",
   "execution_count": 36,
   "metadata": {},
   "outputs": [],
   "source": [
    "def test_triangle(t):\n",
    "    draw(t)\n",
    "    print(f'Perimeter: {perimeter(t)}')\n",
    "    print(f'Area: {area(t)}')\n",
    "    print('-'*50,end=\"\\n\\n\")"
   ]
  },
  {
   "cell_type": "markdown",
   "metadata": {},
   "source": [
    "#### Let us test few triangle\n",
    "\n"
   ]
  },
  {
   "cell_type": "code",
   "execution_count": 37,
   "metadata": {},
   "outputs": [
    {
     "name": "stdout",
     "output_type": "stream",
     "text": [
      "Triangle<3,4,5>\n",
      "Perimeter: 12\n",
      "Area: 6.0\n",
      "--------------------------------------------------\n",
      "\n",
      "Invalid Triangle\n",
      "Perimeter: None\n",
      "Area: None\n",
      "--------------------------------------------------\n",
      "\n"
     ]
    }
   ],
   "source": [
    "t1=create_triangle(3,4,5) # valid triangle\n",
    "test_triangle(t1)\n",
    "\n",
    "t2=create_triangle(0,4,5) # invalid triangle\n",
    "test_triangle(t2)"
   ]
  },
  {
   "cell_type": "markdown",
   "metadata": {},
   "source": [
    "### Advantage\n",
    "\n",
    "* since we can pass a single object, we can't pass unrelated information.\n",
    "\n",
    "\n",
    "#### Problem: what if we pass a Quadilateral with sides s1,s2,s3,s4?"
   ]
  },
  {
   "cell_type": "code",
   "execution_count": 38,
   "metadata": {},
   "outputs": [
    {
     "name": "stdout",
     "output_type": "stream",
     "text": [
      "Triangle<3,4,5>\n",
      "Perimeter: 12\n",
      "Area: 6.0\n",
      "--------------------------------------------------\n",
      "\n"
     ]
    }
   ],
   "source": [
    "class Quadilateral:\n",
    "    pass\n",
    "\n",
    "q=Quadilateral()\n",
    "\n",
    "q.s1=3\n",
    "q.s2=4\n",
    "q.s3=5\n",
    "q.s4=6\n",
    "\n",
    "test_triangle(q)"
   ]
  },
  {
   "cell_type": "markdown",
   "metadata": {},
   "source": [
    "### But we can fix it"
   ]
  },
  {
   "cell_type": "code",
   "execution_count": 39,
   "metadata": {},
   "outputs": [],
   "source": [
    "def validate(t):\n",
    "    return isinstance(t,Triangle) and\\\n",
    "            t.s1>0 and t.s2>0 and t.s3>0 and \\\n",
    "            t.s1+t.s2>t.s3 and t.s2+t.s3>t.s1 and t.s1+t.s3>t.s2 "
   ]
  },
  {
   "cell_type": "code",
   "execution_count": 40,
   "metadata": {},
   "outputs": [
    {
     "name": "stdout",
     "output_type": "stream",
     "text": [
      "Triangle<3,4,5>\n",
      "Perimeter: 12\n",
      "Area: 6.0\n",
      "--------------------------------------------------\n",
      "\n",
      "Invalid Triangle\n",
      "Perimeter: None\n",
      "Area: None\n",
      "--------------------------------------------------\n",
      "\n",
      "Invalid Triangle\n",
      "Perimeter: None\n",
      "Area: None\n",
      "--------------------------------------------------\n",
      "\n"
     ]
    }
   ],
   "source": [
    "test_triangle(t1) #works\n",
    "\n",
    "test_triangle(t2) #fails for invalid sides\n",
    "\n",
    "test_triangle(q) #fails for invalid triangle."
   ]
  },
  {
   "cell_type": "markdown",
   "metadata": {},
   "source": [
    "### Let us define functionalties for Circle"
   ]
  },
  {
   "cell_type": "code",
   "execution_count": 41,
   "metadata": {},
   "outputs": [],
   "source": [
    "import math\n",
    "\n",
    "class Circle:\n",
    "    pass\n",
    "\n",
    "def validate(c):\n",
    "    return isinstance(c,Circle) and c.r>0\n",
    "\n",
    "def perimeter(c):\n",
    "    if validate(c):\n",
    "        return 2*math.pi*c.r\n",
    "    else:\n",
    "        return None\n",
    "    \n",
    "def area(c):\n",
    "    if validate(c):\n",
    "        return math.pi*c.r**2\n",
    "    else:\n",
    "        return None\n",
    "    \n",
    "def create_circle(radius):\n",
    "    c=Circle()\n",
    "    c.r=radius\n",
    "    return c\n",
    "\n",
    "def draw(c):\n",
    "    if validate(c):\n",
    "        print(f'Circle({c.r})')\n",
    "    else:\n",
    "        print(\"Invalid Circle\")\n",
    "\n",
    "\n"
   ]
  },
  {
   "cell_type": "code",
   "execution_count": 42,
   "metadata": {},
   "outputs": [],
   "source": [
    "def test_circle(c):\n",
    "    draw(c)\n",
    "    print(f'Perimeter: {perimeter(c)}')\n",
    "    print(f'Area: {area(c)}')\n",
    "    print('-'*50,end=\"\\n\\n\")"
   ]
  },
  {
   "cell_type": "markdown",
   "metadata": {},
   "source": [
    "#### Let's check the Circle "
   ]
  },
  {
   "cell_type": "code",
   "execution_count": 44,
   "metadata": {},
   "outputs": [
    {
     "name": "stdout",
     "output_type": "stream",
     "text": [
      "Circle(7)\n",
      "Perimeter: 43.982297150257104\n",
      "Area: 153.93804002589985\n",
      "--------------------------------------------------\n",
      "\n",
      "Invalid Circle\n",
      "Perimeter: None\n",
      "Area: None\n",
      "--------------------------------------------------\n",
      "\n"
     ]
    }
   ],
   "source": [
    "c1= create_circle(7) # valid\n",
    "test_circle(c1)\n",
    "\n",
    "c2= create_circle(0) # invalid\n",
    "test_circle(c2)"
   ]
  },
  {
   "cell_type": "markdown",
   "metadata": {},
   "source": [
    "### Let us try to test Triangle again."
   ]
  },
  {
   "cell_type": "code",
   "execution_count": 46,
   "metadata": {},
   "outputs": [
    {
     "name": "stdout",
     "output_type": "stream",
     "text": [
      "<class '__main__.Triangle'>\n",
      "5 12 13\n",
      "Invalid Circle\n",
      "Perimeter: None\n",
      "Area: None\n",
      "--------------------------------------------------\n",
      "\n"
     ]
    }
   ],
   "source": [
    "t3=create_triangle(5,12,13) # valid triangle\n",
    "print(type(t3))\n",
    "print(t3.s1,t3.s2,t3.s3)\n",
    "test_triangle(t3)"
   ]
  },
  {
   "cell_type": "markdown",
   "metadata": {},
   "source": [
    "### The Problem\n",
    "\n",
    "* when we created area(circle), perimeter(circle), draw(circle), \n",
    "    * they overwrote area(triangle), perimeter(triangle), draw(triangle)\n",
    "    * because they had same name.\n",
    "    * now we don't have these functions for triangle anymore\n",
    "\n",
    "\n",
    "* we don't have the same problem with create_triangle() and draw_triangle()\n",
    "    * names are unqiuely different.\n",
    "\n",
    "\n",
    "## Solution\n",
    "\n",
    "* there can be multiple solutions\n",
    "\n",
    "### Solution 1 [AVOID]  use unique names\n",
    "\n",
    "* area_circle()\n",
    "* perimeter_circle()\n",
    "* draw_circle()\n",
    "* create_triangle()\n",
    "* draw_triangle()\n",
    "\n",
    "* this is not object oriented model\n",
    "\n",
    "\n",
    "### Solution 2 Use Modules to make the functions non-global\n",
    "\n",
    "* have separate modules circle and triangle \n",
    "* each module can contain respective codes\n",
    "* import them to use."
   ]
  },
  {
   "cell_type": "code",
   "execution_count": 48,
   "metadata": {},
   "outputs": [],
   "source": [
    "import sys\n",
    "sys.path.append('../scripts')"
   ]
  },
  {
   "cell_type": "code",
   "execution_count": 49,
   "metadata": {},
   "outputs": [],
   "source": [
    "import circle \n",
    "import triangle"
   ]
  },
  {
   "cell_type": "code",
   "execution_count": 51,
   "metadata": {},
   "outputs": [],
   "source": [
    "def test_circle(shape):\n",
    "    circle.draw(shape)\n",
    "    print(f'Perimeter: {circle.perimeter(shape)}')\n",
    "    print(f'Area: {circle.area(shape)}')\n",
    "    print('-'*50,end=\"\\n\\n\")\n",
    "\n",
    "def test_triangle(shape):\n",
    "    triangle.draw(shape)\n",
    "    print(f'Perimeter: {triangle.perimeter(shape)}')\n",
    "    print(f'Area: {triangle.area(shape)}')\n",
    "    print('-'*50,end=\"\\n\\n\")"
   ]
  },
  {
   "cell_type": "markdown",
   "metadata": {},
   "source": [
    "### Now we can create objects of Circle and Triangle"
   ]
  },
  {
   "cell_type": "code",
   "execution_count": 52,
   "metadata": {},
   "outputs": [
    {
     "name": "stdout",
     "output_type": "stream",
     "text": [
      "Triangle<3,4,5>\n",
      "Perimeter: 12\n",
      "Area: 6.0\n",
      "--------------------------------------------------\n",
      "\n",
      "Invalid Triangle\n",
      "Perimeter: None\n",
      "Area: None\n",
      "--------------------------------------------------\n",
      "\n",
      "Circle(7)\n",
      "Perimeter: 43.982297150257104\n",
      "Area: 153.93804002589985\n",
      "--------------------------------------------------\n",
      "\n",
      "Invalid Circle\n",
      "Perimeter: None\n",
      "Area: None\n",
      "--------------------------------------------------\n",
      "\n"
     ]
    }
   ],
   "source": [
    "t1=triangle.create(3,4,5) #valid\n",
    "t2=triangle.create(3,4,12) #invalid\n",
    "\n",
    "c1=circle.create(7) #valid\n",
    "c2=circle.create(-1) #invalid\n",
    "\n",
    "test_triangle(t1)\n",
    "test_triangle(t2)\n",
    "\n",
    "test_circle(c1)\n",
    "test_circle(c2)"
   ]
  },
  {
   "cell_type": "markdown",
   "metadata": {},
   "source": [
    "## Solution #3 class as module \n",
    "\n",
    "* Everything in python is an object including\n",
    "    * values like int, float, list, str\n",
    "    * methods like print(), area(), perimeter()\n",
    "    * module\n",
    "    * class\n"
   ]
  },
  {
   "cell_type": "code",
   "execution_count": 54,
   "metadata": {},
   "outputs": [
    {
     "name": "stdout",
     "output_type": "stream",
     "text": [
      "<class 'type'>\n",
      "2047976022224\n"
     ]
    }
   ],
   "source": [
    "print(type(Triangle))\n",
    "print(id(Triangle))"
   ]
  },
  {
   "cell_type": "markdown",
   "metadata": {},
   "source": [
    "\n",
    "* we can add new properties (object) to an object\n",
    "    * we can add int (object) to Triangle\n",
    "\n",
    "#### Since class is an object and method is an object\n",
    "\n",
    "* we can add method as a property to a class\n",
    "* and class may act like a module to group related methods\n"
   ]
  },
  {
   "cell_type": "code",
   "execution_count": 55,
   "metadata": {},
   "outputs": [
    {
     "name": "stdout",
     "output_type": "stream",
     "text": [
      "0\n"
     ]
    }
   ],
   "source": [
    "Triangle.count=0\n",
    "print(Triangle.count)"
   ]
  },
  {
   "cell_type": "markdown",
   "metadata": {},
   "source": [
    "\n",
    "### class as a collection of related methods"
   ]
  },
  {
   "cell_type": "markdown",
   "metadata": {},
   "source": [
    "#### What have we got?\n",
    "\n",
    "1. We have a empty Triangle class\n",
    "    * but in python, class is also an object\n",
    "\n",
    "2. We have global functions: area(), perimeter(), draw(), create()\n",
    "    * The problem is they can be overwritten.\n",
    "\n",
    "3. But we can attach them to Triangle class \n"
   ]
  },
  {
   "cell_type": "code",
   "execution_count": 56,
   "metadata": {},
   "outputs": [],
   "source": [
    "\n",
    "\n",
    "class Triangle:\n",
    "    pass\n",
    "\n",
    "def validate(t):\n",
    "    return t.s1>0 and t.s2>0 and t.s3>0 and \\\n",
    "            t.s1+t.s2>t.s3 and t.s2+t.s3>t.s1 and t.s1+t.s3>t.s2\n",
    "\n",
    "Triangle.validate=validate\n",
    "\n"
   ]
  },
  {
   "cell_type": "markdown",
   "metadata": {},
   "source": [
    "### Advantage\n",
    "\n",
    "* validate(triangle) now has two references\n",
    "    1. global **validate**\n",
    "    2. Triangle.validate\n",
    "\n",
    "* if later we create validate(circle)\n",
    "    * it will overwrite global validate\n",
    "    * but it will not overwrite Triangle.validate\n",
    "\n",
    "\n"
   ]
  },
  {
   "cell_type": "code",
   "execution_count": 61,
   "metadata": {},
   "outputs": [
    {
     "name": "stdout",
     "output_type": "stream",
     "text": [
      "True\n",
      "False\n"
     ]
    }
   ],
   "source": [
    "t1=create_triangle(3,4,5)\n",
    "print(Triangle.validate(t1))\n",
    "\n",
    "t2=create_triangle(3,4,12)\n",
    "print(Triangle.validate(t2))"
   ]
  },
  {
   "cell_type": "markdown",
   "metadata": {},
   "source": [
    "#### If will work even if global validate is replaced"
   ]
  },
  {
   "cell_type": "code",
   "execution_count": 62,
   "metadata": {},
   "outputs": [
    {
     "name": "stdout",
     "output_type": "stream",
     "text": [
      "False\n",
      "True\n"
     ]
    }
   ],
   "source": [
    "def validate(x):\n",
    "    return False # dummy\n",
    "\n",
    "\n",
    "print(validate(t1)) #False\n",
    "print(Triangle.validate(t1)) #True"
   ]
  },
  {
   "cell_type": "markdown",
   "metadata": {},
   "source": [
    "#### Let us now update the remaining code"
   ]
  },
  {
   "cell_type": "code",
   "execution_count": 66,
   "metadata": {},
   "outputs": [],
   "source": [
    "\n",
    "\n",
    "def perimeter(t):\n",
    "    if Triangle.validate(t):\n",
    "        return t.s1+t.s2+t.s3\n",
    "    else:\n",
    "        return None\n",
    "    \n",
    "Triangle.perimeter=perimeter \n",
    "    \n",
    "def area(t):\n",
    "    if Triangle.validate(t):\n",
    "        s=(t.s1+t.s2+t.s3)/2\n",
    "        return (s*(s-t.s1)*(s-t.s2)*(s-t.s3))**0.5\n",
    "    else:\n",
    "        return None\n",
    "    \n",
    "Triangle.area=area \n",
    "    \n",
    "def draw(t, surface):\n",
    "    if Triangle.validate(t):\n",
    "        print(f'Triangle<{t.s1},{t.s2},{t.s3}> drawn on {surface}')\n",
    "    else:\n",
    "        print(\"Invalid Triangle\")\n",
    "\n",
    "Triangle.draw=draw\n",
    "\n",
    "def create(s1,s2,s3):\n",
    "    t=Triangle()\n",
    "    t.s1=s1\n",
    "    t.s2=s2\n",
    "    t.s3=s3\n",
    "    return t\n",
    "\n",
    "Triangle.create=create\n",
    "\n",
    "\n",
    "\n",
    "\n"
   ]
  },
  {
   "cell_type": "code",
   "execution_count": 71,
   "metadata": {},
   "outputs": [],
   "source": [
    "def test_triangle(t):\n",
    "    Triangle.draw(t,\"paper\")\n",
    "    print(f'Perimeter: {Triangle.perimeter(t)}')\n",
    "    print(f'Area: {Triangle.area(t)}')\n",
    "    print('-'*50,end=\"\\n\\n\")"
   ]
  },
  {
   "cell_type": "code",
   "execution_count": 72,
   "metadata": {},
   "outputs": [
    {
     "name": "stdout",
     "output_type": "stream",
     "text": [
      "Triangle<3,4,5> drawn on paper\n",
      "Perimeter: 12\n",
      "Area: 6.0\n",
      "--------------------------------------------------\n",
      "\n",
      "Invalid Triangle\n",
      "Perimeter: None\n",
      "Area: None\n",
      "--------------------------------------------------\n",
      "\n"
     ]
    }
   ],
   "source": [
    "t1= Triangle.create(3,4,5)\n",
    "t2= Triangle.create(3,4,12)\n",
    "\n",
    "test_triangle(t1)\n",
    "test_triangle(t2)"
   ]
  },
  {
   "cell_type": "markdown",
   "metadata": {},
   "source": [
    "### What have we done?\n",
    "\n",
    "1. we create empty Triangle class\n",
    "2. we created global methods to work with Triangle object\n",
    "3. we attached global methods to Triangle class to avoid global name overwrite\n",
    "\n",
    "---\n",
    "```python\n",
    "#step 1\n",
    "class Triangle:\n",
    "    pass\n",
    "\n",
    "#step 2\n",
    "def validate(t):\n",
    "    pass #any logic\n",
    "\n",
    "#step 3\n",
    "def perimeter(t):\n",
    "    pass # any logic\n",
    "\n",
    "Triangle.validate=validate\n",
    "Triangle.perimeter=perimeter\n",
    "```\n",
    "---\n",
    "\n",
    "### Python's shortcut for the above code\n",
    "\n",
    "* we can directly write methods inside Triangle class as a sub block"
   ]
  },
  {
   "cell_type": "code",
   "execution_count": 81,
   "metadata": {},
   "outputs": [],
   "source": [
    "class Circle:\n",
    "    def validate(c):\n",
    "        return isinstance(c,Circle) and c.radius>0\n",
    "    \n",
    "    def perimeter(c):\n",
    "        if Circle.validate(c):\n",
    "            return 2*math.pi*c.radius\n",
    "        else:\n",
    "            return None\n",
    "        \n",
    "    def area(c):\n",
    "        if Circle.validate(c):\n",
    "            return math.pi*c.radius**2\n",
    "        else:\n",
    "            return None\n",
    "        \n",
    "    def draw(c, surface):\n",
    "        if Circle.validate(c):\n",
    "            print(f'Circle({c.radius}) drawn on {surface}')\n",
    "        else:\n",
    "            print(\"Invalid Circle\")\n",
    "\n",
    "    def create(radius):\n",
    "        c=Circle()\n",
    "        c.radius=radius\n",
    "        return c\n",
    "    \n",
    "\n",
    "def test_circle(c):\n",
    "    Circle.draw(c,\"paper\")\n",
    "    print(f'Perimeter: {Circle.perimeter(c)}')\n",
    "    print(f'Area: {Circle.area(c)}')\n",
    "    print('-'*50,end=\"\\n\\n\")\n"
   ]
  },
  {
   "cell_type": "code",
   "execution_count": 82,
   "metadata": {},
   "outputs": [
    {
     "name": "stdout",
     "output_type": "stream",
     "text": [
      "Triangle<3,4,5> drawn on paper\n",
      "Perimeter: 12\n",
      "Area: 6.0\n",
      "--------------------------------------------------\n",
      "\n",
      "Invalid Triangle\n",
      "Perimeter: None\n",
      "Area: None\n",
      "--------------------------------------------------\n",
      "\n",
      "Circle(7) drawn on paper\n",
      "Perimeter: 43.982297150257104\n",
      "Area: 153.93804002589985\n",
      "--------------------------------------------------\n",
      "\n",
      "Invalid Circle\n",
      "Perimeter: None\n",
      "Area: None\n",
      "--------------------------------------------------\n",
      "\n"
     ]
    }
   ],
   "source": [
    "t1= Triangle.create(3,4,5)\n",
    "t2= Triangle.create(3,4,12)\n",
    "\n",
    "c1= Circle.create(7)\n",
    "c2= Circle.create(-7)\n",
    "\n",
    "test_triangle(t1)\n",
    "test_triangle(t2)\n",
    "\n",
    "test_circle(c1)\n",
    "test_circle(c2)"
   ]
  },
  {
   "cell_type": "markdown",
   "metadata": {},
   "source": [
    "### Summarize\n",
    "\n",
    "* Core class Job\n",
    "    1. can help us create an object\n",
    "    2. can find identity of object using \n",
    "        * id(obj)\n",
    "        * isinstance(obj, Type)\n",
    "\n",
    "* Optional Job of class\n",
    "    * groups object related methods together\n",
    "    * acts like a module.\n",
    "    * in C++ like language this is NOT an optional behavior.\n",
    "\n",
    "* Not the Job class\n",
    "    * define the properties of object\n",
    "        * they are always added later.\n",
    "        * we can have a helper method like **create** to do this job\n",
    "    * In c++ like language, this is a responsibility of class.\n",
    "    * In python generally it is set by some other method.\n",
    "\n",
    "\n",
    "\n",
    "### Python Object notation (Special Syntax)\n",
    "\n",
    "* What we have designed.\n",
    "    1. class contains methods\n",
    "    2. object contains data\n",
    "    3. for methods to work on object, we must pass object to method\n",
    "---\n",
    "```python\n",
    "    # 1. class contains method\n",
    "    class Triangle:\n",
    "        def perimeter(t):\n",
    "            return t.s1+t.s2+t.s3\n",
    "\n",
    "    #2. object contains data\n",
    "    t1=Triangle()\n",
    "    t1.s1=3\n",
    "    t1.s2=4\n",
    "    t1.s3=5\n",
    "\n",
    "    #3. to execute perimeter()\n",
    "\n",
    "    x = Triangle.perimeter(t1)\n",
    "```\n",
    "---\n",
    "\n",
    "### Problem :  Triangle.perimeter(t1)\n",
    "\n",
    "* In this line Triangle is redundant (used twice)\n",
    "    1. Triangle class\n",
    "    2. t1 is Triangle object\n",
    "\n",
    "#### Python special syntax.\n",
    "\n",
    "* **PRECONDITION**\n",
    "    * If a class method takes the object of same class as first parameter\n",
    "\n",
    "* **Then**\n",
    "    * we can use object itself to call the function\n",
    "    * we don't need to use class reference\n",
    "\n",
    "---\n",
    "```python\n",
    "#Triangle.perimeter(t1)\n",
    "\n",
    "t1.perimeter() # Note we are not passing t1 again.\n",
    "\n",
    "```\n",
    "---\n"
   ]
  },
  {
   "cell_type": "code",
   "execution_count": 83,
   "metadata": {},
   "outputs": [],
   "source": [
    "t1= Triangle.create(3,4,5)"
   ]
  },
  {
   "cell_type": "code",
   "execution_count": 84,
   "metadata": {},
   "outputs": [
    {
     "data": {
      "text/plain": [
       "12"
      ]
     },
     "execution_count": 84,
     "metadata": {},
     "output_type": "execute_result"
    }
   ],
   "source": [
    "Triangle.perimeter(t1)"
   ]
  },
  {
   "cell_type": "code",
   "execution_count": 85,
   "metadata": {},
   "outputs": [
    {
     "data": {
      "text/plain": [
       "12"
      ]
     },
     "execution_count": 85,
     "metadata": {},
     "output_type": "execute_result"
    }
   ],
   "source": [
    "t1.perimeter() # same as Triangle.perimeter(t1)"
   ]
  },
  {
   "cell_type": "markdown",
   "metadata": {},
   "source": [
    "#### if method takes more than one parameter\n",
    "\n",
    "* we need to pass other second parameter onward"
   ]
  },
  {
   "cell_type": "code",
   "execution_count": 86,
   "metadata": {},
   "outputs": [
    {
     "name": "stdout",
     "output_type": "stream",
     "text": [
      "Triangle<3,4,5> drawn on paper\n"
     ]
    }
   ],
   "source": [
    "Triangle.draw(t1, \"paper\")"
   ]
  },
  {
   "cell_type": "code",
   "execution_count": 87,
   "metadata": {},
   "outputs": [
    {
     "name": "stdout",
     "output_type": "stream",
     "text": [
      "Triangle<3,4,5> drawn on paper\n"
     ]
    }
   ],
   "source": [
    "t1.draw(\"paper\") # Triangle.draw(t1,\"paper\")"
   ]
  },
  {
   "cell_type": "markdown",
   "metadata": {},
   "source": [
    "#### If class method doesn't take object of same parameter\n",
    "\n",
    "* we can't use this concept\n",
    "* use case\n",
    "\n",
    "```python\n",
    "class Triangle:\n",
    "    def create(s1,s2,s3):\n",
    "        t=Triangle()\n",
    "        t.s1=s1\n",
    "        t.s2=s2\n",
    "        t.s3=s3\n",
    "        return t\n",
    "\n",
    "```\n",
    "\n",
    "* what does this function take?\n",
    "    * three numbers\n",
    "    * it doesn't take triangle object.\n",
    "\n",
    "* we can't use object notation here.\n"
   ]
  },
  {
   "cell_type": "code",
   "execution_count": 88,
   "metadata": {},
   "outputs": [
    {
     "ename": "TypeError",
     "evalue": "create() takes 3 positional arguments but 4 were given",
     "output_type": "error",
     "traceback": [
      "\u001b[1;31m---------------------------------------------------------------------------\u001b[0m",
      "\u001b[1;31mTypeError\u001b[0m                                 Traceback (most recent call last)",
      "Cell \u001b[1;32mIn[88], line 3\u001b[0m\n\u001b[0;32m      1\u001b[0m t1\u001b[38;5;241m=\u001b[39m Triangle()\n\u001b[1;32m----> 3\u001b[0m \u001b[43mt1\u001b[49m\u001b[38;5;241;43m.\u001b[39;49m\u001b[43mcreate\u001b[49m\u001b[43m(\u001b[49m\u001b[38;5;241;43m3\u001b[39;49m\u001b[43m,\u001b[49m\u001b[38;5;241;43m4\u001b[39;49m\u001b[43m,\u001b[49m\u001b[38;5;241;43m5\u001b[39;49m\u001b[43m)\u001b[49m \u001b[38;5;66;03m# Triangle.create(t1,3,4,5)\u001b[39;00m\n",
      "\u001b[1;31mTypeError\u001b[0m: create() takes 3 positional arguments but 4 were given"
     ]
    }
   ],
   "source": [
    "t1= Triangle()\n",
    "\n",
    "t1.create(3,4,5) # Triangle.create(t1,3,4,5)"
   ]
  },
  {
   "cell_type": "code",
   "execution_count": 89,
   "metadata": {},
   "outputs": [
    {
     "data": {
      "text/plain": [
       "<__main__.Triangle at 0x1dcd7272690>"
      ]
     },
     "execution_count": 89,
     "metadata": {},
     "output_type": "execute_result"
    }
   ],
   "source": [
    "t1.create(4,5) # Triangle.create(t1,4,5)"
   ]
  },
  {
   "cell_type": "code",
   "execution_count": 90,
   "metadata": {},
   "outputs": [
    {
     "ename": "AttributeError",
     "evalue": "'Triangle' object has no attribute 's1'",
     "output_type": "error",
     "traceback": [
      "\u001b[1;31m---------------------------------------------------------------------------\u001b[0m",
      "\u001b[1;31mAttributeError\u001b[0m                            Traceback (most recent call last)",
      "Cell \u001b[1;32mIn[90], line 1\u001b[0m\n\u001b[1;32m----> 1\u001b[0m \u001b[43mt1\u001b[49m\u001b[38;5;241;43m.\u001b[39;49m\u001b[43mperimeter\u001b[49m\u001b[43m(\u001b[49m\u001b[43m)\u001b[49m\n",
      "Cell \u001b[1;32mIn[66], line 2\u001b[0m, in \u001b[0;36mperimeter\u001b[1;34m(t)\u001b[0m\n\u001b[0;32m      1\u001b[0m \u001b[38;5;28;01mdef\u001b[39;00m \u001b[38;5;21mperimeter\u001b[39m(t):\n\u001b[1;32m----> 2\u001b[0m     \u001b[38;5;28;01mif\u001b[39;00m \u001b[43mTriangle\u001b[49m\u001b[38;5;241;43m.\u001b[39;49m\u001b[43mvalidate\u001b[49m\u001b[43m(\u001b[49m\u001b[43mt\u001b[49m\u001b[43m)\u001b[49m:\n\u001b[0;32m      3\u001b[0m         \u001b[38;5;28;01mreturn\u001b[39;00m t\u001b[38;5;241m.\u001b[39ms1\u001b[38;5;241m+\u001b[39mt\u001b[38;5;241m.\u001b[39ms2\u001b[38;5;241m+\u001b[39mt\u001b[38;5;241m.\u001b[39ms3\n\u001b[0;32m      4\u001b[0m     \u001b[38;5;28;01melse\u001b[39;00m:\n",
      "Cell \u001b[1;32mIn[56], line 5\u001b[0m, in \u001b[0;36mvalidate\u001b[1;34m(t)\u001b[0m\n\u001b[0;32m      4\u001b[0m \u001b[38;5;28;01mdef\u001b[39;00m \u001b[38;5;21mvalidate\u001b[39m(t):\n\u001b[1;32m----> 5\u001b[0m     \u001b[38;5;28;01mreturn\u001b[39;00m \u001b[43mt\u001b[49m\u001b[38;5;241;43m.\u001b[39;49m\u001b[43ms1\u001b[49m\u001b[38;5;241m>\u001b[39m\u001b[38;5;241m0\u001b[39m \u001b[38;5;129;01mand\u001b[39;00m t\u001b[38;5;241m.\u001b[39ms2\u001b[38;5;241m>\u001b[39m\u001b[38;5;241m0\u001b[39m \u001b[38;5;129;01mand\u001b[39;00m t\u001b[38;5;241m.\u001b[39ms3\u001b[38;5;241m>\u001b[39m\u001b[38;5;241m0\u001b[39m \u001b[38;5;129;01mand\u001b[39;00m \\\n\u001b[0;32m      6\u001b[0m             t\u001b[38;5;241m.\u001b[39ms1\u001b[38;5;241m+\u001b[39mt\u001b[38;5;241m.\u001b[39ms2\u001b[38;5;241m>\u001b[39mt\u001b[38;5;241m.\u001b[39ms3 \u001b[38;5;129;01mand\u001b[39;00m t\u001b[38;5;241m.\u001b[39ms2\u001b[38;5;241m+\u001b[39mt\u001b[38;5;241m.\u001b[39ms3\u001b[38;5;241m>\u001b[39mt\u001b[38;5;241m.\u001b[39ms1 \u001b[38;5;129;01mand\u001b[39;00m t\u001b[38;5;241m.\u001b[39ms1\u001b[38;5;241m+\u001b[39mt\u001b[38;5;241m.\u001b[39ms3\u001b[38;5;241m>\u001b[39mt\u001b[38;5;241m.\u001b[39ms2\n",
      "\u001b[1;31mAttributeError\u001b[0m: 'Triangle' object has no attribute 's1'"
     ]
    }
   ],
   "source": [
    "t1.perimeter()"
   ]
  },
  {
   "cell_type": "markdown",
   "metadata": {},
   "source": [
    "### Coding Convention\n",
    "\n",
    "* It is difficult to keep using the phrase \"if a class method takes object of same class as first parameter\"\n",
    "\n",
    "* we have given a conventional name to this first parameter: **self**\n",
    "\n",
    "* This is convention and work irrespective of what we call this first variable\n",
    "    * currently we are calling it \"t\" or \"c\" and it is still working.\n",
    "    * but as per convention we should call it **self**\n",
    "\n",
    "```python\n",
    "class Triangle:\n",
    "    def perimeter(self):\n",
    "        return self.s1+self.s2+self.s3\n",
    "\n",
    "```\n",
    "\n",
    "* This is similar to **this** keyword of c++ style langauge except\n",
    "    * **this** is a keyword, **self** is a convention\n",
    "        * you can't change **this**\n",
    "        * you may use anthing for **self**\n",
    "\n",
    "    * **this** is implied.\n",
    "        * you don't have to write in most case\n",
    "        * **self** is not implied. you must write it everytime to represent object\n",
    "\n",
    "#### Assignment 4.1 Modify create in such a way that it can be used with object reference\n",
    "\n",
    "* currently we can write t.perimeter(), t.draw(\"paper\") but we can't call t.create()\n",
    "* change the design so that we should be able to do this: t.create(3,4,5)\n"
   ]
  },
  {
   "cell_type": "code",
   "execution_count": 91,
   "metadata": {},
   "outputs": [],
   "source": [
    "def create(self, s1,s2,s3):\n",
    "    t=Triangle()\n",
    "    t.s1=s1\n",
    "    t.s2=s2\n",
    "    t.s3=s3\n",
    "    return t\n",
    "\n",
    "Triangle.create=create"
   ]
  },
  {
   "cell_type": "code",
   "execution_count": 93,
   "metadata": {},
   "outputs": [
    {
     "name": "stdout",
     "output_type": "stream",
     "text": [
      "['area', 'create', 'draw', 'perimeter', 'validate']\n",
      "['area', 'create', 'draw', 'perimeter', 's1', 's2', 's3', 'validate']\n"
     ]
    }
   ],
   "source": [
    "t1= Triangle() # create a triangle\n",
    "\n",
    "t2= t1.create(3,4,5) # created another triangle\n",
    "\n",
    "print(user_dir(t1)) # has no sides. it is useless\n",
    "\n",
    "print(user_dir(t2)) # has three expected sides"
   ]
  },
  {
   "cell_type": "markdown",
   "metadata": {},
   "source": [
    "### Refactor\n",
    "\n",
    "* since we want to call **t.create**, t already exists\n",
    "* we need not create it again inside create function\n",
    "    * we need not return it"
   ]
  },
  {
   "cell_type": "markdown",
   "metadata": {},
   "source": []
  },
  {
   "cell_type": "code",
   "execution_count": 94,
   "metadata": {},
   "outputs": [],
   "source": [
    "def create(self, s1,s2,s3):\n",
    "    #t=Triangle()\n",
    "    self.s1=s1\n",
    "    self.s2=s2\n",
    "    self.s3=s3\n",
    "    #return t\n",
    "\n",
    "Triangle.create=create"
   ]
  },
  {
   "cell_type": "code",
   "execution_count": 95,
   "metadata": {},
   "outputs": [
    {
     "name": "stdout",
     "output_type": "stream",
     "text": [
      "Triangle<3,4,5> drawn on paper\n",
      "Perimeter: 12\n",
      "Area: 6.0\n",
      "--------------------------------------------------\n",
      "\n"
     ]
    }
   ],
   "source": [
    "t1=Triangle() \n",
    "\n",
    "t1.create(3,4,5) \n",
    "\n",
    "test_triangle(t1)"
   ]
  },
  {
   "cell_type": "markdown",
   "metadata": {},
   "source": [
    "#### Quiz: On which line triangle object is created: Line 1 or Line 3?\n",
    "\n",
    "##### If on Line#1\n",
    "* what is the perimeter of this triangle on line #2\n",
    "* what did we do on line #3\n",
    "\n",
    "##### If on Line#3\n",
    "* what did we do on line #1\n",
    "* what is the type(t1) on line #2\n",
    "\n",
    "\n",
    "#### There are two triangles\n",
    "\n",
    "1. Geometrical Triangle (Business) that is created on line #3.\n",
    "    * without sides, there can be no triangle\n",
    "\n",
    "2. A python object is created on line #1\n",
    "\n",
    "    * there is a gap between the two causing problem\n",
    "\n",
    "\n",
    "\n",
    "### Solution: There should be single step of creation\n",
    "\n",
    "\n",
    "\n",
    "### \\_\\_init\\_\\_ method\n",
    "\n",
    "* python defines a special conventional method \\_\\_init\\_\\_()\n",
    "* it's job is to initialize the python object that is created.\n",
    "* if defined it will be called when you create an object\n",
    "\n",
    "##### what happens when we call t=Triangle()\n",
    "\n",
    "* Triangle() is known as constructor a.k.a creater of object\n",
    "* It internally does three works.\n",
    "\n",
    "```python\n",
    "#psudocode\n",
    "\n",
    "def Triangle(*args, **kwargs):\n",
    "    #step 1. create Triangle object\n",
    "    t= Triangle.__new__(*args, **kwargs)\n",
    "    #step 2. initialize object\n",
    "    t.__init__(*args, **kwargs)\n",
    "    #step 3. return object\n",
    "    return t\n",
    "\n",
    "```\n",
    "\n",
    "* step 1. create Triangle object\n",
    "    * this is done by calling **\\_\\_new\\_\\_** method of Triangle class\n",
    "    * in common use cases we don't generally define our own **\\_\\_new\\_\\_**\n",
    "        * we use the default implementation\n",
    "\n",
    "* step 2. it calls \\_\\_init\\_\\_\n",
    "    * any parameter passed to constructor reaches this function\n",
    "    * here we should initlaize our object\n",
    "    * We almost always define this function.\n",
    "\n",
    "```python\n",
    "t=Triangle() # internally call t.__init__()\n",
    "\n",
    "c= Circle(7) # internally call c.__init__(7)\n",
    "```\n"
   ]
  },
  {
   "cell_type": "code",
   "execution_count": 96,
   "metadata": {},
   "outputs": [],
   "source": [
    "Triangle.__init__=create\n",
    "\n"
   ]
  },
  {
   "cell_type": "code",
   "execution_count": 98,
   "metadata": {},
   "outputs": [
    {
     "ename": "TypeError",
     "evalue": "create() missing 3 required positional arguments: 's1', 's2', and 's3'",
     "output_type": "error",
     "traceback": [
      "\u001b[1;31m---------------------------------------------------------------------------\u001b[0m",
      "\u001b[1;31mTypeError\u001b[0m                                 Traceback (most recent call last)",
      "Cell \u001b[1;32mIn[98], line 1\u001b[0m\n\u001b[1;32m----> 1\u001b[0m t\u001b[38;5;241m=\u001b[39m\u001b[43mTriangle\u001b[49m\u001b[43m(\u001b[49m\u001b[43m)\u001b[49m \u001b[38;5;66;03m# internally call t.__init__(). but init needs s1,s2,s3\u001b[39;00m\n",
      "\u001b[1;31mTypeError\u001b[0m: create() missing 3 required positional arguments: 's1', 's2', and 's3'"
     ]
    }
   ],
   "source": [
    "t=Triangle() # internally call t.__init__(). but init needs s1,s2,s3"
   ]
  },
  {
   "cell_type": "code",
   "execution_count": 99,
   "metadata": {},
   "outputs": [],
   "source": [
    "t=Triangle(3,4,5) # t.__init__(3,4,5) =>  Triangle.__init__(t,3,4,5) "
   ]
  },
  {
   "cell_type": "code",
   "execution_count": 100,
   "metadata": {},
   "outputs": [
    {
     "name": "stdout",
     "output_type": "stream",
     "text": [
      "Triangle<3,4,5> drawn on paper\n",
      "Perimeter: 12\n",
      "Area: 6.0\n",
      "--------------------------------------------------\n",
      "\n"
     ]
    }
   ],
   "source": [
    "test_triangle(t)"
   ]
  },
  {
   "cell_type": "markdown",
   "metadata": {},
   "source": [
    "### Summary"
   ]
  },
  {
   "cell_type": "code",
   "execution_count": 103,
   "metadata": {},
   "outputs": [],
   "source": [
    "class Circle:\n",
    "    def __init__(self,radius):        \n",
    "        self.radius=radius\n",
    "        \n",
    "    def validate(self):\n",
    "        return isinstance(self,Circle) and self.radius>0\n",
    "    \n",
    "    def perimeter(self):\n",
    "        if Circle.validate(self):\n",
    "            return 2*math.pi*self.radius\n",
    "        else:\n",
    "            return None\n",
    "        \n",
    "    def area(self):\n",
    "        if Circle.validate(self):\n",
    "            return math.pi*self.radius**2\n",
    "        else:\n",
    "            return None\n",
    "        \n",
    "    def draw(self, surface):\n",
    "        if Circle.validate(self):\n",
    "            print(f'Circle({self.radius}) drawn on {surface}')\n",
    "        else:\n",
    "            print(\"Invalid Circle\")\n",
    "\n",
    "    \n",
    "    \n",
    "\n",
    "def test_shape(shape):\n",
    "    shape.draw(\"paper\")\n",
    "    print(f'Perimeter: {shape.perimeter()}')\n",
    "    print(f'Area: {shape.area()}')\n",
    "    print('-'*50,end=\"\\n\\n\")\n"
   ]
  },
  {
   "cell_type": "code",
   "execution_count": 104,
   "metadata": {},
   "outputs": [
    {
     "name": "stdout",
     "output_type": "stream",
     "text": [
      "Triangle<3,4,5> drawn on paper\n",
      "Perimeter: 12\n",
      "Area: 6.0\n",
      "--------------------------------------------------\n",
      "\n",
      "Invalid Triangle\n",
      "Perimeter: None\n",
      "Area: None\n",
      "--------------------------------------------------\n",
      "\n",
      "Circle(7) drawn on paper\n",
      "Perimeter: 43.982297150257104\n",
      "Area: 153.93804002589985\n",
      "--------------------------------------------------\n",
      "\n",
      "Invalid Circle\n",
      "Perimeter: None\n",
      "Area: None\n",
      "--------------------------------------------------\n",
      "\n"
     ]
    }
   ],
   "source": [
    "shapes=[ Triangle(3,4,5), Triangle(3,4,12), Circle(7), Circle(-1)]\n",
    "\n",
    "for shape in shapes:\n",
    "    test_shape(shape)"
   ]
  },
  {
   "cell_type": "markdown",
   "metadata": {},
   "source": [
    "### Why object notation is better than class notation?\n",
    "\n",
    "* consider the code\n",
    "\n",
    "```python\n",
    "def test_shape(shape):\n",
    "    shape.draw(\"paper\")\n",
    "    print(f'Perimeter: {shape.perimeter()}')\n",
    "    print(f'Area: {shape.area()}')\n",
    "    print('-'*50,end=\"\\n\\n\")\n",
    "```\n",
    "\n",
    "* Here the code calls draw(), area(), perimeter() using object reference\n",
    "* that object can be any object that has those methods\n",
    "* which class they belong doesn't matter because class name is not used.\n",
    "* if we use class reference, we can't write one method to work with both Triangle and Circle\n",
    "* allows you to write a more generic code\n"
   ]
  },
  {
   "cell_type": "code",
   "execution_count": null,
   "metadata": {},
   "outputs": [],
   "source": []
  }
 ],
 "metadata": {
  "kernelspec": {
   "display_name": "Python 3",
   "language": "python",
   "name": "python3"
  },
  "language_info": {
   "codemirror_mode": {
    "name": "ipython",
    "version": 3
   },
   "file_extension": ".py",
   "mimetype": "text/x-python",
   "name": "python",
   "nbconvert_exporter": "python",
   "pygments_lexer": "ipython3",
   "version": "3.12.1"
  }
 },
 "nbformat": 4,
 "nbformat_minor": 2
}
