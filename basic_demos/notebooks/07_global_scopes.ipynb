{
 "cells": [
  {
   "cell_type": "markdown",
   "metadata": {},
   "source": [
    "# Scopes\n",
    "\n",
    "* when we declare a reference (\"variable\") it can have two scopes\n",
    "    * global\n",
    "        * if declared in global space\n",
    "    * local (function)\n",
    "        * if declared inside a function\n",
    "        * accessible only inside current function\n",
    "\n",
    "\n",
    "#### A global reference can be accessed (read) from any function"
   ]
  },
  {
   "cell_type": "code",
   "execution_count": 1,
   "metadata": {},
   "outputs": [],
   "source": [
    "g=\"global value\"\n",
    "\n",
    "def fn():\n",
    "    local1=\"local declared inside function\"\n",
    "    for i in range(5):\n",
    "        local2=f'local declared inside for loop {i}'\n",
    "\n",
    "    print('inside fn:')\n",
    "    print(f\"g={g}\")\n",
    "    print(f\"local1={local1}\")\n",
    "    print(f\"local2={local2}\")\n",
    "    "
   ]
  },
  {
   "cell_type": "code",
   "execution_count": 2,
   "metadata": {},
   "outputs": [
    {
     "name": "stdout",
     "output_type": "stream",
     "text": [
      "inside fn:\n",
      "g=global value\n",
      "local1=local declared inside function\n",
      "local2=local declared inside for loop 4\n"
     ]
    }
   ],
   "source": [
    "fn()"
   ]
  },
  {
   "cell_type": "markdown",
   "metadata": {},
   "source": [
    "### Important\n",
    "* there is no block scope like C/C++\n",
    "* even if a reference is decalred inside a nested loop it will be available in the function after its declaration.\n",
    "\n",
    "\n",
    "## A function by default can't modify a global reference"
   ]
  },
  {
   "cell_type": "code",
   "execution_count": 6,
   "metadata": {},
   "outputs": [],
   "source": [
    "g=\"global value\"\n",
    "\n",
    "def fn():\n",
    "    g=\"modified by fn()\" # this is not global \"g\" but a local one\n",
    "    print(f'inside fn: g={g}')"
   ]
  },
  {
   "cell_type": "code",
   "execution_count": 4,
   "metadata": {},
   "outputs": [
    {
     "name": "stdout",
     "output_type": "stream",
     "text": [
      "inside fn: g=modified by fn()\n"
     ]
    }
   ],
   "source": [
    "fn()"
   ]
  },
  {
   "cell_type": "markdown",
   "metadata": {},
   "source": [
    "#### It appears to be modified, Right?\n",
    "\n",
    "* when we try to modify a global reference inside a function the function creates a local reference with the same name and assigns value to it.\n",
    "* this value has no relationship (other than same name) with global\n",
    "* global has remained unchanged"
   ]
  },
  {
   "cell_type": "code",
   "execution_count": 5,
   "metadata": {},
   "outputs": [
    {
     "data": {
      "text/plain": [
       "'global value'"
      ]
     },
     "execution_count": 5,
     "metadata": {},
     "output_type": "execute_result"
    }
   ],
   "source": [
    "g"
   ]
  },
  {
   "cell_type": "markdown",
   "metadata": {},
   "source": [
    "#### Next example should make it clearer"
   ]
  },
  {
   "cell_type": "code",
   "execution_count": 7,
   "metadata": {},
   "outputs": [],
   "source": [
    "g=\"global value\"\n",
    "\n",
    "def fnReader():\n",
    "    print(f'g={g}') #since we are only reading it can read global value\n",
    "\n",
    "def fnModifier():\n",
    "    print(f'before modification: g={g}') # g will be created in line 8, can't use here\n",
    "    g=\"modified\"  #can't modify global, so local g will be created.\n",
    "    print(f'afater modification: g={g}') "
   ]
  },
  {
   "cell_type": "code",
   "execution_count": 8,
   "metadata": {},
   "outputs": [
    {
     "name": "stdout",
     "output_type": "stream",
     "text": [
      "g=global value\n"
     ]
    }
   ],
   "source": [
    "fnReader()"
   ]
  },
  {
   "cell_type": "code",
   "execution_count": 9,
   "metadata": {},
   "outputs": [
    {
     "ename": "UnboundLocalError",
     "evalue": "cannot access local variable 'g' where it is not associated with a value",
     "output_type": "error",
     "traceback": [
      "\u001b[1;31m---------------------------------------------------------------------------\u001b[0m",
      "\u001b[1;31mUnboundLocalError\u001b[0m                         Traceback (most recent call last)",
      "Cell \u001b[1;32mIn[9], line 1\u001b[0m\n\u001b[1;32m----> 1\u001b[0m \u001b[43mfnModifier\u001b[49m\u001b[43m(\u001b[49m\u001b[43m)\u001b[49m\n",
      "Cell \u001b[1;32mIn[7], line 7\u001b[0m, in \u001b[0;36mfnModifier\u001b[1;34m()\u001b[0m\n\u001b[0;32m      6\u001b[0m \u001b[38;5;28;01mdef\u001b[39;00m \u001b[38;5;21mfnModifier\u001b[39m():\n\u001b[1;32m----> 7\u001b[0m     \u001b[38;5;28mprint\u001b[39m(\u001b[38;5;124mf\u001b[39m\u001b[38;5;124m'\u001b[39m\u001b[38;5;124mbefore modification: g=\u001b[39m\u001b[38;5;132;01m{\u001b[39;00m\u001b[43mg\u001b[49m\u001b[38;5;132;01m}\u001b[39;00m\u001b[38;5;124m'\u001b[39m) \u001b[38;5;66;03m# g will be created in line 8, can't use here\u001b[39;00m\n\u001b[0;32m      8\u001b[0m     g\u001b[38;5;241m=\u001b[39m\u001b[38;5;124m\"\u001b[39m\u001b[38;5;124mmodified\u001b[39m\u001b[38;5;124m\"\u001b[39m  \u001b[38;5;66;03m#can't modify global, so local g will be created.\u001b[39;00m\n\u001b[0;32m      9\u001b[0m     \u001b[38;5;28mprint\u001b[39m(\u001b[38;5;124mf\u001b[39m\u001b[38;5;124m'\u001b[39m\u001b[38;5;124mafater modification: g=\u001b[39m\u001b[38;5;132;01m{\u001b[39;00mg\u001b[38;5;132;01m}\u001b[39;00m\u001b[38;5;124m'\u001b[39m)\n",
      "\u001b[1;31mUnboundLocalError\u001b[0m: cannot access local variable 'g' where it is not associated with a value"
     ]
    }
   ],
   "source": [
    "fnModifier()"
   ]
  },
  {
   "cell_type": "markdown",
   "metadata": {},
   "source": [
    "#### What if we want to modify global value inside a function\n",
    "\n",
    "* It is not a good or recommended idea.\n",
    "* But if you feel you should use it\n",
    "    * change the way you feel.\n",
    "\n",
    "* If you need it (and know it is not a good idea) \n",
    "    * we can inform python that I want to modify global value\n",
    "\n",
    "\n",
    "#### global keyword\n",
    "\n",
    "* tells python that I will modify a global variable in my function (And understand the risk)\n",
    "* you don't need this declaration if you just want to read the value"
   ]
  },
  {
   "cell_type": "code",
   "execution_count": 10,
   "metadata": {},
   "outputs": [],
   "source": [
    "g=\"global\"\n",
    "\n",
    "def fnGlobalModifier():\n",
    "    global g # I Intent to modify global g\n",
    "    print(f'before modification: g{g}')\n",
    "    g=\"modified\"\n",
    "    print(f'after modification: g={g}')"
   ]
  },
  {
   "cell_type": "code",
   "execution_count": 11,
   "metadata": {},
   "outputs": [
    {
     "name": "stdout",
     "output_type": "stream",
     "text": [
      "before modification: gglobal\n",
      "after modification: g=modified\n"
     ]
    }
   ],
   "source": [
    "fnGlobalModifier()"
   ]
  },
  {
   "cell_type": "code",
   "execution_count": 12,
   "metadata": {},
   "outputs": [
    {
     "data": {
      "text/plain": [
       "'modified'"
      ]
     },
     "execution_count": 12,
     "metadata": {},
     "output_type": "execute_result"
    }
   ],
   "source": [
    "g"
   ]
  },
  {
   "cell_type": "markdown",
   "metadata": {},
   "source": []
  },
  {
   "cell_type": "code",
   "execution_count": null,
   "metadata": {},
   "outputs": [],
   "source": []
  }
 ],
 "metadata": {
  "kernelspec": {
   "display_name": "Python 3",
   "language": "python",
   "name": "python3"
  },
  "language_info": {
   "codemirror_mode": {
    "name": "ipython",
    "version": 3
   },
   "file_extension": ".py",
   "mimetype": "text/x-python",
   "name": "python",
   "nbconvert_exporter": "python",
   "pygments_lexer": "ipython3",
   "version": "3.12.1"
  }
 },
 "nbformat": 4,
 "nbformat_minor": 2
}
