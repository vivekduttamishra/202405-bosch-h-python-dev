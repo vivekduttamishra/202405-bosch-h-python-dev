{
 "cells": [
  {
   "cell_type": "markdown",
   "metadata": {},
   "source": [
    "# More about Functions\n",
    "\n",
    "\n",
    "## Functions with variable arguments.\n",
    "\n",
    "* A standard python function takes only as many argument as the number of parameters\n",
    "\n",
    "* If function takes 3 parameter\n",
    "    * you can pass 3 argument\n",
    "\n",
    "* Any attempt to pass more values will result in error.\n",
    "\n",
    "#### Sometimes we don't know how many values we have to pass\n",
    "\n",
    "* Example #1 How many arguments print() takes?\n",
    "    * print(1)\n",
    "    * print(1,2,3,4,5)\n",
    "\n",
    "* Example #2 We want to sum a given sequence of numbers\n",
    "    * sum(1,2)\n",
    "    * sum(1,2,3)\n",
    "    * sum(1,2,3,4,9,4,9,1)\n",
    "\n",
    "\n",
    "* How do we define a function that can take different number of arguments depending on requirement?\n",
    "\n",
    "\n",
    "#### Approach #1 The function make take sequence"
   ]
  },
  {
   "cell_type": "code",
   "execution_count": 1,
   "metadata": {},
   "outputs": [],
   "source": [
    "def sum( values ):\n",
    "    total = 0\n",
    "    for value in values:\n",
    "        total += value\n",
    "    return total"
   ]
  },
  {
   "cell_type": "markdown",
   "metadata": {},
   "source": [
    "##### Now we can pass values by wrapping them in some sequence"
   ]
  },
  {
   "cell_type": "code",
   "execution_count": 2,
   "metadata": {},
   "outputs": [
    {
     "data": {
      "text/plain": [
       "10"
      ]
     },
     "execution_count": 2,
     "metadata": {},
     "output_type": "execute_result"
    }
   ],
   "source": [
    "sum([1,2,3,4])"
   ]
  },
  {
   "cell_type": "code",
   "execution_count": 3,
   "metadata": {},
   "outputs": [
    {
     "data": {
      "text/plain": [
       "55"
      ]
     },
     "execution_count": 3,
     "metadata": {},
     "output_type": "execute_result"
    }
   ],
   "source": [
    "sum((1,2,3,4,5,6,7,8,9,10))"
   ]
  },
  {
   "cell_type": "markdown",
   "metadata": {},
   "source": [
    "#### Problem Solved. Right?\n",
    "* It works.\n",
    "* It looks ugly\n",
    "    * two wrappers\n",
    "* print() doesn't require that\n",
    "\n",
    "\n",
    "### Approach#2 python variable argument syntax\n",
    "\n",
    "* python allows you to officially pass variable arguments to a function\n",
    "* they are internally collected and stored in a tuple\n",
    "* to do this we prefix parameter name with a **\\***\n",
    "\n"
   ]
  },
  {
   "cell_type": "code",
   "execution_count": 5,
   "metadata": {},
   "outputs": [],
   "source": [
    "def call_me(*args):\n",
    "    print(type(args),args)"
   ]
  },
  {
   "cell_type": "code",
   "execution_count": 7,
   "metadata": {},
   "outputs": [
    {
     "name": "stdout",
     "output_type": "stream",
     "text": [
      "<class 'tuple'> (1, 2, 3, 4, 5)\n",
      "<class 'tuple'> (1, 2, 3)\n",
      "<class 'tuple'> (1,)\n",
      "<class 'tuple'> ()\n"
     ]
    }
   ],
   "source": [
    "call_me(1,2,3,4,5)\n",
    "call_me(1,2,3)\n",
    "call_me(1)\n",
    "call_me()"
   ]
  },
  {
   "cell_type": "markdown",
   "metadata": {},
   "source": [
    "#### sum function revisited\n",
    "* note\n",
    "    * nothing changes other than parameter with **\\***\n",
    "\n"
   ]
  },
  {
   "cell_type": "code",
   "execution_count": 8,
   "metadata": {},
   "outputs": [],
   "source": [
    "def sum( *values ):\n",
    "    total = 0\n",
    "    for value in values:\n",
    "        total += value\n",
    "    return total"
   ]
  },
  {
   "cell_type": "code",
   "execution_count": 9,
   "metadata": {},
   "outputs": [
    {
     "name": "stdout",
     "output_type": "stream",
     "text": [
      "10\n",
      "15\n",
      "0\n"
     ]
    }
   ],
   "source": [
    "print(sum(1,2,3,4))\n",
    "print(sum(1,2,3,4,5))\n",
    "print(sum())"
   ]
  },
  {
   "cell_type": "markdown",
   "metadata": {},
   "source": [
    "#### Assugment 2.2  reuse the given sum() function to create an average function to average a given number of items\n"
   ]
  },
  {
   "cell_type": "markdown",
   "metadata": {},
   "source": []
  }
 ],
 "metadata": {
  "kernelspec": {
   "display_name": "Python 3",
   "language": "python",
   "name": "python3"
  },
  "language_info": {
   "codemirror_mode": {
    "name": "ipython",
    "version": 3
   },
   "file_extension": ".py",
   "mimetype": "text/x-python",
   "name": "python",
   "nbconvert_exporter": "python",
   "pygments_lexer": "ipython3",
   "version": "3.12.1"
  }
 },
 "nbformat": 4,
 "nbformat_minor": 2
}
