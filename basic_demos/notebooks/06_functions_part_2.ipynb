{
 "cells": [
  {
   "cell_type": "markdown",
   "metadata": {},
   "source": [
    "# More about Functions\n",
    "\n",
    "\n",
    "## Functions with variable arguments.\n",
    "\n",
    "* A standard python function takes only as many argument as the number of parameters\n",
    "\n",
    "* If function takes 3 parameter\n",
    "    * you can pass 3 argument\n",
    "\n",
    "* Any attempt to pass more values will result in error.\n",
    "\n",
    "#### Sometimes we don't know how many values we have to pass\n",
    "\n",
    "* Example #1 How many arguments print() takes?\n",
    "    * print(1)\n",
    "    * print(1,2,3,4,5)\n",
    "\n",
    "* Example #2 We want to sum a given sequence of numbers\n",
    "    * sum(1,2)\n",
    "    * sum(1,2,3)\n",
    "    * sum(1,2,3,4,9,4,9,1)\n",
    "\n",
    "\n",
    "* How do we define a function that can take different number of arguments depending on requirement?\n",
    "\n",
    "\n",
    "#### Approach #1 The function make take sequence"
   ]
  },
  {
   "cell_type": "code",
   "execution_count": 1,
   "metadata": {},
   "outputs": [],
   "source": [
    "def sum( values ):\n",
    "    total = 0\n",
    "    for value in values:\n",
    "        total += value\n",
    "    return total"
   ]
  },
  {
   "cell_type": "markdown",
   "metadata": {},
   "source": [
    "##### Now we can pass values by wrapping them in some sequence"
   ]
  },
  {
   "cell_type": "code",
   "execution_count": 2,
   "metadata": {},
   "outputs": [
    {
     "data": {
      "text/plain": [
       "10"
      ]
     },
     "execution_count": 2,
     "metadata": {},
     "output_type": "execute_result"
    }
   ],
   "source": [
    "sum([1,2,3,4])"
   ]
  },
  {
   "cell_type": "code",
   "execution_count": 3,
   "metadata": {},
   "outputs": [
    {
     "data": {
      "text/plain": [
       "55"
      ]
     },
     "execution_count": 3,
     "metadata": {},
     "output_type": "execute_result"
    }
   ],
   "source": [
    "sum((1,2,3,4,5,6,7,8,9,10))"
   ]
  },
  {
   "cell_type": "markdown",
   "metadata": {},
   "source": [
    "#### Problem Solved. Right?\n",
    "* It works.\n",
    "* It looks ugly\n",
    "    * two wrappers\n",
    "* print() doesn't require that\n",
    "\n",
    "\n",
    "### Approach#2 python variable argument syntax\n",
    "\n",
    "* python allows you to officially pass variable arguments to a function\n",
    "* they are internally collected and stored in a tuple\n",
    "* to do this we prefix parameter name with a **\\***\n",
    "\n"
   ]
  },
  {
   "cell_type": "code",
   "execution_count": 5,
   "metadata": {},
   "outputs": [],
   "source": [
    "def call_me(*args):\n",
    "    print(type(args),args)"
   ]
  },
  {
   "cell_type": "code",
   "execution_count": 7,
   "metadata": {},
   "outputs": [
    {
     "name": "stdout",
     "output_type": "stream",
     "text": [
      "<class 'tuple'> (1, 2, 3, 4, 5)\n",
      "<class 'tuple'> (1, 2, 3)\n",
      "<class 'tuple'> (1,)\n",
      "<class 'tuple'> ()\n"
     ]
    }
   ],
   "source": [
    "call_me(1,2,3,4,5)\n",
    "call_me(1,2,3)\n",
    "call_me(1)\n",
    "call_me()"
   ]
  },
  {
   "cell_type": "markdown",
   "metadata": {},
   "source": [
    "#### sum function revisited\n",
    "* note\n",
    "    * nothing changes other than parameter with **\\***\n",
    "\n"
   ]
  },
  {
   "cell_type": "code",
   "execution_count": 8,
   "metadata": {},
   "outputs": [],
   "source": [
    "def sum( *values ):\n",
    "    total = 0\n",
    "    for value in values:\n",
    "        total += value\n",
    "    return total"
   ]
  },
  {
   "cell_type": "code",
   "execution_count": 9,
   "metadata": {},
   "outputs": [
    {
     "name": "stdout",
     "output_type": "stream",
     "text": [
      "10\n",
      "15\n",
      "0\n"
     ]
    }
   ],
   "source": [
    "print(sum(1,2,3,4))\n",
    "print(sum(1,2,3,4,5))\n",
    "print(sum())"
   ]
  },
  {
   "cell_type": "markdown",
   "metadata": {},
   "source": [
    "#### Assugment 2.2  reuse the given sum() function to create an average function to average a given number of items\n",
    "\n",
    "* your average should internally call sum()"
   ]
  },
  {
   "cell_type": "code",
   "execution_count": 10,
   "metadata": {},
   "outputs": [],
   "source": [
    "def average(*values):\n",
    "    return sum(values)/len(values)"
   ]
  },
  {
   "cell_type": "code",
   "execution_count": 11,
   "metadata": {},
   "outputs": [
    {
     "ename": "TypeError",
     "evalue": "unsupported operand type(s) for +=: 'int' and 'tuple'",
     "output_type": "error",
     "traceback": [
      "\u001b[1;31m---------------------------------------------------------------------------\u001b[0m",
      "\u001b[1;31mTypeError\u001b[0m                                 Traceback (most recent call last)",
      "Cell \u001b[1;32mIn[11], line 1\u001b[0m\n\u001b[1;32m----> 1\u001b[0m \u001b[43maverage\u001b[49m\u001b[43m(\u001b[49m\u001b[38;5;241;43m1\u001b[39;49m\u001b[43m,\u001b[49m\u001b[38;5;241;43m2\u001b[39;49m\u001b[43m,\u001b[49m\u001b[38;5;241;43m3\u001b[39;49m\u001b[43m,\u001b[49m\u001b[38;5;241;43m4\u001b[39;49m\u001b[43m)\u001b[49m\n",
      "Cell \u001b[1;32mIn[10], line 2\u001b[0m, in \u001b[0;36maverage\u001b[1;34m(*values)\u001b[0m\n\u001b[0;32m      1\u001b[0m \u001b[38;5;28;01mdef\u001b[39;00m \u001b[38;5;21maverage\u001b[39m(\u001b[38;5;241m*\u001b[39mvalues):\n\u001b[1;32m----> 2\u001b[0m     \u001b[38;5;28;01mreturn\u001b[39;00m \u001b[38;5;28;43msum\u001b[39;49m\u001b[43m(\u001b[49m\u001b[43mvalues\u001b[49m\u001b[43m)\u001b[49m\u001b[38;5;241m/\u001b[39m\u001b[38;5;28mlen\u001b[39m(values)\n",
      "Cell \u001b[1;32mIn[8], line 4\u001b[0m, in \u001b[0;36msum\u001b[1;34m(*values)\u001b[0m\n\u001b[0;32m      2\u001b[0m total \u001b[38;5;241m=\u001b[39m \u001b[38;5;241m0\u001b[39m\n\u001b[0;32m      3\u001b[0m \u001b[38;5;28;01mfor\u001b[39;00m value \u001b[38;5;129;01min\u001b[39;00m values:\n\u001b[1;32m----> 4\u001b[0m     \u001b[43mtotal\u001b[49m\u001b[43m \u001b[49m\u001b[38;5;241;43m+\u001b[39;49m\u001b[38;5;241;43m=\u001b[39;49m\u001b[43m \u001b[49m\u001b[43mvalue\u001b[49m\n\u001b[0;32m      5\u001b[0m \u001b[38;5;28;01mreturn\u001b[39;00m total\n",
      "\u001b[1;31mTypeError\u001b[0m: unsupported operand type(s) for +=: 'int' and 'tuple'"
     ]
    }
   ],
   "source": [
    "average(1,2,3,4)"
   ]
  },
  {
   "cell_type": "code",
   "execution_count": 12,
   "metadata": {},
   "outputs": [],
   "source": [
    "def sum( *values ):\n",
    "    total = 0\n",
    "    for value in values:\n",
    "        total += value\n",
    "    return total\n",
    "\n",
    "\n",
    "def average(*values):\n",
    "\n",
    "    return sum(*values)/len(values)\n",
    "\n"
   ]
  },
  {
   "cell_type": "code",
   "execution_count": 13,
   "metadata": {},
   "outputs": [
    {
     "data": {
      "text/plain": [
       "2.5"
      ]
     },
     "execution_count": 13,
     "metadata": {},
     "output_type": "execute_result"
    }
   ],
   "source": [
    "average(1,2,3,4)"
   ]
  },
  {
   "cell_type": "markdown",
   "metadata": {},
   "source": [
    "#### Assignment 2.3\n",
    "\n",
    "* write a function **frequency** that can calculate frequency distribution of a given set of values\n",
    "\n",
    "* the values may be passed using a sequence or using variable args.\n",
    "\n",
    "```python\n",
    "\n",
    "f1 = frequency(1,1,2,2,1,1,1,1,9,2,9,6,4,1,1,9) # {1:8, 2:3, 9:3, 4:1, 6:1}\n",
    "\n",
    "f2= frequency([1,2,3,3,2,3,2,4,5]) #{ 1:1, 2:3, 3:3, 4:1, 5:1}\n",
    "\n",
    "```\n",
    "\n",
    "\n",
    "* now create a function called **plot_histogram** that can plot a histogram for a given frequency data\n",
    "\n",
    "\n",
    "```python\n",
    "plot_histogram({2:4, 3:7, 1:1:, 4:2, 5:1, 6:3})\n",
    "```\n",
    "\n",
    "<pre>\n",
    " 2 | ===== ===== ===== ===== 4\n",
    " 3 | ===== ===== ===== ===== ===== ===== ==== ===== ===== 7\n",
    " 1 | ===== 1\n",
    " 4 | ===== ===== 2\n",
    " 5 | ===== 1\n",
    " 6 | ===== ===== ===== 3 \n",
    "</pre>\n",
    "\n",
    "\n",
    "* Allow options to customize\n",
    "    * bar design\n",
    "    * to show the frequency values or not (by default True)\n",
    "    * align frequency values (by default False)\n",
    "\n",
    "\n",
    "* example: Aligned frequency with bar made up of Pipes\n",
    "\n",
    "<pre>\n",
    " 2 | ||||| ||||| ||||| |||||                    4\n",
    " 3 | ||||| ||||| ||||| ||||| ||||| ||||| |||||  7\n",
    " 1 | |||||                                      1\n",
    " 4 | ||||| |||||                                2\n",
    " 5 | |||||                                      1\n",
    " 6 | ||||| ||||| |||||                          3 \n",
    "</pre>\n",
    " \n",
    "\n",
    "* example2: frequency with bar made up of Pipes and label hidden\n",
    "\n",
    "<pre>\n",
    " 2 | ||||| ||||| ||||| |||||                    \n",
    " 3 | ||||| ||||| ||||| ||||| ||||| ||||| |||||  \n",
    " 1 | |||||                                      \n",
    " 4 | ||||| |||||                                \n",
    " 5 | |||||                                      \n",
    " 6 | ||||| ||||| |||||                           \n",
    "</pre>"
   ]
  },
  {
   "cell_type": "markdown",
   "metadata": {},
   "source": [
    "##### frequency v1"
   ]
  },
  {
   "cell_type": "code",
   "execution_count": 40,
   "metadata": {},
   "outputs": [],
   "source": [
    "def frequency(values):\n",
    "    \n",
    "    print(values)\n",
    "    data={}\n",
    "\n",
    "    for value in values:\n",
    "        data[value]=values.count(value)\n",
    "\n",
    "    return data"
   ]
  },
  {
   "cell_type": "code",
   "execution_count": 41,
   "metadata": {},
   "outputs": [],
   "source": [
    "data = [2,2,1,9,1,1,1,1,1,4,5,4,7,1,1,1,2,9,9,1,1,1,2]"
   ]
  },
  {
   "cell_type": "code",
   "execution_count": 42,
   "metadata": {},
   "outputs": [
    {
     "ename": "TypeError",
     "evalue": "frequency() takes 1 positional argument but 7 were given",
     "output_type": "error",
     "traceback": [
      "\u001b[1;31m---------------------------------------------------------------------------\u001b[0m",
      "\u001b[1;31mTypeError\u001b[0m                                 Traceback (most recent call last)",
      "Cell \u001b[1;32mIn[42], line 1\u001b[0m\n\u001b[1;32m----> 1\u001b[0m f1\u001b[38;5;241m=\u001b[39m \u001b[43mfrequency\u001b[49m\u001b[43m(\u001b[49m\u001b[38;5;241;43m1\u001b[39;49m\u001b[43m,\u001b[49m\u001b[38;5;241;43m2\u001b[39;49m\u001b[43m,\u001b[49m\u001b[38;5;241;43m1\u001b[39;49m\u001b[43m,\u001b[49m\u001b[38;5;241;43m1\u001b[39;49m\u001b[43m,\u001b[49m\u001b[38;5;241;43m4\u001b[39;49m\u001b[43m,\u001b[49m\u001b[38;5;241;43m5\u001b[39;49m\u001b[43m,\u001b[49m\u001b[38;5;241;43m7\u001b[39;49m\u001b[43m)\u001b[49m\n\u001b[0;32m      3\u001b[0m \u001b[38;5;28mprint\u001b[39m(f1)\n\u001b[0;32m      5\u001b[0m f2\u001b[38;5;241m=\u001b[39m frequency(data)\n",
      "\u001b[1;31mTypeError\u001b[0m: frequency() takes 1 positional argument but 7 were given"
     ]
    }
   ],
   "source": [
    "f1= frequency(1,2,1,1,4,5,7)\n",
    "\n",
    "print(f1)\n",
    "\n",
    "f2= frequency(data)\n",
    "\n",
    "print(f2)"
   ]
  },
  {
   "cell_type": "markdown",
   "metadata": {},
   "source": [
    "### How to make a function accept both variable arguments or a sequence\n",
    "\n",
    "\n",
    "### frequency v2"
   ]
  },
  {
   "cell_type": "code",
   "execution_count": 46,
   "metadata": {},
   "outputs": [],
   "source": [
    "def frequency(*values):\n",
    "    \n",
    "    sequences = (\"list\",\"tuple\")\n",
    "    if len(values)==1 and type(values[0]).__name__ in sequences:\n",
    "        values = values[0]      \n",
    "\n",
    "\n",
    "    data={}\n",
    "    for value in values:\n",
    "        data[value]=values.count(value)\n",
    "\n",
    "    return data"
   ]
  },
  {
   "cell_type": "code",
   "execution_count": 47,
   "metadata": {},
   "outputs": [
    {
     "name": "stdout",
     "output_type": "stream",
     "text": [
      "{1: 3, 2: 1, 4: 1, 5: 1, 7: 1}\n",
      "{2: 4, 1: 12, 9: 3, 4: 2, 5: 1, 7: 1}\n",
      "{2: 3, 3: 1, 9: 2, 4: 1, 7: 1, 1: 3}\n"
     ]
    }
   ],
   "source": [
    "f1= frequency(1,2,1,1,4,5,7) #passing variable argument\n",
    "\n",
    "print(f1)\n",
    "\n",
    "f2= frequency(data) # passing list\n",
    "\n",
    "print(f2)\n",
    "\n",
    "d3=(2,3,9,9,2,4,7,2,1,1,1)\n",
    "\n",
    "f3= frequency(d3) #passing tuple\n",
    "print(f3)"
   ]
  },
  {
   "cell_type": "markdown",
   "metadata": {},
   "source": []
  },
  {
   "cell_type": "markdown",
   "metadata": {},
   "source": [
    "### Problem with current frequency algorithm.\n",
    "\n",
    "\n",
    "* It has a complexity of n^2\n",
    "    * It loops through all items (n)\n",
    "        * this is essential\n",
    "    * For each item it calls count\n",
    "        * count loops through whole list again (n)\n",
    "    * for same item with frequnency \"x\"\n",
    "        * result can be calcuated using a single count call\n",
    "            * same result will be recaculated for next (x-1)*n calls\n",
    "                * waste.\n",
    "\n"
   ]
  },
  {
   "cell_type": "markdown",
   "metadata": {},
   "source": [
    "#"
   ]
  },
  {
   "cell_type": "code",
   "execution_count": 52,
   "metadata": {},
   "outputs": [],
   "source": [
    "def count(values, test):\n",
    "    _count=0\n",
    "    \n",
    "    for value in values:\n",
    "        if value==test:\n",
    "            _count+=1\n",
    "    print(f' {test} => {_count}')\n",
    "    return _count\n",
    "\n",
    "def frequency(*values):\n",
    "    \n",
    "    sequences = (\"list\",\"tuple\")\n",
    "    if len(values)==1 and type(values[0]).__name__ in sequences:\n",
    "        values = values[0]      \n",
    "\n",
    "\n",
    "    data={}\n",
    "    for value in values:\n",
    "        data[value]=count(values,value)\n",
    "\n",
    "    return data"
   ]
  },
  {
   "cell_type": "code",
   "execution_count": 54,
   "metadata": {},
   "outputs": [
    {
     "name": "stdout",
     "output_type": "stream",
     "text": [
      " 2 => 6\n",
      " 1 => 4\n",
      " 2 => 6\n",
      " 2 => 6\n",
      " 2 => 6\n",
      " 2 => 6\n",
      " 1 => 4\n",
      " 1 => 4\n",
      " 1 => 4\n",
      " 2 => 6\n"
     ]
    },
    {
     "data": {
      "text/plain": [
       "{2: 6, 1: 4}"
      ]
     },
     "execution_count": 54,
     "metadata": {},
     "output_type": "execute_result"
    }
   ],
   "source": [
    "d3=(2,1,2,2,2,2,1,1,1,2)\n",
    "frequency(d3)"
   ]
  },
  {
   "cell_type": "markdown",
   "metadata": {},
   "source": [
    "#### Frquency V2 (Not the best logic)\n",
    "\n",
    "* avoid recounting if item is already counted."
   ]
  },
  {
   "cell_type": "code",
   "execution_count": 55,
   "metadata": {},
   "outputs": [],
   "source": [
    "def frequency(*values):\n",
    "    \n",
    "    sequences = (\"list\",\"tuple\")\n",
    "    if len(values)==1 and type(values[0]).__name__ in sequences:\n",
    "        values = values[0]      \n",
    "\n",
    "\n",
    "    data={}\n",
    "    for value in values:\n",
    "        if value not in data.keys(): # if this value is not already counted\n",
    "            data[value]=count(values,value)\n",
    "\n",
    "    return data"
   ]
  },
  {
   "cell_type": "code",
   "execution_count": 56,
   "metadata": {},
   "outputs": [
    {
     "name": "stdout",
     "output_type": "stream",
     "text": [
      " 2 => 6\n",
      " 1 => 4\n"
     ]
    },
    {
     "data": {
      "text/plain": [
       "{2: 6, 1: 4}"
      ]
     },
     "execution_count": 56,
     "metadata": {},
     "output_type": "execute_result"
    }
   ],
   "source": [
    "frequency(d3)"
   ]
  },
  {
   "cell_type": "markdown",
   "metadata": {},
   "source": [
    "### What is the complexity of this code\n",
    "\n",
    "* O((n+1)*k)\n",
    "    * where n is total number of items\n",
    "\n",
    "    * +1  comes from loop inside the frequency\n",
    "\n",
    "    * it runs count() only once per key\n",
    "        * each count runs for n*k\n",
    "\n",
    "```python\n",
    " data={}\n",
    "    for value in values:\n",
    "        if value not in data.keys(): # if this value is not already counted\n",
    "            data[value]=count(values,value)\n",
    "\n",
    "    return data\n",
    "```\n",
    "\n",
    "* here we have accounted for \n",
    "    * for loop inside frequency\n",
    "    * count()\n",
    "\n",
    "* what about \"in\" call.\n",
    "    * is \"in\" call also a loop?\n",
    "\n",
    "### does \"in\" function runs a loop to check if a value is present in the list or set or dict?\n",
    "\n",
    "* In case of a list/tuple \"in\" function runs a loop.\n",
    "* set/dict using hashing mechanism which is extremly fast and doesn't require loop\n",
    "    * they are said to have o(1) complexity\n",
    "\n",
    "* But even if it was not that fast, there would be only few keys, so loop time will negligible\n",
    "\n",
    "\n",
    "\n",
    "\n",
    "### Frequency v3\n",
    "\n",
    "* we still have room for improvement\n",
    "\n"
   ]
  },
  {
   "cell_type": "code",
   "execution_count": 65,
   "metadata": {},
   "outputs": [],
   "source": [
    "def normalize_arguments(values):\n",
    "    sequences = (\"list\",\"tuple\")\n",
    "    if len(values)==1 and type(values[0]).__name__ in sequences:\n",
    "        values = values[0]   \n",
    "\n",
    "    return values\n",
    "\n",
    "def frequency(*values):\n",
    "    \n",
    "    values=normalize_arguments(values)   \n",
    "\n",
    "    data={}\n",
    "    for value in values:        \n",
    "        data[value]=data.get(value,0)+1\n",
    "\n",
    "    return data"
   ]
  },
  {
   "cell_type": "code",
   "execution_count": 67,
   "metadata": {},
   "outputs": [
    {
     "name": "stdout",
     "output_type": "stream",
     "text": [
      "[2, 2, 1, 9, 1, 1, 1, 1, 1, 4, 5, 4, 7, 1, 1, 1, 2, 9, 9, 1, 1, 1, 2]\n"
     ]
    },
    {
     "data": {
      "text/plain": [
       "{2: 4, 1: 12, 9: 3, 4: 2, 5: 1, 7: 1}"
      ]
     },
     "execution_count": 67,
     "metadata": {},
     "output_type": "execute_result"
    }
   ],
   "source": [
    "print(data)\n",
    "frequency(data) #{2:2,1:3,9:1,}"
   ]
  },
  {
   "cell_type": "markdown",
   "metadata": {},
   "source": [
    "### Performance\n",
    "* This code loops through entire loop exactly once making the compexity O(n)\n",
    "* get(n, 0)  also need to search for the key\n",
    "    * but key search is extremely fast with O(1) complexity\n",
    "    * if it were like a list it would have added a complexit of O(k) making algorithm O(n*k)\n",
    "\n",
    "\n",
    "* The above code can also be written (with same performance) but in an expanded way as below"
   ]
  },
  {
   "cell_type": "code",
   "execution_count": 68,
   "metadata": {},
   "outputs": [],
   "source": [
    "def frequency(*values):\n",
    "    \n",
    "    values=normalize_arguments(values)   \n",
    "\n",
    "    data={}\n",
    "    for value in values:        \n",
    "        if value in data:\n",
    "            data[value]+=1\n",
    "        else:\n",
    "            data[value]=1\n",
    "\n",
    "    return data"
   ]
  },
  {
   "cell_type": "markdown",
   "metadata": {},
   "source": [
    "### plot_histogram\n",
    "\n",
    "```python\n",
    "plot_histogram({2:4, 3:7, 1:1:, 4:2, 5:1, 6:3})\n",
    "```\n",
    "\n",
    "<pre>\n",
    " 2 | ===== ===== ===== ===== 4\n",
    " 3 | ===== ===== ===== ===== ===== ===== ==== ===== ===== 7\n",
    " 1 | ===== 1\n",
    " 4 | ===== ===== 2\n",
    " 5 | ===== 1\n",
    " 6 | ===== ===== ===== 3 \n",
    "\n",
    "</pre>"
   ]
  },
  {
   "cell_type": "code",
   "execution_count": 69,
   "metadata": {},
   "outputs": [],
   "source": [
    "def plot_histogram(frequency):\n",
    "    design='=== '\n",
    "    for value,frequency in frequency.items():\n",
    "        print(f'{value}|{design*frequency} {frequency}')"
   ]
  },
  {
   "cell_type": "code",
   "execution_count": 71,
   "metadata": {},
   "outputs": [
    {
     "name": "stdout",
     "output_type": "stream",
     "text": [
      "2|=== === === ===  4\n",
      "3|=== === === === === === ===  7\n",
      "1|===  1\n",
      "4|=== ===  2\n",
      "5|===  1\n",
      "6|=== === ===  3\n"
     ]
    }
   ],
   "source": [
    "plot_histogram({2:4, 3:7, 1:1, 4:2, 5:1, 6:3})"
   ]
  },
  {
   "cell_type": "markdown",
   "metadata": {},
   "source": [
    "TODO: add the customization as per assignment 2.3"
   ]
  },
  {
   "cell_type": "code",
   "execution_count": null,
   "metadata": {},
   "outputs": [],
   "source": []
  }
 ],
 "metadata": {
  "kernelspec": {
   "display_name": "Python 3",
   "language": "python",
   "name": "python3"
  },
  "language_info": {
   "codemirror_mode": {
    "name": "ipython",
    "version": 3
   },
   "file_extension": ".py",
   "mimetype": "text/x-python",
   "name": "python",
   "nbconvert_exporter": "python",
   "pygments_lexer": "ipython3",
   "version": "3.12.1"
  }
 },
 "nbformat": 4,
 "nbformat_minor": 2
}
