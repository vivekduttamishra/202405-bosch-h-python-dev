{
 "cells": [
  {
   "cell_type": "markdown",
   "metadata": {},
   "source": [
    "# More about Functions\n",
    "\n",
    "\n",
    "## Functions with variable arguments.\n",
    "\n",
    "* A standard python function takes only as many argument as the number of parameters\n",
    "\n",
    "* If function takes 3 parameter\n",
    "    * you can pass 3 argument\n",
    "\n",
    "* Any attempt to pass more values will result in error.\n",
    "\n",
    "#### Sometimes we don't know how many values we have to pass\n",
    "\n",
    "* Example #1 How many arguments print() takes?\n",
    "    * print(1)\n",
    "    * print(1,2,3,4,5)\n",
    "\n",
    "* Example #2 We want to sum a given sequence of numbers\n",
    "    * sum(1,2)\n",
    "    * sum(1,2,3)\n",
    "    * sum(1,2,3,4,9,4,9,1)\n",
    "\n",
    "\n",
    "* How do we define a function that can take different number of arguments depending on requirement?\n",
    "\n",
    "\n",
    "#### Approach #1 The function make take sequence"
   ]
  },
  {
   "cell_type": "code",
   "execution_count": 1,
   "metadata": {},
   "outputs": [],
   "source": [
    "def sum( values ):\n",
    "    total = 0\n",
    "    for value in values:\n",
    "        total += value\n",
    "    return total"
   ]
  },
  {
   "cell_type": "markdown",
   "metadata": {},
   "source": [
    "##### Now we can pass values by wrapping them in some sequence"
   ]
  },
  {
   "cell_type": "code",
   "execution_count": 2,
   "metadata": {},
   "outputs": [
    {
     "data": {
      "text/plain": [
       "10"
      ]
     },
     "execution_count": 2,
     "metadata": {},
     "output_type": "execute_result"
    }
   ],
   "source": [
    "sum([1,2,3,4])"
   ]
  },
  {
   "cell_type": "code",
   "execution_count": 3,
   "metadata": {},
   "outputs": [
    {
     "data": {
      "text/plain": [
       "55"
      ]
     },
     "execution_count": 3,
     "metadata": {},
     "output_type": "execute_result"
    }
   ],
   "source": [
    "sum((1,2,3,4,5,6,7,8,9,10))"
   ]
  },
  {
   "cell_type": "markdown",
   "metadata": {},
   "source": [
    "#### Problem Solved. Right?\n",
    "* It works.\n",
    "* It looks ugly\n",
    "    * two wrappers\n",
    "* print() doesn't require that\n",
    "\n",
    "\n",
    "### Approach#2 python variable argument syntax\n",
    "\n",
    "* python allows you to officially pass variable arguments to a function\n",
    "* they are internally collected and stored in a tuple\n",
    "* to do this we prefix parameter name with a **\\***\n",
    "\n"
   ]
  },
  {
   "cell_type": "code",
   "execution_count": 5,
   "metadata": {},
   "outputs": [],
   "source": [
    "def call_me(*args):\n",
    "    print(type(args),args)"
   ]
  },
  {
   "cell_type": "code",
   "execution_count": 7,
   "metadata": {},
   "outputs": [
    {
     "name": "stdout",
     "output_type": "stream",
     "text": [
      "<class 'tuple'> (1, 2, 3, 4, 5)\n",
      "<class 'tuple'> (1, 2, 3)\n",
      "<class 'tuple'> (1,)\n",
      "<class 'tuple'> ()\n"
     ]
    }
   ],
   "source": [
    "call_me(1,2,3,4,5)\n",
    "call_me(1,2,3)\n",
    "call_me(1)\n",
    "call_me()"
   ]
  },
  {
   "cell_type": "markdown",
   "metadata": {},
   "source": [
    "#### sum function revisited\n",
    "* note\n",
    "    * nothing changes other than parameter with **\\***\n",
    "\n"
   ]
  },
  {
   "cell_type": "code",
   "execution_count": 8,
   "metadata": {},
   "outputs": [],
   "source": [
    "def sum( *values ):\n",
    "    total = 0\n",
    "    for value in values:\n",
    "        total += value\n",
    "    return total"
   ]
  },
  {
   "cell_type": "code",
   "execution_count": 9,
   "metadata": {},
   "outputs": [
    {
     "name": "stdout",
     "output_type": "stream",
     "text": [
      "10\n",
      "15\n",
      "0\n"
     ]
    }
   ],
   "source": [
    "print(sum(1,2,3,4))\n",
    "print(sum(1,2,3,4,5))\n",
    "print(sum())"
   ]
  },
  {
   "cell_type": "markdown",
   "metadata": {},
   "source": [
    "#### Assugment 2.2  reuse the given sum() function to create an average function to average a given number of items\n",
    "\n",
    "* your average should internally call sum()"
   ]
  },
  {
   "cell_type": "code",
   "execution_count": 10,
   "metadata": {},
   "outputs": [],
   "source": [
    "def average(*values):\n",
    "    return sum(values)/len(values)"
   ]
  },
  {
   "cell_type": "code",
   "execution_count": 11,
   "metadata": {},
   "outputs": [
    {
     "ename": "TypeError",
     "evalue": "unsupported operand type(s) for +=: 'int' and 'tuple'",
     "output_type": "error",
     "traceback": [
      "\u001b[1;31m---------------------------------------------------------------------------\u001b[0m",
      "\u001b[1;31mTypeError\u001b[0m                                 Traceback (most recent call last)",
      "Cell \u001b[1;32mIn[11], line 1\u001b[0m\n\u001b[1;32m----> 1\u001b[0m \u001b[43maverage\u001b[49m\u001b[43m(\u001b[49m\u001b[38;5;241;43m1\u001b[39;49m\u001b[43m,\u001b[49m\u001b[38;5;241;43m2\u001b[39;49m\u001b[43m,\u001b[49m\u001b[38;5;241;43m3\u001b[39;49m\u001b[43m,\u001b[49m\u001b[38;5;241;43m4\u001b[39;49m\u001b[43m)\u001b[49m\n",
      "Cell \u001b[1;32mIn[10], line 2\u001b[0m, in \u001b[0;36maverage\u001b[1;34m(*values)\u001b[0m\n\u001b[0;32m      1\u001b[0m \u001b[38;5;28;01mdef\u001b[39;00m \u001b[38;5;21maverage\u001b[39m(\u001b[38;5;241m*\u001b[39mvalues):\n\u001b[1;32m----> 2\u001b[0m     \u001b[38;5;28;01mreturn\u001b[39;00m \u001b[38;5;28;43msum\u001b[39;49m\u001b[43m(\u001b[49m\u001b[43mvalues\u001b[49m\u001b[43m)\u001b[49m\u001b[38;5;241m/\u001b[39m\u001b[38;5;28mlen\u001b[39m(values)\n",
      "Cell \u001b[1;32mIn[8], line 4\u001b[0m, in \u001b[0;36msum\u001b[1;34m(*values)\u001b[0m\n\u001b[0;32m      2\u001b[0m total \u001b[38;5;241m=\u001b[39m \u001b[38;5;241m0\u001b[39m\n\u001b[0;32m      3\u001b[0m \u001b[38;5;28;01mfor\u001b[39;00m value \u001b[38;5;129;01min\u001b[39;00m values:\n\u001b[1;32m----> 4\u001b[0m     \u001b[43mtotal\u001b[49m\u001b[43m \u001b[49m\u001b[38;5;241;43m+\u001b[39;49m\u001b[38;5;241;43m=\u001b[39;49m\u001b[43m \u001b[49m\u001b[43mvalue\u001b[49m\n\u001b[0;32m      5\u001b[0m \u001b[38;5;28;01mreturn\u001b[39;00m total\n",
      "\u001b[1;31mTypeError\u001b[0m: unsupported operand type(s) for +=: 'int' and 'tuple'"
     ]
    }
   ],
   "source": [
    "average(1,2,3,4)"
   ]
  },
  {
   "cell_type": "code",
   "execution_count": 12,
   "metadata": {},
   "outputs": [],
   "source": [
    "def sum( *values ):\n",
    "    total = 0\n",
    "    for value in values:\n",
    "        total += value\n",
    "    return total\n",
    "\n",
    "\n",
    "def average(*values):\n",
    "\n",
    "    return sum(*values)/len(values)\n",
    "\n"
   ]
  },
  {
   "cell_type": "code",
   "execution_count": 13,
   "metadata": {},
   "outputs": [
    {
     "data": {
      "text/plain": [
       "2.5"
      ]
     },
     "execution_count": 13,
     "metadata": {},
     "output_type": "execute_result"
    }
   ],
   "source": [
    "average(1,2,3,4)"
   ]
  },
  {
   "cell_type": "markdown",
   "metadata": {},
   "source": [
    "#### Assignment 2.3\n",
    "\n",
    "* write a function **frequency** that can calculate frequency distribution of a given set of values\n",
    "\n",
    "* the values may be passed using a sequence or using variable args.\n",
    "\n",
    "```python\n",
    "\n",
    "f1 = frequency(1,1,2,2,1,1,1,1,9,2,9,6,4,1,1,9) # {1:8, 2:3, 9:3, 4:1, 6:1}\n",
    "\n",
    "f2= frequency([1,2,3,3,2,3,2,4,5]) #{ 1:1, 2:3, 3:3, 4:1, 5:1}\n",
    "\n",
    "```\n",
    "\n",
    "\n",
    "* now create a function called **plot_histogram** that can plot a histogram for a given frequency data\n",
    "\n",
    "\n",
    "```python\n",
    "plot_histogram({2:4, 3:7, 1:1:, 4:2, 5:1, 6:3})\n",
    "```\n",
    "\n",
    "<pre>\n",
    " 2 | ===== ===== ===== ===== 4\n",
    " 3 | ===== ===== ===== ===== ===== ===== ==== ===== ===== 7\n",
    " 1 | ===== 1\n",
    " 4 | ===== ===== 2\n",
    " 5 | ===== 1\n",
    " 6 | ===== ===== ===== 3 \n",
    "</pre>\n",
    "\n",
    "\n",
    "* Allow options to customize\n",
    "    * bar design\n",
    "    * to show the frequency values or not (by default True)\n",
    "    * align frequency values (by default False)\n",
    "\n",
    "\n",
    "* example: Aligned frequency with bar made up of Pipes\n",
    "\n",
    "<pre>\n",
    " 2 | ||||| ||||| ||||| |||||                    4\n",
    " 3 | ||||| ||||| ||||| ||||| ||||| ||||| |||||  7\n",
    " 1 | |||||                                      1\n",
    " 4 | ||||| |||||                                2\n",
    " 5 | |||||                                      1\n",
    " 6 | ||||| ||||| |||||                          3 \n",
    "</pre>\n",
    " \n",
    "\n",
    "* example2: frequency with bar made up of Pipes and label hidden\n",
    "\n",
    "<pre>\n",
    " 2 | ||||| ||||| ||||| |||||                    \n",
    " 3 | ||||| ||||| ||||| ||||| ||||| ||||| |||||  \n",
    " 1 | |||||                                      \n",
    " 4 | ||||| |||||                                \n",
    " 5 | |||||                                      \n",
    " 6 | ||||| ||||| |||||                           \n",
    "</pre>"
   ]
  },
  {
   "cell_type": "markdown",
   "metadata": {},
   "source": []
  }
 ],
 "metadata": {
  "kernelspec": {
   "display_name": "Python 3",
   "language": "python",
   "name": "python3"
  },
  "language_info": {
   "codemirror_mode": {
    "name": "ipython",
    "version": 3
   },
   "file_extension": ".py",
   "mimetype": "text/x-python",
   "name": "python",
   "nbconvert_exporter": "python",
   "pygments_lexer": "ipython3",
   "version": "3.12.1"
  }
 },
 "nbformat": 4,
 "nbformat_minor": 2
}
