{
 "cells": [
  {
   "cell_type": "markdown",
   "metadata": {},
   "source": [
    "# More about Functions\n",
    "\n",
    "\n",
    "## Functions with variable arguments.\n",
    "\n",
    "* A standard python function takes only as many argument as the number of parameters\n",
    "\n",
    "* If function takes 3 parameter\n",
    "    * you can pass 3 argument\n",
    "\n",
    "* Any attempt to pass more values will result in error.\n",
    "\n",
    "#### Sometimes we don't know how many values we have to pass\n",
    "\n",
    "* Example #1 How many arguments print() takes?\n",
    "    * print(1)\n",
    "    * print(1,2,3,4,5)\n",
    "\n",
    "* Example #2 We want to sum a given sequence of numbers\n",
    "    * sum(1,2)\n",
    "    * sum(1,2,3)\n",
    "    * sum(1,2,3,4,9,4,9,1)\n",
    "\n",
    "\n",
    "* How do we define a function that can take different number of arguments depending on requirement?\n",
    "\n",
    "\n",
    "#### Approach #1 The function make take sequence"
   ]
  },
  {
   "cell_type": "code",
   "execution_count": 1,
   "metadata": {},
   "outputs": [],
   "source": [
    "def sum( values ):\n",
    "    total = 0\n",
    "    for value in values:\n",
    "        total += value\n",
    "    return total"
   ]
  },
  {
   "cell_type": "markdown",
   "metadata": {},
   "source": [
    "##### Now we can pass values by wrapping them in some sequence"
   ]
  },
  {
   "cell_type": "code",
   "execution_count": 2,
   "metadata": {},
   "outputs": [
    {
     "data": {
      "text/plain": [
       "10"
      ]
     },
     "execution_count": 2,
     "metadata": {},
     "output_type": "execute_result"
    }
   ],
   "source": [
    "sum([1,2,3,4])"
   ]
  },
  {
   "cell_type": "code",
   "execution_count": 3,
   "metadata": {},
   "outputs": [
    {
     "data": {
      "text/plain": [
       "55"
      ]
     },
     "execution_count": 3,
     "metadata": {},
     "output_type": "execute_result"
    }
   ],
   "source": [
    "sum((1,2,3,4,5,6,7,8,9,10))"
   ]
  },
  {
   "cell_type": "markdown",
   "metadata": {},
   "source": [
    "#### Problem Solved. Right?\n",
    "* It works.\n",
    "* It looks ugly\n",
    "    * two wrappers\n",
    "* print() doesn't require that\n",
    "\n",
    "\n",
    "### Approach#2 python variable argument syntax\n",
    "\n",
    "* python allows you to officially pass variable arguments to a function\n",
    "* they are internally collected and stored in a tuple\n",
    "* to do this we prefix parameter name with a **\\***\n",
    "\n"
   ]
  },
  {
   "cell_type": "code",
   "execution_count": 5,
   "metadata": {},
   "outputs": [],
   "source": [
    "def call_me(*args):\n",
    "    print(type(args),args)"
   ]
  },
  {
   "cell_type": "code",
   "execution_count": 7,
   "metadata": {},
   "outputs": [
    {
     "name": "stdout",
     "output_type": "stream",
     "text": [
      "<class 'tuple'> (1, 2, 3, 4, 5)\n",
      "<class 'tuple'> (1, 2, 3)\n",
      "<class 'tuple'> (1,)\n",
      "<class 'tuple'> ()\n"
     ]
    }
   ],
   "source": [
    "call_me(1,2,3,4,5)\n",
    "call_me(1,2,3)\n",
    "call_me(1)\n",
    "call_me()"
   ]
  },
  {
   "cell_type": "markdown",
   "metadata": {},
   "source": [
    "#### sum function revisited\n",
    "* note\n",
    "    * nothing changes other than parameter with **\\***\n",
    "\n"
   ]
  },
  {
   "cell_type": "code",
   "execution_count": 8,
   "metadata": {},
   "outputs": [],
   "source": [
    "def sum( *values ):\n",
    "    total = 0\n",
    "    for value in values:\n",
    "        total += value\n",
    "    return total"
   ]
  },
  {
   "cell_type": "code",
   "execution_count": 9,
   "metadata": {},
   "outputs": [
    {
     "name": "stdout",
     "output_type": "stream",
     "text": [
      "10\n",
      "15\n",
      "0\n"
     ]
    }
   ],
   "source": [
    "print(sum(1,2,3,4))\n",
    "print(sum(1,2,3,4,5))\n",
    "print(sum())"
   ]
  },
  {
   "cell_type": "markdown",
   "metadata": {},
   "source": [
    "#### Assugment 2.2  reuse the given sum() function to create an average function to average a given number of items\n",
    "\n",
    "* your average should internally call sum()"
   ]
  },
  {
   "cell_type": "code",
   "execution_count": 10,
   "metadata": {},
   "outputs": [],
   "source": [
    "def average(*values):\n",
    "    return sum(values)/len(values)"
   ]
  },
  {
   "cell_type": "code",
   "execution_count": 11,
   "metadata": {},
   "outputs": [
    {
     "ename": "TypeError",
     "evalue": "unsupported operand type(s) for +=: 'int' and 'tuple'",
     "output_type": "error",
     "traceback": [
      "\u001b[1;31m---------------------------------------------------------------------------\u001b[0m",
      "\u001b[1;31mTypeError\u001b[0m                                 Traceback (most recent call last)",
      "Cell \u001b[1;32mIn[11], line 1\u001b[0m\n\u001b[1;32m----> 1\u001b[0m \u001b[43maverage\u001b[49m\u001b[43m(\u001b[49m\u001b[38;5;241;43m1\u001b[39;49m\u001b[43m,\u001b[49m\u001b[38;5;241;43m2\u001b[39;49m\u001b[43m,\u001b[49m\u001b[38;5;241;43m3\u001b[39;49m\u001b[43m,\u001b[49m\u001b[38;5;241;43m4\u001b[39;49m\u001b[43m)\u001b[49m\n",
      "Cell \u001b[1;32mIn[10], line 2\u001b[0m, in \u001b[0;36maverage\u001b[1;34m(*values)\u001b[0m\n\u001b[0;32m      1\u001b[0m \u001b[38;5;28;01mdef\u001b[39;00m \u001b[38;5;21maverage\u001b[39m(\u001b[38;5;241m*\u001b[39mvalues):\n\u001b[1;32m----> 2\u001b[0m     \u001b[38;5;28;01mreturn\u001b[39;00m \u001b[38;5;28;43msum\u001b[39;49m\u001b[43m(\u001b[49m\u001b[43mvalues\u001b[49m\u001b[43m)\u001b[49m\u001b[38;5;241m/\u001b[39m\u001b[38;5;28mlen\u001b[39m(values)\n",
      "Cell \u001b[1;32mIn[8], line 4\u001b[0m, in \u001b[0;36msum\u001b[1;34m(*values)\u001b[0m\n\u001b[0;32m      2\u001b[0m total \u001b[38;5;241m=\u001b[39m \u001b[38;5;241m0\u001b[39m\n\u001b[0;32m      3\u001b[0m \u001b[38;5;28;01mfor\u001b[39;00m value \u001b[38;5;129;01min\u001b[39;00m values:\n\u001b[1;32m----> 4\u001b[0m     \u001b[43mtotal\u001b[49m\u001b[43m \u001b[49m\u001b[38;5;241;43m+\u001b[39;49m\u001b[38;5;241;43m=\u001b[39;49m\u001b[43m \u001b[49m\u001b[43mvalue\u001b[49m\n\u001b[0;32m      5\u001b[0m \u001b[38;5;28;01mreturn\u001b[39;00m total\n",
      "\u001b[1;31mTypeError\u001b[0m: unsupported operand type(s) for +=: 'int' and 'tuple'"
     ]
    }
   ],
   "source": [
    "average(1,2,3,4)"
   ]
  },
  {
   "cell_type": "code",
   "execution_count": 12,
   "metadata": {},
   "outputs": [],
   "source": [
    "def sum( *values ):\n",
    "    total = 0\n",
    "    for value in values:\n",
    "        total += value\n",
    "    return total\n",
    "\n",
    "\n",
    "def average(*values):\n",
    "\n",
    "    return sum(*values)/len(values)\n",
    "\n"
   ]
  },
  {
   "cell_type": "code",
   "execution_count": 13,
   "metadata": {},
   "outputs": [
    {
     "data": {
      "text/plain": [
       "2.5"
      ]
     },
     "execution_count": 13,
     "metadata": {},
     "output_type": "execute_result"
    }
   ],
   "source": [
    "average(1,2,3,4)"
   ]
  },
  {
   "cell_type": "markdown",
   "metadata": {},
   "source": [
    "#### Assignment 2.3\n",
    "\n",
    "* write a function **frequency** that can calculate frequency distribution of a given set of values\n",
    "\n",
    "* the values may be passed using a sequence or using variable args.\n",
    "\n",
    "```python\n",
    "\n",
    "f1 = frequency(1,1,2,2,1,1,1,1,9,2,9,6,4,1,1,9) # {1:8, 2:3, 9:3, 4:1, 6:1}\n",
    "\n",
    "f2= frequency([1,2,3,3,2,3,2,4,5]) #{ 1:1, 2:3, 3:3, 4:1, 5:1}\n",
    "\n",
    "```\n",
    "\n",
    "\n",
    "* now create a function called **plot_histogram** that can plot a histogram for a given frequency data\n",
    "\n",
    "\n",
    "```python\n",
    "plot_histogram({2:4, 3:7, 1:1:, 4:2, 5:1, 6:3})\n",
    "```\n",
    "\n",
    "<pre>\n",
    " 2 | ===== ===== ===== ===== 4\n",
    " 3 | ===== ===== ===== ===== ===== ===== ==== ===== ===== 7\n",
    " 1 | ===== 1\n",
    " 4 | ===== ===== 2\n",
    " 5 | ===== 1\n",
    " 6 | ===== ===== ===== 3 \n",
    "</pre>\n",
    "\n",
    "\n",
    "* Allow options to customize\n",
    "    * bar design\n",
    "    * to show the frequency values or not (by default True)\n",
    "    * align frequency values (by default False)\n",
    "\n",
    "\n",
    "* example: Aligned frequency with bar made up of Pipes\n",
    "\n",
    "<pre>\n",
    " 2 | ||||| ||||| ||||| |||||                    4\n",
    " 3 | ||||| ||||| ||||| ||||| ||||| ||||| |||||  7\n",
    " 1 | |||||                                      1\n",
    " 4 | ||||| |||||                                2\n",
    " 5 | |||||                                      1\n",
    " 6 | ||||| ||||| |||||                          3 \n",
    "</pre>\n",
    " \n",
    "\n",
    "* example2: frequency with bar made up of Pipes and label hidden\n",
    "\n",
    "<pre>\n",
    " 2 | ||||| ||||| ||||| |||||                    \n",
    " 3 | ||||| ||||| ||||| ||||| ||||| ||||| |||||  \n",
    " 1 | |||||                                      \n",
    " 4 | ||||| |||||                                \n",
    " 5 | |||||                                      \n",
    " 6 | ||||| ||||| |||||                           \n",
    "</pre>"
   ]
  },
  {
   "cell_type": "markdown",
   "metadata": {},
   "source": [
    "##### frequency v1"
   ]
  },
  {
   "cell_type": "code",
   "execution_count": 40,
   "metadata": {},
   "outputs": [],
   "source": [
    "def frequency(values):\n",
    "    \n",
    "    print(values)\n",
    "    data={}\n",
    "\n",
    "    for value in values:\n",
    "        data[value]=values.count(value)\n",
    "\n",
    "    return data"
   ]
  },
  {
   "cell_type": "code",
   "execution_count": 41,
   "metadata": {},
   "outputs": [],
   "source": [
    "data = [2,2,1,9,1,1,1,1,1,4,5,4,7,1,1,1,2,9,9,1,1,1,2]"
   ]
  },
  {
   "cell_type": "code",
   "execution_count": 42,
   "metadata": {},
   "outputs": [
    {
     "ename": "TypeError",
     "evalue": "frequency() takes 1 positional argument but 7 were given",
     "output_type": "error",
     "traceback": [
      "\u001b[1;31m---------------------------------------------------------------------------\u001b[0m",
      "\u001b[1;31mTypeError\u001b[0m                                 Traceback (most recent call last)",
      "Cell \u001b[1;32mIn[42], line 1\u001b[0m\n\u001b[1;32m----> 1\u001b[0m f1\u001b[38;5;241m=\u001b[39m \u001b[43mfrequency\u001b[49m\u001b[43m(\u001b[49m\u001b[38;5;241;43m1\u001b[39;49m\u001b[43m,\u001b[49m\u001b[38;5;241;43m2\u001b[39;49m\u001b[43m,\u001b[49m\u001b[38;5;241;43m1\u001b[39;49m\u001b[43m,\u001b[49m\u001b[38;5;241;43m1\u001b[39;49m\u001b[43m,\u001b[49m\u001b[38;5;241;43m4\u001b[39;49m\u001b[43m,\u001b[49m\u001b[38;5;241;43m5\u001b[39;49m\u001b[43m,\u001b[49m\u001b[38;5;241;43m7\u001b[39;49m\u001b[43m)\u001b[49m\n\u001b[0;32m      3\u001b[0m \u001b[38;5;28mprint\u001b[39m(f1)\n\u001b[0;32m      5\u001b[0m f2\u001b[38;5;241m=\u001b[39m frequency(data)\n",
      "\u001b[1;31mTypeError\u001b[0m: frequency() takes 1 positional argument but 7 were given"
     ]
    }
   ],
   "source": [
    "f1= frequency(1,2,1,1,4,5,7)\n",
    "\n",
    "print(f1)\n",
    "\n",
    "f2= frequency(data)\n",
    "\n",
    "print(f2)"
   ]
  },
  {
   "cell_type": "markdown",
   "metadata": {},
   "source": [
    "### How to make a function accept both variable arguments or a sequence\n",
    "\n",
    "\n",
    "### frequency v2"
   ]
  },
  {
   "cell_type": "code",
   "execution_count": 46,
   "metadata": {},
   "outputs": [],
   "source": [
    "def frequency(*values):\n",
    "    \n",
    "    sequences = (\"list\",\"tuple\")\n",
    "    if len(values)==1 and type(values[0]).__name__ in sequences:\n",
    "        values = values[0]      \n",
    "\n",
    "\n",
    "    data={}\n",
    "    for value in values:\n",
    "        data[value]=values.count(value)\n",
    "\n",
    "    return data"
   ]
  },
  {
   "cell_type": "code",
   "execution_count": 47,
   "metadata": {},
   "outputs": [
    {
     "name": "stdout",
     "output_type": "stream",
     "text": [
      "{1: 3, 2: 1, 4: 1, 5: 1, 7: 1}\n",
      "{2: 4, 1: 12, 9: 3, 4: 2, 5: 1, 7: 1}\n",
      "{2: 3, 3: 1, 9: 2, 4: 1, 7: 1, 1: 3}\n"
     ]
    }
   ],
   "source": [
    "f1= frequency(1,2,1,1,4,5,7) #passing variable argument\n",
    "\n",
    "print(f1)\n",
    "\n",
    "f2= frequency(data) # passing list\n",
    "\n",
    "print(f2)\n",
    "\n",
    "d3=(2,3,9,9,2,4,7,2,1,1,1)\n",
    "\n",
    "f3= frequency(d3) #passing tuple\n",
    "print(f3)"
   ]
  },
  {
   "cell_type": "markdown",
   "metadata": {},
   "source": []
  },
  {
   "cell_type": "markdown",
   "metadata": {},
   "source": [
    "### Problem with current frequency algorithm.\n",
    "\n",
    "\n",
    "* It has a complexity of n^2\n",
    "    * It loops through all items (n)\n",
    "        * this is essential\n",
    "    * For each item it calls count\n",
    "        * count loops through whole list again (n)\n",
    "    * for same item with frequnency \"x\"\n",
    "        * result can be calcuated using a single count call\n",
    "            * same result will be recaculated for next (x-1)*n calls\n",
    "                * waste.\n",
    "\n"
   ]
  },
  {
   "cell_type": "markdown",
   "metadata": {},
   "source": [
    "#"
   ]
  },
  {
   "cell_type": "code",
   "execution_count": 52,
   "metadata": {},
   "outputs": [],
   "source": [
    "def count(values, test):\n",
    "    _count=0\n",
    "    \n",
    "    for value in values:\n",
    "        if value==test:\n",
    "            _count+=1\n",
    "    print(f' {test} => {_count}')\n",
    "    return _count\n",
    "\n",
    "def frequency(*values):\n",
    "    \n",
    "    sequences = (\"list\",\"tuple\")\n",
    "    if len(values)==1 and type(values[0]).__name__ in sequences:\n",
    "        values = values[0]      \n",
    "\n",
    "\n",
    "    data={}\n",
    "    for value in values:\n",
    "        data[value]=count(values,value)\n",
    "\n",
    "    return data"
   ]
  },
  {
   "cell_type": "code",
   "execution_count": 54,
   "metadata": {},
   "outputs": [
    {
     "name": "stdout",
     "output_type": "stream",
     "text": [
      " 2 => 6\n",
      " 1 => 4\n",
      " 2 => 6\n",
      " 2 => 6\n",
      " 2 => 6\n",
      " 2 => 6\n",
      " 1 => 4\n",
      " 1 => 4\n",
      " 1 => 4\n",
      " 2 => 6\n"
     ]
    },
    {
     "data": {
      "text/plain": [
       "{2: 6, 1: 4}"
      ]
     },
     "execution_count": 54,
     "metadata": {},
     "output_type": "execute_result"
    }
   ],
   "source": [
    "d3=(2,1,2,2,2,2,1,1,1,2)\n",
    "frequency(d3)"
   ]
  },
  {
   "cell_type": "markdown",
   "metadata": {},
   "source": [
    "#### Frquency V2 (Not the best logic)\n",
    "\n",
    "* avoid recounting if item is already counted."
   ]
  },
  {
   "cell_type": "code",
   "execution_count": 55,
   "metadata": {},
   "outputs": [],
   "source": [
    "def frequency(*values):\n",
    "    \n",
    "    sequences = (\"list\",\"tuple\")\n",
    "    if len(values)==1 and type(values[0]).__name__ in sequences:\n",
    "        values = values[0]      \n",
    "\n",
    "\n",
    "    data={}\n",
    "    for value in values:\n",
    "        if value not in data.keys(): # if this value is not already counted\n",
    "            data[value]=count(values,value)\n",
    "\n",
    "    return data"
   ]
  },
  {
   "cell_type": "code",
   "execution_count": 56,
   "metadata": {},
   "outputs": [
    {
     "name": "stdout",
     "output_type": "stream",
     "text": [
      " 2 => 6\n",
      " 1 => 4\n"
     ]
    },
    {
     "data": {
      "text/plain": [
       "{2: 6, 1: 4}"
      ]
     },
     "execution_count": 56,
     "metadata": {},
     "output_type": "execute_result"
    }
   ],
   "source": [
    "frequency(d3)"
   ]
  },
  {
   "cell_type": "markdown",
   "metadata": {},
   "source": [
    "### What is the complexity of this code\n",
    "\n",
    "* O((n+1)*k)\n",
    "    * where n is total number of items\n",
    "\n",
    "    * +1  comes from loop inside the frequency\n",
    "\n",
    "    * it runs count() only once per key\n",
    "        * each count runs for n*k\n",
    "\n",
    "```python\n",
    " data={}\n",
    "    for value in values:\n",
    "        if value not in data.keys(): # if this value is not already counted\n",
    "            data[value]=count(values,value)\n",
    "\n",
    "    return data\n",
    "```\n",
    "\n",
    "* here we have accounted for \n",
    "    * for loop inside frequency\n",
    "    * count()\n",
    "\n",
    "* what about \"in\" call.\n",
    "    * is \"in\" call also a loop?\n",
    "\n",
    "### does \"in\" function runs a loop to check if a value is present in the list or set or dict?\n",
    "\n",
    "* In case of a list/tuple \"in\" function runs a loop.\n",
    "* set/dict using hashing mechanism which is extremly fast and doesn't require loop\n",
    "    * they are said to have o(1) complexity\n",
    "\n",
    "* But even if it was not that fast, there would be only few keys, so loop time will negligible\n",
    "\n",
    "\n",
    "\n",
    "\n",
    "### Frequency v3\n",
    "\n",
    "* we still have room for improvement\n",
    "\n"
   ]
  },
  {
   "cell_type": "code",
   "execution_count": 65,
   "metadata": {},
   "outputs": [],
   "source": [
    "def normalize_arguments(values):\n",
    "    sequences = (\"list\",\"tuple\")\n",
    "    if len(values)==1 and type(values[0]).__name__ in sequences:\n",
    "        values = values[0]   \n",
    "\n",
    "    return values\n",
    "\n",
    "def frequency(*values):\n",
    "    \n",
    "    values=normalize_arguments(values)   \n",
    "\n",
    "    data={}\n",
    "    for value in values:        \n",
    "        data[value]=data.get(value,0)+1\n",
    "\n",
    "    return data"
   ]
  },
  {
   "cell_type": "code",
   "execution_count": 67,
   "metadata": {},
   "outputs": [
    {
     "name": "stdout",
     "output_type": "stream",
     "text": [
      "[2, 2, 1, 9, 1, 1, 1, 1, 1, 4, 5, 4, 7, 1, 1, 1, 2, 9, 9, 1, 1, 1, 2]\n"
     ]
    },
    {
     "data": {
      "text/plain": [
       "{2: 4, 1: 12, 9: 3, 4: 2, 5: 1, 7: 1}"
      ]
     },
     "execution_count": 67,
     "metadata": {},
     "output_type": "execute_result"
    }
   ],
   "source": [
    "print(data)\n",
    "frequency(data) #{2:2,1:3,9:1,}"
   ]
  },
  {
   "cell_type": "markdown",
   "metadata": {},
   "source": [
    "### Performance\n",
    "* This code loops through entire loop exactly once making the compexity O(n)\n",
    "* get(n, 0)  also need to search for the key\n",
    "    * but key search is extremely fast with O(1) complexity\n",
    "    * if it were like a list it would have added a complexit of O(k) making algorithm O(n*k)\n",
    "\n",
    "\n",
    "* The above code can also be written (with same performance) but in an expanded way as below"
   ]
  },
  {
   "cell_type": "code",
   "execution_count": 10,
   "metadata": {},
   "outputs": [],
   "source": [
    "def frequency(*values):\n",
    "    \n",
    "    values=normalize_arguments(values)   \n",
    "\n",
    "    data={}\n",
    "    for value in values:        \n",
    "        if value in data:\n",
    "            data[value]+=1\n",
    "        else:\n",
    "            data[value]=1\n",
    "\n",
    "    return data"
   ]
  },
  {
   "cell_type": "markdown",
   "metadata": {},
   "source": [
    "### plot_histogram\n",
    "\n",
    "```python\n",
    "plot_histogram({2:4, 3:7, 1:1:, 4:2, 5:1, 6:3})\n",
    "```\n",
    "\n",
    "<pre>\n",
    " 2 | ===== ===== ===== ===== 4\n",
    " 3 | ===== ===== ===== ===== ===== ===== ==== ===== ===== 7\n",
    " 1 | ===== 1\n",
    " 4 | ===== ===== 2\n",
    " 5 | ===== 1\n",
    " 6 | ===== ===== ===== 3 \n",
    "\n",
    "</pre>"
   ]
  },
  {
   "cell_type": "code",
   "execution_count": 69,
   "metadata": {},
   "outputs": [],
   "source": [
    "def plot_histogram(frequency):\n",
    "    design='=== '\n",
    "    for value,frequency in frequency.items():\n",
    "        print(f'{value}|{design*frequency} {frequency}')"
   ]
  },
  {
   "cell_type": "code",
   "execution_count": 71,
   "metadata": {},
   "outputs": [
    {
     "name": "stdout",
     "output_type": "stream",
     "text": [
      "2|=== === === ===  4\n",
      "3|=== === === === === === ===  7\n",
      "1|===  1\n",
      "4|=== ===  2\n",
      "5|===  1\n",
      "6|=== === ===  3\n"
     ]
    }
   ],
   "source": [
    "plot_histogram({2:4, 3:7, 1:1, 4:2, 5:1, 6:3})"
   ]
  },
  {
   "cell_type": "markdown",
   "metadata": {},
   "source": [
    "### Order of Parameter passing.\n",
    "\n",
    "* When using different type of arguments (positional, default, *args), \n",
    "    * generally args should be the last parameter\n",
    "        * in python 2 it was compulsory\n",
    "\n",
    "    * default arguments should be given from right.\n",
    "        * if  second parameter has default, third and fourth should also have\n",
    "        * otherwise it be difficult to use it.\n",
    "        *     there will be an error, if we do so."
   ]
  },
  {
   "cell_type": "code",
   "execution_count": 4,
   "metadata": {},
   "outputs": [
    {
     "ename": "SyntaxError",
     "evalue": "parameter without a default follows parameter with a default (171484178.py, line 1)",
     "output_type": "error",
     "traceback": [
      "\u001b[1;36m  Cell \u001b[1;32mIn[4], line 1\u001b[1;36m\u001b[0m\n\u001b[1;33m    def call_me(a, b=1, c):\u001b[0m\n\u001b[1;37m                        ^\u001b[0m\n\u001b[1;31mSyntaxError\u001b[0m\u001b[1;31m:\u001b[0m parameter without a default follows parameter with a default\n"
     ]
    }
   ],
   "source": [
    "def call_me(a, b=1, c):\n",
    "    pass"
   ]
  },
  {
   "cell_type": "markdown",
   "metadata": {},
   "source": [
    "#### passing parameter after *args\n",
    "\n",
    "* \\*args can take all the available value, leaving nothing for what comes after \"d\"\n",
    "* The function definition will have no error\n",
    "    * That means there may be a way to call it.\n",
    "* Look at the error message for a HINT"
   ]
  },
  {
   "cell_type": "code",
   "execution_count": 5,
   "metadata": {},
   "outputs": [],
   "source": [
    "def call_me(a, b=10, c=20, *args, d):\n",
    "    print(f'a={a}\\tb={b}\\tc={c}\\targs={args}\\td={d}')"
   ]
  },
  {
   "cell_type": "code",
   "execution_count": 6,
   "metadata": {},
   "outputs": [
    {
     "ename": "TypeError",
     "evalue": "call_me() missing 1 required keyword-only argument: 'd'",
     "output_type": "error",
     "traceback": [
      "\u001b[1;31m---------------------------------------------------------------------------\u001b[0m",
      "\u001b[1;31mTypeError\u001b[0m                                 Traceback (most recent call last)",
      "Cell \u001b[1;32mIn[6], line 1\u001b[0m\n\u001b[1;32m----> 1\u001b[0m \u001b[43mcall_me\u001b[49m\u001b[43m(\u001b[49m\u001b[38;5;241;43m1\u001b[39;49m\u001b[43m,\u001b[49m\u001b[38;5;241;43m2\u001b[39;49m\u001b[43m,\u001b[49m\u001b[38;5;241;43m3\u001b[39;49m\u001b[43m,\u001b[49m\u001b[38;5;241;43m4\u001b[39;49m\u001b[43m,\u001b[49m\u001b[38;5;241;43m5\u001b[39;49m\u001b[43m,\u001b[49m\u001b[38;5;241;43m6\u001b[39;49m\u001b[43m,\u001b[49m\u001b[38;5;241;43m7\u001b[39;49m\u001b[43m,\u001b[49m\u001b[38;5;241;43m8\u001b[39;49m\u001b[43m)\u001b[49m \u001b[38;5;66;03m# a=1 b=2 c=3 args=(4,5,6,7,8) d=?\u001b[39;00m\n",
      "\u001b[1;31mTypeError\u001b[0m: call_me() missing 1 required keyword-only argument: 'd'"
     ]
    }
   ],
   "source": [
    "call_me(1,2,3,4,5,6,7,8) # a=1 b=2 c=3 args=(4,5,6,7,8) d=?"
   ]
  },
  {
   "cell_type": "markdown",
   "metadata": {},
   "source": [
    "#### d can be supplied not as positional but as keyword parameter."
   ]
  },
  {
   "cell_type": "code",
   "execution_count": 7,
   "metadata": {},
   "outputs": [
    {
     "name": "stdout",
     "output_type": "stream",
     "text": [
      "a=1\tb=2\tc=3\targs=(4, 5, 6, 7, 8)\td=Hi\n"
     ]
    }
   ],
   "source": [
    "call_me(1,2,3,4,5,6,7,8, d=\"Hi\")"
   ]
  },
  {
   "cell_type": "code",
   "execution_count": 8,
   "metadata": {},
   "outputs": [
    {
     "name": "stdout",
     "output_type": "stream",
     "text": [
      "a=1\tb=10\tc=20\targs=()\td=Hi\n"
     ]
    }
   ],
   "source": [
    "call_me(1, d=\"Hi\")"
   ]
  },
  {
   "cell_type": "code",
   "execution_count": 9,
   "metadata": {},
   "outputs": [
    {
     "name": "stdout",
     "output_type": "stream",
     "text": [
      "a=1\tb=Hello\tc=20\targs=()\td=Hi\n"
     ]
    }
   ],
   "source": [
    "call_me(1, d=\"Hi\", b=\"Hello\")"
   ]
  },
  {
   "cell_type": "markdown",
   "metadata": {},
   "source": [
    "#### Best Practices to handle Keyword only parameters\n",
    "\n",
    "* Any parameter that comes arter *args becomes keyword-only\n",
    "    * they can't be passed using positional syntax.\n",
    "\n",
    "* We should give them some default so that code can work even if nothing is supplied.\n",
    "\n",
    "* keyword-only parameter should have defaults\n",
    "\n",
    "* if you don't want to give defaults, make them positional."
   ]
  },
  {
   "cell_type": "markdown",
   "metadata": {},
   "source": [
    "### the customization as per assignment 2.3\n",
    "\n",
    "* We can use keyword arguments with sensible defaults to define hitogram customization."
   ]
  },
  {
   "cell_type": "code",
   "execution_count": 11,
   "metadata": {},
   "outputs": [],
   "source": [
    "def plot_histogram(frequency,design='=== '):\n",
    "    \n",
    "    for value,frequency in frequency.items():\n",
    "        print(f'{value}|{design*frequency} {frequency}')"
   ]
  },
  {
   "cell_type": "code",
   "execution_count": 12,
   "metadata": {},
   "outputs": [],
   "source": [
    "hdata={2:4, 3:7, 1:1, 4:2, 5:1, 6:3}"
   ]
  },
  {
   "cell_type": "code",
   "execution_count": 13,
   "metadata": {},
   "outputs": [
    {
     "name": "stdout",
     "output_type": "stream",
     "text": [
      "2|=== === === ===  4\n",
      "3|=== === === === === === ===  7\n",
      "1|===  1\n",
      "4|=== ===  2\n",
      "5|===  1\n",
      "6|=== === ===  3\n"
     ]
    }
   ],
   "source": [
    "plot_histogram(hdata)"
   ]
  },
  {
   "cell_type": "code",
   "execution_count": 14,
   "metadata": {},
   "outputs": [
    {
     "name": "stdout",
     "output_type": "stream",
     "text": [
      "2|XXXXXXXXXXXXXXXXXXXX 4\n",
      "3|XXXXXXXXXXXXXXXXXXXXXXXXXXXXXXXXXXX 7\n",
      "1|XXXXX 1\n",
      "4|XXXXXXXXXX 2\n",
      "5|XXXXX 1\n",
      "6|XXXXXXXXXXXXXXX 3\n"
     ]
    }
   ],
   "source": [
    "plot_histogram(hdata, design=\"XXXXX\")"
   ]
  },
  {
   "cell_type": "markdown",
   "metadata": {},
   "source": []
  },
  {
   "cell_type": "markdown",
   "metadata": {},
   "source": [
    "#### Customization #2: To show/hide frequency value"
   ]
  },
  {
   "cell_type": "code",
   "execution_count": 19,
   "metadata": {},
   "outputs": [],
   "source": [
    "def plot_histogram(frequency,design='=== ', show_frequency=True):\n",
    "    \n",
    "    for value,frequency in frequency.items():\n",
    "        label= frequency if show_frequency else ''\n",
    "        print(f'{value}|{design*frequency} {label}')"
   ]
  },
  {
   "cell_type": "code",
   "execution_count": 20,
   "metadata": {},
   "outputs": [
    {
     "name": "stdout",
     "output_type": "stream",
     "text": [
      "2|=== === === ===  4\n",
      "3|=== === === === === === ===  7\n",
      "1|===  1\n",
      "4|=== ===  2\n",
      "5|===  1\n",
      "6|=== === ===  3\n"
     ]
    }
   ],
   "source": [
    "plot_histogram(hdata)"
   ]
  },
  {
   "cell_type": "code",
   "execution_count": 21,
   "metadata": {},
   "outputs": [
    {
     "name": "stdout",
     "output_type": "stream",
     "text": [
      "2|=== === === ===  \n",
      "3|=== === === === === === ===  \n",
      "1|===  \n",
      "4|=== ===  \n",
      "5|===  \n",
      "6|=== === ===  \n"
     ]
    }
   ],
   "source": [
    "plot_histogram(hdata, show_frequency=False)"
   ]
  },
  {
   "cell_type": "code",
   "execution_count": 22,
   "metadata": {},
   "outputs": [
    {
     "name": "stdout",
     "output_type": "stream",
     "text": [
      "2|:::::::::::::::::::::::: \n",
      "3|:::::::::::::::::::::::::::::::::::::::::: \n",
      "1|:::::: \n",
      "4|:::::::::::: \n",
      "5|:::::: \n",
      "6|:::::::::::::::::: \n"
     ]
    }
   ],
   "source": [
    "plot_histogram(hdata, show_frequency=False, design=\"::::::\")"
   ]
  },
  {
   "cell_type": "markdown",
   "metadata": {},
   "source": [
    "### customization#3  align the label if needed"
   ]
  },
  {
   "cell_type": "code",
   "execution_count": 32,
   "metadata": {},
   "outputs": [],
   "source": [
    "def plot_histogram(frequency,design='=== ', show_frequency=True, align=False):\n",
    "    \n",
    "    #largest bar\n",
    "    size=0 if not align else max(frequency.values()) * len(design)\n",
    "\n",
    "    for value,frequency in frequency.items():\n",
    "        label= frequency if show_frequency else ''\n",
    "        print(f'{value}|{(design*frequency).ljust(size,'.')} {label}')"
   ]
  },
  {
   "cell_type": "code",
   "execution_count": 33,
   "metadata": {},
   "outputs": [
    {
     "name": "stdout",
     "output_type": "stream",
     "text": [
      "2|=== === === ===  4\n",
      "3|=== === === === === === ===  7\n",
      "1|===  1\n",
      "4|=== ===  2\n",
      "5|===  1\n",
      "6|=== === ===  3\n"
     ]
    }
   ],
   "source": [
    "plot_histogram(hdata)"
   ]
  },
  {
   "cell_type": "code",
   "execution_count": 34,
   "metadata": {},
   "outputs": [
    {
     "name": "stdout",
     "output_type": "stream",
     "text": [
      "2|=== === === === ............ 4\n",
      "3|=== === === === === === ===  7\n",
      "1|=== ........................ 1\n",
      "4|=== === .................... 2\n",
      "5|=== ........................ 1\n",
      "6|=== === === ................ 3\n"
     ]
    }
   ],
   "source": [
    "plot_histogram(hdata, align=True)"
   ]
  },
  {
   "cell_type": "code",
   "execution_count": 35,
   "metadata": {},
   "outputs": [
    {
     "name": "stdout",
     "output_type": "stream",
     "text": [
      "2|=== === === === ............ \n",
      "3|=== === === === === === ===  \n",
      "1|=== ........................ \n",
      "4|=== === .................... \n",
      "5|=== ........................ \n",
      "6|=== === === ................ \n"
     ]
    }
   ],
   "source": [
    "plot_histogram(hdata, show_frequency=False, align=True)"
   ]
  },
  {
   "cell_type": "markdown",
   "metadata": {},
   "source": [
    "### Problem\n",
    "\n",
    "* when show_frequency is false, there is nothing to align\n",
    "* alignment requires additional time (we need to find max and align everything)\n",
    "* so we must consider align only if show_frequency is True."
   ]
  },
  {
   "cell_type": "code",
   "execution_count": 36,
   "metadata": {},
   "outputs": [],
   "source": [
    "def plot_histogram(frequency,design='=== ', show_frequency=True, align=False, space=' '):\n",
    "    \n",
    "    align= align and show_frequency\n",
    "    #largest bar\n",
    "    size=0 if not align else max(frequency.values()) * len(design)\n",
    "\n",
    "    for value,frequency in frequency.items():\n",
    "        label= frequency if show_frequency else ''\n",
    "        print(f'{value}|{(design*frequency).ljust(size,space)} {label}')"
   ]
  },
  {
   "cell_type": "code",
   "execution_count": 38,
   "metadata": {},
   "outputs": [
    {
     "name": "stdout",
     "output_type": "stream",
     "text": [
      "2|=== === === === ............ 4\n",
      "3|=== === === === === === ===  7\n",
      "1|=== ........................ 1\n",
      "4|=== === .................... 2\n",
      "5|=== ........................ 1\n",
      "6|=== === === ................ 3\n"
     ]
    }
   ],
   "source": [
    "plot_histogram(hdata, align=True, show_frequency=True, space='.')"
   ]
  },
  {
   "cell_type": "code",
   "execution_count": 48,
   "metadata": {},
   "outputs": [],
   "source": [
    "def plot_histogram(frequency,design='▓▓▓', show_frequency=True, align=False, space='░'):\n",
    "    \n",
    "    align= align and show_frequency\n",
    "    #largest bar\n",
    "    size=0 if not align else max(frequency.values()) * len(design)\n",
    "\n",
    "    for value,frequency in frequency.items():\n",
    "        label= frequency if show_frequency else ''\n",
    "        print(f'{value}|{(design*frequency).ljust(size,space)} {label}')\n",
    "\n"
   ]
  },
  {
   "cell_type": "code",
   "execution_count": 40,
   "metadata": {},
   "outputs": [
    {
     "name": "stdout",
     "output_type": "stream",
     "text": [
      "2|▓▓▓▓▓▓▓▓▓▓▓▓ 4\n",
      "3|▓▓▓▓▓▓▓▓▓▓▓▓▓▓▓▓▓▓▓▓▓ 7\n",
      "1|▓▓▓ 1\n",
      "4|▓▓▓▓▓▓ 2\n",
      "5|▓▓▓ 1\n",
      "6|▓▓▓▓▓▓▓▓▓ 3\n"
     ]
    }
   ],
   "source": [
    "plot_histogram(hdata)"
   ]
  },
  {
   "cell_type": "code",
   "execution_count": 41,
   "metadata": {},
   "outputs": [
    {
     "name": "stdout",
     "output_type": "stream",
     "text": [
      "2|▓▓▓▓▓▓▓▓▓▓▓▓░░░░░░░░░ 4\n",
      "3|▓▓▓▓▓▓▓▓▓▓▓▓▓▓▓▓▓▓▓▓▓ 7\n",
      "1|▓▓▓░░░░░░░░░░░░░░░░░░ 1\n",
      "4|▓▓▓▓▓▓░░░░░░░░░░░░░░░ 2\n",
      "5|▓▓▓░░░░░░░░░░░░░░░░░░ 1\n",
      "6|▓▓▓▓▓▓▓▓▓░░░░░░░░░░░░ 3\n"
     ]
    }
   ],
   "source": [
    "plot_histogram(hdata,align=True)"
   ]
  },
  {
   "cell_type": "code",
   "execution_count": 42,
   "metadata": {},
   "outputs": [
    {
     "name": "stdout",
     "output_type": "stream",
     "text": [
      "2|▓▓▓▓▓▓▓▓▓▓▓▓          4\n",
      "3|▓▓▓▓▓▓▓▓▓▓▓▓▓▓▓▓▓▓▓▓▓ 7\n",
      "1|▓▓▓                   1\n",
      "4|▓▓▓▓▓▓                2\n",
      "5|▓▓▓                   1\n",
      "6|▓▓▓▓▓▓▓▓▓             3\n"
     ]
    }
   ],
   "source": [
    "plot_histogram(hdata,align=True, space=' ')"
   ]
  },
  {
   "cell_type": "markdown",
   "metadata": {},
   "source": [
    "### keyword arguments passing\n",
    "\n",
    "* While we can pass the keyword arguments by giving default for last parameters as above\n",
    "    * we also have an alternative syntax for keyword parameters\n",
    "\n",
    "* We can collect all our keyword parameters in a **dict** just like we collect variable number of positional parameters in a tuple using **\\*args** syntax.\n",
    "\n",
    "\n",
    "* To pass multiple keyword parameters as a dict, we can using double \\* prefix on parameter\n",
    "    * conventionally this parameter is named as **\\*\\*kwargs** "
   ]
  },
  {
   "cell_type": "code",
   "execution_count": 43,
   "metadata": {},
   "outputs": [],
   "source": [
    "def call_me(x,y=1,*args,**kwargs):\n",
    "    print(f'x={x}\\ty={y}\\targs={args}\\tkwargs={kwargs}')"
   ]
  },
  {
   "cell_type": "code",
   "execution_count": 44,
   "metadata": {},
   "outputs": [
    {
     "name": "stdout",
     "output_type": "stream",
     "text": [
      "x=1\ty=2\targs=(3, 4, 5)\tkwargs={'align': True, 'space': 'X'}\n"
     ]
    }
   ],
   "source": [
    "call_me(1,2,3,4,5, align=True, space='X')"
   ]
  },
  {
   "cell_type": "markdown",
   "metadata": {},
   "source": [
    "### plot_histogram using \\*\\*kwargs"
   ]
  },
  {
   "cell_type": "code",
   "execution_count": 49,
   "metadata": {},
   "outputs": [],
   "source": [
    "def plot_histogram2(frequency,**kwargs):\n",
    "    #design='▓▓▓', show_frequency=True, align=False, space='░'\n",
    "\n",
    "    design = kwargs.get('design','▓▓▓')\n",
    "    show_frequency = kwargs.get('show_frequency',True)\n",
    "    align = kwargs.get('align',False)\n",
    "    space = kwargs.get('space','░')\n",
    "\n",
    "\n",
    "    align= align and show_frequency\n",
    "    #largest bar\n",
    "    size=0 if not align else max(frequency.values()) * len(design)\n",
    "\n",
    "    for value,frequency in frequency.items():\n",
    "        label= frequency if show_frequency else ''\n",
    "        print(f'{value}|{(design*frequency).ljust(size,space)} {label}')\n",
    "\n"
   ]
  },
  {
   "cell_type": "code",
   "execution_count": 50,
   "metadata": {},
   "outputs": [
    {
     "name": "stdout",
     "output_type": "stream",
     "text": [
      "2|▓▓▓▓▓▓▓▓▓▓▓▓░░░░░░░░░ 4\n",
      "3|▓▓▓▓▓▓▓▓▓▓▓▓▓▓▓▓▓▓▓▓▓ 7\n",
      "1|▓▓▓░░░░░░░░░░░░░░░░░░ 1\n",
      "4|▓▓▓▓▓▓░░░░░░░░░░░░░░░ 2\n",
      "5|▓▓▓░░░░░░░░░░░░░░░░░░ 1\n",
      "6|▓▓▓▓▓▓▓▓▓░░░░░░░░░░░░ 3\n"
     ]
    }
   ],
   "source": [
    "plot_histogram2(hdata, align=True)"
   ]
  },
  {
   "cell_type": "markdown",
   "metadata": {},
   "source": [
    "### When Should I use \\*\\*kwargs?\n",
    "\n",
    "* while it can be used anywhere, both approaches has their merits and demerits\n",
    "    * kwargs doesn't give you intellisense\n",
    "    * you can pass any argument even those that function doesn't need or manage\n",
    "    * the keyword-only arguments are fixed and they show up in help.\n",
    "\n",
    "* \\*\\*kwargs can be be used when we do not know what parameters we need\n",
    "    * we may take any arbirary parameters\n"
   ]
  },
  {
   "cell_type": "code",
   "execution_count": 51,
   "metadata": {},
   "outputs": [
    {
     "name": "stdout",
     "output_type": "stream",
     "text": [
      "2|▓▓▓▓▓▓▓▓▓▓▓▓ 4\n",
      "3|▓▓▓▓▓▓▓▓▓▓▓▓▓▓▓▓▓▓▓▓▓ 7\n",
      "1|▓▓▓ 1\n",
      "4|▓▓▓▓▓▓ 2\n",
      "5|▓▓▓ 1\n",
      "6|▓▓▓▓▓▓▓▓▓ 3\n"
     ]
    }
   ],
   "source": [
    "plot_histogram2(hdata, color='red', orientation='vertical')"
   ]
  },
  {
   "cell_type": "code",
   "execution_count": 52,
   "metadata": {},
   "outputs": [
    {
     "ename": "TypeError",
     "evalue": "plot_histogram() got an unexpected keyword argument 'color'",
     "output_type": "error",
     "traceback": [
      "\u001b[1;31m---------------------------------------------------------------------------\u001b[0m",
      "\u001b[1;31mTypeError\u001b[0m                                 Traceback (most recent call last)",
      "Cell \u001b[1;32mIn[52], line 1\u001b[0m\n\u001b[1;32m----> 1\u001b[0m \u001b[43mplot_histogram\u001b[49m\u001b[43m(\u001b[49m\u001b[43mhdata\u001b[49m\u001b[43m,\u001b[49m\u001b[43m \u001b[49m\u001b[43mcolor\u001b[49m\u001b[38;5;241;43m=\u001b[39;49m\u001b[38;5;124;43m'\u001b[39;49m\u001b[38;5;124;43mred\u001b[39;49m\u001b[38;5;124;43m'\u001b[39;49m\u001b[43m,\u001b[49m\u001b[43m \u001b[49m\u001b[43morientation\u001b[49m\u001b[38;5;241;43m=\u001b[39;49m\u001b[38;5;124;43m'\u001b[39;49m\u001b[38;5;124;43mvertical\u001b[39;49m\u001b[38;5;124;43m'\u001b[39;49m\u001b[43m)\u001b[49m\n",
      "\u001b[1;31mTypeError\u001b[0m: plot_histogram() got an unexpected keyword argument 'color'"
     ]
    }
   ],
   "source": [
    "plot_histogram(hdata, color='red', orientation='vertical')"
   ]
  },
  {
   "cell_type": "markdown",
   "metadata": {},
   "source": [
    "### help is given to those who seek.\n",
    "\n",
    "* we can get help on even user functions"
   ]
  },
  {
   "cell_type": "code",
   "execution_count": 53,
   "metadata": {},
   "outputs": [
    {
     "name": "stdout",
     "output_type": "stream",
     "text": [
      "Help on function plot_histogram in module __main__:\n",
      "\n",
      "plot_histogram(frequency, design='▓▓▓', show_frequency=True, align=False, space='░')\n",
      "\n"
     ]
    }
   ],
   "source": [
    "help(plot_histogram)"
   ]
  },
  {
   "cell_type": "code",
   "execution_count": 54,
   "metadata": {},
   "outputs": [
    {
     "name": "stdout",
     "output_type": "stream",
     "text": [
      "Help on function plot_histogram2 in module __main__:\n",
      "\n",
      "plot_histogram2(frequency, **kwargs)\n",
      "\n"
     ]
    }
   ],
   "source": [
    "help(plot_histogram2)"
   ]
  },
  {
   "cell_type": "markdown",
   "metadata": {},
   "source": [
    "### Help others to understand your code.\n",
    "\n",
    "* We can include a docstring (trippled quoted string) as the first non-referenced value inside our function/module/class.\n",
    "\n",
    "* This string becomes part of the help documentation system"
   ]
  },
  {
   "cell_type": "code",
   "execution_count": 55,
   "metadata": {},
   "outputs": [],
   "source": [
    "def plot_histogram2(frequency,**kwargs):\n",
    "    '''\n",
    "        Plots histogram for a given frequency dictionary. The key should be the data and value is its frequency\n",
    "        Example: {'IN':2, 'USA':5, 'FR':3}\n",
    "\n",
    "        Parameters:\n",
    "            frequency (dict): A dictionary with data as key and frequency as value.\n",
    "            design (str, optional): Design of the bar. Defaults to '▓▓▓'.\n",
    "            show_frequency (bool, optional): Whether to show frequency or not. Defaults to True.\n",
    "            align (bool, optional): Whether to align the bar or not. Defaults to False.\n",
    "            space (str, optional): The space to be used for alignment. Defaults to '░'.\n",
    "    '''\n",
    "    #design='▓▓▓', show_frequency=True, align=False, space='░'\n",
    "\n",
    "    design = kwargs.get('design','▓▓▓')\n",
    "    show_frequency = kwargs.get('show_frequency',True)\n",
    "    align = kwargs.get('align',False)\n",
    "    space = kwargs.get('space','░')\n",
    "\n",
    "\n",
    "    align= align and show_frequency\n",
    "    #largest bar\n",
    "    size=0 if not align else max(frequency.values()) * len(design)\n",
    "\n",
    "    for value,frequency in frequency.items():\n",
    "        label= frequency if show_frequency else ''\n",
    "        print(f'{value}|{(design*frequency).ljust(size,space)} {label}')"
   ]
  },
  {
   "cell_type": "code",
   "execution_count": 56,
   "metadata": {},
   "outputs": [
    {
     "name": "stdout",
     "output_type": "stream",
     "text": [
      "Help on function plot_histogram in module __main__:\n",
      "\n",
      "plot_histogram(frequency, design='▓▓▓', show_frequency=True, align=False, space='░')\n",
      "\n"
     ]
    }
   ],
   "source": [
    "help(plot_histogram)"
   ]
  },
  {
   "cell_type": "markdown",
   "metadata": {},
   "source": [
    "help(plot_histogram2)"
   ]
  },
  {
   "cell_type": "code",
   "execution_count": 57,
   "metadata": {},
   "outputs": [
    {
     "name": "stdout",
     "output_type": "stream",
     "text": [
      "Help on function plot_histogram2 in module __main__:\n",
      "\n",
      "plot_histogram2(frequency, **kwargs)\n",
      "    Plots histogram for a given frequency dictionary. The key should be the data and value is its frequency\n",
      "    Example: {'IN':2, 'USA':5, 'FR':3}\n",
      "\n",
      "    Parameters:\n",
      "        frequency (dict): A dictionary with data as key and frequency as value.\n",
      "        design (str, optional): Design of the bar. Defaults to '▓▓▓'.\n",
      "        show_frequency (bool, optional): Whether to show frequency or not. Defaults to True.\n",
      "        align (bool, optional): Whether to align the bar or not. Defaults to False.\n",
      "        space (str, optional): The space to be used for alignment. Defaults to '░'.\n",
      "\n"
     ]
    }
   ],
   "source": [
    "help(plot_histogram2)"
   ]
  },
  {
   "cell_type": "code",
   "execution_count": null,
   "metadata": {},
   "outputs": [],
   "source": []
  }
 ],
 "metadata": {
  "kernelspec": {
   "display_name": "Python 3",
   "language": "python",
   "name": "python3"
  },
  "language_info": {
   "codemirror_mode": {
    "name": "ipython",
    "version": 3
   },
   "file_extension": ".py",
   "mimetype": "text/x-python",
   "name": "python",
   "nbconvert_exporter": "python",
   "pygments_lexer": "ipython3",
   "version": "3.12.1"
  }
 },
 "nbformat": 4,
 "nbformat_minor": 2
}
