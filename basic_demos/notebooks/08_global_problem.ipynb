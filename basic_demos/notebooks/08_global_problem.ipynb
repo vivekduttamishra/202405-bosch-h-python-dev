{
 "cells": [
  {
   "cell_type": "markdown",
   "metadata": {},
   "source": [
    "### global problem\n",
    "\n",
    "* A name (function name, references etc) can't be constant in python\n",
    "* we can overwrite any name with a new value including\n",
    "    * our own \n",
    "        * function names\n",
    "        * variable names\n",
    "\n",
    "    * predefined\n",
    "        * function names like:  print, input, min, max\n",
    "        * type names: list, tuple,str\n",
    "\n",
    "* when we overwrite an existing name its defintion changes to the new without any warning\n",
    "\n",
    "* the original object it was referring is now gone and not reusable\n",
    "    \n",
    "    "
   ]
  },
  {
   "cell_type": "markdown",
   "metadata": {},
   "source": [
    "### consider the below code"
   ]
  },
  {
   "cell_type": "code",
   "execution_count": 1,
   "metadata": {},
   "outputs": [],
   "source": [
    "print=\"hello\""
   ]
  },
  {
   "cell_type": "markdown",
   "metadata": {},
   "source": [
    "### Now print is no more the print function, its a string value"
   ]
  },
  {
   "cell_type": "code",
   "execution_count": 2,
   "metadata": {},
   "outputs": [
    {
     "ename": "TypeError",
     "evalue": "'str' object is not callable",
     "output_type": "error",
     "traceback": [
      "\u001b[1;31m---------------------------------------------------------------------------\u001b[0m",
      "\u001b[1;31mTypeError\u001b[0m                                 Traceback (most recent call last)",
      "Cell \u001b[1;32mIn[2], line 1\u001b[0m\n\u001b[1;32m----> 1\u001b[0m \u001b[38;5;28;43mprint\u001b[39;49m\u001b[43m(\u001b[49m\u001b[38;5;124;43m'\u001b[39;49m\u001b[38;5;124;43mHello World\u001b[39;49m\u001b[38;5;124;43m'\u001b[39;49m\u001b[43m)\u001b[49m\n",
      "\u001b[1;31mTypeError\u001b[0m: 'str' object is not callable"
     ]
    }
   ],
   "source": [
    "print('Hello World')"
   ]
  },
  {
   "cell_type": "markdown",
   "metadata": {},
   "source": [
    "### Now we have overwritten the \"print\" function\n",
    "\n",
    "* we can't use the print function in our code anywhere to print a value\n",
    "* this can be become an unmantainable design.\n",
    "\n",
    "\n",
    "## Solution ---> AVOID GLOBAL CODES\n",
    "\n",
    "* never declare anything global\n",
    "* write all your logics in some function\n",
    "\n",
    "\n",
    "### Reinvent main()\n",
    "\n",
    "* python doesn't have a main() function\n",
    "    * it doesn't need one\n",
    "    * you can directly write it global space\n",
    "        * you shouldn't write in global space\n",
    "\n",
    "\n",
    "* you can create your own main() function and write your logic there\n",
    "    * you can call this function anything you like\n",
    "    * but lets keep calling it main() for obvious reason.\n",
    "\n",
    "\n"
   ]
  },
  {
   "cell_type": "code",
   "execution_count": 7,
   "metadata": {},
   "outputs": [],
   "source": [
    "def main():\n",
    "    # any code that we would like to write in global\n",
    "    x= input('enter some value')\n",
    "    #print(x)\n",
    "    return x.upper()"
   ]
  },
  {
   "cell_type": "markdown",
   "metadata": {},
   "source": [
    "### Unlike C++, python doesn't recognise main()\n",
    "\n",
    "* so main() will no run automatically\n",
    "* you have to call it manually from the global space\n",
    "    * you can't make it 0 global code\n",
    "    * so we should plain that we will have a single line global code calling main()"
   ]
  },
  {
   "cell_type": "code",
   "execution_count": 8,
   "metadata": {},
   "outputs": [
    {
     "data": {
      "text/plain": [
       "'XYZ'"
      ]
     },
     "execution_count": 8,
     "metadata": {},
     "output_type": "execute_result"
    }
   ],
   "source": [
    "main()"
   ]
  },
  {
   "cell_type": "markdown",
   "metadata": {},
   "source": []
  }
 ],
 "metadata": {
  "kernelspec": {
   "display_name": "Python 3",
   "language": "python",
   "name": "python3"
  },
  "language_info": {
   "codemirror_mode": {
    "name": "ipython",
    "version": 3
   },
   "file_extension": ".py",
   "mimetype": "text/x-python",
   "name": "python",
   "nbconvert_exporter": "python",
   "pygments_lexer": "ipython3",
   "version": "3.12.1"
  }
 },
 "nbformat": 4,
 "nbformat_minor": 2
}
