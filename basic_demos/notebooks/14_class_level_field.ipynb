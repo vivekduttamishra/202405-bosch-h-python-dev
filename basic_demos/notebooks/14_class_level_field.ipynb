{
 "cells": [
  {
   "cell_type": "markdown",
   "metadata": {},
   "source": [
    "## class level variable.\n",
    "\n",
    "* we discussed we add information (field/data) to object and behavior to class\n",
    "* But class is also an object\n",
    "    * we can also add fields at the class level.\n",
    "    \n",
    "* These fields can store some shared information and not object level information.\n",
    "\n",
    "\n",
    "### Use Case: Employee\n",
    "\n",
    "* in earlier example we were passing id to every employee\n",
    "* the problem is\n",
    "    * we may pass dupicate value\n",
    "    * there will be no standard way to allocate id\n",
    "\n",
    "\n",
    "* we may used shared variable to autogenerate id"
   ]
  },
  {
   "cell_type": "code",
   "execution_count": 5,
   "metadata": {},
   "outputs": [],
   "source": [
    "class Employee:\n",
    "    last_id = 0 # class level field.\n",
    "    def __init__(self, name,salary):\n",
    "        Employee.last_id+=1\n",
    "        self.id = Employee.last_id\n",
    "        self.name=name\n",
    "        self.salary=salary\n",
    "\n",
    "    def info(self):\n",
    "        return f'Employee Id={self.id}\\tName={self.name}\\tSalary={self.salary}'\n",
    "    \n",
    "    def get_last_id(self):\n",
    "        return self.last_id\n"
   ]
  },
  {
   "cell_type": "code",
   "execution_count": 6,
   "metadata": {},
   "outputs": [
    {
     "name": "stdout",
     "output_type": "stream",
     "text": [
      "Employee Id=1\tName=Vivek\tSalary=10000\n",
      "Employee Id=2\tName=Sanjay\tSalary=50000\n"
     ]
    }
   ],
   "source": [
    "e1= Employee('Vivek',10000)\n",
    "e2= Employee('Sanjay',50000)\n",
    "\n",
    "print(e1.info())\n",
    "print(e2.info())"
   ]
  },
  {
   "cell_type": "markdown",
   "metadata": {},
   "source": [
    "### A class level field can be accessed (read) even by object reference"
   ]
  },
  {
   "cell_type": "code",
   "execution_count": 7,
   "metadata": {},
   "outputs": [
    {
     "name": "stdout",
     "output_type": "stream",
     "text": [
      "2\n",
      "2\n",
      "2\n"
     ]
    }
   ],
   "source": [
    "print(Employee.last_id)\n",
    "print(e1.last_id)\n",
    "print(e2.last_id)"
   ]
  },
  {
   "cell_type": "markdown",
   "metadata": {},
   "source": [
    "#### But a class level field can't be changed by object reference\n",
    "\n",
    "* if we try to set it using object reference, it will create a new object level field good only for that object"
   ]
  },
  {
   "cell_type": "code",
   "execution_count": 8,
   "metadata": {},
   "outputs": [
    {
     "name": "stdout",
     "output_type": "stream",
     "text": [
      "Employee Id=3\tName=Prabhat\tSalary=50000\n",
      "3\n",
      "100\n",
      "3\n",
      "3\n"
     ]
    }
   ],
   "source": [
    "e2.last_id=100\n",
    "\n",
    "e3=Employee('Prabhat',50000)\n",
    "\n",
    "print(e3.info())\n",
    "\n",
    "print(e1.last_id)\n",
    "print(e2.last_id) #has a personal copy\n",
    "print(e3.last_id)\n",
    "print(Employee.last_id)"
   ]
  },
  {
   "cell_type": "markdown",
   "metadata": {},
   "source": [
    "### if we change using class reference it changes for everyone except anyone that changed it manually"
   ]
  },
  {
   "cell_type": "code",
   "execution_count": 9,
   "metadata": {},
   "outputs": [
    {
     "name": "stdout",
     "output_type": "stream",
     "text": [
      "1000\n",
      "100\n",
      "1000\n",
      "1000\n"
     ]
    }
   ],
   "source": [
    "Employee.last_id=1000\n",
    "\n",
    "print(e1.last_id)\n",
    "print(e2.last_id) #has a personal copy\n",
    "print(e3.last_id)\n",
    "print(Employee.last_id)"
   ]
  },
  {
   "cell_type": "markdown",
   "metadata": {},
   "source": [
    "## Recommendation\n",
    "\n",
    "* Always access and modify class level field using class reference"
   ]
  },
  {
   "cell_type": "markdown",
   "metadata": {},
   "source": []
  }
 ],
 "metadata": {
  "kernelspec": {
   "display_name": "Python 3",
   "language": "python",
   "name": "python3"
  },
  "language_info": {
   "codemirror_mode": {
    "name": "ipython",
    "version": 3
   },
   "file_extension": ".py",
   "mimetype": "text/x-python",
   "name": "python",
   "nbconvert_exporter": "python",
   "pygments_lexer": "ipython3",
   "version": "3.12.1"
  }
 },
 "nbformat": 4,
 "nbformat_minor": 2
}
