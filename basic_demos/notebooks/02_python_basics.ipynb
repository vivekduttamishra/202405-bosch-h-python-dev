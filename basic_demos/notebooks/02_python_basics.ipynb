{
 "cells": [
  {
   "cell_type": "markdown",
   "metadata": {},
   "source": [
    "### 02 Python Basics.\n",
    "\n",
    "* python is an extremely simple object oriented programming language\n",
    "* Most of the elements in a python program are either\n",
    "     * language reserved keywords: if, for, def, class\n",
    "     * operators: +, -, *\n",
    "     * custom names\n",
    "        * not keyword\n",
    "        * may also be defined by python  or third party library\n",
    "        * may represent\n",
    "            * data (information)\n",
    "            * function\n",
    "            * class\n",
    "            * other objects\n",
    "        \n",
    "#### 1. Basic flow of python statements.\n",
    "\n",
    "\n",
    "* In python a statement generally ends in a single physical line.\n",
    "\n",
    "* If we want one statement to expand in multiple lines we needa continuation character **\\\\** at the end of the line\n",
    "\n",
    "    * generally not recommended\n",
    "    * We use it to split a large statement to avoid horizontal scrolling.\n",
    "\n",
    "* If we want to write multiple statements in same line, we need a separator characgter **;**\n",
    "    * generally we don't use it.\n",
    "\n",
    " "
   ]
  },
  {
   "cell_type": "code",
   "execution_count": 1,
   "metadata": {},
   "outputs": [
    {
     "name": "stdout",
     "output_type": "stream",
     "text": [
      "Hello \n",
      "World\n"
     ]
    }
   ],
   "source": [
    "# standard way to write python code\n",
    "print('Hello ')\n",
    "print('World')"
   ]
  },
  {
   "cell_type": "code",
   "execution_count": 3,
   "metadata": {},
   "outputs": [
    {
     "ename": "SyntaxError",
     "evalue": "invalid syntax (1658461146.py, line 3)",
     "output_type": "error",
     "traceback": [
      "\u001b[1;36m  Cell \u001b[1;32mIn[3], line 3\u001b[1;36m\u001b[0m\n\u001b[1;33m    7+\u001b[0m\n\u001b[1;37m      ^\u001b[0m\n\u001b[1;31mSyntaxError\u001b[0m\u001b[1;31m:\u001b[0m invalid syntax\n"
     ]
    }
   ],
   "source": [
    "#A single python statement (eg. print) should end in a single line and not go to next line\n",
    "\n",
    "7+\n",
    "3"
   ]
  },
  {
   "cell_type": "code",
   "execution_count": 4,
   "metadata": {},
   "outputs": [
    {
     "data": {
      "text/plain": [
       "10"
      ]
     },
     "execution_count": 4,
     "metadata": {},
     "output_type": "execute_result"
    }
   ],
   "source": [
    "# we can use continuation character to split a statement into multiple lines\n",
    "\n",
    "7+\\\n",
    "3"
   ]
  },
  {
   "cell_type": "code",
   "execution_count": 5,
   "metadata": {},
   "outputs": [
    {
     "ename": "SyntaxError",
     "evalue": "invalid syntax (4010440405.py, line 3)",
     "output_type": "error",
     "traceback": [
      "\u001b[1;36m  Cell \u001b[1;32mIn[5], line 3\u001b[1;36m\u001b[0m\n\u001b[1;33m    print('Hello') print('World')\u001b[0m\n\u001b[1;37m                   ^\u001b[0m\n\u001b[1;31mSyntaxError\u001b[0m\u001b[1;31m:\u001b[0m invalid syntax\n"
     ]
    }
   ],
   "source": [
    "# we can' write two statements in a single line without a separator character\n",
    "\n",
    "print('Hello') print('World')"
   ]
  },
  {
   "cell_type": "code",
   "execution_count": 6,
   "metadata": {},
   "outputs": [
    {
     "name": "stdout",
     "output_type": "stream",
     "text": [
      "Hello\n",
      "World\n"
     ]
    }
   ],
   "source": [
    "# we can make it happen by separating the two with semicolons\n",
    "\n",
    "print('Hello'); print('World')"
   ]
  },
  {
   "cell_type": "markdown",
   "metadata": {},
   "source": [
    "### print function --- a closer look\n",
    "\n",
    "* print is NOT a keyword. \n",
    "* It is a predefined function\n",
    "* By default \n",
    "    * A single print can print multiple values separated by comma.\n",
    "        * those values are printed separated by blank spaces.\n",
    "\n",
    "    * Each print ends with a new line (\\n).\n",
    "\n",
    " "
   ]
  },
  {
   "cell_type": "code",
   "execution_count": 7,
   "metadata": {},
   "outputs": [
    {
     "name": "stdout",
     "output_type": "stream",
     "text": [
      "1 2 3 4\n",
      "5 6\n",
      "hello world\n",
      "bye\n"
     ]
    }
   ],
   "source": [
    "print(1,2,3,4)\n",
    "print(5,6)\n",
    "print('hello', 'world')\n",
    "print('bye')"
   ]
  },
  {
   "cell_type": "markdown",
   "metadata": {},
   "source": [
    "##### We can change the default behavior of print by providing two options\n",
    "\n",
    "1. **sep**arator character. It defaults to \" \""
   ]
  },
  {
   "cell_type": "code",
   "execution_count": 8,
   "metadata": {},
   "outputs": [
    {
     "name": "stdout",
     "output_type": "stream",
     "text": [
      "1\t2\t3\t4\n",
      "5--->6--->7--->8\n",
      "9\n",
      "10\n"
     ]
    }
   ],
   "source": [
    "print(1,2,3,4, sep=\"\\t\")\n",
    "\n",
    "print(5,6,7,8, sep=\"--->\")\n",
    "\n",
    "print(9,10, sep=\"\\n\")"
   ]
  },
  {
   "cell_type": "markdown",
   "metadata": {},
   "source": [
    "#### 2 **end** characgter defines how print will end.\n",
    "* by default it ends with new line \"\\n\"\n",
    "* we can change it"
   ]
  },
  {
   "cell_type": "code",
   "execution_count": 9,
   "metadata": {},
   "outputs": [
    {
     "name": "stdout",
     "output_type": "stream",
     "text": [
      "Hello World\n"
     ]
    }
   ],
   "source": [
    "print(\"Hello\", end=\" \") # doesn't leave the line\n",
    "print('World') # printed next to Hello in the same line"
   ]
  },
  {
   "cell_type": "markdown",
   "metadata": {},
   "source": [
    "### Storing information ---> Data Types\n",
    "\n",
    "* Python has basic data types needed to store information in the system\n",
    "* common data types include\n",
    "    * **int**\n",
    "        * there is just one int type and not : short, int, long, signed, unsigned.\n",
    "    * **float**\n",
    "        * there is just one float and not double, long double, decimal\n",
    "    * **str**ing\n",
    "        * represents most single and multi characters\n",
    "\n",
    "    * **bool**\n",
    "        * represents conditions True and False\n",
    "\n",
    "* we can check the type of a value by using **type** function\n"
   ]
  },
  {
   "cell_type": "code",
   "execution_count": 10,
   "metadata": {},
   "outputs": [
    {
     "name": "stdout",
     "output_type": "stream",
     "text": [
      "<class 'int'>\n",
      "<class 'float'>\n",
      "<class 'str'>\n",
      "<class 'str'>\n",
      "<class 'bool'>\n",
      "<class 'bool'>\n"
     ]
    }
   ],
   "source": [
    "print(type(7))\n",
    "\n",
    "print(type(7.0))\n",
    "\n",
    "print(type('hello'))\n",
    "\n",
    "print(type('x'))\n",
    "\n",
    "print(type(True))\n",
    "\n",
    "print(type(False))"
   ]
  },
  {
   "cell_type": "markdown",
   "metadata": {},
   "source": [
    "### Names a.k.a variables a.k.a references\n",
    "\n",
    "* To store and remember a value we need to assign it a name or a reference\n",
    "    * similar to variable of other languages\n",
    "    * we call it variable even in phython, although it means reference\n",
    "\n",
    "\n",
    "\n",
    "#### Unlike C/C++/Java/C#  a variable/reference/name has no type of its own.\n",
    "\n",
    "* They reflect the type value they represent (or refer)\n",
    "* Same name may refer to different type of values at different point in time."
   ]
  },
  {
   "cell_type": "code",
   "execution_count": 11,
   "metadata": {},
   "outputs": [
    {
     "name": "stdout",
     "output_type": "stream",
     "text": [
      "20\n",
      "<class 'int'>\n"
     ]
    }
   ],
   "source": [
    "x = 20\n",
    "\n",
    "print(x) # 20\n",
    "\n",
    "print(type(x)) # int. but it is not the type of x but type 20"
   ]
  },
  {
   "cell_type": "markdown",
   "metadata": {},
   "source": [
    "#### we may use same x to refer to another value\n",
    "\n",
    "* then its type will change to reflect what it refers"
   ]
  },
  {
   "cell_type": "code",
   "execution_count": 12,
   "metadata": {},
   "outputs": [
    {
     "name": "stdout",
     "output_type": "stream",
     "text": [
      "<class 'int'>\n",
      "<class 'str'>\n"
     ]
    }
   ],
   "source": [
    "x = 20 # x refers to int\n",
    "\n",
    "print(type(x)) # int. but it is not the type of x\n",
    "\n",
    "x=\"Hello\" # now x refrs to sring\n",
    "\n",
    "print(type(x)) # string. but it is not the type of x"
   ]
  },
  {
   "cell_type": "code",
   "execution_count": 13,
   "metadata": {},
   "outputs": [
    {
     "name": "stdout",
     "output_type": "stream",
     "text": [
      "20 40 60\n"
     ]
    }
   ],
   "source": [
    "x = 20\n",
    "\n",
    "y = 40\n",
    "\n",
    "z = x + y\n",
    "\n",
    "print(x,y,z)"
   ]
  },
  {
   "cell_type": "markdown",
   "metadata": {},
   "source": [
    "## string\n",
    "\n",
    "* string is an object that represents textual information.\n",
    "* It is a sequence of characters that can be quoted in\n",
    "    * single quotes **'**\n",
    "    * double quotes **\"**\n",
    "    * triple quotes **'''** or **\"\"\"**\n",
    "\n",
    "* There is absolutely no different between single quoted and double quoted string\n",
    "    * you must use same character to both start and end string.\n",
    "    * you can prefer whichever you like\n",
    "    * prefer to use same style throughout your code for consistency.\n",
    "\n",
    "\n",
    "* tripple quoted strings are used for creating multi-line strings\n",
    "    * it allows the text to span in multiple lines\n",
    "    * it preserves white space characgters like (blank space and new line)\n",
    "    * It is used to reprsent larger information like\n",
    "        * reports\n",
    "        * address\n",
    "        * paragraphs\n",
    "        * html"
   ]
  },
  {
   "cell_type": "code",
   "execution_count": 14,
   "metadata": {},
   "outputs": [
    {
     "name": "stdout",
     "output_type": "stream",
     "text": [
      "<class 'str'>\n",
      "<class 'str'>\n"
     ]
    }
   ],
   "source": [
    "a = \"Hello\"\n",
    "b = 'World'\n",
    "\n",
    "print(type(a))\n",
    "print(type(b))"
   ]
  },
  {
   "cell_type": "code",
   "execution_count": 15,
   "metadata": {},
   "outputs": [
    {
     "ename": "SyntaxError",
     "evalue": "unterminated string literal (detected at line 3) (4109821663.py, line 3)",
     "output_type": "error",
     "traceback": [
      "\u001b[1;36m  Cell \u001b[1;32mIn[15], line 3\u001b[1;36m\u001b[0m\n\u001b[1;33m    a=' Book Information\u001b[0m\n\u001b[1;37m      ^\u001b[0m\n\u001b[1;31mSyntaxError\u001b[0m\u001b[1;31m:\u001b[0m unterminated string literal (detected at line 3)\n"
     ]
    }
   ],
   "source": [
    "# we can't create multiple line string using single or double quote\n",
    "\n",
    "a=' Book Information\n",
    "Title: The Accursed God\n",
    "Author: Vivek Dutta Mishra\n",
    "'"
   ]
  },
  {
   "cell_type": "code",
   "execution_count": 17,
   "metadata": {},
   "outputs": [
    {
     "name": "stdout",
     "output_type": "stream",
     "text": [
      "Book Information\n",
      "Title: The Accursed God\n",
      "Author:  Vivek Dutta Mishra\n",
      "\n"
     ]
    }
   ],
   "source": [
    "# we can easily do it with tripple quotes\n",
    "\n",
    "info=\"\"\"Book Information\n",
    "Title: The Accursed God\n",
    "Author:  Vivek Dutta Mishra\n",
    "\"\"\"\n",
    "\n",
    "print(info)"
   ]
  },
  {
   "cell_type": "markdown",
   "metadata": {},
   "source": [
    "#### Internally it is like a normal string with white spaces added ('\\n')\n",
    "\n",
    "* we can check on REPL by outputing without print\n",
    "\n",
    "\n",
    "#### One Key different with and without print\n",
    "\n",
    "* in most cases they look alike\n",
    "* But \n",
    "    * REPL prints internal representation\n",
    "    * print() prints fiendly representation"
   ]
  },
  {
   "cell_type": "code",
   "execution_count": 19,
   "metadata": {},
   "outputs": [
    {
     "data": {
      "text/plain": [
       "'Book Information\\nTitle: The Accursed God\\nAuthor:  Vivek Dutta Mishra\\n'"
      ]
     },
     "execution_count": 19,
     "metadata": {},
     "output_type": "execute_result"
    }
   ],
   "source": [
    "info"
   ]
  },
  {
   "cell_type": "code",
   "execution_count": 20,
   "metadata": {},
   "outputs": [
    {
     "name": "stdout",
     "output_type": "stream",
     "text": [
      "Book Information\n",
      "Title: The Accursed God\n",
      "Author:  Vivek Dutta Mishra\n",
      "\n"
     ]
    }
   ],
   "source": [
    "print(info)"
   ]
  },
  {
   "cell_type": "markdown",
   "metadata": {},
   "source": [
    "### String has several helper function to perform different task\n",
    "\n",
    "* some are global functions tha you can use with string\n",
    "    * len() ... displays string length\n",
    "\n",
    "* some are operators that can help you work with string\n",
    "    * in\n",
    "    * \\+\n",
    "    * \\*\n",
    "    * []\n",
    "\n",
    "* others are string internal (member) function that can help you manipulate string\n",
    "\n"
   ]
  },
  {
   "cell_type": "code",
   "execution_count": 21,
   "metadata": {},
   "outputs": [
    {
     "name": "stdout",
     "output_type": "stream",
     "text": [
      "14\n"
     ]
    }
   ],
   "source": [
    "str= \"India is Great\"\n",
    "\n",
    "print(len(str))"
   ]
  },
  {
   "cell_type": "code",
   "execution_count": 22,
   "metadata": {},
   "outputs": [
    {
     "name": "stdout",
     "output_type": "stream",
     "text": [
      "True\n",
      "False\n"
     ]
    }
   ],
   "source": [
    "### we can check if a given character is present in string or not\n",
    "\n",
    "print( 'I' in str) # True\n",
    "print( 'x' in str) # False"
   ]
  },
  {
   "cell_type": "code",
   "execution_count": 24,
   "metadata": {},
   "outputs": [
    {
     "name": "stdout",
     "output_type": "stream",
     "text": [
      "India is Great\n"
     ]
    }
   ],
   "source": [
    "### we can add two strings togehter\n",
    "\n",
    "x='India'\n",
    "y=' is Great'\n",
    "\n",
    "z= x+y\n",
    "print(z)"
   ]
  },
  {
   "cell_type": "code",
   "execution_count": 25,
   "metadata": {},
   "outputs": [
    {
     "name": "stdout",
     "output_type": "stream",
     "text": [
      "India India India India India \n"
     ]
    }
   ],
   "source": [
    "# we can repeat a string usign \"*\" times\n",
    "\n",
    "print('India '*5)"
   ]
  },
  {
   "cell_type": "markdown",
   "metadata": {},
   "source": [
    "### Few simple sring functions\n",
    "\n",
    "* upper() ---> converts string to upper case\n",
    "* lower() ---> converts string to lower case\n",
    "* center() ---> centers string in a given space\n",
    "* ljust() ---> left justify string in a give space\n",
    "* rjust() ---> right justify string in a given space"
   ]
  },
  {
   "cell_type": "code",
   "execution_count": 29,
   "metadata": {},
   "outputs": [
    {
     "name": "stdout",
     "output_type": "stream",
     "text": [
      "INDIA IS GREAT\n",
      "india is great\n"
     ]
    }
   ],
   "source": [
    "str=\"India is Great\"\n",
    "\n",
    "print(str.upper())\n",
    "\n",
    "print(str.lower())"
   ]
  },
  {
   "cell_type": "code",
   "execution_count": 30,
   "metadata": {},
   "outputs": [
    {
     "name": "stdout",
     "output_type": "stream",
     "text": [
      "|                   India is Great                   |\n",
      "| India is Great                                     |\n",
      "|                                     India is Great |\n"
     ]
    }
   ],
   "source": [
    "print('|', str.center(50), '|')\n",
    "print('|', str.ljust(50),'|')\n",
    "print('|',str.rjust(50),'|')"
   ]
  },
  {
   "cell_type": "markdown",
   "metadata": {},
   "source": [
    "### f-string\n",
    "\n",
    "* \"f\" represents formatted.\n",
    "* it allows us to embed an expression in a string\n",
    "* to create this string we prefix string with letter \"f\" outside the quotes.\n",
    "    * we write expression or values in **{}**\n",
    "\n",
    "* In the below code {x}, {y}, {x+y} will be evaluated and injected in the place"
   ]
  },
  {
   "cell_type": "code",
   "execution_count": 32,
   "metadata": {},
   "outputs": [
    {
     "name": "stdout",
     "output_type": "stream",
     "text": [
      "The sum of 20 and 30 is 50\n"
     ]
    }
   ],
   "source": [
    "x=20\n",
    "y=30\n",
    "\n",
    "z = f'The sum of {x} and {y} is {x+y}'\n",
    "print(z)"
   ]
  },
  {
   "cell_type": "code",
   "execution_count": 34,
   "metadata": {},
   "outputs": [
    {
     "name": "stdout",
     "output_type": "stream",
     "text": [
      "|INDIA IS GREAT|\n",
      "|India is Great                                    |\n",
      "|                  India is Great                  |\n",
      "|                                    India is Great|\n"
     ]
    }
   ],
   "source": [
    "print(f'|{str.upper()}|')\n",
    "print(f'|{str.ljust(50)}|')\n",
    "print(f'|{str.center(50)}|')\n",
    "print(f'|{str.rjust(50)}|')"
   ]
  },
  {
   "cell_type": "markdown",
   "metadata": {},
   "source": [
    "#### Quiz\" How do I center an upper cased string?"
   ]
  },
  {
   "cell_type": "markdown",
   "metadata": {},
   "source": []
  },
  {
   "cell_type": "code",
   "execution_count": null,
   "metadata": {},
   "outputs": [],
   "source": []
  }
 ],
 "metadata": {
  "kernelspec": {
   "display_name": "Python 3",
   "language": "python",
   "name": "python3"
  },
  "language_info": {
   "codemirror_mode": {
    "name": "ipython",
    "version": 3
   },
   "file_extension": ".py",
   "mimetype": "text/x-python",
   "name": "python",
   "nbconvert_exporter": "python",
   "pygments_lexer": "ipython3",
   "version": "3.12.1"
  }
 },
 "nbformat": 4,
 "nbformat_minor": 2
}
