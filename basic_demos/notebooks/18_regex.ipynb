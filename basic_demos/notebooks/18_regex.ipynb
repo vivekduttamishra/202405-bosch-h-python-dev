{
 "cells": [
  {
   "cell_type": "markdown",
   "metadata": {},
   "source": [
    "### Regular Expressions (RegEx)\n",
    "\n",
    "* RegEx is language independent specification to find out a pattern in a larger text\n",
    "\n",
    "* It can help us \n",
    "    * select a portion of the large text\n",
    "    * verify if  a current text matches my pattern requirement\n",
    "    \n",
    "\n",
    "* This if the whole idea to search if a given text in present in a larger text.\n"
   ]
  },
  {
   "cell_type": "markdown",
   "metadata": {},
   "source": [
    "### A very basic example"
   ]
  },
  {
   "cell_type": "code",
   "execution_count": 25,
   "metadata": {},
   "outputs": [],
   "source": [
    "country_info='''\n",
    "\n",
    "\n",
    "Here is a set of information Some countries\n",
    "\n",
    "Country: India\n",
    "Continent: Asia\n",
    "Currency: INR\n",
    "Capital: New Delhi\n",
    "\n",
    "Country: USA\n",
    "Continent: America\n",
    "Currency: USD\n",
    "Capital: Washington\n",
    "\n",
    "Country: Vietnam\n",
    "Continent: Asia\n",
    "Currency: DNB\n",
    "Capital: Hanoi\n",
    "\n",
    "Country: U.K.\n",
    "Continent: Europe\n",
    "Currency: GBP\n",
    "Capital: London\n",
    "\n",
    "\n",
    "Country: Ukraine\n",
    "Continent: Europe\n",
    "Currency: GBP\n",
    "Capital: London\n",
    "\n",
    "Country: France\n",
    "Continent: Europe\n",
    "Currency: Euro\n",
    "Capital: Paris\n",
    "\n",
    "Country: UAE\n",
    "Continent: Asia\n",
    "Currency: Dehram\n",
    "Capital: Abu Dhabi\n",
    "\n",
    "\n",
    "\n",
    "'''"
   ]
  },
  {
   "cell_type": "markdown",
   "metadata": {},
   "source": [
    "### Here we can write Simple Text Search Like:\n",
    "\n",
    "* Is Russia present in the country_info?\n",
    "* Is India present in the country_info?"
   ]
  },
  {
   "cell_type": "code",
   "execution_count": 3,
   "metadata": {},
   "outputs": [
    {
     "name": "stdout",
     "output_type": "stream",
     "text": [
      "True\n",
      "False\n"
     ]
    }
   ],
   "source": [
    "print('India' in country_info) # True\n",
    "print('Russia' in country_info)"
   ]
  },
  {
   "cell_type": "markdown",
   "metadata": {},
   "source": [
    "### But what about complicated scenarios?\n",
    "\n",
    "#### get a list of all currencies?\n",
    "* find first place where we get \"Currency\" word.\n",
    "* read till the end of line\n",
    "* extract currency name\n",
    "* search for next occurence"
   ]
  },
  {
   "cell_type": "code",
   "execution_count": 10,
   "metadata": {},
   "outputs": [],
   "source": [
    "def get_currencies(country_info):\n",
    "    currencies=[]\n",
    "    start=0\n",
    "    while True:\n",
    "        start=country_info.find('Currency',start)\n",
    "        if start==-1:\n",
    "            break\n",
    "        end_line=country_info.find(\"\\n\",start)\n",
    "        line= country_info[start:end_line].split(\":\")[-1].strip()\n",
    "        currencies.append(line)\n",
    "        start=end_line\n",
    "\n",
    "    return currencies"
   ]
  },
  {
   "cell_type": "code",
   "execution_count": 11,
   "metadata": {},
   "outputs": [
    {
     "data": {
      "text/plain": [
       "['INR', 'USD', 'DNB', 'GBP', 'Euro', 'Dehram']"
      ]
     },
     "execution_count": 11,
     "metadata": {},
     "output_type": "execute_result"
    }
   ],
   "source": [
    "get_currencies(country_info)"
   ]
  },
  {
   "cell_type": "markdown",
   "metadata": {},
   "source": [
    "#### More complex\n",
    "\n",
    "* find all country name that begins with U?\n",
    "* find all country and their capital\n",
    "* find all country in Asia"
   ]
  },
  {
   "cell_type": "markdown",
   "metadata": {},
   "source": [
    "### Regular Expressions can perform wild card kind of match\n",
    "\n",
    "* it has few basic syntax.\n",
    "* strongly recommend to access https://regex101.com "
   ]
  },
  {
   "cell_type": "markdown",
   "metadata": {},
   "source": [
    "### How to use regular expressions\n",
    "\n",
    "* we need a module : **re**\n",
    "* it has several functions\n",
    "\n",
    "    * re.search(pattern,text)\n",
    "    * re.findall(pattern,text)\n",
    "    * ...\n",
    "\n",
    "### let us use findall"
   ]
  },
  {
   "cell_type": "code",
   "execution_count": 13,
   "metadata": {},
   "outputs": [],
   "source": [
    "import re"
   ]
  },
  {
   "cell_type": "markdown",
   "metadata": {},
   "source": [
    "### find how many times Asia occurs in the given text\n",
    "\n",
    "* We can do a simple text search match.\n",
    "* By default it will match all occurances of that text."
   ]
  },
  {
   "cell_type": "code",
   "execution_count": 15,
   "metadata": {},
   "outputs": [
    {
     "name": "stdout",
     "output_type": "stream",
     "text": [
      "['Asia', 'Asia', 'Asia']\n",
      "3\n"
     ]
    }
   ],
   "source": [
    "pattern=\"Asia\"\n",
    "\n",
    "result=re.findall(pattern, country_info)\n",
    "\n",
    "print(result)\n",
    "print(len(result))"
   ]
  },
  {
   "cell_type": "markdown",
   "metadata": {},
   "source": [
    "### case insensetive search\n",
    "* by default search is case sensetive"
   ]
  },
  {
   "cell_type": "code",
   "execution_count": 16,
   "metadata": {},
   "outputs": [
    {
     "data": {
      "text/plain": [
       "[]"
      ]
     },
     "execution_count": 16,
     "metadata": {},
     "output_type": "execute_result"
    }
   ],
   "source": [
    "pattern=\"asia\"\n",
    "re.findall(pattern,country_info)"
   ]
  },
  {
   "cell_type": "markdown",
   "metadata": {},
   "source": [
    "### we can make it case insensetive"
   ]
  },
  {
   "cell_type": "code",
   "execution_count": 17,
   "metadata": {},
   "outputs": [
    {
     "data": {
      "text/plain": [
       "['Asia', 'Asia', 'Asia']"
      ]
     },
     "execution_count": 17,
     "metadata": {},
     "output_type": "execute_result"
    }
   ],
   "source": [
    "pattern='asia'\n",
    "re.findall(pattern,country_info, re.IGNORECASE)"
   ]
  },
  {
   "cell_type": "markdown",
   "metadata": {},
   "source": [
    "### Find all Countries which starts with U\n",
    "\n",
    "* Now we can use wildcards\n",
    "    * . --> any one character\n",
    "    * ... --> any three character\n",
    "    * [abc] ---> either of these three letter\n",
    "    * [0-9] ---> any of the digit\n",
    "    * [A-Z] ---> any of upper case letter\n",
    "    * \\w ---> [A-Za-z0-9_]\n",
    "    * \\s ---> any white space\n",
    "    * \\d --->[0-9]\n",
    "\n",
    "* Repeations\n",
    "    * * --> 0 or more\n",
    "    * ? --> 0 or 1\n",
    "    * + --> 1 or more\n",
    "    *{n} --> 9 times\n",
    "    *{2,3}--> 2 or 3 times\n",
    "\n",
    "* Example\n",
    "    * Simple Mobile Number Match\n",
    "        * [0-9]{10}\n",
    "            * any of these digits appearing 10 times \n",
    "\n",
    "    * If mobile number is going to be 10 digit number and first digit cant be 0\n",
    "        * [1-9][0-9]{9}\n",
    "            * first digit can be 1-9\n",
    "            * second onward 9 digits can be 0-9\n",
    "\n",
    "\n",
    "#### find all countries which are United"
   ]
  },
  {
   "cell_type": "code",
   "execution_count": 26,
   "metadata": {},
   "outputs": [
    {
     "data": {
      "text/plain": [
       "['USA', 'USD', 'U.K.', 'UAE']"
      ]
     },
     "execution_count": 26,
     "metadata": {},
     "output_type": "execute_result"
    }
   ],
   "source": [
    "pattern='U[A-Z.]+'\n",
    "re.findall(pattern,country_info)"
   ]
  },
  {
   "cell_type": "markdown",
   "metadata": {},
   "source": [
    "#### How to eliminate USD from\n",
    "\n",
    "* We have to pickup those 'U' starting that appear after Country not after currency"
   ]
  },
  {
   "cell_type": "code",
   "execution_count": 27,
   "metadata": {},
   "outputs": [
    {
     "data": {
      "text/plain": [
       "['Country: USA', 'Country: U.K.', 'Country: UAE']"
      ]
     },
     "execution_count": 27,
     "metadata": {},
     "output_type": "execute_result"
    }
   ],
   "source": [
    "pattern=\"Country: U[A-Z.]+\"\n",
    "re.findall(pattern, country_info)"
   ]
  },
  {
   "cell_type": "markdown",
   "metadata": {},
   "source": [
    "### I don't want to include \"Country:\" in my result\n",
    "\n",
    "* we have two things\n",
    "    * selector\n",
    "        * helps us select a segment text\n",
    "    * group\n",
    "        * to select section of the original selection\n",
    "            * we can select it by wrapping our requirement in ()\n"
   ]
  },
  {
   "cell_type": "code",
   "execution_count": 28,
   "metadata": {},
   "outputs": [
    {
     "data": {
      "text/plain": [
       "['USA', 'U.K.', 'UAE']"
      ]
     },
     "execution_count": 28,
     "metadata": {},
     "output_type": "execute_result"
    }
   ],
   "source": [
    "pattern=\"Country: (U[A-Z.]+)\"\n",
    "re.findall(pattern, country_info)"
   ]
  },
  {
   "cell_type": "markdown",
   "metadata": {},
   "source": [
    "### How do I create a pattern to match\n",
    "\n",
    "* indian PAN cards?\n",
    "\n",
    "* A pan card has\n",
    "    * 5 alphabets\n",
    "    * 4 digits\n",
    "    * 1 alphabet"
   ]
  },
  {
   "cell_type": "code",
   "execution_count": 31,
   "metadata": {},
   "outputs": [
    {
     "name": "stdout",
     "output_type": "stream",
     "text": [
      "AXPXM9842C\t\tVALID\n",
      "APXM9842C\t\tINVALID\n",
      "A1XM9842C\t\tINVALID\n",
      "AXPX99842C\t\tINVALID\n",
      "AYPYM9842C\t\tVALID\n"
     ]
    }
   ],
   "source": [
    "pan_pattern=r'[A-Za-z]{5}\\d{4}[A-Za-z]'\n",
    "\n",
    "pans=['AXPXM9842C','APXM9842C','A1XM9842C','AXPX99842C','AYPYM9842C']\n",
    "\n",
    "for pan in pans:\n",
    "    if re.match(pan_pattern, pan):\n",
    "        print(f'{pan}\\t\\tVALID')\n",
    "    else:\n",
    "        print(f'{pan}\\t\\tINVALID')\n",
    "        \n",
    "\n"
   ]
  },
  {
   "cell_type": "code",
   "execution_count": null,
   "metadata": {},
   "outputs": [],
   "source": []
  }
 ],
 "metadata": {
  "kernelspec": {
   "display_name": "Python 3",
   "language": "python",
   "name": "python3"
  },
  "language_info": {
   "codemirror_mode": {
    "name": "ipython",
    "version": 3
   },
   "file_extension": ".py",
   "mimetype": "text/x-python",
   "name": "python",
   "nbconvert_exporter": "python",
   "pygments_lexer": "ipython3",
   "version": "3.12.1"
  }
 },
 "nbformat": 4,
 "nbformat_minor": 2
}
