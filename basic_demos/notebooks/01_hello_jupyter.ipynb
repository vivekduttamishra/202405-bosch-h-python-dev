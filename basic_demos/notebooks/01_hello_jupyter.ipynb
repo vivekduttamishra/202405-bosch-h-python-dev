{
 "cells": [
  {
   "cell_type": "markdown",
   "id": "946fbb84-72de-4d33-b85d-2cf6b22fb746",
   "metadata": {},
   "source": [
    "# Welcome to Jupyter Notebook\n",
    "\n",
    "* Here we will learn various Python Language features\n",
    "* Each text block is called  call\n",
    "* Cell can be of three types\n",
    "      1. code cell\n",
    "          * write python code here\n",
    "      2. Markdown\n",
    "          * Rich formatted notes like this one\n",
    "      3. Raw\n",
    "          * just plain text\n",
    "\n",
    "* We can run a given cell by pressing **ctrl+enter**\n",
    "\n",
    "* It saves the output also.\n",
    "\n",
    "  \n",
    "### Let us start with a Hello World"
   ]
  },
  {
   "cell_type": "code",
   "execution_count": 1,
   "id": "a8f32c0f-2a2d-4cf5-8824-81b90e6e2a3e",
   "metadata": {},
   "outputs": [
    {
     "name": "stdout",
     "output_type": "stream",
     "text": [
      "Hello World\n"
     ]
    }
   ],
   "source": [
    "print('Hello World')"
   ]
  },
  {
   "cell_type": "markdown",
   "id": "8b7ee7e1-f494-4071-8196-5824e819482c",
   "metadata": {},
   "source": [
    "#### Jupyter is like a REPL\n",
    "\n",
    "* It will print the result even without explicit print\n",
    "* Remember, we will need explicit print in scripts\n",
    "\n",
    "  "
   ]
  },
  {
   "cell_type": "code",
   "execution_count": 2,
   "id": "c9fdecb5-8cef-40e5-b0d4-a519b87469f5",
   "metadata": {},
   "outputs": [
    {
     "data": {
      "text/plain": [
       "5"
      ]
     },
     "execution_count": 2,
     "metadata": {},
     "output_type": "execute_result"
    }
   ],
   "source": [
    "2+3"
   ]
  },
  {
   "cell_type": "markdown",
   "id": "e6596540-8d35-46ac-a4d6-f4215f6c6b41",
   "metadata": {},
   "source": [
    "### We can also record errors so that we can learn what not to do?"
   ]
  },
  {
   "cell_type": "code",
   "execution_count": 3,
   "id": "d3d6f7bb-126e-4cee-9b08-af6c18e367b8",
   "metadata": {},
   "outputs": [
    {
     "ename": "SyntaxError",
     "evalue": "invalid syntax (4209523232.py, line 1)",
     "output_type": "error",
     "traceback": [
      "\u001b[1;36m  Cell \u001b[1;32mIn[3], line 1\u001b[1;36m\u001b[0m\n\u001b[1;33m    2+\u001b[0m\n\u001b[1;37m      ^\u001b[0m\n\u001b[1;31mSyntaxError\u001b[0m\u001b[1;31m:\u001b[0m invalid syntax\n"
     ]
    }
   ],
   "source": [
    "2+"
   ]
  },
  {
   "cell_type": "markdown",
   "id": "6f192d49-ddeb-441e-a591-438abd3cfa26",
   "metadata": {},
   "source": [
    "### Notebook prints output of last statement only\n",
    "\n",
    "* If a cell has multiple statements, each will execute\n",
    "* But output of only last cell will printed impliclty\n",
    "  "
   ]
  },
  {
   "cell_type": "code",
   "execution_count": 4,
   "id": "e9a4ac7c-0b45-42b8-83c9-a7b4864c0ccc",
   "metadata": {},
   "outputs": [
    {
     "data": {
      "text/plain": [
       "0.6666666666666666"
      ]
     },
     "execution_count": 4,
     "metadata": {},
     "output_type": "execute_result"
    }
   ],
   "source": [
    "2+3\n",
    "2-3\n",
    "2*3\n",
    "2/3"
   ]
  },
  {
   "cell_type": "markdown",
   "id": "5c13bd47-f609-4908-8c07-0cb3a8f667eb",
   "metadata": {},
   "source": [
    "### If you want to print all result, you must use explicit print"
   ]
  },
  {
   "cell_type": "code",
   "execution_count": 5,
   "id": "33295035-7b07-4375-a279-1536012ca01c",
   "metadata": {},
   "outputs": [
    {
     "name": "stdout",
     "output_type": "stream",
     "text": [
      "5\n",
      "-1\n",
      "6\n",
      "0.6666666666666666\n"
     ]
    }
   ],
   "source": [
    "print(2+3)\n",
    "print(2-3)\n",
    "print(2*3)\n",
    "print(2/3)"
   ]
  },
  {
   "cell_type": "code",
   "execution_count": null,
   "id": "981718b3-048e-40db-b5ce-5e39b82e10e4",
   "metadata": {},
   "outputs": [],
   "source": []
  }
 ],
 "metadata": {
  "kernelspec": {
   "display_name": "Python 3 (ipykernel)",
   "language": "python",
   "name": "python3"
  },
  "language_info": {
   "codemirror_mode": {
    "name": "ipython",
    "version": 3
   },
   "file_extension": ".py",
   "mimetype": "text/x-python",
   "name": "python",
   "nbconvert_exporter": "python",
   "pygments_lexer": "ipython3",
   "version": "3.12.1"
  }
 },
 "nbformat": 4,
 "nbformat_minor": 5
}
