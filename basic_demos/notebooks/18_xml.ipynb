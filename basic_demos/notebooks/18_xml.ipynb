{
 "cells": [
  {
   "cell_type": "markdown",
   "metadata": {},
   "source": [
    "#### Xml file handling\n",
    "\n",
    "* to work with xml there are multiple format\n",
    "    * ElementTree\n",
    "    * DOM\n",
    "    * SAX\n",
    "\n",
    "* to work we need to import sub modules from xml\n"
   ]
  },
  {
   "cell_type": "code",
   "execution_count": 1,
   "metadata": {},
   "outputs": [],
   "source": [
    "import xml.etree.ElementTree as ET "
   ]
  },
  {
   "cell_type": "markdown",
   "metadata": {},
   "source": [
    "### Important Functionalties\n",
    "\n",
    "* parse()\n",
    "    * reads an XML file \n"
   ]
  },
  {
   "cell_type": "code",
   "execution_count": 10,
   "metadata": {},
   "outputs": [],
   "source": [
    "xt = ET.parse(\"books.xml\") #we load a xml file and get xml tree\n"
   ]
  },
  {
   "cell_type": "code",
   "execution_count": 17,
   "metadata": {},
   "outputs": [
    {
     "name": "stdout",
     "output_type": "stream",
     "text": [
      "<Element 'books' at 0x0000027F3DEBD030>\n",
      "['__bool__', '__class__', '__copy__', '__deepcopy__', '__delattr__', '__delitem__', '__dir__', '__doc__', '__eq__', '__format__', '__ge__', '__getattribute__', '__getitem__', '__getstate__', '__gt__', '__hash__', '__init__', '__init_subclass__', '__le__', '__len__', '__lt__', '__module__', '__ne__', '__new__', '__reduce__', '__reduce_ex__', '__repr__', '__setattr__', '__setitem__', '__setstate__', '__sizeof__', '__str__', '__subclasshook__', 'append', 'attrib', 'clear', 'extend', 'find', 'findall', 'findtext', 'get', 'insert', 'items', 'iter', 'iterfind', 'itertext', 'keys', 'makeelement', 'remove', 'set', 'tag', 'tail', 'text']\n",
      "Help on built-in function findall:\n",
      "\n",
      "findall(path, namespaces=None) method of xml.etree.ElementTree.Element instance\n",
      "\n"
     ]
    }
   ],
   "source": [
    "xr = xt.getroot() #we get the root element\n",
    "print(xr)\n",
    "print(dir(xr))\n",
    "help(xr.findall)"
   ]
  },
  {
   "cell_type": "code",
   "execution_count": 22,
   "metadata": {},
   "outputs": [
    {
     "name": "stdout",
     "output_type": "stream",
     "text": [
      "The Accursed God\n",
      "Rashmirathi\n",
      "Kuruksehtra\n",
      "Manas\n",
      "Kane And Abel\n",
      "Sons of Fortune\n",
      "Brethren\n",
      "Summons\n"
     ]
    }
   ],
   "source": [
    "for book in xr.findall('book'):\n",
    "    print(book.find('title').text)"
   ]
  },
  {
   "cell_type": "code",
   "execution_count": 24,
   "metadata": {},
   "outputs": [
    {
     "name": "stdout",
     "output_type": "stream",
     "text": [
      "The Accursed God\n",
      "Rashmirathi\n",
      "Kuruksehtra\n",
      "Manas\n",
      "Kane And Abel\n",
      "Sons of Fortune\n",
      "Brethren\n",
      "Summons\n"
     ]
    }
   ],
   "source": [
    "for title in xr.findall('.//title'):\n",
    "    print(title.text)"
   ]
  },
  {
   "cell_type": "markdown",
   "metadata": {},
   "source": [
    "### Let us check the attribute value"
   ]
  },
  {
   "cell_type": "code",
   "execution_count": 26,
   "metadata": {},
   "outputs": [
    {
     "name": "stdout",
     "output_type": "stream",
     "text": [
      "The Accursed God\tINR 399\n",
      "Rashmirathi\tINR 99\n",
      "Kuruksehtra\tINR 109\n",
      "Manas\tINR 199\n",
      "Kane And Abel\tGBP 7.5\n",
      "Sons of Fortune\tGBP 7.5\n",
      "Brethren\tUSD 3.9\n",
      "Summons\tUSD 3.4\n"
     ]
    }
   ],
   "source": [
    "for book in xr.findall('book'):\n",
    "    title=book.find('title').text\n",
    "    price=book.find('price')\n",
    "    currency=price.get('currency') #get attribute value\n",
    "    print(f'{title}\\t{currency} {price.text}')"
   ]
  },
  {
   "cell_type": "markdown",
   "metadata": {},
   "source": [
    "### Let us modify the records\n",
    "\n",
    "* we will add an id attribute to all the book."
   ]
  },
  {
   "cell_type": "code",
   "execution_count": 30,
   "metadata": {},
   "outputs": [],
   "source": [
    "id =0\n",
    "for book in xt.findall('book'):\n",
    "    id+=1\n",
    "    book.set('id',str(id))\n",
    "    \n",
    "\n"
   ]
  },
  {
   "cell_type": "markdown",
   "metadata": {},
   "source": [
    "#### Let us save the changes"
   ]
  },
  {
   "cell_type": "code",
   "execution_count": 31,
   "metadata": {},
   "outputs": [],
   "source": [
    "xt.write(\"books.xml\")"
   ]
  },
  {
   "cell_type": "markdown",
   "metadata": {},
   "source": [
    "#### Let us delete max attribute from rating"
   ]
  },
  {
   "cell_type": "code",
   "execution_count": 33,
   "metadata": {},
   "outputs": [],
   "source": [
    "for rating in xt.findall('.//rating'):\n",
    "    del(rating.attrib['max'])\n",
    "\n",
    "xt.write(\"books.xml\")"
   ]
  },
  {
   "cell_type": "markdown",
   "metadata": {},
   "source": [
    "#### Let us create a new book"
   ]
  },
  {
   "cell_type": "code",
   "execution_count": 54,
   "metadata": {},
   "outputs": [],
   "source": [
    "def text_element(name,value):\n",
    "    e=ET.Element(name)\n",
    "    e.text=str(value)\n",
    "    return e\n",
    "\n",
    "def create_book_xml(id,title,author,price,rating,currency='INR'):\n",
    "    book=ET.Element('book')\n",
    "    book.set('id',str(id))\n",
    "\n",
    "    book.append(text_element(\"title\",title))\n",
    "    book.append(text_element(\"author\",author))\n",
    "    price= text_element(\"price\",price)\n",
    "    price.set('currency',currency)\n",
    "    book.append(price)\n",
    "\n",
    "    book.append(text_element(\"rating\",rating))\n",
    "\n",
    "    return book\n",
    "\n"
   ]
  },
  {
   "cell_type": "code",
   "execution_count": 59,
   "metadata": {},
   "outputs": [
    {
     "name": "stdout",
     "output_type": "stream",
     "text": [
      "b'<book id=\"11\"><title>The Count of Monte Cristo</title><author>Alexandre Dumas</author><price currency=\"EUR\">5</price><rating>4.9</rating></book>'\n"
     ]
    }
   ],
   "source": [
    "b= create_book_xml(11,\"The Count of Monte Cristo\",\"Alexandre Dumas\",5,4.9,'EUR')\n",
    "print(ET.tostring(b))"
   ]
  },
  {
   "cell_type": "code",
   "execution_count": 60,
   "metadata": {},
   "outputs": [],
   "source": [
    "xr.append(b)\n",
    "xt.write(\"books.xml\")"
   ]
  },
  {
   "cell_type": "markdown",
   "metadata": {},
   "source": [
    "#### delete node"
   ]
  },
  {
   "cell_type": "code",
   "execution_count": 58,
   "metadata": {},
   "outputs": [],
   "source": [
    "for element in xt.findall('.//book[@id=\"11\"]'):\n",
    "    xt.getroot().remove(element)\n",
    "\n",
    "xt.write(\"books.xml\")"
   ]
  },
  {
   "cell_type": "markdown",
   "metadata": {},
   "source": []
  }
 ],
 "metadata": {
  "kernelspec": {
   "display_name": "Python 3",
   "language": "python",
   "name": "python3"
  },
  "language_info": {
   "codemirror_mode": {
    "name": "ipython",
    "version": 3
   },
   "file_extension": ".py",
   "mimetype": "text/x-python",
   "name": "python",
   "nbconvert_exporter": "python",
   "pygments_lexer": "ipython3",
   "version": "3.12.1"
  }
 },
 "nbformat": 4,
 "nbformat_minor": 2
}
